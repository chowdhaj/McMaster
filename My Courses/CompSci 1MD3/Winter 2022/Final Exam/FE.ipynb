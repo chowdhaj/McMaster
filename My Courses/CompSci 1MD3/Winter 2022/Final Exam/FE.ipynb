{
 "cells": [
  {
   "cell_type": "markdown",
   "metadata": {
    "deletable": false,
    "editable": false,
    "nbgrader": {
     "cell_type": "markdown",
     "checksum": "54bd66afcf38e73c8e8c89ec72cfc24e",
     "grade": false,
     "grade_id": "cell-c3c8fae574b2762c",
     "locked": true,
     "schema_version": 3,
     "solution": false,
     "task": false
    }
   },
   "source": [
    "# COMPSCI 1MD3 - Fall 2021\n",
    "\n",
    "## Instructor : Nicholas Moore\n",
    "\n",
    "## Maximum Grade: N/M\n",
    "\n",
    "### Special Instructions - Please read\n",
    "\n",
    "* DO NOT RENAME THE ASSIGNMENT FILE (otherwise it might not be submitted or graded).\n",
    "* DO NOT USE FUNCTION NAMES OTHER THAN THOSE PROVIDED IN THE QUESTION (or you will get zero for the question).\n",
    "    - You may introduce new functions to aid in your work, but you cannot replace the function names that are explicitly stated.\n",
    "* DO NOT CHANGE THE THE NUMBER OF FUNCTION ARGUMENTS, USE THEM AS PROVIDED.\n",
    "    - If you add a default parameter, that is fine. You cannot alter a test case to make your code run though!\n",
    "* Validate your notebook before submitting\n",
    "* You must Submit the assignment from the assignments tab before the deadline.  Late submissions will not be accepted.  The only proof that your work was completed before the deadline is an on-time submission.\n",
    "* If you are having trouble with the server not responding, you are probably trying to execute and infinite loop.  To remedy this:\n",
    "    * click the stop button on the tool bar (proportional response), or\n",
    "    * go to \\\"Control Panel\\\" >> \\\"Stop My Server\\\" >> \\\"Start My Server\\\" (nuclear option).  Note that you will lose any unsaved work with this one.\n",
    " \n",
    "This test became available at 9:00am EST, Wednesday December 21st, and must be submitted by 9:00am EST, Thursday December 22nd. You may not discuss this exam with your peers until December 23rd. \n",
    "\n",
    "**THERE IS NO GRACE PERIOD FOR TEST SUBMISSIONS.  YOU MUST SUBMIT BY THIS TIME OR YOU WILL GET ZERO.**\n",
    "\n",
    "This is an open-book test, which means you are permitted to use reference material, such as wikipedia and the python documentation at python.org\n",
    "\n",
    "This is NOT a collaborative assessment.  These tests will be evaluated for plagiarism, and offenders will certainly be prosecuted.  Remember: never share your password, and never share your code! People who share their code are just as guilty of plagiarism as those who use it.   "
   ]
  },
  {
   "cell_type": "markdown",
   "metadata": {
    "deletable": false,
    "editable": false,
    "nbgrader": {
     "cell_type": "markdown",
     "checksum": "05e47a7fa209d05c873c6d24913842c6",
     "grade": false,
     "grade_id": "cell-26c5d8fb09c9487f",
     "locked": true,
     "schema_version": 3,
     "solution": false,
     "task": false
    }
   },
   "source": [
    "If you have questions for Professor Nick Moore or the TAs, please submit them to the Piazza. If it is an urgent problem, please contact a TA as soon as possible via email! \n",
    "\n",
    "Same rules as last time:\n",
    "\n",
    "- **The use of Discord during the 24 hour period of the test will be considered Academic Dishonesty, even to TAs**. \n",
    "- Please do not share your solutions on Piazza (or any other website). \n",
    "- Answering any Piazza question during the time of the test +12 hours is considiered academic dishonesty.\n",
    "- Posting of any code whatsoever in a non-private piazza post will be considered Academic Dishonesty. \n",
    "- Students may not discuss any answers relevant to the test until the marks have been distrbuted and returned; some students have extensions! \n",
    "\n",
    "Good luck!"
   ]
  },
  {
   "cell_type": "code",
   "execution_count": null,
   "metadata": {
    "deletable": false,
    "editable": false,
    "nbgrader": {
     "cell_type": "code",
     "checksum": "78a40e704cccf517a70b4aac17b28cbe",
     "grade": false,
     "grade_id": "cell-84f1bd87ce5f8573",
     "locked": true,
     "schema_version": 3,
     "solution": false,
     "task": false
    }
   },
   "outputs": [],
   "source": [
    "def tester(a, b = True):\n",
    "    return \"You passed!\" if a == b else f\"You failed! -- {a} != {b}\""
   ]
  },
  {
   "cell_type": "markdown",
   "metadata": {
    "deletable": false,
    "editable": false,
    "nbgrader": {
     "cell_type": "markdown",
     "checksum": "b941369c992c59a274eb6cde0222b080",
     "grade": false,
     "grade_id": "cell-b502ae9bcea56076",
     "locked": true,
     "schema_version": 3,
     "solution": false,
     "task": false
    }
   },
   "source": [
    "## Question 1 - Connor and the Cookie Factory [n points]\n",
    "\n",
    "Connor found the golden coupon and was invited to see Mr. Wonder Wonkey's Cookie Factory! The Joomie Loompers sing their songs while 5 children enter the factory and get to see how the Cookie's are made! Cookies come in 3 various packs:\n",
    "\n",
    "1. Sargent Shortbread's Sultery Cookie Pack consists of cookies that weigh 17.35 grams each.\n",
    "2. Junior Lieutenant Jammie Dodger's Delicous Delights Pack consists of cookies that weigh 23.21 grams each.\n",
    "3. Officer Oatmeal's Omega Overature Pack consists of cookies that weigh a wopping 39.713 grams each!\n",
    "\n",
    "Now, you can specific an order with exactly how many of each cookie you want, and if the weight of an order ends in a 7 before rounding, the Joomie Loompers get a day off as reward! This weight is then passed to some other function to calculate cost, but we have some other developers on that!\n",
    "\n",
    "It is your duty as a programmer to calculate the most accurate weight possible so the price calculations are fair to the company and the buyer; meaning your standard floating point calculations likely won't be enough.\n",
    "\n",
    "From there, you return the a tuple of 2 items:\n",
    "\n",
    "- A boolean result saying if the Joomie Loompers have earned a day off, and\n",
    "- The exact weight of the order before rounding!\n",
    "\n",
    "Write a function `colourMeCookies` that takes in 3 arguments, the amount of each cookie from each back, and returns this mentioned tuple. \n",
    "\n",
    "Nothing says a person needs to order a cookie that is completely one flavour by the way... Some people get creative and mix cookie types together! Mr. Wonkey loves hybrid cookies, but has 1 rule: If you order hybrid cookies, you can't order an incomplete cookie. You must always have a whole number's worth of cookies in your order! If your inputs don't add together to make an integer, you should raise a `ValueError`!"
   ]
  },
  {
   "cell_type": "code",
   "execution_count": null,
   "metadata": {
    "deletable": false,
    "nbgrader": {
     "cell_type": "code",
     "checksum": "f388b8c1ca818efeac63e625bf4cb376",
     "grade": false,
     "grade_id": "cell-14632f847df80f11",
     "locked": false,
     "schema_version": 3,
     "solution": true,
     "task": false
    }
   },
   "outputs": [],
   "source": [
    "# These variables are the number of cookies from each pack!\n",
    "def colourMeCookies(sultery, delicious, omega):\n",
    "    return (bool, float)\n"
   ]
  },
  {
   "cell_type": "code",
   "execution_count": null,
   "metadata": {
    "deletable": false,
    "editable": false,
    "nbgrader": {
     "cell_type": "code",
     "checksum": "c7522893b198918e9e185a7b71a8c2fd",
     "grade": false,
     "grade_id": "cell-d67cf880f3ff3841",
     "locked": true,
     "schema_version": 3,
     "solution": false,
     "task": false
    }
   },
   "outputs": [],
   "source": [
    "print(\"Question #1 - Test Case #1:\", tester(\n",
    "    colourMeCookies(0.1, 0.1, 0.8),\n",
    "    (False, 35.8264))\n",
    ")\n",
    "print(\"Question #1 - Test Case #2:\", tester(\n",
    "    colourMeCookies(1, 2, 0),\n",
    "    (True, 63.77))\n",
    ")\n",
    "try:\n",
    "    colourMeCookies(0.1, 0.5, 0.8)\n",
    "except ValueError:\n",
    "    print(\"Question #1 - Test Case #3: You passed!\")\n",
    "except Exception as e:\n",
    "    print(\"Question #1 - Test Case #3: You failed! -- \", e)"
   ]
  },
  {
   "cell_type": "code",
   "execution_count": null,
   "metadata": {
    "deletable": false,
    "editable": false,
    "nbgrader": {
     "cell_type": "code",
     "checksum": "59c081bda3b5a1d2fe437f2dfc62efcb",
     "grade": true,
     "grade_id": "cell-285639cb7a2b72cd",
     "locked": true,
     "points": 0,
     "schema_version": 3,
     "solution": false,
     "task": false
    }
   },
   "outputs": [],
   "source": []
  },
  {
   "cell_type": "markdown",
   "metadata": {
    "deletable": false,
    "editable": false,
    "nbgrader": {
     "cell_type": "markdown",
     "checksum": "d16a314d696f09d49faf25f21d2472d6",
     "grade": false,
     "grade_id": "cell-89c96962316e6cf9",
     "locked": true,
     "schema_version": 3,
     "solution": false,
     "task": false
    }
   },
   "source": [
    "## Question 2 - Dating can be Hard, Data can be Harder [20 points total]\n",
    "\n",
    "Mark is making a dating service to try and end his loneliness, but sadly, he doesn't have the time... So, he is outsourcing it to you! Given to you is a premade database of 100 users inside the `users` SQL table. That table is given below:\n",
    "\n",
    "| Column Name: | user_id | first_name | last_name | birthdate                  | email              | phone_number  | address                                 | country  |\n",
    "|--------------|---------|------------|-----------|----------------------------|--------------------|---------------|-----------------------------------------|----------|\n",
    "| Column Type: | INTEGER | TEXT   | TEXT  | DATE                  | TEXT           | TEXT      | TEXT                                    | TEXT |\n",
    "| Example:     | 0       | Mark       | Hutchison | 2001-08-01 20:31:00.000000 | hutchm6@youknow.ca | (123)456-7890 | Not Happening Crescent Halton Hills, ON L7J3A4 | Canada   |\n",
    "\n",
    "Now, what is Mark asking you to do? Well, there are two parts to it, so let's get straight to the code."
   ]
  },
  {
   "cell_type": "markdown",
   "metadata": {
    "deletable": false,
    "editable": false,
    "nbgrader": {
     "cell_type": "markdown",
     "checksum": "2d5716bea51b46a6edd34a86419ece44",
     "grade": false,
     "grade_id": "cell-50785c9ee42f82fd",
     "locked": true,
     "schema_version": 3,
     "solution": false,
     "task": false
    }
   },
   "source": [
    "## Question 2a - Looking for Love [6 points]\n",
    "\n",
    "Okay, first, some easy marks. I am going to describe 3 SQL queries to you, and you are going to simply implement them. No Query will require anything not taught in class! \n",
    "\n",
    "You are only writing the **SELECT** string; there is no need to import `sqlite3` in this part of the question at all!\n",
    "\n",
    "1. Write a function `query1` which selects **all** data from table `users` in which: \n",
    "    - Have a last name beginning with H, J, or M (capitals only, no lowercase).\n",
    "    - AND have a first name contains the letter \"r\" anywhere in it (any case).\n",
    "2. Write a function `query2` which selects `user_id` and `phone_number` from table `users` in which:\n",
    "    - Have a `phone_number` beginning with 3 or 5.\n",
    "    - AND Have a `user_id` divisible by 2 (modulo works in SQL!).\n",
    "3. Write a function `query3` which selects `user_id`, `email`, and `phone_number` from table `users` in which:\n",
    "    - Have a `phone_number` that contains \"10\" anywhere in it.\n",
    "    - AND Have a `birthdate` beginning with \"198\" (years 1980 to 1989)."
   ]
  },
  {
   "cell_type": "code",
   "execution_count": null,
   "metadata": {
    "deletable": false,
    "nbgrader": {
     "cell_type": "code",
     "checksum": "c8f9ffedc2cecaea261ad0aeac58c51f",
     "grade": false,
     "grade_id": "cell-2c74e1b668afb95c",
     "locked": false,
     "schema_version": 3,
     "solution": true,
     "task": false
    }
   },
   "outputs": [],
   "source": [
    "def query1() -> str:\n",
    "    return \"\"\n",
    "\n",
    "def query2() -> str:\n",
    "    return \"\"\n",
    "\n",
    "def query3() -> str:\n",
    "    return \"\"\n"
   ]
  },
  {
   "cell_type": "code",
   "execution_count": null,
   "metadata": {
    "deletable": false,
    "editable": false,
    "nbgrader": {
     "cell_type": "code",
     "checksum": "d9d1287094dd363c6c8552fff8abf4a1",
     "grade": true,
     "grade_id": "cell-abb48b2859109fbb",
     "locked": true,
     "points": 2,
     "schema_version": 3,
     "solution": false,
     "task": false
    }
   },
   "outputs": [],
   "source": []
  },
  {
   "cell_type": "code",
   "execution_count": null,
   "metadata": {
    "deletable": false,
    "editable": false,
    "nbgrader": {
     "cell_type": "code",
     "checksum": "a10a270f080ad89553fef920013b22c0",
     "grade": true,
     "grade_id": "cell-c1e5bf9a9be9826d",
     "locked": true,
     "points": 2,
     "schema_version": 3,
     "solution": false,
     "task": false
    }
   },
   "outputs": [],
   "source": []
  },
  {
   "cell_type": "code",
   "execution_count": null,
   "metadata": {
    "deletable": false,
    "editable": false,
    "nbgrader": {
     "cell_type": "code",
     "checksum": "1e391961cc41747b9109480bbb97bf19",
     "grade": true,
     "grade_id": "cell-2f93c816e2e22d69",
     "locked": true,
     "points": 2,
     "schema_version": 3,
     "solution": false,
     "task": false
    }
   },
   "outputs": [],
   "source": []
  },
  {
   "cell_type": "markdown",
   "metadata": {
    "deletable": false,
    "editable": false,
    "nbgrader": {
     "cell_type": "markdown",
     "checksum": "aa058fedd616f1aa8391e036eb5f9521",
     "grade": false,
     "grade_id": "cell-2b58dabba4ec4fc6",
     "locked": true,
     "schema_version": 3,
     "solution": false,
     "task": false
    }
   },
   "source": [
    "## Question 2b - Your Other Half is Out There! [14 point]\n",
    "\n",
    "Mark is looking for the optimal match for people now! This would involve a series of criteria to filter out the potential matches in the database that just don't make much sense.\n",
    "\n",
    "Write a function called `findLove()` that takes in a `filepath` variable, a `tablename` variable, and a `user_data` dictionary. This function will return a list of dictionaries, that I will call `suiters`. All items in `suiters` are dictionaries that contain all information from the database, including the `id` column (each column should be put in the dictionary at keys of the same name). From here, perform the following:\n",
    "\n",
    "- Open the database and read in the data from the table called `tablename`. If, for any reason whatsoever, this operation fails, then you should repeat this step again, adding `'.db'` to the end of the `filepath`.\n",
    "- The `user_data` dictionary will contain the same values as the SQL database, but without the `id` column. Refer to the test case to see exactly what I mean!\n",
    "- Once we have read in our users from the database, we need to remove the ones that aren't a suitable match for our `user_data`:\n",
    "    - For this section, I will be referring to the `user_data` dictionary as **target** and our SQL user as **match**\n",
    "    - If the **target** is 18 years old or older, and the **match** is under the age of 18, they cannot be matched. This means that our **match** will not be in our `suiters` output.\n",
    "    - If the **target** is over 2 years older than our **match**, then they cannot be matched. (i.e. a 22 year old can date an 20 year old, but not a 19 year old.)\n",
    "        - Age differences can have decimals, which are tricky. If the **target** is ANY amount over 2 years older (2.1, 2.01, 2.000000001, etc...) then they are not allowed to match!\n",
    "    - If the **target** is over 4 years younger than our **match**, they cannot be matched. (i.e. a 20 year old can date a 24 year old, but not a 25 year old.)\n",
    "        - Age differences can have decimals, which are tricky. If the **target** is slightly over 4 years younger then the **match** (4.1, 4.9, etc...) then they are allowed to match. The moment that number hits a solid 5 or up, then they cannot match!\n",
    "    - If **target** and **match** aren't in the same country, then they shouldn't match! However, we can't guarentee the capitalization, so you should ignore that. You can leave the spaces and punctuation though; this question is long enough...\n",
    "- After we have our list of suitable matches (`suiters`), we need to sort by the most suitable:\n",
    "    1. First, sort the suiters by their birthdates. Good thing A9 makes you sort by date in Question 2!\n",
    "    2. If a suiter shares the same birthdate as another, sort by their last name from A to Z.\n",
    "    3. If a suiter shares the same last name as another, sort by their first name from A to Z.\n",
    "- Return `suiters`\n",
    "    \n",
    "### Hints \n",
    "\n",
    "1. This should look pretty similar to that tutorial Mark did... Maybe he made that tutorial for this exact reason!\n",
    "2. You will need the `datetime` library here. The dates in the database are in the following format: `\"%Y-%m-%d %H:%M:%S.%f\"`\n",
    "    - To get someones age, you take **today**'s date and subtract their `birthdate`.\n",
    "    - When you subtract two dates, it returns a `timedelta`. You can get the **days** of the `timedelta` by doing `timedelta.days` and you can convert it to **years** using `timedelta.days / 365.25`\n",
    "3. Sorting the data using Python is not going to be fun... Maybe the database could sort it for you?"
   ]
  },
  {
   "cell_type": "code",
   "execution_count": null,
   "metadata": {
    "deletable": false,
    "nbgrader": {
     "cell_type": "code",
     "checksum": "d30a0701758325ddb9aaa61632e9b5a7",
     "grade": false,
     "grade_id": "cell-767734e6a128537a",
     "locked": false,
     "schema_version": 3,
     "solution": true,
     "task": false
    }
   },
   "outputs": [],
   "source": [
    "# Remember Mark's strategy! \n",
    "# Break it into pieces and take it step by step!\n"
   ]
  },
  {
   "cell_type": "code",
   "execution_count": null,
   "metadata": {
    "deletable": false,
    "editable": false,
    "nbgrader": {
     "cell_type": "code",
     "checksum": "b2ff16674f4303a82906df2ff7cbb94b",
     "grade": false,
     "grade_id": "cell-1cd1e557321de653",
     "locked": true,
     "schema_version": 3,
     "solution": false,
     "task": false
    }
   },
   "outputs": [],
   "source": [
    "print(\"Question #2b - Test Case #1:\", tester(\n",
    "    findLove(\"dating_service.db\", \"users\", {\n",
    "        \"first_name\": \"Mark\",\n",
    "        \"last_name\": \"Hutchison\",\n",
    "        \"birthdate\": \"2001-08-01 20:31:00.000000\",\n",
    "        \"email\": \"hutchm6@youknow.ca\",\n",
    "        \"phone_number\": \"(123)456-7890\",\n",
    "        \"address\": \"Not Happening Crescent Halton Hills, ON L7J3A4\",\n",
    "        \"country\": \"Canada\",\n",
    "    }), [\n",
    "        {'user_id': 38, 'first_name': 'Curtis', 'last_name': 'Sanchez', 'birthdate': '1997-09-24 12:18:57.606380', 'email': 'sanchezcurtis@example.com', 'phone_number': '+1-662-067-5444x5695', 'address': '5778 David Well Perezland, ME 36005', 'country': 'Canada'}, \n",
    "        {'user_id': 11, 'first_name': 'Ruben', 'last_name': 'Barrett', 'birthdate': '2001-01-01 12:18:57.596191', 'email': 'barrettruben@example.com', 'phone_number': '484.906.6776x924', 'address': '3979 Hayley Green New Sandra, IN 08595', 'country': 'Canada'}, \n",
    "        {'user_id': 24, 'first_name': 'Roy', 'last_name': 'Lopez', 'birthdate': '2001-02-01 12:18:57.600809', 'email': 'lopezroy@example.com', 'phone_number': '+1-855-149-0699x776', 'address': 'Unit 5161 Box 3079 DPO AP 02654', 'country': 'Canada'}, \n",
    "        {'user_id': 18, 'first_name': 'Jessica', 'last_name': 'Morgan', 'birthdate': '2001-02-13 12:18:57.598698', 'email': 'morganjessica@example.com', 'phone_number': '(136)684-1469x33852', 'address': 'PSC 6254, Box 6553 APO AE 71274', 'country': 'Canada'}, \n",
    "        {'user_id': 12, 'first_name': 'Terri', 'last_name': 'West', 'birthdate': '2001-03-16 12:18:57.596603', 'email': 'westterri@example.com', 'phone_number': '(958)279-1013x8892', 'address': '1338 Eric Orchard Apt. 238 Coopertown, MD 67506', 'country': 'Canada'}, \n",
    "        {'user_id': 14, 'first_name': 'Katherine', 'last_name': 'Ortega', 'birthdate': '2001-10-09 12:18:57.597373', 'email': 'ortegakatherine@example.com', 'phone_number': '001-975-146-2567x5440', 'address': '475 Brian Island Lake Donnamouth, CA 56613', 'country': 'Canada'}\n",
    "    ])\n",
    ")"
   ]
  },
  {
   "cell_type": "code",
   "execution_count": null,
   "metadata": {
    "deletable": false,
    "editable": false,
    "nbgrader": {
     "cell_type": "code",
     "checksum": "52de24d080f554a301d59bf2eb367b96",
     "grade": true,
     "grade_id": "cell-ff9f3ee0aaea693c",
     "locked": true,
     "points": 1,
     "schema_version": 3,
     "solution": false,
     "task": false
    }
   },
   "outputs": [],
   "source": []
  },
  {
   "cell_type": "markdown",
   "metadata": {
    "deletable": false,
    "editable": false,
    "nbgrader": {
     "cell_type": "markdown",
     "checksum": "b19117c3ce2f258572ca29012ff61f85",
     "grade": false,
     "grade_id": "cell-a27999cfaca9deb3",
     "locked": true,
     "schema_version": 3,
     "solution": false,
     "task": false
    }
   },
   "source": [
    "## Question 3 - Seeking Closure [8 points total]\n",
    "\n",
    "In 2nd year, you guys are going to take a database course, and one of the things taught in that course is: Data doesn't need to always be in 1 table. For example, let's say I am am a pet owner. Now, you could either make one table with ALL my information and ALL of my pet's information, **OR** my pet's information could be stored in a second database table. If every pet has an `ID`, then all I need is to store that Pet `ID` with the owner to link the information!\n",
    "\n",
    "Now introducing: The Closure Algorithm. The closure algorithm is quite simple to compute, so I will walk you through an example to show you how it is done.\n",
    "\n",
    "1. First, you are given a list of **Dependencies**. A dependency, formated as a tuple of two sets `({\"X\"}, {\"Y\"})`, simply means: If you are given X, you can find Y. \n",
    "2. Next, you are given a set of columns you already have to work with.\n",
    "3. Finally, we keep adding all of the columns we can reach to that set until we can't find any more.\n",
    "\n",
    "So let's imagine that we have the following tables:\n",
    "\n",
    "| id | firstname | lastname  | pet_id | job_id |\n",
    "|----|-----------|-----------|--------|--------|\n",
    "| 0  | Mark      | Hutchison | 2      | 1      |\n",
    "\n",
    "| pid | name | owner | age | breed |\n",
    "|-----|------|-------|-----|-------|\n",
    "| 2   | Toby | 0     |  6  | Dog   |\n",
    "\n",
    "| jid | company  | employee | role | duration  | salary |\n",
    "|-----|----------|----------|------|-----------|--------|\n",
    "| 1   | McMaster | 0        | TA   | 16 months | $2X.XX |\n",
    "\n",
    "Some obvious functional **dependencies** include:\n",
    "\n",
    "- `({\"id\"}, {\"firstname\", \"lastname\", \"pet_id\", \"job_id\"})`: Given a person's `id` number, you can look-up their `name`, `pet_id`, and `job_id`.\n",
    "- `({\"pet_id\"}, {\"pid\"})`: Given a person's `pet_id` number, you can look-up their pet in the `pets` table.\n",
    "- `({\"pid\"}, {\"name\", \"owner\", \"age\", \"breed\"})`: Given a pet's id number, you can find its `name`, `age`, and `breed`, as well as the `owner` ID.\n",
    "- `({\"owner\"}, {\"id\"})`: Given a pet's `owner` ID, you can find the matching `id` in the `person` table.\n",
    "- `({\"jid\"}, {\"company\", \"employee\", \"role\", \"duration\", \"salary\"})`: Given a job ID, you can find the matching `company`, `employee`, `role`, `duration`, `salary`.\n",
    "- `({\"employee\"}, {\"id\"})`: Given a job's `employee` ID, you can find the matching `id` in the `person` table.\n",
    "\n",
    "And if I am only given `columns={\"id\"}`, my closure would still include EVERY single column of every table! (The closure being: `{\"id\", \"firstname\", \"lastname\", \"pet_id\", \"job_id\", \"pid\", \"name\", \"age\", \"breed\", \"owner\", \"jid\", \"company\", \"employee\", \"role\", \"duration\", \"salary\"}`)"
   ]
  },
  {
   "cell_type": "markdown",
   "metadata": {
    "deletable": false,
    "editable": false,
    "nbgrader": {
     "cell_type": "markdown",
     "checksum": "77d05cd9e24b1c0d3cf43f050e79a078",
     "grade": false,
     "grade_id": "cell-97a51a02e24c2a86",
     "locked": true,
     "schema_version": 3,
     "solution": false,
     "task": false
    }
   },
   "source": [
    "## Question 3a - Satisfaction Not Guaranteed [3 points]\n",
    "\n",
    "First, we are going to code a simple predicate! This predicate will return `True` if there are no more **Dependencies** that can be added to my closure, and `False` if there exists a **Dependency** that can go into my closure.\n",
    "\n",
    "Write a function `satisfied()` which takes in 3 parameters:\n",
    "\n",
    "1. `dependencies`: This is a list of **Dependency** Tuples mentioned earlier.\n",
    "2. `columns`: This is a set of strings that have **already been found** by the closure algorithm.\n",
    "\n",
    "You will return `False` if there is a dependency in `dependencies` that violates the satisfied condtion. What does it mean to violate the satisfied condtion? Well:\n",
    "\n",
    "- The first item of the **dependency** tuple is a subset of `columns`.\n",
    "    - Subset ($A \\subseteq B$) means that **every** item in set A can be found in set B, like so:\n",
    "        - $\\{X\\} \\subseteq \\{X\\}$\n",
    "        - $\\{X\\} \\subseteq \\{X, Y, Z\\}$\n",
    "        - $\\{A, B, C\\} \\subseteq \\{A, B, C, D, E\\}$ \n",
    "- There is a column (string) in the set found in the second item of the **dependency** tuple that is not in the `columns` set.\n",
    "- So for example:\n",
    "   1. `satisfied([({\"X\"}, {\"Y\"})], {\"X\", \"Z\"})` would return `False` because:\n",
    "        - `{\"X\"}` is a subset of `{\"X\", \"Z\"}`\n",
    "        - `{\"Y\"}` is not in the set `{\"X\", \"Z\"}`\n",
    "        - Therefore, `({\"X\"}, {\"Y\"})` has violated the satisfied condition\n",
    "   2. `satisfied([({\"X\"}, {\"Y\"})], {\"X\", \"Y\"})` would return `True` because:\n",
    "        - `{\"Y\"}` is in the set `{\"X\", \"Y\"}`, and there are no more dependencies\n",
    "        \n",
    "This means that the `columns` set is not a closure yet; there are still columns that can be found using what you currently have."
   ]
  },
  {
   "cell_type": "code",
   "execution_count": null,
   "metadata": {
    "deletable": false,
    "nbgrader": {
     "cell_type": "code",
     "checksum": "824904b3866edd0b2507b872fb0aa833",
     "grade": false,
     "grade_id": "cell-a78ff0aced5c6c44",
     "locked": false,
     "schema_version": 3,
     "solution": true,
     "task": false
    }
   },
   "outputs": [],
   "source": []
  },
  {
   "cell_type": "code",
   "execution_count": null,
   "metadata": {
    "deletable": false,
    "editable": false,
    "nbgrader": {
     "cell_type": "code",
     "checksum": "721b12794b2664df4d448184a0e35441",
     "grade": false,
     "grade_id": "cell-458e7e1435b986c7",
     "locked": true,
     "schema_version": 3,
     "solution": false,
     "task": false
    }
   },
   "outputs": [],
   "source": [
    "print(\"Question #3a - Test Case #1:\", tester(\n",
    "    satisfied([\n",
    "        ({\"X\"}, {\"Y\"})\n",
    "    ], {\"X\"}),\n",
    "    False\n",
    "))\n",
    "print(\"Question #3a - Test Case #2:\", tester(\n",
    "    satisfied([\n",
    "        ({\"X\"}, {\"Y\"})\n",
    "    ], {\"X\", \"Y\"}),\n",
    "    True\n",
    "))\n",
    "print(\"Question #3a - Test Case #3:\", tester(\n",
    "    satisfied([\n",
    "        ({\"E\"}, {\"A\"}),\n",
    "        ({\"E\"}, {\"D\"}),\n",
    "        ({\"A\"}, {\"C\"}),\n",
    "        ({\"A\"}, {\"D\"}),\n",
    "        ({\"A\", \"E\"}, {\"F\"}),\n",
    "        ({\"A\", \"G\"}, {\"K\"})\n",
    "    ], {\"E\"}),\n",
    "    False\n",
    "))"
   ]
  },
  {
   "cell_type": "code",
   "execution_count": null,
   "metadata": {
    "deletable": false,
    "editable": false,
    "nbgrader": {
     "cell_type": "code",
     "checksum": "689a5ac6065b7be04dcf4619b8184115",
     "grade": true,
     "grade_id": "cell-1fc0179df262bce3",
     "locked": true,
     "points": 1,
     "schema_version": 3,
     "solution": false,
     "task": false
    }
   },
   "outputs": [],
   "source": []
  },
  {
   "cell_type": "code",
   "execution_count": null,
   "metadata": {
    "deletable": false,
    "editable": false,
    "nbgrader": {
     "cell_type": "code",
     "checksum": "047448bdf58ccfc397ffeff409f13088",
     "grade": true,
     "grade_id": "cell-6682083d16c94d35",
     "locked": true,
     "points": 1,
     "schema_version": 3,
     "solution": false,
     "task": false
    }
   },
   "outputs": [],
   "source": []
  },
  {
   "cell_type": "code",
   "execution_count": null,
   "metadata": {
    "deletable": false,
    "editable": false,
    "nbgrader": {
     "cell_type": "code",
     "checksum": "d387db719a4cb8cee58e1e357f525c75",
     "grade": true,
     "grade_id": "cell-62cb4affbf5ef332",
     "locked": true,
     "points": 1,
     "schema_version": 3,
     "solution": false,
     "task": false
    }
   },
   "outputs": [],
   "source": []
  },
  {
   "cell_type": "markdown",
   "metadata": {
    "deletable": false,
    "editable": false,
    "nbgrader": {
     "cell_type": "markdown",
     "checksum": "9089df4334cbbf317c831e7facd0fc64",
     "grade": false,
     "grade_id": "cell-f3ae42ccf663f265",
     "locked": true,
     "schema_version": 3,
     "solution": false,
     "task": false
    }
   },
   "source": [
    "## Question 3b - Calculating the Closure [5 points]\n",
    "\n",
    "Now that you have the `satisfied` function, this part should be quite a bit easier!\n",
    "\n",
    "Write a function called `closure` that takes in 2 arguments:\n",
    "\n",
    "1. `dependencies`: This is a list of dependency tuples, much like the previous question.\n",
    "2. `columns`: This is a set of columns that you have in at your disposal. Recall the earlier example: If you are given `columns={'id'}`, you can find all other columns across all the tables.\n",
    "\n",
    "We are going to make this question **RECURSIVE**, so pay close attention. \n",
    "\n",
    "1. If `satisfied` returns `True`, this means the algorithm is done. You can now return the set of columns in the closure.\n",
    "2. If `satisfied` returns `False`, you must:\n",
    "    - Find the **first** dependency which violates the `satisfied` condition, and\n",
    "    - union the second item of the dependency tuple with the `columns` set.\n",
    "    - Repeat the algorithm with the new closure.\n",
    "\n",
    "There is no reason to use global variables or `memoization` in this question. It is rather straightforward to implement using some version of tail recursion! (You can use any recursion method, but I am trying to make this easy for you guys)."
   ]
  },
  {
   "cell_type": "code",
   "execution_count": null,
   "metadata": {
    "deletable": false,
    "nbgrader": {
     "cell_type": "code",
     "checksum": "3c2e48a0066d2dee1ef9b598a7534d8f",
     "grade": false,
     "grade_id": "cell-3fe3950199c6deca",
     "locked": false,
     "schema_version": 3,
     "solution": true,
     "task": false
    }
   },
   "outputs": [],
   "source": []
  },
  {
   "cell_type": "code",
   "execution_count": null,
   "metadata": {
    "deletable": false,
    "editable": false,
    "nbgrader": {
     "cell_type": "code",
     "checksum": "a3a64cb7cd15d98e3250d39599387597",
     "grade": false,
     "grade_id": "cell-2ebb63bf6962a9e3",
     "locked": true,
     "schema_version": 3,
     "solution": false,
     "task": false
    }
   },
   "outputs": [],
   "source": [
    "print(\"Question #3b - Test Case #1:\", tester(\n",
    "    closure([\n",
    "        ({\"E\"}, {\"A\"}),\n",
    "        ({\"E\"}, {\"D\"}),\n",
    "        ({\"A\"}, {\"C\"}),\n",
    "        ({\"A\"}, {\"D\"}),\n",
    "        ({\"A\", \"E\"}, {\"F\"}),\n",
    "        ({\"A\", \"G\"}, {\"K\"})\n",
    "    ], {\"E\"}),\n",
    "    {\"A\", \"C\", \"D\", \"E\", \"F\"}\n",
    "))\n",
    "print(\"Question #3b - Test Case #2:\", tester(\n",
    "    closure([\n",
    "        ({\"A\", \"B\"}, {\"D\"}),\n",
    "        ({\"A\", \"C\"}, {\"E\"}),\n",
    "        ({\"C\"}, {\"A\"}),\n",
    "        ({\"D\"}, {\"A\"}),\n",
    "        ({\"E\"}, {\"B\"})\n",
    "    ], {\"C\"}),\n",
    "    {\"A\", \"B\", \"C\", \"D\", \"E\"}\n",
    "))"
   ]
  },
  {
   "cell_type": "code",
   "execution_count": null,
   "metadata": {
    "deletable": false,
    "editable": false,
    "nbgrader": {
     "cell_type": "code",
     "checksum": "537b97a6e096606b5d862bcee3ccb334",
     "grade": true,
     "grade_id": "cell-93f12f260cba483c",
     "locked": true,
     "points": 1,
     "schema_version": 3,
     "solution": false,
     "task": false
    }
   },
   "outputs": [],
   "source": []
  },
  {
   "cell_type": "code",
   "execution_count": null,
   "metadata": {
    "deletable": false,
    "editable": false,
    "nbgrader": {
     "cell_type": "code",
     "checksum": "a76958be646b5152be1b41bf6ece5029",
     "grade": true,
     "grade_id": "cell-0fefb92dca16181a",
     "locked": true,
     "points": 1,
     "schema_version": 3,
     "solution": false,
     "task": false
    }
   },
   "outputs": [],
   "source": []
  },
  {
   "cell_type": "code",
   "execution_count": null,
   "metadata": {
    "deletable": false,
    "editable": false,
    "nbgrader": {
     "cell_type": "code",
     "checksum": "3a3637e977a1807e118b6e227da5434e",
     "grade": true,
     "grade_id": "cell-cf982bf8d44c6689",
     "locked": true,
     "points": 1,
     "schema_version": 3,
     "solution": false,
     "task": false
    }
   },
   "outputs": [],
   "source": []
  },
  {
   "cell_type": "code",
   "execution_count": null,
   "metadata": {
    "deletable": false,
    "editable": false,
    "nbgrader": {
     "cell_type": "code",
     "checksum": "5c9bba14855fc07c2f5087b48055cde9",
     "grade": true,
     "grade_id": "cell-7c461c53b6a4f5b1",
     "locked": true,
     "points": 1,
     "schema_version": 3,
     "solution": false,
     "task": false
    }
   },
   "outputs": [],
   "source": []
  },
  {
   "cell_type": "code",
   "execution_count": null,
   "metadata": {
    "deletable": false,
    "editable": false,
    "nbgrader": {
     "cell_type": "code",
     "checksum": "bc83215401f9d6141d2e72616847ae09",
     "grade": true,
     "grade_id": "cell-3b53961192f03835",
     "locked": true,
     "points": 1,
     "schema_version": 3,
     "solution": false,
     "task": false
    }
   },
   "outputs": [],
   "source": []
  },
  {
   "attachments": {
    "konnec4.jpg": {
     "image/jpeg": "[encoded data removed]"
    }
   },
   "cell_type": "markdown",
   "metadata": {
    "deletable": false,
    "editable": false,
    "nbgrader": {
     "cell_type": "markdown",
     "checksum": "489271e2b84a23a91353d312e10d6bcc",
     "grade": false,
     "grade_id": "cell-7d094b630786b26c",
     "locked": true,
     "schema_version": 3,
     "solution": false,
     "task": false
    }
   },
   "source": [
    "## Question 4 - Konnec 4 [26 points total]\n",
    "\n",
    "Oh ho, Meme Man, how you love to play your games! Meme Man grew up with the nostalgic **Connect 4** game and wants to make a version for himself to sell to his friends and family! Meme Man calls this **\"Konnec 4\"**, and hopes it will be a big hit!\n",
    "\n",
    "![The new Konnec 4 game! Fun for the whole family!](attachment:konnec4.jpg)"
   ]
  },
  {
   "cell_type": "markdown",
   "metadata": {
    "deletable": false,
    "editable": false,
    "nbgrader": {
     "cell_type": "markdown",
     "checksum": "5104bb0369be61867b4cbedd0e9a9a72",
     "grade": false,
     "grade_id": "cell-042ec86c7710b1a1",
     "locked": true,
     "schema_version": 3,
     "solution": false,
     "task": false
    }
   },
   "source": [
    "## Question 4a - Currencies [6 points]\n",
    "\n",
    "In **Konnec 4**, there is no red or yellow pieces. Instead, there are currencies! Each player is fighting for financial dominance, proving they are the superior currency. Team 1 will be know as Dollars, denoted by the symbol `'$'`, and Team 2 will be known as Euros, denoted as `'€'`. In your code, you will be using the team names, and not their symbols.\n",
    "\n",
    "Create a Python class called `CurrencyPiece`, in which performs the following operations:\n",
    "\n",
    "- **Initializer**: The constructor will take in exactly 1 argument -- The team name, called `team_name`. This variable will be saved to attributes of the object under the same name! \n",
    "    - This **should** either be the string `\"Dollars\"` or the string `\"Euros\"`. There are a few interesting cases you need to handle though!\n",
    "        - If the `team_name` is a string that contains every letter of the team name, but with any combination of capitals or spaces, then the team name is still valid. This means that `\"Do LL ar S\"` should still be registered as the team name `\"Dollars\"`. If the string doesn't match either team name, then raise a `ValueError`.\n",
    "        - If the `team_name` is an integer, then we check if it is `0` for the `\"Dollars\"` team or `1` for the `\"Euros\"` team. If this is the case, set the `team_name` to be the correct string. Else, raise a `ValueError`.\n",
    "        - If the `team_name` isn't covered by any of the previous cases, raise a `TypeError`!\n",
    "- String Method: You must overload the string function of this class to return the symbol of the team, whether it is the `'$'` symbol, or the `'€'` symbol. I have put these in variables for you to copy and paste!"
   ]
  },
  {
   "cell_type": "code",
   "execution_count": null,
   "metadata": {
    "deletable": false,
    "nbgrader": {
     "cell_type": "code",
     "checksum": "6f783a10837393228c9a80712b4cc52c",
     "grade": false,
     "grade_id": "cell-b2600828a2b3d049",
     "locked": false,
     "schema_version": 3,
     "solution": true,
     "task": false
    }
   },
   "outputs": [],
   "source": [
    "# No boiler plate here... You are creating it all!\n",
    "dollars = '$'\n",
    "euros = '€'\n"
   ]
  },
  {
   "cell_type": "code",
   "execution_count": null,
   "metadata": {
    "deletable": false,
    "editable": false,
    "nbgrader": {
     "cell_type": "code",
     "checksum": "a56675c86a8a5eb6da37583daba396f6",
     "grade": false,
     "grade_id": "cell-67b27170c5b86f14",
     "locked": true,
     "schema_version": 3,
     "solution": false,
     "task": false
    }
   },
   "outputs": [],
   "source": [
    "dollar_piece = CurrencyPiece(\"dollars\")\n",
    "euro_piece = CurrencyPiece(1)\n",
    "print(\"Question #4a - Test Case #1:\", tester(str(dollar_piece), \"$\"))\n",
    "print(\"Question #4a - Test Case #2:\", tester(str(euro_piece), \"€\"))\n",
    "print(\"Question #4a - Test Case #3:\", tester(dollar_piece.team_name, \"Dollars\"))"
   ]
  },
  {
   "cell_type": "code",
   "execution_count": null,
   "metadata": {
    "deletable": false,
    "editable": false,
    "nbgrader": {
     "cell_type": "code",
     "checksum": "85b5d7274c5e20c68c8bcd7f9beeee97",
     "grade": true,
     "grade_id": "cell-50315927bb080b7b",
     "locked": true,
     "points": 0.5,
     "schema_version": 3,
     "solution": false,
     "task": false
    }
   },
   "outputs": [],
   "source": []
  },
  {
   "cell_type": "code",
   "execution_count": null,
   "metadata": {
    "deletable": false,
    "editable": false,
    "nbgrader": {
     "cell_type": "code",
     "checksum": "d48299c83f508d50e74caf22b0476521",
     "grade": true,
     "grade_id": "cell-a74e1b99fd7e0e1b",
     "locked": true,
     "points": 0.5,
     "schema_version": 3,
     "solution": false,
     "task": false
    }
   },
   "outputs": [],
   "source": []
  },
  {
   "cell_type": "code",
   "execution_count": null,
   "metadata": {
    "deletable": false,
    "editable": false,
    "nbgrader": {
     "cell_type": "code",
     "checksum": "95dda179ee78738e22885ea9980c272e",
     "grade": true,
     "grade_id": "cell-19da68a9b1e93255",
     "locked": true,
     "points": 0.5,
     "schema_version": 3,
     "solution": false,
     "task": false
    }
   },
   "outputs": [],
   "source": []
  },
  {
   "cell_type": "code",
   "execution_count": null,
   "metadata": {
    "deletable": false,
    "editable": false,
    "nbgrader": {
     "cell_type": "code",
     "checksum": "e01825027d676f9f410085370b2ca5cb",
     "grade": true,
     "grade_id": "cell-daff371d73c1c7c1",
     "locked": true,
     "points": 0.5,
     "schema_version": 3,
     "solution": false,
     "task": false
    }
   },
   "outputs": [],
   "source": []
  },
  {
   "cell_type": "code",
   "execution_count": null,
   "metadata": {
    "deletable": false,
    "editable": false,
    "nbgrader": {
     "cell_type": "code",
     "checksum": "bb494310ff473c0e3ae19f11b9fa9308",
     "grade": true,
     "grade_id": "cell-82cb405b7f3f49cb",
     "locked": true,
     "points": 0.5,
     "schema_version": 3,
     "solution": false,
     "task": false
    }
   },
   "outputs": [],
   "source": []
  },
  {
   "cell_type": "code",
   "execution_count": null,
   "metadata": {
    "deletable": false,
    "editable": false,
    "nbgrader": {
     "cell_type": "code",
     "checksum": "a084738d22941b3b188519ecc13f6d92",
     "grade": true,
     "grade_id": "cell-31529af6983744b6",
     "locked": true,
     "points": 1,
     "schema_version": 3,
     "solution": false,
     "task": false
    }
   },
   "outputs": [],
   "source": []
  },
  {
   "cell_type": "code",
   "execution_count": null,
   "metadata": {
    "deletable": false,
    "editable": false,
    "nbgrader": {
     "cell_type": "code",
     "checksum": "551de747419cfbc4ef863f072d3e0c4d",
     "grade": true,
     "grade_id": "cell-b720b9f39dc70fc1",
     "locked": true,
     "points": 0.5,
     "schema_version": 3,
     "solution": false,
     "task": false
    }
   },
   "outputs": [],
   "source": []
  },
  {
   "cell_type": "code",
   "execution_count": null,
   "metadata": {
    "deletable": false,
    "editable": false,
    "nbgrader": {
     "cell_type": "code",
     "checksum": "d6cfa651ba4fe7f5be9dce499f5353dd",
     "grade": true,
     "grade_id": "cell-849737871b944261",
     "locked": true,
     "points": 0.5,
     "schema_version": 3,
     "solution": false,
     "task": false
    }
   },
   "outputs": [],
   "source": []
  },
  {
   "cell_type": "code",
   "execution_count": null,
   "metadata": {
    "deletable": false,
    "editable": false,
    "nbgrader": {
     "cell_type": "code",
     "checksum": "edab4f647845e11d4363117dbf5da9c0",
     "grade": true,
     "grade_id": "cell-a8e63d53eaca3445",
     "locked": true,
     "points": 0.5,
     "schema_version": 3,
     "solution": false,
     "task": false
    }
   },
   "outputs": [],
   "source": []
  },
  {
   "cell_type": "markdown",
   "metadata": {
    "deletable": false,
    "editable": false,
    "nbgrader": {
     "cell_type": "markdown",
     "checksum": "5fcd03322f6d61ff91fc6daaebe1209a",
     "grade": false,
     "grade_id": "cell-bb2ef77e2f284dd0",
     "locked": true,
     "schema_version": 3,
     "solution": false,
     "task": false
    }
   },
   "source": [
    "## Question 4b - Board [12 points]\n",
    "\n",
    "Now that we have our pieces, it is time to create the board! In **Konnec 4**, the board has the dimensions 7 across and 6 down. We will use our standard 2D list to represent this, since the data type is mutable. Here is a summary of the rules of **Konnec 4**:\n",
    "\n",
    "- Starting with `\"Dollars\"`, since Germany lost once America joined the allies, each player will alternate selecting a column to insert a coin (`CurrencyPiece`).\n",
    "- Once a coin has been inserted into a column, that coin will fail vertically down said column, landing in the lowest row that is unoccupied. In our board, row 1 is the top of the board, while row 6 is the bottom most row. Notice, our rows and columns are **NOT** 0 indexed in this question. \n",
    "- After every player takes their turn, the Meme Man will analyze the board and see if there is a winner.\n",
    "    - A winner occurs when there is an unbroken chain of 4 coins in a row. This can be horizontally, vertically, or diagonally.\n",
    "\n",
    "Now, meme man is not a computer scientist and doesn't count at 0 like we do. For this question, **The board is 1 indexed, not 0 indexed!** You need to appropriately convert the indexes.\n",
    "\n",
    "So, let's make a `Board` class:\n",
    "\n",
    "- **Initializer**:\n",
    "    - Your constructor takes in no arguements, instead just preparing the game for playing.\n",
    "    - You should create a `board` attribute in which makes a 6 row, 7 column board.\n",
    "        - By default, every spot in this `board` should be the `NoneType` instance, `None.`\n",
    "    - Set the `current` attribute to be `\"Dollars\"`. This represents our current player.\n",
    "- **addPiece**:\n",
    "    - **addPiece** takes in one `column` argument that is type `int`. You can make this assumption with no problems or type checking. \n",
    "    - If the column is not between 1 and 7 inclusive, raise a `ValueError`.\n",
    "    - Attempt to add the coin (`CurrencyPiece`) for the `current` player to that column.\n",
    "        - Coins inserted into a column start at row 1 and fall down to row 6, stopping when it can't fall any further.\n",
    "            - A coin cannot fall further then another coin already in that column. So they will begin to pile on top of each other.\n",
    "        - If the column is full to the top, do nothing. No errors, no mutation, no nothing.\n",
    "        - If the coin is successfully inserted into the column, change the current player to be opponent. So `\"Dollars\"` becomes `\"Euros\"` and `\"Euros\"` becomes `\"Dollars\"`.\n",
    "    - **Mark Hint:** Although not required, I think recursion is well applied to this method. I also recommend you make some system to tell you if a piece can enter a spot or not, similar to the move parser in the Go and Checkers games we covered this year.\n",
    "- **checkWinner**:\n",
    "    - **checkWinner** takes in no arguments whatsoever, and returns a boolean result. There are no errors or exceptions in this method at all.\n",
    "    - A winner occurs in **\"Konnec 4\"** when 4 of the same coin are back to back. \n",
    "        - This can occur horizontally, vertically, or diagonally in the positive (/) or negative (\\\\) direction. \n",
    "    - If there is any sequence of 4 coins belonging to the same team, return the team name, either `\"Dollars\"`, or `\"Euros\"`. If there is no winner, return `False`.\n",
    "    \n",
    "To familiarize yourself with the concept of **Konnec 4**, try playing **Connect 4**: [https://kevinshannon.dev/connect4/](https://kevinshannon.dev/connect4/)"
   ]
  },
  {
   "cell_type": "code",
   "execution_count": null,
   "metadata": {
    "deletable": false,
    "nbgrader": {
     "cell_type": "code",
     "checksum": "78c9695741838a82da87de17b8a0ec64",
     "grade": false,
     "grade_id": "cell-fe29f5e0384f257b",
     "locked": false,
     "schema_version": 3,
     "solution": true,
     "task": false
    }
   },
   "outputs": [],
   "source": [
    "class Board:\n",
    "    def __init__(self):\n",
    "        pass\n",
    "        \n",
    "    def addPiece(self, column):\n",
    "        pass\n",
    "    \n",
    "    def checkWinner(self):\n",
    "        pass\n",
    "    \n",
    "    def __str__(self) -> str:\n",
    "        \"\"\"\n",
    "        I have given you this because I wanted it to look fancy.\n",
    "        Just know, in 2nd year, you would be expected to make something like this.\n",
    "        Maybe remember this code when you get to 2ME3... \n",
    "        Good chance it might be helpful.\n",
    "        \"\"\"\n",
    "        s = \"╔\" + (\"═══╦\" * 6) + \"═\" * 3 + \"╗\\n\"\n",
    "        for row_index, row in enumerate(self.board):\n",
    "            s += \"║\"\n",
    "            for col_index, column in enumerate(row):\n",
    "                s += f\" {str(column if column != None else ' ')} ║\"\n",
    "            if row_index < 5:\n",
    "                s += \"\\n╠\" + (\"═══╬\" * 6) + \"═══╣\\n\"\n",
    "            else:\n",
    "                s += '\\n'\n",
    "        return s + \"╚\" + \"═══╩\" * 6 + \"═\" * 3 + \"╝\\n\"\n"
   ]
  },
  {
   "cell_type": "code",
   "execution_count": null,
   "metadata": {
    "deletable": false,
    "editable": false,
    "nbgrader": {
     "cell_type": "code",
     "checksum": "42d8f14360d0d3cb01f313f4ea4fe74b",
     "grade": false,
     "grade_id": "cell-ecb7082455a936fa",
     "locked": true,
     "schema_version": 3,
     "solution": false,
     "task": false
    }
   },
   "outputs": [],
   "source": [
    "# This is a playable version of the game... \n",
    "# Have fun and Begin Testing!\n",
    "from IPython.display import clear_output\n",
    "board = Board()\n",
    "while board.checkWinner() == False:\n",
    "    clear_output()\n",
    "    print(\"Board:\")\n",
    "    print(str(board))\n",
    "    print(\"Current Player:\", board.current)\n",
    "    column = input(\"Pick a column to place your coin! >> \")\n",
    "    try:\n",
    "        if column.lower() in ('q', \"quit\", 'e', \"exit\"):\n",
    "            break\n",
    "        column = int(column)\n",
    "        try:\n",
    "            if board.parseMove((1, column)):\n",
    "                board.addPiece(column)\n",
    "            else:\n",
    "                print(\"That is an invalid move!\")\n",
    "        except Exception as e:\n",
    "            print(\"An error occured:\", e)\n",
    "    except Exception as e:\n",
    "        print(\"Uh oh... An error occured:\", e)\n",
    "if board.checkWinner():\n",
    "    clear_output()\n",
    "    print(\"Board:\")\n",
    "    print(str(board))\n",
    "    print(\"And the winner is:\", board.checkWinner())"
   ]
  },
  {
   "cell_type": "code",
   "execution_count": null,
   "metadata": {
    "deletable": false,
    "editable": false,
    "nbgrader": {
     "cell_type": "code",
     "checksum": "b8249214a9ca5ae3d77b1efffcccdae8",
     "grade": true,
     "grade_id": "cell-7838a986080dd7cc",
     "locked": true,
     "points": 1,
     "schema_version": 3,
     "solution": false,
     "task": false
    }
   },
   "outputs": [],
   "source": []
  },
  {
   "cell_type": "code",
   "execution_count": null,
   "metadata": {
    "deletable": false,
    "editable": false,
    "nbgrader": {
     "cell_type": "code",
     "checksum": "83cea4f04040b011d4b977f78852f723",
     "grade": true,
     "grade_id": "cell-0aaf0848966e2f10",
     "locked": true,
     "points": 1,
     "schema_version": 3,
     "solution": false,
     "task": false
    }
   },
   "outputs": [],
   "source": []
  },
  {
   "cell_type": "code",
   "execution_count": null,
   "metadata": {
    "deletable": false,
    "editable": false,
    "nbgrader": {
     "cell_type": "code",
     "checksum": "3c6fcb8047fab323e8df5cde90eadc7e",
     "grade": true,
     "grade_id": "cell-79e3152d9e77e707",
     "locked": true,
     "points": 1,
     "schema_version": 3,
     "solution": false,
     "task": false
    }
   },
   "outputs": [],
   "source": []
  },
  {
   "cell_type": "code",
   "execution_count": null,
   "metadata": {
    "deletable": false,
    "editable": false,
    "nbgrader": {
     "cell_type": "code",
     "checksum": "b49a177dd705bf0bb3fd73d099c92922",
     "grade": true,
     "grade_id": "cell-37821268b689a8f8",
     "locked": true,
     "points": 2,
     "schema_version": 3,
     "solution": false,
     "task": false
    }
   },
   "outputs": [],
   "source": []
  },
  {
   "cell_type": "code",
   "execution_count": null,
   "metadata": {
    "deletable": false,
    "editable": false,
    "nbgrader": {
     "cell_type": "code",
     "checksum": "da688fa8024b8adf24ff89c76f38e09f",
     "grade": true,
     "grade_id": "cell-b56891036845e568",
     "locked": true,
     "points": 2,
     "schema_version": 3,
     "solution": false,
     "task": false
    }
   },
   "outputs": [],
   "source": []
  },
  {
   "cell_type": "code",
   "execution_count": null,
   "metadata": {
    "deletable": false,
    "editable": false,
    "nbgrader": {
     "cell_type": "code",
     "checksum": "44a6c7b32fc0d7c684c306ceab264eb9",
     "grade": true,
     "grade_id": "cell-4e95f24253b1aec1",
     "locked": true,
     "points": 2,
     "schema_version": 3,
     "solution": false,
     "task": false
    }
   },
   "outputs": [],
   "source": []
  },
  {
   "cell_type": "code",
   "execution_count": null,
   "metadata": {
    "deletable": false,
    "editable": false,
    "nbgrader": {
     "cell_type": "code",
     "checksum": "960ccdb0d910cd5d74f69bb00c688955",
     "grade": true,
     "grade_id": "cell-6e43a728a354d6b9",
     "locked": true,
     "points": 2,
     "schema_version": 3,
     "solution": false,
     "task": false
    }
   },
   "outputs": [],
   "source": []
  },
  {
   "cell_type": "code",
   "execution_count": null,
   "metadata": {
    "deletable": false,
    "editable": false,
    "nbgrader": {
     "cell_type": "code",
     "checksum": "1419b3a9061baea8bf934d3b5def2016",
     "grade": true,
     "grade_id": "cell-037931622fdd7ba1",
     "locked": true,
     "points": 2,
     "schema_version": 3,
     "solution": false,
     "task": false
    }
   },
   "outputs": [],
   "source": []
  },
  {
   "cell_type": "markdown",
   "metadata": {
    "deletable": false,
    "editable": false,
    "nbgrader": {
     "cell_type": "markdown",
     "checksum": "36e966ea6bb137c0d3ef77714b7ba2e7",
     "grade": false,
     "grade_id": "cell-33e67abd88ec8996",
     "locked": true,
     "schema_version": 3,
     "solution": false,
     "task": false
    }
   },
   "source": [
    "## Question 4c - Playing From a File [8 points]\n",
    "\n",
    "So, I wanna automate the **Konnec 4** playing process, like any good Stonk Broker would. I want to make a script that takes reads a file for a series of moves, and plays a game of **Konnec 4** exactly how the file says!\n",
    "\n",
    "Write a function, `playKonnecFile()` that takes in a file path called `move_list` and returns a tuple, containing 3 items: \n",
    "\n",
    "1. A `Board` object that is the result of playing the board according to the rules in the `moves_list`.\n",
    "2. An integer that counts how many times the `P` command is found in the file (You will understand this more later).\n",
    "3. A tuple containing two items: \n",
    "    - 1st item: The number of times that the game was won by Dollars\n",
    "    - 2nd item: The number of times that the game was won by Euros\n",
    "\n",
    "- The variable `move_list` should be a string. If it is not a string, then you should raise a `TypeError`.\n",
    "- If the name of the `move_list` does not end in one of the following file extensions, raise a `ValueError`:\n",
    "    - `\".json\"`: The JSON file extension. You can assume files with this extension will be formatted like so:\n",
    "        ```json\n",
    "        {\n",
    "            \"data\": [\n",
    "                {\n",
    "                    \"game\": \"Konnec 4\",\n",
    "                    \"purpose\": \"moves_list\",\n",
    "                    \"moves\": [\n",
    "                        ...\n",
    "                    ]\n",
    "                }, \n",
    "                ...\n",
    "            ]\n",
    "        }\n",
    "        ```\n",
    "    - `\".yaml\"`: The YAML file extension. You can assume files with this extension will be formatted like so:\n",
    "        ```yaml\n",
    "        data:\n",
    "            - game: \"Konnec 4\"\n",
    "              purpose: \"moves_list\"\n",
    "              moves:\n",
    "                  - ...\n",
    "            - ...\n",
    "        ```\n",
    "    - `\".txt\"`: The TXT file extension. You can assume files with this extension will contain a series of lines, and each line will contain a move.\n",
    "- You will open the file using the correct library, and parse the moves from it. If the file is JSON or YAML, you will need to find the data specifically for the `\"game\": \"Konnec 4\"`.\n",
    "    - If, while attempting to load the moves for our **Konnec 4** game, there are no moves, you should raise a custom `NoKonnec4()` error. This can occur when:\n",
    "        - You open an empty file\n",
    "        - The JSON or YAML don't have a game called **Konnec 4**\n",
    "        - The moves list is empty\n",
    "        - etc...\n",
    "- Now that we have found the game and have the `moves_list` from the file, we can start reading it and playing the game:\n",
    "    - If a move is formatted `\"A\" + str(column)`, i.e. `\"A4\"`, or `\"A6\"`, you should add a piece to the board at that column number.\n",
    "    - If a move is formatted `\"P\"`, this means that you should `print(str(Board))` and increase your print counter. The autograder can't see print statements, which is why you are using a `counter` variable!\n",
    "    - If a move is formatted `\"R\"`, this means that you should reset the board back to its initial state.\n",
    "    - If any move doesn't match this format, then you should raise a custom error called `BadMoveSon()`!\n",
    "    - After every move, test to see if there is a winner. If there is, then you should increase their win count by 1! This value doesn't reset to 0, even if the board resets.\n",
    "        - Note: The person may not reset the board. That is their fault, not yours. You just keep increasing that winner count! So yes, a person can win back to back.\n",
    "    \n",
    "Perform all the moves, and return what was asked. Remember, break it into pieces, or you will drive yourself mad! Once you get the list of moves, it is all the same code!"
   ]
  },
  {
   "cell_type": "code",
   "execution_count": null,
   "metadata": {
    "deletable": false,
    "nbgrader": {
     "cell_type": "code",
     "checksum": "93ea4511f855d17bbf7369517068aee8",
     "grade": false,
     "grade_id": "cell-1446365a18706e62",
     "locked": false,
     "schema_version": 3,
     "solution": true,
     "task": false
    }
   },
   "outputs": [],
   "source": []
  },
  {
   "cell_type": "code",
   "execution_count": null,
   "metadata": {
    "deletable": false,
    "editable": false,
    "nbgrader": {
     "cell_type": "code",
     "checksum": "8eb4311640c40fbe60eb272ce917d951",
     "grade": false,
     "grade_id": "cell-f6b469d24e9ff924",
     "locked": true,
     "schema_version": 3,
     "solution": false,
     "task": false
    }
   },
   "outputs": [],
   "source": [
    "print(\"Question #4c - Test Case #1:\", \n",
    "  tester(\n",
    "      str(playKonnec4File(\"moves_list.txt\")[0].board[5][0]), '$'\n",
    "  ) and \\\n",
    "  tester(\n",
    "      str(playKonnec4File(\"moves_list.txt\")[0].board[5][3]), '€'\n",
    "  )\n",
    ")\n",
    "print(\"Question #4c - Test Case #2:\", \n",
    "    tester(playKonnec4File(\"moves_list.txt\")[1], 6)\n",
    ")\n",
    "print(\"Question #4c - Test Case #3:\", \n",
    "    tester(playKonnec4File(\"moves_list.txt\")[2], (0, 1)) # Euros won a game\n",
    ")"
   ]
  },
  {
   "cell_type": "code",
   "execution_count": null,
   "metadata": {
    "deletable": false,
    "editable": false,
    "nbgrader": {
     "cell_type": "code",
     "checksum": "19a10af7f423ea000dd393bfed47c8dd",
     "grade": true,
     "grade_id": "cell-caa383d27c7f1a6f",
     "locked": true,
     "points": 1,
     "schema_version": 3,
     "solution": false,
     "task": false
    }
   },
   "outputs": [],
   "source": []
  },
  {
   "cell_type": "code",
   "execution_count": null,
   "metadata": {
    "deletable": false,
    "editable": false,
    "nbgrader": {
     "cell_type": "code",
     "checksum": "35ef2debdacf6676f0464c7b974715e1",
     "grade": true,
     "grade_id": "cell-f57dd4b27dc796a8",
     "locked": true,
     "points": 1,
     "schema_version": 3,
     "solution": false,
     "task": false
    }
   },
   "outputs": [],
   "source": []
  },
  {
   "cell_type": "code",
   "execution_count": null,
   "metadata": {
    "deletable": false,
    "editable": false,
    "nbgrader": {
     "cell_type": "code",
     "checksum": "50b8fee3a1859174ce539d74b462b2f8",
     "grade": true,
     "grade_id": "cell-5eedaee7a1765ac2",
     "locked": true,
     "points": 0.5,
     "schema_version": 3,
     "solution": false,
     "task": false
    }
   },
   "outputs": [],
   "source": []
  },
  {
   "cell_type": "code",
   "execution_count": null,
   "metadata": {
    "deletable": false,
    "editable": false,
    "nbgrader": {
     "cell_type": "code",
     "checksum": "9e83f487f9bc05603e36f125d5612fa2",
     "grade": true,
     "grade_id": "cell-bd6eb508fbc4d210",
     "locked": true,
     "points": 0.5,
     "schema_version": 3,
     "solution": false,
     "task": false
    }
   },
   "outputs": [],
   "source": []
  },
  {
   "cell_type": "code",
   "execution_count": null,
   "metadata": {
    "deletable": false,
    "editable": false,
    "nbgrader": {
     "cell_type": "code",
     "checksum": "82b2f704ecb95d41a1a5c111cda8a97f",
     "grade": true,
     "grade_id": "cell-3af28a89af03fb8f",
     "locked": true,
     "points": 0.5,
     "schema_version": 3,
     "solution": false,
     "task": false
    }
   },
   "outputs": [],
   "source": []
  },
  {
   "cell_type": "code",
   "execution_count": null,
   "metadata": {
    "deletable": false,
    "editable": false,
    "nbgrader": {
     "cell_type": "code",
     "checksum": "74cd0f57be0b4efd0ea4045b5fae1879",
     "grade": true,
     "grade_id": "cell-99eddd8884aa8d72",
     "locked": true,
     "points": 0.5,
     "schema_version": 3,
     "solution": false,
     "task": false
    }
   },
   "outputs": [],
   "source": []
  },
  {
   "cell_type": "code",
   "execution_count": null,
   "metadata": {
    "deletable": false,
    "editable": false,
    "nbgrader": {
     "cell_type": "code",
     "checksum": "d315400521aadf57774c7ffe5224d978",
     "grade": true,
     "grade_id": "cell-b265d04c745ca0c6",
     "locked": true,
     "points": 1,
     "schema_version": 3,
     "solution": false,
     "task": false
    }
   },
   "outputs": [],
   "source": []
  },
  {
   "cell_type": "code",
   "execution_count": null,
   "metadata": {
    "deletable": false,
    "editable": false,
    "nbgrader": {
     "cell_type": "code",
     "checksum": "7143ed534898ba6604ed65e57d863bb7",
     "grade": true,
     "grade_id": "cell-fd88c7856af1f1fb",
     "locked": true,
     "points": 1,
     "schema_version": 3,
     "solution": false,
     "task": false
    }
   },
   "outputs": [],
   "source": []
  },
  {
   "cell_type": "code",
   "execution_count": null,
   "metadata": {
    "deletable": false,
    "editable": false,
    "nbgrader": {
     "cell_type": "code",
     "checksum": "482331657b0b2fafec93eaf4ed6d3694",
     "grade": true,
     "grade_id": "cell-5ff313706cbcf053",
     "locked": true,
     "points": 1,
     "schema_version": 3,
     "solution": false,
     "task": false
    }
   },
   "outputs": [],
   "source": []
  },
  {
   "cell_type": "code",
   "execution_count": null,
   "metadata": {
    "deletable": false,
    "editable": false,
    "nbgrader": {
     "cell_type": "code",
     "checksum": "bc7cdeaf5c883c31770f8bf6866be81a",
     "grade": true,
     "grade_id": "cell-341ba395e4ca5f7a",
     "locked": true,
     "points": 1,
     "schema_version": 3,
     "solution": false,
     "task": false
    }
   },
   "outputs": [],
   "source": []
  },
  {
   "cell_type": "markdown",
   "metadata": {
    "deletable": false,
    "editable": false,
    "nbgrader": {
     "cell_type": "markdown",
     "checksum": "050c0d2b409572f3728d87c705fe4196",
     "grade": false,
     "grade_id": "cell-6a23e2dd28f7c9f0",
     "locked": true,
     "schema_version": 3,
     "solution": false,
     "task": false
    }
   },
   "source": [
    "## Bonus - What's that? Efficiency! AHHH! [6 points]\n",
    "\n",
    "Okay everyone, I think it is time... Memoization. That's right, we aren't done with Recursion yet! I am going to give you a formula I just created below, and you are going to code it. It's nice and simple, but the real challenge comes from coding a solution that is fast!\n",
    "\n",
    "$$\n",
    "\\begin{equation}\n",
    "\\texttt{f(n)} = \\begin{cases}\n",
    "    1, &\\text{if }n = 0 \\\\\n",
    "    2, &\\text{if }n = 1 \\\\\n",
    "    4, &\\text{if }n = 3 \\\\\n",
    "    \\dfrac{f(n-1)}{f(n-2)}, &\\text{if }n\\ \\%\\ 2 = 0 \\\\\n",
    "    f(n-1) + \\dfrac{f(n-2)}{f(n-4)}, &\\text{otherwise}\n",
    "\\end{cases}\n",
    "\\end{equation}\n",
    "$$\n",
    "\n",
    "You must code a function `f` that takes in an argument `n` and returns the correct value. You can add default parameters to the function definition, but you can't add something that would break the test cases.\n",
    "\n",
    "Your timer is 5 seconds per test case. It is tight, but doable. You can use whatever you need to make this faster, but recall, we do also test if it is **recursive**. If you make a **global** value, you may not recurse and **may lose marks**."
   ]
  },
  {
   "cell_type": "code",
   "execution_count": null,
   "metadata": {
    "deletable": false,
    "nbgrader": {
     "cell_type": "code",
     "checksum": "051e0ec0136eade3108f23b88a07e1d3",
     "grade": false,
     "grade_id": "cell-fba9992627980e83",
     "locked": false,
     "schema_version": 3,
     "solution": true,
     "task": false
    }
   },
   "outputs": [],
   "source": []
  },
  {
   "cell_type": "code",
   "execution_count": null,
   "metadata": {
    "deletable": false,
    "editable": false,
    "nbgrader": {
     "cell_type": "code",
     "checksum": "d927b6922576a3374ae6cb09b94b7caa",
     "grade": false,
     "grade_id": "cell-6b4e2965ff622cec",
     "locked": true,
     "schema_version": 3,
     "solution": false,
     "task": false
    }
   },
   "outputs": [],
   "source": [
    "# If you pass these in 2 seconds each, you are golden. Timing is tight on this question.\n",
    "from math import isclose\n",
    "from timeit import timeit\n",
    "print(\"Bonus - Test Case #1:\", tester(f(0), 1), \n",
    "      \"Averaging\", timeit(lambda: f(0)))\n",
    "print(\"Bonus - Test Case #2:\", tester(f(1), 2),\n",
    "      \"Averaging\", timeit(lambda: f(1)))\n",
    "print(\"Bonus - Test Case #3:\", tester(f(2), 2),\n",
    "      \"Averaging\", timeit(lambda: f(2)))\n",
    "print(\"Bonus - Test Case #4:\", tester(f(3), 4),\n",
    "      \"Averaging\", timeit(lambda: f(3)))\n",
    "print(\"Bonus - Test Case #5:\", tester(isclose(f(500), 1.618033988749895), True), \n",
    "      \"Averaging\", timeit(lambda: f(500)))"
   ]
  },
  {
   "cell_type": "code",
   "execution_count": null,
   "metadata": {
    "deletable": false,
    "editable": false,
    "nbgrader": {
     "cell_type": "code",
     "checksum": "b726b4f4d4e2fde690566eb1c82fa255",
     "grade": true,
     "grade_id": "cell-75e0269f94b76f5a",
     "locked": true,
     "points": 1,
     "schema_version": 3,
     "solution": false,
     "task": false
    }
   },
   "outputs": [],
   "source": []
  },
  {
   "cell_type": "code",
   "execution_count": null,
   "metadata": {
    "deletable": false,
    "editable": false,
    "nbgrader": {
     "cell_type": "code",
     "checksum": "e623c2aca66281acabb9ccd461c4e1ba",
     "grade": true,
     "grade_id": "cell-cf640bab497fca6b",
     "locked": true,
     "points": 1,
     "schema_version": 3,
     "solution": false,
     "task": false
    }
   },
   "outputs": [],
   "source": []
  },
  {
   "cell_type": "code",
   "execution_count": null,
   "metadata": {
    "deletable": false,
    "editable": false,
    "nbgrader": {
     "cell_type": "code",
     "checksum": "6413f1ce8a387675fa8769a3030e72aa",
     "grade": true,
     "grade_id": "cell-5a815d5f748d42ee",
     "locked": true,
     "points": 1,
     "schema_version": 3,
     "solution": false,
     "task": false
    }
   },
   "outputs": [],
   "source": []
  },
  {
   "cell_type": "code",
   "execution_count": null,
   "metadata": {
    "deletable": false,
    "editable": false,
    "nbgrader": {
     "cell_type": "code",
     "checksum": "038221b93d38275fdfdac2e4c78c6efc",
     "grade": true,
     "grade_id": "cell-c0cace60170e1d31",
     "locked": true,
     "points": 1,
     "schema_version": 3,
     "solution": false,
     "task": false
    }
   },
   "outputs": [],
   "source": []
  },
  {
   "cell_type": "code",
   "execution_count": null,
   "metadata": {
    "deletable": false,
    "editable": false,
    "nbgrader": {
     "cell_type": "code",
     "checksum": "a2a70646dcbf519334f07909b0153264",
     "grade": true,
     "grade_id": "cell-8619de2ef45833b0",
     "locked": true,
     "points": 2,
     "schema_version": 3,
     "solution": false,
     "task": false
    }
   },
   "outputs": [],
   "source": []
  }
 ],
 "metadata": {
  "kernelspec": {
   "display_name": "Python 3",
   "language": "python",
   "name": "python3"
  },
  "language_info": {
   "codemirror_mode": {
    "name": "ipython",
    "version": 3
   },
   "file_extension": ".py",
   "mimetype": "text/x-python",
   "name": "python",
   "nbconvert_exporter": "python",
   "pygments_lexer": "ipython3",
   "version": "3.8.5"
  },
  "widgets": {
   "application/vnd.jupyter.widget-state+json": {
    "state": {},
    "version_major": 2,
    "version_minor": 0
   }
  }
 },
 "nbformat": 4,
 "nbformat_minor": 4
}
