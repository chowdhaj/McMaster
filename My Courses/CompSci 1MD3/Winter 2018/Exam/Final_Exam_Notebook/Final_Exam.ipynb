{
 "cells": [
  {
   "cell_type": "markdown",
   "metadata": {
    "deletable": false,
    "editable": false,
    "nbgrader": {
     "checksum": "5cc1e01d7062ee78f5f5ce87bb54ee70",
     "grade": false,
     "grade_id": "cell-8270991a73638fc0",
     "locked": true,
     "schema_version": 1,
     "solution": false
    }
   },
   "source": [
    "## COMP SCI 1MD3 Introduction to Programming, Winter 2018\n",
    "### Douglas Stebila (Instructor), Joey Legere, Karl Knopf, Natalie Chin, Victor Chen (TAs)\n",
    "### Final Exam Saturday, April 21, 9:00 - 11:00 AM\n",
    "### Maximum grade: 63 / 60\n",
    "\n",
    "You must use our JupyterHub server to complete the test. Once you have completed the test, click the “Submit” button in JupyterHub.  During the test, the only program you may use is your web browser, and the only web pages you may visit are the JupyterHub site and the Python documentation on doc.python.org and matplotlib.org.  You may not use Google, StackOverflow, IDLE, your own local Jupyter, or any other website or program.  University Technology Services will be logging network access for students in this class during the test period.  Please close all other programs on your computer and all other browser tabs and windows.  During the test, please raise your hand if you need assistance, would like scrap paper, or need to go to the washroom.  The test will be over at 11:00.  If you are finished early, you may submit your notebook on JupyterHub and then quietly leave.  However, we will ask you to remain in your seat during the last 10 minutes to avoid disturbing other students.\n",
    "\n",
    "### Allowed documentation:\n",
    "\n",
    "- <a href=\"https://doc.python.org/\" target=\"_blank\">doc.python.org</a>\n",
    "- <a href=\"https://matplotlib.org\" target=\"_blank\">matplotlib.org</a>\n",
    "\n",
    "<img src=\"https://www.douglas.stebila.ca/1x1.release.gif\" alt=\"\" referrerpolicy=\"unsafe-url\" />"
   ]
  },
  {
   "cell_type": "markdown",
   "metadata": {
    "deletable": false,
    "editable": false,
    "nbgrader": {
     "checksum": "bcc6112df78bd54f7622b455b2d7a2f8",
     "grade": false,
     "grade_id": "cell-99d2c6e35ff235a4",
     "locked": true,
     "schema_version": 1,
     "solution": false
    }
   },
   "source": [
    "## Part I: Short Answer / Multiple Choice (20 points total)\n",
    "\n",
    "#### Question 1a: Programming Languages [1 point]\n",
    "\n",
    "Is Python a high or low level programming language?\n",
    "\n",
    "a) High level<br>\n",
    "b) Low level"
   ]
  },
  {
   "cell_type": "code",
   "execution_count": null,
   "metadata": {
    "deletable": false,
    "nbgrader": {
     "checksum": "3395a495bc1d5345b67f362715235385",
     "grade": false,
     "grade_id": "cell-10265f80587938e8",
     "locked": false,
     "schema_version": 1,
     "solution": true
    }
   },
   "outputs": [],
   "source": [
    "def q1a():\n",
    "    \n",
    "    # Uncomment your answer below.\n",
    "    \n",
    "    #ans = \"a\" # High level\n",
    "    #ans = \"b\" # Low level\n",
    "    \n",
    "    return ans"
   ]
  },
  {
   "cell_type": "code",
   "execution_count": null,
   "metadata": {
    "deletable": false,
    "editable": false,
    "nbgrader": {
     "checksum": "e935a200f160574d4fc67dd311bc2584",
     "grade": false,
     "grade_id": "cell-f1a604892fb99cca",
     "locked": true,
     "schema_version": 1,
     "solution": false
    }
   },
   "outputs": [],
   "source": [
    "# Run this cell to ensure your answer is recorded properly\n",
    "print(\"Your answer for 1a is recorded as:\", q1a())"
   ]
  },
  {
   "cell_type": "code",
   "execution_count": null,
   "metadata": {
    "deletable": false,
    "editable": false,
    "nbgrader": {
     "checksum": "5b532a3750ec2387044b89b8ab444955",
     "grade": true,
     "grade_id": "cell-05836ee8bf72f77e",
     "locked": true,
     "points": 1,
     "schema_version": 1,
     "solution": false
    }
   },
   "outputs": [],
   "source": [
    "# Hidden test cell for 1a"
   ]
  },
  {
   "cell_type": "markdown",
   "metadata": {
    "deletable": false,
    "editable": false,
    "nbgrader": {
     "checksum": "b4ac8790d5d5fb687b937ac6e06370f8",
     "grade": false,
     "grade_id": "cell-078f61fed88125b5",
     "locked": true,
     "schema_version": 1,
     "solution": false
    }
   },
   "source": [
    "#### Question 1b: Programming Languages [1 point]\n",
    "\n",
    "Is SQL a general purpose programming language, or application specific?\n",
    "\n",
    "a) General purpose<br>\n",
    "b) Application specific"
   ]
  },
  {
   "cell_type": "code",
   "execution_count": null,
   "metadata": {
    "deletable": false,
    "nbgrader": {
     "checksum": "71dcf91e1724c1e06ed02bd535d382ed",
     "grade": false,
     "grade_id": "cell-210cdcfc6e598392",
     "locked": false,
     "schema_version": 1,
     "solution": true
    }
   },
   "outputs": [],
   "source": [
    "def q1b():\n",
    "    \n",
    "    # Uncomment your answer below.\n",
    "    \n",
    "    #ans = \"a\" # General purpose\n",
    "    #ans = \"b\" # Application specific\n",
    "    \n",
    "    return ans"
   ]
  },
  {
   "cell_type": "code",
   "execution_count": null,
   "metadata": {
    "deletable": false,
    "editable": false,
    "nbgrader": {
     "checksum": "2b1d169d382abc56149816ad689b8ec1",
     "grade": false,
     "grade_id": "cell-f877e022f308e031",
     "locked": true,
     "schema_version": 1,
     "solution": false
    }
   },
   "outputs": [],
   "source": [
    "# Run this cell to ensure your answer is recorded properly\n",
    "print(\"Your answer for 1b is recorded as:\", q1b())"
   ]
  },
  {
   "cell_type": "code",
   "execution_count": null,
   "metadata": {
    "deletable": false,
    "editable": false,
    "nbgrader": {
     "checksum": "45bab2d9746320f07fc4e99d55fa41d8",
     "grade": true,
     "grade_id": "cell-4cb5dff54e03683f",
     "locked": true,
     "points": 1,
     "schema_version": 1,
     "solution": false
    }
   },
   "outputs": [],
   "source": [
    "# Hidden test cell for 1b"
   ]
  },
  {
   "cell_type": "markdown",
   "metadata": {
    "deletable": false,
    "editable": false,
    "nbgrader": {
     "checksum": "13b73dd761b26f5723d997d22b767e28",
     "grade": false,
     "grade_id": "cell-303c976ceb850d73",
     "locked": true,
     "schema_version": 1,
     "solution": false
    }
   },
   "source": [
    "#### Question 2: Translating to Code [1 point]\n",
    "\n",
    "Write a small segment of Python code that represents the following scenario:\n",
    "\n",
    "If `a` and `b` are equal to each other, then set `d` to be 1.  Otherwise, set `d` to be the output of function `f` called on `a` and `b`."
   ]
  },
  {
   "cell_type": "code",
   "execution_count": 1,
   "metadata": {
    "deletable": false,
    "nbgrader": {
     "checksum": "ac4b3052383eb2f2d611ff04aed6ed34",
     "grade": true,
     "grade_id": "cell-b0df694858287d08",
     "locked": false,
     "points": 1,
     "schema_version": 1,
     "solution": true
    }
   },
   "outputs": [],
   "source": [
    "# YOUR CODE HERE"
   ]
  },
  {
   "cell_type": "markdown",
   "metadata": {
    "deletable": false,
    "editable": false,
    "nbgrader": {
     "checksum": "8f6e191812693e141c05773da96b7333",
     "grade": false,
     "grade_id": "cell-d21287a80a65a6e0",
     "locked": true,
     "schema_version": 1,
     "solution": false
    }
   },
   "source": [
    "#### Question 3a: On Dictionaries [1 point]\n",
    "\n",
    "What are the keys in the following dictionary?\n",
    "\n",
    "```\n",
    "d = {'Alice': 33, 'Bob':272, 33:'Eve'}\n",
    "```"
   ]
  },
  {
   "cell_type": "code",
   "execution_count": 2,
   "metadata": {
    "deletable": false,
    "nbgrader": {
     "checksum": "cc3e5c4e56f2e75afcc9bf7d5830d228",
     "grade": true,
     "grade_id": "cell-228872e6cf88fbaa",
     "locked": false,
     "points": 1,
     "schema_version": 1,
     "solution": true
    }
   },
   "outputs": [],
   "source": [
    "# YOUR ANSWER HERE"
   ]
  },
  {
   "cell_type": "markdown",
   "metadata": {
    "deletable": false,
    "editable": false,
    "nbgrader": {
     "checksum": "9fd076c3bbcc30b63e7a0eac9c1c0e87",
     "grade": false,
     "grade_id": "cell-176665e99604fb51",
     "locked": true,
     "schema_version": 1,
     "solution": false
    }
   },
   "source": [
    "#### Question 3b [1 point]\n",
    "\n",
    "State two ways in which dictionaries are different than tuples."
   ]
  },
  {
   "cell_type": "code",
   "execution_count": null,
   "metadata": {
    "deletable": false,
    "nbgrader": {
     "checksum": "450833bea96a00ceb0317ce1c210df9a",
     "grade": true,
     "grade_id": "cell-156cc29f22c30ed7",
     "locked": false,
     "points": 1,
     "schema_version": 1,
     "solution": true
    }
   },
   "outputs": [],
   "source": [
    "# YOUR ANSWER HERE"
   ]
  },
  {
   "cell_type": "markdown",
   "metadata": {
    "deletable": false,
    "editable": false,
    "nbgrader": {
     "checksum": "9363123b9cb16976a8ee57c69225095b",
     "grade": false,
     "grade_id": "cell-3a07d2b456eb95e1",
     "locked": true,
     "schema_version": 1,
     "solution": false
    }
   },
   "source": [
    "#### Question 4a: Scoping Variables [1 point]\n",
    "\n",
    "Why does the following code produce an error?\n",
    "\n",
    "```python\n",
    "def fun():\n",
    "    x = 3\n",
    "    \n",
    "print(x)\n",
    "```"
   ]
  },
  {
   "cell_type": "code",
   "execution_count": null,
   "metadata": {
    "deletable": false,
    "nbgrader": {
     "checksum": "b5df75298ce4ceef7c86a2954ee57ab2",
     "grade": true,
     "grade_id": "cell-ef14e2ed3bf936b8",
     "locked": false,
     "points": 1,
     "schema_version": 1,
     "solution": true
    }
   },
   "outputs": [],
   "source": [
    "# YOUR ANSWER HERE"
   ]
  },
  {
   "cell_type": "markdown",
   "metadata": {
    "deletable": false,
    "editable": false,
    "nbgrader": {
     "checksum": "425acf8f28f7a9548d6b79fb573a3bca",
     "grade": false,
     "grade_id": "cell-4bfb3e0de68d2b03",
     "locked": true,
     "schema_version": 1,
     "solution": false
    }
   },
   "source": [
    "#### Question 4b [1 point]\n",
    "\n",
    "Explain why `l` is modified in the cell below, but `x` is not."
   ]
  },
  {
   "cell_type": "code",
   "execution_count": null,
   "metadata": {
    "deletable": false,
    "editable": false,
    "nbgrader": {
     "checksum": "bdaee9cb894fc6fa24541f8420afdbd6",
     "grade": false,
     "grade_id": "cell-acbfa2efb4f0e21a",
     "locked": true,
     "schema_version": 1,
     "solution": false
    }
   },
   "outputs": [],
   "source": [
    "def fun(a, b):\n",
    "    \n",
    "    a = a + 2\n",
    "    b.append(2)\n",
    "    \n",
    "x = 1\n",
    "l = [1]\n",
    "\n",
    "fun(x, l)\n",
    "\n",
    "print(\"x: \", x)\n",
    "print(\"l: \", l)"
   ]
  },
  {
   "cell_type": "code",
   "execution_count": null,
   "metadata": {
    "deletable": false,
    "nbgrader": {
     "checksum": "1fd92dfeae97cdc49f81e9485c6c3a19",
     "grade": true,
     "grade_id": "cell-7adf0c86457f4511",
     "locked": false,
     "points": 1,
     "schema_version": 1,
     "solution": true
    }
   },
   "outputs": [],
   "source": [
    "# YOUR ANSWER HERE"
   ]
  },
  {
   "cell_type": "markdown",
   "metadata": {
    "deletable": false,
    "editable": false,
    "nbgrader": {
     "checksum": "3e1a9350222958109052a30e0d0dabb2",
     "grade": false,
     "grade_id": "cell-44a7da8d66c08ab8",
     "locked": true,
     "schema_version": 1,
     "solution": false
    }
   },
   "source": [
    "#### Question 5: Recursion [2 points]\n",
    "\n",
    "What is wrong with the code below?\n",
    "\n",
    "```python\n",
    "def factorial(x):    \n",
    "    return x * factorial(x-1)\n",
    "```"
   ]
  },
  {
   "cell_type": "code",
   "execution_count": null,
   "metadata": {
    "deletable": false,
    "nbgrader": {
     "checksum": "061557acb8d3f7db959969af9350fb64",
     "grade": true,
     "grade_id": "cell-cd90eae35061a551",
     "locked": false,
     "points": 2,
     "schema_version": 1,
     "solution": true
    }
   },
   "outputs": [],
   "source": [
    "# YOUR ANSWER HERE"
   ]
  },
  {
   "cell_type": "markdown",
   "metadata": {
    "deletable": false,
    "editable": false,
    "nbgrader": {
     "checksum": "607e171f2b4dc0148c11c31b07ed2839",
     "grade": false,
     "grade_id": "cell-f1a0eba8de184f05",
     "locked": true,
     "schema_version": 1,
     "solution": false
    }
   },
   "source": [
    "#### Question 6: Runtime of Algorithms [1 point]\n",
    "\n",
    "How many steps does the following section of code take to execute? (Assume that `x` is a list that contains `n` items)\n",
    "\n",
    "```python\n",
    "a = 0\n",
    "for i in x:\n",
    "    for j in x:\n",
    "        for k in range(2):\n",
    "            a = a + i*j*k    # How many times does this line execute?\n",
    "            \n",
    "```     \n",
    "a) $2n$<br>\n",
    "b) $n^2$<br>\n",
    "c) $n/2$<br>\n",
    "d) $2n^2$<br>\n",
    "e) $\\frac{n^2}{2}$\n"
   ]
  },
  {
   "cell_type": "code",
   "execution_count": null,
   "metadata": {
    "deletable": false,
    "nbgrader": {
     "checksum": "5edd3a15397931d8dfec323c15ea29de",
     "grade": false,
     "grade_id": "cell-e8770b66e662e1fa",
     "locked": false,
     "schema_version": 1,
     "solution": true
    }
   },
   "outputs": [],
   "source": [
    "def q6():\n",
    "    \n",
    "    # Uncomment your answer below\n",
    "    \n",
    "    #ans = \"a\" # 2n\n",
    "    #ans = \"b\" # n**2\n",
    "    #ans = \"c\" # n/2\n",
    "    #ans = \"d\" # 2*n^2\n",
    "    #ans = \"e\" # (n**2) / 2\n",
    "\n",
    "    \n",
    "    return ans"
   ]
  },
  {
   "cell_type": "code",
   "execution_count": null,
   "metadata": {
    "deletable": false,
    "editable": false,
    "nbgrader": {
     "checksum": "9ab73a92844136eec25e188caf46c5f1",
     "grade": false,
     "grade_id": "cell-a4ed9de695a959a3",
     "locked": true,
     "schema_version": 1,
     "solution": false
    }
   },
   "outputs": [],
   "source": [
    "# Run this cell to ensure your answer is recorded properly\n",
    "print(\"Your answer for 6 is recorded as: \", q6())"
   ]
  },
  {
   "cell_type": "code",
   "execution_count": null,
   "metadata": {
    "deletable": false,
    "editable": false,
    "nbgrader": {
     "checksum": "43e056ec7ad158314472057a8c49f4b8",
     "grade": true,
     "grade_id": "cell-a1db9b883ae7e207",
     "locked": true,
     "points": 1,
     "schema_version": 1,
     "solution": false
    }
   },
   "outputs": [],
   "source": [
    "# Hidden test cell for 6"
   ]
  },
  {
   "cell_type": "markdown",
   "metadata": {
    "deletable": false,
    "editable": false,
    "nbgrader": {
     "checksum": "4a80dbf73e2b15c453b29cf6b41cd3fd",
     "grade": false,
     "grade_id": "cell-042141a3c3b7fe06",
     "locked": true,
     "schema_version": 1,
     "solution": false
    }
   },
   "source": [
    "#### Question 7a: Testing [1 point]\n",
    "\n",
    "`_____` is the process of testing each individual function of a program to ensure it works as expected.\n",
    "\n",
    "a) Black-box testing<br>\n",
    "b) Edge case testing<br>\n",
    "c) Integration testing<br>\n",
    "d) Unit testing<br>\n",
    "e) White-box testing<br>"
   ]
  },
  {
   "cell_type": "code",
   "execution_count": null,
   "metadata": {
    "deletable": false,
    "nbgrader": {
     "checksum": "c26fcd054827a919c4eff18c6511190b",
     "grade": false,
     "grade_id": "cell-175172319efee248",
     "locked": false,
     "schema_version": 1,
     "solution": true
    }
   },
   "outputs": [],
   "source": [
    "def q7a():\n",
    "    \n",
    "    # Uncomment your answer below\n",
    "    \n",
    "    #ans = \"a\" # Black-box testing\n",
    "    #ans = \"b\" # Edge-case testing\n",
    "    #ans = \"c\" # Integration testing\n",
    "    #ans = \"d\" # Unit testing\n",
    "    #ans = \"e\" # White-box testing\n",
    "\n",
    "    return ans"
   ]
  },
  {
   "cell_type": "code",
   "execution_count": null,
   "metadata": {
    "deletable": false,
    "editable": false,
    "nbgrader": {
     "checksum": "6a9b976c8a182f13187e374566270ad6",
     "grade": false,
     "grade_id": "cell-668087d9176be876",
     "locked": true,
     "schema_version": 1,
     "solution": false
    }
   },
   "outputs": [],
   "source": [
    "# Run this cell to ensure your answer is recorded properly\n",
    "print(\"Your answer for 7a is recorded as: \", q7a())"
   ]
  },
  {
   "cell_type": "code",
   "execution_count": null,
   "metadata": {
    "deletable": false,
    "editable": false,
    "nbgrader": {
     "checksum": "02949c1289ba2143e01dd5ff2b360eb8",
     "grade": true,
     "grade_id": "cell-26c7d0c8d1823399",
     "locked": true,
     "points": 1,
     "schema_version": 1,
     "solution": false
    }
   },
   "outputs": [],
   "source": [
    "# Hidden test cell for 7a"
   ]
  },
  {
   "cell_type": "markdown",
   "metadata": {
    "deletable": false,
    "editable": false,
    "nbgrader": {
     "checksum": "10e8d9092d10bf508497584e65bf717f",
     "grade": false,
     "grade_id": "cell-bba1a567ab6b1960",
     "locked": true,
     "schema_version": 1,
     "solution": false
    }
   },
   "source": [
    "#### Question 7b: Testing II [1 point]\n",
    "\n",
    "`_____` is the process of testing the program as a whole to see if it works as expected.\n",
    "\n",
    "a) Black-box testing<br>\n",
    "b) Edge case testing<br>\n",
    "c) Integration testing<br>\n",
    "d) Unit testing<br>\n",
    "e) White-box testing<br>"
   ]
  },
  {
   "cell_type": "code",
   "execution_count": null,
   "metadata": {
    "deletable": false,
    "nbgrader": {
     "checksum": "d5aed3b832b7cdf8455c66169898d2ee",
     "grade": false,
     "grade_id": "cell-c318c92b49874a31",
     "locked": false,
     "schema_version": 1,
     "solution": true
    }
   },
   "outputs": [],
   "source": [
    "def q7b():\n",
    "    \n",
    "    # Uncomment your answer below\n",
    "    \n",
    "    #ans = \"a\" # Black-box testing\n",
    "    #ans = \"b\" # Edge-case testing\n",
    "    #ans = \"c\" # Integration testing\n",
    "    #ans = \"d\" # Unit testing\n",
    "    #ans = \"e\" # White-box testing\n",
    "    \n",
    "    return ans"
   ]
  },
  {
   "cell_type": "code",
   "execution_count": null,
   "metadata": {
    "deletable": false,
    "editable": false,
    "nbgrader": {
     "checksum": "d68a34a4e38ac42ed7cacf8602d903d0",
     "grade": false,
     "grade_id": "cell-5fcc81a6c1bb16cf",
     "locked": true,
     "schema_version": 1,
     "solution": false
    }
   },
   "outputs": [],
   "source": [
    "# Run this cell to ensure your answer is recorded properly\n",
    "print(\"Your answer for 7b is recorded as: \", q7b())"
   ]
  },
  {
   "cell_type": "code",
   "execution_count": null,
   "metadata": {
    "deletable": false,
    "editable": false,
    "nbgrader": {
     "checksum": "dce2af5ab7c8ecf96241e11f5768d89b",
     "grade": true,
     "grade_id": "cell-4accc521f5ac0a13",
     "locked": true,
     "points": 1,
     "schema_version": 1,
     "solution": false
    }
   },
   "outputs": [],
   "source": [
    "# Hidden test cell for 7b"
   ]
  },
  {
   "cell_type": "markdown",
   "metadata": {
    "deletable": false,
    "editable": false,
    "nbgrader": {
     "checksum": "651a9beb74c168ce3a73f76edcb43017",
     "grade": false,
     "grade_id": "cell-2f5bf6c9eafc2ddb",
     "locked": true,
     "schema_version": 1,
     "solution": false
    }
   },
   "source": [
    "#### Question 8: Exceptions [1 point]\n",
    "\n",
    "Which of the following programming concepts is most related to **exceptions**:\n",
    "\n",
    "a) Recursion<br>\n",
    "b) Control flow<br>\n",
    "c) Function<br>\n",
    "d) Annotation<br>\n",
    "e) Iteration<br>"
   ]
  },
  {
   "cell_type": "code",
   "execution_count": null,
   "metadata": {
    "deletable": false,
    "nbgrader": {
     "checksum": "57a8e56b03c2713753f0104196ac81ad",
     "grade": false,
     "grade_id": "cell-2fae02562fe49dc5",
     "locked": false,
     "schema_version": 1,
     "solution": true
    }
   },
   "outputs": [],
   "source": [
    "def q8():\n",
    "    \n",
    "    # Uncomment your answer below\n",
    "    \n",
    "    #ans = \"a\" # Recursion\n",
    "    #ans = \"b\" # Control flow\n",
    "    #ans = \"c\" # Function\n",
    "    #ans = \"d\" # Annotation\n",
    "    #ans = \"e\" # Iteration\n",
    "    \n",
    "    return ans"
   ]
  },
  {
   "cell_type": "code",
   "execution_count": null,
   "metadata": {
    "deletable": false,
    "editable": false,
    "nbgrader": {
     "checksum": "69d675e06b6ac1577b1e0a4c4376d8da",
     "grade": false,
     "grade_id": "cell-6420638e6cbb1ef2",
     "locked": true,
     "schema_version": 1,
     "solution": false
    }
   },
   "outputs": [],
   "source": [
    "# Run this cell to ensure your answer is recorded properly\n",
    "print(\"Your answer for 8 is recorded as: \", q8())"
   ]
  },
  {
   "cell_type": "code",
   "execution_count": null,
   "metadata": {
    "deletable": false,
    "editable": false,
    "nbgrader": {
     "checksum": "89680b2f20f1164d4771a342715eb903",
     "grade": true,
     "grade_id": "cell-ff300cd8a61212c9",
     "locked": true,
     "points": 1,
     "schema_version": 1,
     "solution": false
    }
   },
   "outputs": [],
   "source": [
    "# Hidden test cell for 8"
   ]
  },
  {
   "cell_type": "markdown",
   "metadata": {
    "deletable": false,
    "editable": false,
    "nbgrader": {
     "checksum": "a7b5b980ad2b214b21563786c22ada1f",
     "grade": false,
     "grade_id": "cell-8b43190b491ff5ed",
     "locked": true,
     "schema_version": 1,
     "solution": false
    }
   },
   "source": [
    "#### Question 9: Classes [1 point]\n",
    "\n",
    "What term best describes `horse` in the following code?\n",
    "\n",
    "```python\n",
    "class A:\n",
    "\n",
    "    def __init__(self):\n",
    "        self.d = {}\n",
    "        \n",
    "    def horse(self):\n",
    "        return True\n",
    "```\n",
    "\n",
    "a) Constructor<br>\n",
    "b) Function<br>\n",
    "c) Member<br>\n",
    "d) Method<br>\n",
    "e) Object"
   ]
  },
  {
   "cell_type": "code",
   "execution_count": null,
   "metadata": {
    "deletable": false,
    "nbgrader": {
     "checksum": "ee329de97206da19c76ce0d766bcdf0d",
     "grade": false,
     "grade_id": "cell-b6a347d1a781b860",
     "locked": false,
     "schema_version": 1,
     "solution": true
    }
   },
   "outputs": [],
   "source": [
    "def q9():\n",
    "    \n",
    "    # Uncomment your answer below\n",
    "    \n",
    "    #ans = \"a\" # Constructor\n",
    "    #ans = \"b\" # Function\n",
    "    #ans = \"c\" # Member\n",
    "    #ans = \"d\" # Method\n",
    "    #ans = \"e\" # Object\n",
    "    \n",
    "    return ans"
   ]
  },
  {
   "cell_type": "code",
   "execution_count": null,
   "metadata": {
    "deletable": false,
    "editable": false,
    "nbgrader": {
     "checksum": "0af8b8ba54be7c609a838dbfb757e99a",
     "grade": false,
     "grade_id": "cell-7a78a9bd78b555cc",
     "locked": true,
     "schema_version": 1,
     "solution": false
    }
   },
   "outputs": [],
   "source": [
    "# Run this cell to ensure your answer is recorded properly\n",
    "print(\"Your answer for 9 is recorded as: \", q9())"
   ]
  },
  {
   "cell_type": "code",
   "execution_count": null,
   "metadata": {
    "deletable": false,
    "editable": false,
    "nbgrader": {
     "checksum": "9c954e66cfb699f53540cb9e2a80e5c3",
     "grade": true,
     "grade_id": "cell-90271b8f66e14aa7",
     "locked": true,
     "points": 1,
     "schema_version": 1,
     "solution": false
    }
   },
   "outputs": [],
   "source": [
    "# Hidden test cell for 9"
   ]
  },
  {
   "cell_type": "markdown",
   "metadata": {
    "deletable": false,
    "editable": false,
    "nbgrader": {
     "checksum": "3dfbb53e148c1bb4602104cd827bb0f6",
     "grade": false,
     "grade_id": "cell-b5104729e3c118a5",
     "locked": true,
     "schema_version": 1,
     "solution": false
    }
   },
   "source": [
    "#### Question 10: Formatting Datetime Strings [2 points]\n",
    "\n",
    "Create a formatting string using the information below that will work for dates written as: `April 21, 2018`.\n",
    "\n",
    "```\n",
    "%a    Abbreviated weekday name.\n",
    "%A    Full weekday name.\n",
    "%w    Weekday as a decimal number.\n",
    "%b    Abbreviated month name.\n",
    "%B    Full month name.\n",
    "%y    Last two digits of the current year.\n",
    "%Y    Full year, including first two digits.\n",
    "%d    Day of the month as a decimal number.\n",
    "```\n"
   ]
  },
  {
   "cell_type": "code",
   "execution_count": null,
   "metadata": {
    "deletable": false,
    "nbgrader": {
     "checksum": "34a8b202082339575ae7521dae0d6e98",
     "grade": false,
     "grade_id": "cell-3b6897dfbce542ab",
     "locked": false,
     "schema_version": 1,
     "solution": true
    }
   },
   "outputs": [],
   "source": [
    "q10_answer = \"\" # Replace with your answer\n",
    "\n",
    "import datetime\n",
    "today = datetime.datetime(2018, 4, 21)\n",
    "print(today.strftime(q10_answer))"
   ]
  },
  {
   "cell_type": "code",
   "execution_count": null,
   "metadata": {
    "deletable": false,
    "editable": false,
    "nbgrader": {
     "checksum": "42d87f25f6a09fdd96e28af085f95f7b",
     "grade": true,
     "grade_id": "cell-eb123b6cd03e3793",
     "locked": true,
     "points": 2,
     "schema_version": 1,
     "solution": false
    }
   },
   "outputs": [],
   "source": [
    "# Hidden test cell for 10"
   ]
  },
  {
   "cell_type": "markdown",
   "metadata": {
    "deletable": false,
    "editable": false,
    "nbgrader": {
     "checksum": "e52609254ef45281463e785c2cc37c69",
     "grade": false,
     "grade_id": "cell-e9f94e2cd7d0797c",
     "locked": true,
     "schema_version": 1,
     "solution": false
    }
   },
   "source": [
    "#### Question 11a: SQL [1 point]\n",
    "\n",
    "In the following SQL command, which word best describes `movies`:\n",
    "\n",
    "```sql\n",
    "INSERT INTO movies (title, year) VALUES ('Solo', 2018)\n",
    "```\n",
    "\n",
    "a) Column<br> b) Database<br> c) Query<br> d) Row<br> e) Table"
   ]
  },
  {
   "cell_type": "code",
   "execution_count": null,
   "metadata": {
    "deletable": false,
    "nbgrader": {
     "checksum": "a759a21bcfc7cc4c9a4237f08d44fca9",
     "grade": false,
     "grade_id": "cell-c493dceb105e8723",
     "locked": false,
     "schema_version": 1,
     "solution": true
    }
   },
   "outputs": [],
   "source": [
    "def q11():\n",
    "    \n",
    "    # Uncomment your answer below\n",
    "    \n",
    "    #ans = \"a\" # Column\n",
    "    #ans = \"b\" # Database\n",
    "    #ans = \"c\" # Query\n",
    "    #ans = \"d\" # Row\n",
    "    #ans = \"e\" # Table\n",
    "    \n",
    "    return ans"
   ]
  },
  {
   "cell_type": "code",
   "execution_count": null,
   "metadata": {
    "deletable": false,
    "editable": false,
    "nbgrader": {
     "checksum": "b2438fcc1d6a598bca4aa39124525452",
     "grade": false,
     "grade_id": "cell-a6530ffaad10c918",
     "locked": true,
     "schema_version": 1,
     "solution": false
    }
   },
   "outputs": [],
   "source": [
    "# Run this cell to ensure your answer is recorded properly\n",
    "print(\"Your answer for 11 is recorded as: \", q11())"
   ]
  },
  {
   "cell_type": "code",
   "execution_count": null,
   "metadata": {
    "deletable": false,
    "editable": false,
    "nbgrader": {
     "checksum": "50891b449d1424abc7b05c9709e43856",
     "grade": true,
     "grade_id": "cell-603c12150f71a788",
     "locked": true,
     "points": 1,
     "schema_version": 1,
     "solution": false
    }
   },
   "outputs": [],
   "source": [
    "# Hidden test cell for 11a"
   ]
  },
  {
   "cell_type": "markdown",
   "metadata": {
    "deletable": false,
    "editable": false,
    "nbgrader": {
     "checksum": "2c5c50f0a12fa017d6b80ff71781b343",
     "grade": false,
     "grade_id": "cell-3301ec5f7391cd12",
     "locked": true,
     "schema_version": 1,
     "solution": false
    }
   },
   "source": [
    "#### Question 11b [1 point]\n",
    "\n",
    "Explain how we can link data in two tables together. For example, suppose we have one table with products (like product name, description, price) and another table with customers (like name, address), and want to keep track of which customer bought which product."
   ]
  },
  {
   "cell_type": "code",
   "execution_count": null,
   "metadata": {
    "deletable": false,
    "nbgrader": {
     "checksum": "439f01c530210c5379f983de7d2e02d4",
     "grade": true,
     "grade_id": "cell-392f8e7ed44920d2",
     "locked": false,
     "points": 1,
     "schema_version": 1,
     "solution": true
    }
   },
   "outputs": [],
   "source": [
    "# YOUR ANSWER HERE"
   ]
  },
  {
   "cell_type": "markdown",
   "metadata": {
    "deletable": false,
    "editable": false,
    "nbgrader": {
     "checksum": "d6e252df60c06a961fccec42a89000e7",
     "grade": false,
     "grade_id": "cell-9772183755704a38",
     "locked": true,
     "schema_version": 1,
     "solution": false
    }
   },
   "source": [
    "#### Question 12: Machine Learning [2 points]\n",
    "\n",
    "A supposedly well-known effect in programming is the so-called \"Ballmer Peak\":\n",
    "<img src=\"q12_a.png\" width=60%>\n",
    "\n",
    "Unfortunately, the actual data looks more like this:\n",
    "\n",
    "<img src=\"q12_b.png\">\n",
    "\n",
    "The $R^2$ score for the line of best fit is 0.93.\n",
    "\n",
    "What can you conclude about the relationship between blood alcohol concentration and programming ability? (Using the *very real* data *that we didn't make up at all* provided in the second graph, not the comic.)"
   ]
  },
  {
   "cell_type": "code",
   "execution_count": null,
   "metadata": {
    "deletable": false,
    "nbgrader": {
     "checksum": "f16987c95ed647c37b5528fde19a8202",
     "grade": true,
     "grade_id": "cell-31931ba49e49249f",
     "locked": false,
     "points": 2,
     "schema_version": 1,
     "solution": true
    }
   },
   "outputs": [],
   "source": [
    "# YOUR ANSWER HERE"
   ]
  },
  {
   "cell_type": "markdown",
   "metadata": {
    "deletable": false,
    "editable": false,
    "nbgrader": {
     "checksum": "34acee701b97bb45dada5ffff8b58f0f",
     "grade": false,
     "grade_id": "cell-71a0b5befc6ac718",
     "locked": true,
     "schema_version": 1,
     "solution": false
    }
   },
   "source": [
    "## Part II: Programming Questions (40 points total)\n",
    "\n",
    "#### Question 13a: Secret Messages I [5 points]\n",
    "\n",
    "Let's say I have the following scheme for sending secret messages: I choose a number, $x$ and encode my message by writing one letter from it every $x$ characters (and writing a random letter otherwise).\n",
    "\n",
    "For example, to encode `CATS` with $x=2$, I would produce a string like `CZAZTZS`\n",
    "\n",
    "\n",
    "\n",
    "|0|1|2|3|4|5|6|\n",
    "|-|-|-|-|-|-|-|\n",
    "|**C**|Z|**A**|Z|**T**|Z|**S**|\n",
    "\n",
    "Any position that is a multiple of 2 (that is, positions 0, 2, 4, 6) contain the letters of my message. To make my message harder to read, I'll use random letters instead of just `Z`s.\n",
    "\n",
    "To encode `DOGS` with $x=3$, I might produce:\n",
    "\n",
    "|0|1|2|3|4|5|6|7|8|9|\n",
    "|-|-|-|-|-|-|-|-|-|-|\n",
    "|**D**|M|C|**O**|J|S|**G**|K|T|**S**|\n",
    "\n",
    "In this case, any position that is a multiple of 3 (specifically, 0, 3, 6, 9) contains a letter from my message, and the rest can be ignored.\n",
    "\n",
    "Write a function, `decode1(c, x)` That, given an encoded string, `c`, and a secret number, `x`, returns the original secret message.\n",
    "\n",
    "You do not need to consider edge cases for this question, you may assume that $x > 1$ and that `c` is a string."
   ]
  },
  {
   "cell_type": "code",
   "execution_count": null,
   "metadata": {
    "deletable": false,
    "nbgrader": {
     "checksum": "42c1ded262a29b99172c01a531a40fd7",
     "grade": false,
     "grade_id": "cell-eb663bb851048351",
     "locked": false,
     "schema_version": 1,
     "solution": true
    }
   },
   "outputs": [],
   "source": [
    "def decode1(c, x):\n",
    "    \n",
    "    pass # Replace with your solution"
   ]
  },
  {
   "cell_type": "code",
   "execution_count": null,
   "metadata": {},
   "outputs": [],
   "source": [
    "decode1('DMCOJSGKTS', 3) == 'DOGS'"
   ]
  },
  {
   "cell_type": "code",
   "execution_count": null,
   "metadata": {},
   "outputs": [],
   "source": [
    "decode1('DOWDESDRFOGDEIDDNELXEOKZSDYHTIIARREKAOEETRCRIAYGOZAUN', 4) == 'DEFENESTRATION'"
   ]
  },
  {
   "cell_type": "code",
   "execution_count": null,
   "metadata": {
    "deletable": false,
    "editable": false,
    "nbgrader": {
     "checksum": "4236407c75d7b3145ac0d28af6fa39d4",
     "grade": true,
     "grade_id": "cell-47c79870686c0588",
     "locked": true,
     "points": 1,
     "schema_version": 1,
     "solution": false
    }
   },
   "outputs": [],
   "source": [
    "# Hidden test for 13a"
   ]
  },
  {
   "cell_type": "code",
   "execution_count": null,
   "metadata": {
    "deletable": false,
    "editable": false,
    "nbgrader": {
     "checksum": "b2b1733cabd9381e3ad28a589c23b0b6",
     "grade": true,
     "grade_id": "cell-a8afa4ae5db499be",
     "locked": true,
     "points": 1,
     "schema_version": 1,
     "solution": false
    }
   },
   "outputs": [],
   "source": [
    "# Hidden test for 13a"
   ]
  },
  {
   "cell_type": "code",
   "execution_count": null,
   "metadata": {
    "deletable": false,
    "editable": false,
    "nbgrader": {
     "checksum": "c6c67cdbdfb5a51a62e4737ddd0fe17c",
     "grade": true,
     "grade_id": "cell-1536c49d3a317a05",
     "locked": true,
     "points": 1,
     "schema_version": 1,
     "solution": false
    }
   },
   "outputs": [],
   "source": [
    "# Hidden test for 13a"
   ]
  },
  {
   "cell_type": "code",
   "execution_count": null,
   "metadata": {
    "deletable": false,
    "editable": false,
    "nbgrader": {
     "checksum": "17991514175886a9a025963678c1d181",
     "grade": true,
     "grade_id": "cell-23661b9b83d9ae3a",
     "locked": true,
     "points": 1,
     "schema_version": 1,
     "solution": false
    }
   },
   "outputs": [],
   "source": [
    "# Hidden test for 13a"
   ]
  },
  {
   "cell_type": "code",
   "execution_count": null,
   "metadata": {
    "deletable": false,
    "editable": false,
    "nbgrader": {
     "checksum": "1facafa775d40d526a9b760e5a447529",
     "grade": true,
     "grade_id": "cell-9ffd8c6076d1208f",
     "locked": true,
     "points": 1,
     "schema_version": 1,
     "solution": false
    }
   },
   "outputs": [],
   "source": [
    "# Hidden test for 13a"
   ]
  },
  {
   "cell_type": "markdown",
   "metadata": {
    "deletable": false,
    "editable": false,
    "nbgrader": {
     "checksum": "d94caa1fc111535c4697c67317782d65",
     "grade": false,
     "grade_id": "cell-815f693be8b37e05",
     "locked": true,
     "schema_version": 1,
     "solution": false
    }
   },
   "source": [
    "#### Question 13b: Secret Messages II [4 points]\n",
    "\n",
    "Create a new function, `decode2(c, l)` that now handles a list of secret keys. For instance if `l = [3, 5]`, any character that is at a position that is a multiple of 3 or 5 would be part of our message.\n",
    "\n",
    "e.g. encoding `CATS` with `l = [3, 5]` could produce:\n",
    "```\n",
    "CZZAZTS\n",
    "0123456\n",
    "```"
   ]
  },
  {
   "cell_type": "code",
   "execution_count": null,
   "metadata": {
    "deletable": false,
    "nbgrader": {
     "checksum": "e794d88f0eda8f50712254e45b46f9c5",
     "grade": false,
     "grade_id": "cell-215c51e2656d03fb",
     "locked": false,
     "schema_version": 1,
     "solution": true
    }
   },
   "outputs": [],
   "source": [
    "# YOUR CODE HERE"
   ]
  },
  {
   "cell_type": "code",
   "execution_count": null,
   "metadata": {},
   "outputs": [],
   "source": [
    "decode2('CZZAZTS', [3, 5]) == \"CATS\""
   ]
  },
  {
   "cell_type": "code",
   "execution_count": null,
   "metadata": {},
   "outputs": [],
   "source": [
    "decode2('YSAYPRYATHOSN', [2, 3]) == \"YAYPYTHON\""
   ]
  },
  {
   "cell_type": "code",
   "execution_count": null,
   "metadata": {
    "deletable": false,
    "editable": false,
    "nbgrader": {
     "checksum": "9a55303ad4521656edd0ff91b0bbb8b3",
     "grade": true,
     "grade_id": "cell-05efc82346f42780",
     "locked": true,
     "points": 1,
     "schema_version": 1,
     "solution": false
    }
   },
   "outputs": [],
   "source": [
    "# Hidden test for 13b"
   ]
  },
  {
   "cell_type": "code",
   "execution_count": null,
   "metadata": {
    "deletable": false,
    "editable": false,
    "nbgrader": {
     "checksum": "f19ad801a6f06a8d934e092f0c500c7b",
     "grade": true,
     "grade_id": "cell-21baab6cb229d8ce",
     "locked": true,
     "points": 1,
     "schema_version": 1,
     "solution": false
    }
   },
   "outputs": [],
   "source": [
    "# Hidden test for 13b"
   ]
  },
  {
   "cell_type": "code",
   "execution_count": null,
   "metadata": {
    "deletable": false,
    "editable": false,
    "nbgrader": {
     "checksum": "85abbfda09f5bbc60b71240d843f9951",
     "grade": true,
     "grade_id": "cell-e635b3a6cc09c2f2",
     "locked": true,
     "points": 1,
     "schema_version": 1,
     "solution": false
    }
   },
   "outputs": [],
   "source": [
    "# Hidden test for 13b"
   ]
  },
  {
   "cell_type": "code",
   "execution_count": null,
   "metadata": {
    "deletable": false,
    "editable": false,
    "nbgrader": {
     "checksum": "9f601190df2be163c42cd19847b9c547",
     "grade": true,
     "grade_id": "cell-1085b18d16cc3cb0",
     "locked": true,
     "points": 1,
     "schema_version": 1,
     "solution": false
    }
   },
   "outputs": [],
   "source": [
    "# Hidden test for 13b"
   ]
  },
  {
   "cell_type": "markdown",
   "metadata": {
    "deletable": false,
    "editable": false,
    "nbgrader": {
     "checksum": "5bd05f65f284969ed451777917d7ea9e",
     "grade": false,
     "grade_id": "cell-8948908e11c450ad",
     "locked": true,
     "schema_version": 1,
     "solution": false
    }
   },
   "source": [
    "#### Question 14: Grading Schemes [5 points]\n",
    "\n",
    "At McMaster, the grading scheme is different for graduate students and undergrads. The two functions below convert a percentage grade to a letter grade for graduate students and undergraduate students."
   ]
  },
  {
   "cell_type": "code",
   "execution_count": null,
   "metadata": {
    "deletable": false,
    "editable": false,
    "nbgrader": {
     "checksum": "41c073e0201b75565edd645dce3d7b32",
     "grade": false,
     "grade_id": "cell-9b76db0b49e92aa4",
     "locked": true,
     "schema_version": 1,
     "solution": false
    }
   },
   "outputs": [],
   "source": [
    "def grad_letter_grade(g):\n",
    "    '''\n",
    "    Given a percentage grade g, returns the letter grade using McMaster's\n",
    "    graduate student grading scheme.\n",
    "    '''\n",
    "    if g > 80:\n",
    "        return 'A'\n",
    "    elif g > 70:\n",
    "        return 'B'\n",
    "    else:\n",
    "        return 'F'\n",
    "    \n",
    "def ugrad_letter_grade(g):\n",
    "    '''\n",
    "    Given a percentage grade g, returns the letter grade using McMaster's\n",
    "    undergraduate student grading scheme.\n",
    "    '''\n",
    "    if g > 80:\n",
    "        return 'A'\n",
    "    elif g > 70:\n",
    "        return 'B'\n",
    "    elif g > 60:\n",
    "        return 'C'\n",
    "    elif g > 50:\n",
    "        return 'D'\n",
    "    else:\n",
    "        return 'F'"
   ]
  },
  {
   "cell_type": "markdown",
   "metadata": {
    "deletable": false,
    "editable": false,
    "nbgrader": {
     "checksum": "1f8222c827a0adb1e774bd20a854896f",
     "grade": false,
     "grade_id": "cell-53e240444c41aba9",
     "locked": true,
     "schema_version": 1,
     "solution": false
    }
   },
   "source": [
    "Write a function `gradelist(d, f)` that, given a dictionary `d` mapping student numbers to their grades (as percentages), returns a dictionary mapping the student number to their letter grades, using the grading scheme from function `f`."
   ]
  },
  {
   "cell_type": "code",
   "execution_count": null,
   "metadata": {
    "deletable": false,
    "nbgrader": {
     "checksum": "7eff34172a052d540fd1ca5091eb60ab",
     "grade": false,
     "grade_id": "cell-ddee8d57596c8ea2",
     "locked": false,
     "schema_version": 1,
     "solution": true
    }
   },
   "outputs": [],
   "source": [
    "# YOUR CODE HERE"
   ]
  },
  {
   "cell_type": "code",
   "execution_count": null,
   "metadata": {},
   "outputs": [],
   "source": [
    "gradelist({1024:67, 2048:78, 4096:56, 8192:93}, ugrad_letter_grade) == {1024: 'C', 2048: 'B', 4096: 'D', 8192: 'A'}"
   ]
  },
  {
   "cell_type": "code",
   "execution_count": null,
   "metadata": {},
   "outputs": [],
   "source": [
    "gradelist({1024:67, 2048:78, 4096:56, 8192:93}, grad_letter_grade) == {1024: 'F', 2048: 'B', 4096: 'F', 8192: 'A'}"
   ]
  },
  {
   "cell_type": "code",
   "execution_count": null,
   "metadata": {
    "deletable": false,
    "editable": false,
    "nbgrader": {
     "checksum": "dc6b16cbce7c07de3028d61fc39571a0",
     "grade": true,
     "grade_id": "cell-acca2671ea750a22",
     "locked": true,
     "points": 1,
     "schema_version": 1,
     "solution": false
    }
   },
   "outputs": [],
   "source": [
    "# Hidden test for 14"
   ]
  },
  {
   "cell_type": "code",
   "execution_count": null,
   "metadata": {
    "deletable": false,
    "editable": false,
    "nbgrader": {
     "checksum": "97791262ca0e29203f9fe3265bc67712",
     "grade": true,
     "grade_id": "cell-65d09e5029d1217a",
     "locked": true,
     "points": 1,
     "schema_version": 1,
     "solution": false
    }
   },
   "outputs": [],
   "source": [
    "# Hidden test for 14"
   ]
  },
  {
   "cell_type": "code",
   "execution_count": null,
   "metadata": {
    "deletable": false,
    "editable": false,
    "nbgrader": {
     "checksum": "6bb9384d427aead940a2d6000458f1cc",
     "grade": true,
     "grade_id": "cell-880bd5b24455d08e",
     "locked": true,
     "points": 3,
     "schema_version": 1,
     "solution": false
    }
   },
   "outputs": [],
   "source": [
    "# Hidden test for 14"
   ]
  },
  {
   "cell_type": "markdown",
   "metadata": {
    "deletable": false,
    "editable": false,
    "nbgrader": {
     "checksum": "696283b64b666f3e71f3fc79836642c5",
     "grade": false,
     "grade_id": "cell-ffed8dc41a92ea84",
     "locked": true,
     "schema_version": 1,
     "solution": false
    }
   },
   "source": [
    "#### Question 15: Creating a Student Class (no pun intended) [14 points]\n",
    "\n",
    "[4 points] a) Create a class representing students by filling in the template below. Your class will need two attributes: a student number, and a dictionary. The student number should be specified when creating the object (in the init function), and the dictionary (which will map course codes to grades) should be empty by default.\n",
    "Your class should have the following methods:\n",
    "* `addCourse(c, g)`: Add course `c` to the dictionary with grade `g`\n",
    "* `getGrade(c)`: Return the grade that was acquired in course `c`.\n",
    "\n",
    "[4 points] b) Modify the `addCourse(c, g)` method so that if a student has already taken course `c`, only the higher grade is kept. (That is, if you try to add `1md3` with a grade of 78, but you already took the course with a grade of 90, there should be no change).\n",
    "\n",
    "[3 points] c) Add a method `canTake(c, l)` which takes in a course name `c`, a list of its prerequisites `l`, and determines if the student is eligible to take the course. (return `True` if you can take the course, return `False` otherwise). In order to be eligible to take the course, the student must have taken all of the courses in `l`, and their grade in each must be at least 50%.\n",
    "\n",
    "[3 points] d) Modify the `canTake` method to raise a `Warning` (as a type of exception) if they have already taken the course they are trying to add."
   ]
  },
  {
   "cell_type": "code",
   "execution_count": null,
   "metadata": {
    "deletable": false,
    "nbgrader": {
     "checksum": "de0a7a863f0850bb8e23f4b87126280d",
     "grade": false,
     "grade_id": "cell-e7245943680f1959",
     "locked": false,
     "schema_version": 1,
     "solution": true
    }
   },
   "outputs": [],
   "source": [
    "class Student:\n",
    "    \n",
    "    pass # Delete this line and replace with your code\n",
    "# YOUR CODE HERE\n",
    "raise NotImplementedError()"
   ]
  },
  {
   "cell_type": "code",
   "execution_count": null,
   "metadata": {},
   "outputs": [],
   "source": [
    "# Test case for a\n",
    "s1 = Student(314)\n",
    "s1.addCourse('1md3', 90)\n",
    "\n",
    "s1.getGrade('1md3') == 90"
   ]
  },
  {
   "cell_type": "code",
   "execution_count": null,
   "metadata": {},
   "outputs": [],
   "source": [
    "# Test case for b\n",
    "s2 = Student(151)\n",
    "s2.addCourse('1md3', 90)\n",
    "s2.addCourse('1md3', 85)\n",
    "\n",
    "s2.getGrade('1md3') == 90\n"
   ]
  },
  {
   "cell_type": "code",
   "execution_count": null,
   "metadata": {},
   "outputs": [],
   "source": [
    "# Test case for b\n",
    "s3 = Student(926)\n",
    "s3.addCourse('1md3', 90)\n",
    "s3.addCourse('1md3', 95)\n",
    "\n",
    "s3.getGrade('1md3') == 95"
   ]
  },
  {
   "cell_type": "code",
   "execution_count": null,
   "metadata": {},
   "outputs": [],
   "source": [
    "# Test case for c\n",
    "s4 = Student(535)\n",
    "s4.addCourse('1md3', 90)\n",
    "s4.addCourse('1a03', 82)\n",
    "\n",
    "s4.canTake('1aa3', ['1a03']) == True"
   ]
  },
  {
   "cell_type": "code",
   "execution_count": null,
   "metadata": {},
   "outputs": [],
   "source": [
    "# Test case for c\n",
    "s5 = Student(535)\n",
    "s5.addCourse('1md3', 90)\n",
    "s5.addCourse('1a03', 82)\n",
    "\n",
    "s5.canTake('2aa3', ['1aa3']) == False"
   ]
  },
  {
   "cell_type": "code",
   "execution_count": null,
   "metadata": {},
   "outputs": [],
   "source": [
    "# Test case for c\n",
    "s6 = Student(535)\n",
    "s6.addCourse('1md3', 90)\n",
    "s6.addCourse('1a03', 82)\n",
    "s6.addCourse('1aa3', 49)\n",
    "\n",
    "s6.canTake('2aa3', ['1aa3']) == False"
   ]
  },
  {
   "cell_type": "code",
   "execution_count": null,
   "metadata": {},
   "outputs": [],
   "source": [
    "# Test case for d\n",
    "\n",
    "s7 = Student(535)\n",
    "s7.addCourse('1md3', 90)\n",
    "s7.addCourse('1a03', 82)\n",
    "s7.addCourse('1aa3', 49)\n",
    "\n",
    "try:\n",
    "    s7.canTake('1aa3', ['1a03'])\n",
    "    print(\"Failed test case, no warning was raised.\")\n",
    "except Warning:\n",
    "    print(\"Successful test case.\")\n",
    "except:\n",
    "    print(\"Failed test case.\")"
   ]
  },
  {
   "cell_type": "code",
   "execution_count": null,
   "metadata": {
    "deletable": false,
    "editable": false,
    "nbgrader": {
     "checksum": "ee42adff42ac827800605f5fa7fd12b6",
     "grade": true,
     "grade_id": "cell-286e765f5d1e0a8e",
     "locked": true,
     "points": 2,
     "schema_version": 1,
     "solution": false
    }
   },
   "outputs": [],
   "source": [
    "# Hidden test for 15a"
   ]
  },
  {
   "cell_type": "code",
   "execution_count": null,
   "metadata": {
    "deletable": false,
    "editable": false,
    "nbgrader": {
     "checksum": "2100c36321e783e64637c19dfb4261f7",
     "grade": true,
     "grade_id": "cell-36bc20132af9b6ff",
     "locked": true,
     "points": 2,
     "schema_version": 1,
     "solution": false
    }
   },
   "outputs": [],
   "source": [
    "# Hidden test for 15a"
   ]
  },
  {
   "cell_type": "code",
   "execution_count": null,
   "metadata": {
    "deletable": false,
    "editable": false,
    "nbgrader": {
     "checksum": "493d58064fe6d68bce8d94016bf2139d",
     "grade": true,
     "grade_id": "cell-5d6a49aed8eb8a01",
     "locked": true,
     "points": 2,
     "schema_version": 1,
     "solution": false
    }
   },
   "outputs": [],
   "source": [
    "# Hidden test for 15b"
   ]
  },
  {
   "cell_type": "code",
   "execution_count": null,
   "metadata": {
    "deletable": false,
    "editable": false,
    "nbgrader": {
     "checksum": "8ac1129541d9993517ba4a06ff31cd83",
     "grade": true,
     "grade_id": "cell-0775347cd62d1230",
     "locked": true,
     "points": 2,
     "schema_version": 1,
     "solution": false
    }
   },
   "outputs": [],
   "source": [
    "# Hidden test for 15b"
   ]
  },
  {
   "cell_type": "code",
   "execution_count": null,
   "metadata": {
    "deletable": false,
    "editable": false,
    "nbgrader": {
     "checksum": "9c3d0b0b04276518b3e1389da2395e3d",
     "grade": true,
     "grade_id": "cell-4b2f3995c49b4c58",
     "locked": true,
     "points": 1,
     "schema_version": 1,
     "solution": false
    }
   },
   "outputs": [],
   "source": [
    "# Hidden test for 15c"
   ]
  },
  {
   "cell_type": "code",
   "execution_count": null,
   "metadata": {
    "deletable": false,
    "editable": false,
    "nbgrader": {
     "checksum": "6b040559523dfb74283218aa4aa64432",
     "grade": true,
     "grade_id": "cell-38fa38aa94b75916",
     "locked": true,
     "points": 1,
     "schema_version": 1,
     "solution": false
    }
   },
   "outputs": [],
   "source": [
    "# Hidden test for 15c"
   ]
  },
  {
   "cell_type": "code",
   "execution_count": null,
   "metadata": {
    "deletable": false,
    "editable": false,
    "nbgrader": {
     "checksum": "080b947c649867d43b02bee273b6e5e7",
     "grade": true,
     "grade_id": "cell-81469f84feac0323",
     "locked": true,
     "points": 1,
     "schema_version": 1,
     "solution": false
    }
   },
   "outputs": [],
   "source": [
    "# Hidden test for 15c"
   ]
  },
  {
   "cell_type": "code",
   "execution_count": null,
   "metadata": {
    "deletable": false,
    "editable": false,
    "nbgrader": {
     "checksum": "e735f924bdb1a4590e4fc8d08b15a09e",
     "grade": true,
     "grade_id": "cell-4b1d3eb815a8c7f8",
     "locked": true,
     "points": 1,
     "schema_version": 1,
     "solution": false
    }
   },
   "outputs": [],
   "source": [
    "# Hidden test for 15d"
   ]
  },
  {
   "cell_type": "code",
   "execution_count": null,
   "metadata": {
    "deletable": false,
    "editable": false,
    "nbgrader": {
     "checksum": "83e8a96eeffcd9fbed21a3075d95d711",
     "grade": true,
     "grade_id": "cell-d5f35637db25ae88",
     "locked": true,
     "points": 1,
     "schema_version": 1,
     "solution": false
    }
   },
   "outputs": [],
   "source": [
    "# Hidden test for 15d"
   ]
  },
  {
   "cell_type": "code",
   "execution_count": null,
   "metadata": {
    "deletable": false,
    "editable": false,
    "nbgrader": {
     "checksum": "194b38dffb9925dee76609cbbcc773ac",
     "grade": true,
     "grade_id": "cell-44d79b106e24b20b",
     "locked": true,
     "points": 1,
     "schema_version": 1,
     "solution": false
    }
   },
   "outputs": [],
   "source": [
    "# Hidden test for 15d"
   ]
  },
  {
   "cell_type": "markdown",
   "metadata": {
    "deletable": false,
    "editable": false,
    "nbgrader": {
     "checksum": "c08af63bf7baea9e627566478468c6fa",
     "grade": false,
     "grade_id": "cell-4976505a70ed8ae4",
     "locked": true,
     "schema_version": 1,
     "solution": false
    }
   },
   "source": [
    "#### Question 15e [3 points]\n",
    "\n",
    "Write a function `popular_course(l, c)` that, given a list of students, `l` and a course `c`, returns a list of students who have taken `c`."
   ]
  },
  {
   "cell_type": "code",
   "execution_count": null,
   "metadata": {
    "deletable": false,
    "nbgrader": {
     "checksum": "8c6748ba4266fefe75170e5e50dc813a",
     "grade": false,
     "grade_id": "cell-d5a6c7f7d69b269a",
     "locked": false,
     "schema_version": 1,
     "solution": true
    }
   },
   "outputs": [],
   "source": [
    "# YOUR CODE HERE"
   ]
  },
  {
   "cell_type": "code",
   "execution_count": null,
   "metadata": {},
   "outputs": [],
   "source": [
    "s1 = Student(314)\n",
    "s1.addCourse('1md3', 90)\n",
    "\n",
    "s2 = Student(535)\n",
    "s2.addCourse('1md3', 90)\n",
    "s2.addCourse('1a03', 82)\n",
    "\n",
    "s3 = Student(535)\n",
    "s3.addCourse('1md3', 90)\n",
    "s3.addCourse('1a03', 82)\n",
    "s3.addCourse('1aa3', 49)\n",
    "\n",
    "popular_course([s1, s2, s3], '1md3') == [s1, s2, s3]"
   ]
  },
  {
   "cell_type": "code",
   "execution_count": null,
   "metadata": {},
   "outputs": [],
   "source": [
    "s1 = Student(314)\n",
    "s1.addCourse('1md3', 90)\n",
    "\n",
    "s2 = Student(535)\n",
    "s2.addCourse('1md3', 90)\n",
    "s2.addCourse('1a03', 82)\n",
    "\n",
    "s3 = Student(535)\n",
    "s3.addCourse('1md3', 90)\n",
    "s3.addCourse('1a03', 82)\n",
    "s3.addCourse('1aa3', 49)\n",
    "\n",
    "popular_course([s1, s2, s3], '1a03') == [s2, s3]"
   ]
  },
  {
   "cell_type": "code",
   "execution_count": null,
   "metadata": {
    "deletable": false,
    "editable": false,
    "nbgrader": {
     "checksum": "04a8a5f739a4211710973dfc55c59b07",
     "grade": true,
     "grade_id": "cell-41c4b438b6271589",
     "locked": true,
     "points": 1,
     "schema_version": 1,
     "solution": false
    }
   },
   "outputs": [],
   "source": [
    "# Hidden test for 15e"
   ]
  },
  {
   "cell_type": "code",
   "execution_count": null,
   "metadata": {
    "deletable": false,
    "editable": false,
    "nbgrader": {
     "checksum": "07ffb802d6d443d7ee05d97ae5468043",
     "grade": true,
     "grade_id": "cell-1f7d7755d16e1ab4",
     "locked": true,
     "points": 1,
     "schema_version": 1,
     "solution": false
    }
   },
   "outputs": [],
   "source": [
    "# Hidden test for 15e"
   ]
  },
  {
   "cell_type": "code",
   "execution_count": null,
   "metadata": {
    "deletable": false,
    "editable": false,
    "nbgrader": {
     "checksum": "7f92cf6a1928437e29e727c625593a82",
     "grade": true,
     "grade_id": "cell-b8f4905838a30368",
     "locked": true,
     "points": 1,
     "schema_version": 1,
     "solution": false
    }
   },
   "outputs": [],
   "source": [
    "# Hidden test for 15e"
   ]
  },
  {
   "cell_type": "markdown",
   "metadata": {
    "deletable": false,
    "editable": false,
    "nbgrader": {
     "checksum": "4403c50f771022e544d2ed459dd800ea",
     "grade": false,
     "grade_id": "cell-da04ff06a1b62da2",
     "locked": true,
     "schema_version": 1,
     "solution": false
    }
   },
   "source": [
    "#### Question 16a: More Spurious Correlations [2 points]\n",
    "\n",
    "This question would have a much better punchline if the exam were a day earlier. Either way, let's investigate the relationship between juvenile arrests for marijuana possession and the number of German passenger cars sold in the US. \n",
    "\n",
    "Write Python code that reads the file `drug_arrests.csv` and produces two lists:\n",
    "* `dates` should be a list of integers from the `year` column in the file (as integers).\n",
    "* `arrests` should be a list of arrests for marijuana posession from the `arrests` column in the file, as integers"
   ]
  },
  {
   "cell_type": "code",
   "execution_count": null,
   "metadata": {
    "deletable": false,
    "nbgrader": {
     "checksum": "b895f9defae235df83c6a71156342d43",
     "grade": false,
     "grade_id": "cell-fd09dc0815c1d579",
     "locked": false,
     "schema_version": 1,
     "solution": true
    }
   },
   "outputs": [],
   "source": [
    "# YOUR CODE HERE"
   ]
  },
  {
   "cell_type": "markdown",
   "metadata": {
    "deletable": false,
    "editable": false,
    "nbgrader": {
     "checksum": "375d9ac4f7f6a54cd25a0d3d7577f9b8",
     "grade": false,
     "grade_id": "cell-17a357aa1bbe000a",
     "locked": true,
     "schema_version": 1,
     "solution": false
    }
   },
   "source": [
    "Here are some sample test cases to help check you have read the data in correctly."
   ]
  },
  {
   "cell_type": "code",
   "execution_count": null,
   "metadata": {},
   "outputs": [],
   "source": [
    "dates[0] == 1990"
   ]
  },
  {
   "cell_type": "code",
   "execution_count": null,
   "metadata": {},
   "outputs": [],
   "source": [
    "arrests[0] == 20940"
   ]
  },
  {
   "cell_type": "code",
   "execution_count": null,
   "metadata": {
    "deletable": false,
    "editable": false,
    "nbgrader": {
     "checksum": "2c7b21f604133e55dabf6bbf51818c1b",
     "grade": true,
     "grade_id": "cell-5b5d015e19d652c3",
     "locked": true,
     "points": 1,
     "schema_version": 1,
     "solution": false
    }
   },
   "outputs": [],
   "source": [
    "# Hidden test case for 16a"
   ]
  },
  {
   "cell_type": "code",
   "execution_count": null,
   "metadata": {
    "deletable": false,
    "editable": false,
    "nbgrader": {
     "checksum": "3967d8e08d490a85869b21173678223a",
     "grade": true,
     "grade_id": "cell-c684b52b6333b371",
     "locked": true,
     "points": 1,
     "schema_version": 1,
     "solution": false
    }
   },
   "outputs": [],
   "source": [
    "# Hidden test case for 16a"
   ]
  },
  {
   "cell_type": "markdown",
   "metadata": {
    "deletable": false,
    "editable": false,
    "nbgrader": {
     "checksum": "481f60e0c1567daa9f5d3e0cc764b8d5",
     "grade": false,
     "grade_id": "cell-64dcab4b133cb764",
     "locked": true,
     "schema_version": 1,
     "solution": false
    }
   },
   "source": [
    "#### Question 16b [2 points]\n",
    "\n",
    "Now, write Python code that reads from `cars.db` and produces a list, `cars`, which contains the number of German passenger cars sold in the US across the same time frame as the last question.\n",
    "\n",
    "The table was created using the following SQL command:\n",
    "\n",
    "```sql\n",
    "CREATE TABLE carsales (year INTEGER, sales INTEGER)\n",
    "```\n",
    "\n",
    "The values were then inserted (in chronological order) as:\n",
    "```sql\n",
    "INSERT INTO carsales (year, sales) VALUES (1990, 171900)\n",
    "INSERT INTO carsales (year, sales) VALUES (1991, 150000)\n",
    "```\n",
    "And so on (up to the year 2009)"
   ]
  },
  {
   "cell_type": "code",
   "execution_count": null,
   "metadata": {
    "deletable": false,
    "nbgrader": {
     "checksum": "f000b0034461acf04a9d639bfcc58ae6",
     "grade": false,
     "grade_id": "cell-e7fa5f6919ebf081",
     "locked": false,
     "schema_version": 1,
     "solution": true
    }
   },
   "outputs": [],
   "source": [
    "# YOUR CODE HERE"
   ]
  },
  {
   "cell_type": "code",
   "execution_count": null,
   "metadata": {},
   "outputs": [],
   "source": [
    "cars[0] == 1719000"
   ]
  },
  {
   "cell_type": "code",
   "execution_count": null,
   "metadata": {
    "deletable": false,
    "editable": false,
    "nbgrader": {
     "checksum": "4b32b49e8b90231d60cd296b70f729bc",
     "grade": true,
     "grade_id": "cell-466a6c58d5f832b9",
     "locked": true,
     "points": 2,
     "schema_version": 1,
     "solution": false
    }
   },
   "outputs": [],
   "source": [
    "# Hidden test case for 16b\n"
   ]
  },
  {
   "cell_type": "markdown",
   "metadata": {
    "deletable": false,
    "editable": false,
    "nbgrader": {
     "checksum": "76997a3f957580ff44876b744a24a557",
     "grade": false,
     "grade_id": "cell-dcc42185d0c05e4e",
     "locked": true,
     "schema_version": 1,
     "solution": false
    }
   },
   "source": [
    "#### Question 16c [3 points]\n",
    "\n",
    "Using the above data, create three scatter plots:\n",
    "\n",
    "* One showing the number of arrests for marijuana posession vs. year\n",
    "* One showing the number of German passenger cars sold vs. year\n",
    "* One showing the number of German passenger cars sold vs. the number of arrests for marijuana possession.\n",
    "\n",
    "Your plots do not need to be fancy--no title, legend, or labels are required. Just show the appropriate relationships for each plot."
   ]
  },
  {
   "cell_type": "code",
   "execution_count": null,
   "metadata": {
    "deletable": false,
    "nbgrader": {
     "checksum": "28d2ea82cf9bc7d97e7d63554d395c20",
     "grade": true,
     "grade_id": "cell-787d30fb8e2ac857",
     "locked": false,
     "points": 3,
     "schema_version": 1,
     "solution": true
    }
   },
   "outputs": [],
   "source": [
    "# YOUR CODE HERE"
   ]
  },
  {
   "cell_type": "markdown",
   "metadata": {
    "deletable": false,
    "editable": false,
    "nbgrader": {
     "checksum": "948a7461d3b7e4ee79d6c06feda00b97",
     "grade": false,
     "grade_id": "cell-0f4ddc0055ac62fe",
     "locked": true,
     "schema_version": 1,
     "solution": false
    }
   },
   "source": [
    "#### Question 17: Sudoku [2 points, plus up to 3 bonus]\n",
    "\n",
    "Sudoku is a puzzle game where the objective is to fill a 9x9 grid with numbers so that each column, each row, and each subgrid (that is, each group of 9 cells in the grid separated by the thicker lines) contain all of the digits from 1 to 9. An example of a \"winning\" board is below:\n",
    "\n",
    "<img src=\"sudoku_example.svg\" width=35%>\n",
    "\n",
    "Write a program `sudoku(b)` that, given a sudoku board `b` represented as a 2 dimensional list (where each sublist represents a row in the board), determines if the board is filled out correctly. Return `True` if the board is correct, and `False` otherwise.\n",
    "\n",
    "You can receive up to 3 bonus marks for a solution that is correct **and** short.  The shortest solution we came up with was 121 characters.  You will receive 1 bonus mark if your solution is correct and shorter than 600 characters, an additional 1 bonus mark if it is correct and shorter than 400 characters, and a third additional 1 bonus mark if it is correct and shorter than 200 characters.  There's a function at the end which shows how we measure the length of a solution.  Careful when trying to shorten your solution that you don't end up breaking it!"
   ]
  },
  {
   "cell_type": "code",
   "execution_count": null,
   "metadata": {
    "deletable": false,
    "nbgrader": {
     "checksum": "c312211c1c8f39ff7fd3802be89633e6",
     "grade": false,
     "grade_id": "cell-cd2efc6f34d20081",
     "locked": false,
     "schema_version": 1,
     "solution": true
    }
   },
   "outputs": [],
   "source": [
    "# Your solution here.\n",
    "\n",
    "# YOUR CODE HERE\n",
    "raise NotImplementedError()"
   ]
  },
  {
   "cell_type": "code",
   "execution_count": null,
   "metadata": {},
   "outputs": [],
   "source": [
    "# Test case with a winning board\n",
    "\n",
    "B = [\n",
    "    [4, 3, 5,   2, 6, 9,   7, 8, 1],\n",
    "    [6, 8, 2,   5, 7, 1,   4, 9, 3],\n",
    "    [1, 9, 7,   8, 3, 4,   5, 6, 2],\n",
    "    \n",
    "    [8, 2, 6,   1, 9, 5,   3, 4, 7],\n",
    "    [3, 7, 4,   6, 8, 2,   9, 1, 5],\n",
    "    [9, 5, 1,   7, 4, 3,   6, 2, 8],\n",
    "    \n",
    "    [5, 1, 9,   3, 2, 6,   8, 7, 4],\n",
    "    [2, 4, 8,   9, 5, 7,   1, 3, 6],\n",
    "    [7, 6, 3,   4, 1, 8,   2, 5, 9]\n",
    "]\n",
    "\n",
    "assert sudoku(B) == True"
   ]
  },
  {
   "cell_type": "code",
   "execution_count": null,
   "metadata": {},
   "outputs": [],
   "source": [
    "# Test case with a losing board\n",
    "\n",
    "C = [\n",
    "    [4, 3, 5,   6, 6, 9,   7, 8, 1],\n",
    "    [6, 8, 2,   5, 7, 1,   4, 9, 3],\n",
    "    [1, 9, 7,   8, 3, 4,   5, 6, 2],\n",
    "    \n",
    "    [8, 2, 6,   1, 9, 5,   3, 4, 7],\n",
    "    [3, 7, 4,   6, 8, 2,   9, 1, 5],\n",
    "    [9, 5, 1,   7, 4, 3,   6, 2, 8],\n",
    "    \n",
    "    [5, 1, 9,   3, 2, 6,   8, 7, 4],\n",
    "    [2, 4, 8,   9, 5, 7,   1, 3, 6],\n",
    "    [7, 6, 3,   4, 1, 8,   2, 5, 9]\n",
    "]\n",
    "\n",
    "assert sudoku(C) == False"
   ]
  },
  {
   "cell_type": "code",
   "execution_count": null,
   "metadata": {
    "deletable": false,
    "editable": false,
    "nbgrader": {
     "checksum": "8ef89a5841ff4c7d979fdace34049e50",
     "grade": false,
     "grade_id": "cell-dbbb1a83739270c7",
     "locked": true,
     "schema_version": 1,
     "solution": false
    }
   },
   "outputs": [],
   "source": [
    "import inspect\n",
    "print(\"Your solution is {:d} characters long.\".format(len(inspect.getsource(sudoku))))"
   ]
  },
  {
   "cell_type": "code",
   "execution_count": null,
   "metadata": {
    "deletable": false,
    "editable": false,
    "nbgrader": {
     "checksum": "a6679fde68f967c6d004528b47bd6e98",
     "grade": true,
     "grade_id": "cell-185d812c3d0840d5",
     "locked": true,
     "points": 1,
     "schema_version": 1,
     "solution": false
    }
   },
   "outputs": [],
   "source": [
    "# Hidden test case for 17"
   ]
  },
  {
   "cell_type": "code",
   "execution_count": null,
   "metadata": {
    "deletable": false,
    "editable": false,
    "nbgrader": {
     "checksum": "f602c9ea474baa12f5a1241e10fcb262",
     "grade": true,
     "grade_id": "cell-ad35d3e60043a757",
     "locked": true,
     "points": 1,
     "schema_version": 1,
     "solution": false
    }
   },
   "outputs": [],
   "source": [
    "# Hidden test case for 17"
   ]
  },
  {
   "cell_type": "code",
   "execution_count": null,
   "metadata": {
    "deletable": false,
    "editable": false,
    "nbgrader": {
     "checksum": "af926fcb9f601756209f7a850209eeba",
     "grade": true,
     "grade_id": "cell-1902db58d160949b",
     "locked": true,
     "points": 1,
     "schema_version": 1,
     "solution": false
    }
   },
   "outputs": [],
   "source": [
    "# Hidden test case for 17<600"
   ]
  },
  {
   "cell_type": "code",
   "execution_count": null,
   "metadata": {
    "deletable": false,
    "editable": false,
    "nbgrader": {
     "checksum": "1daa32e64bfada9bfbfd3b167d1e2b6b",
     "grade": true,
     "grade_id": "cell-e290b3e7a8662cd4",
     "locked": true,
     "points": 1,
     "schema_version": 1,
     "solution": false
    }
   },
   "outputs": [],
   "source": [
    "# Hidden test case for 17<400"
   ]
  },
  {
   "cell_type": "code",
   "execution_count": null,
   "metadata": {
    "deletable": false,
    "editable": false,
    "nbgrader": {
     "checksum": "0043cf869a4a60b1dc1a8f1f5cb282d1",
     "grade": true,
     "grade_id": "cell-1154ad23850d69f2",
     "locked": true,
     "points": 1,
     "schema_version": 1,
     "solution": false
    }
   },
   "outputs": [],
   "source": [
    "# Hidden test case for 17<200"
   ]
  }
 ],
 "metadata": {
  "kernelspec": {
   "display_name": "Python 3",
   "language": "python",
   "name": "python3"
  },
  "language_info": {
   "codemirror_mode": {
    "name": "ipython",
    "version": 3
   },
   "file_extension": ".py",
   "mimetype": "text/x-python",
   "name": "python",
   "nbconvert_exporter": "python",
   "pygments_lexer": "ipython3",
   "version": "3.6.3"
  }
 },
 "nbformat": 4,
 "nbformat_minor": 2
}
