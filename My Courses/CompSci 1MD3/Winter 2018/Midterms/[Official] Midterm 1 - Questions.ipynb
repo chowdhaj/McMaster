{
 "cells": [
  {
   "cell_type": "markdown",
   "metadata": {
    "deletable": false,
    "editable": false,
    "nbgrader": {
     "checksum": "2a8083ad96b0c3035a9042fb75cdfc40",
     "grade": false,
     "grade_id": "cell-8270991a73638fc0",
     "locked": true,
     "schema_version": 1,
     "solution": false
    }
   },
   "source": [
    "## COMP SCI 1MD3 Introduction to Programming, Winter 2018\n",
    "### Douglas Stebila (Instructor), Joey Legere, Karl Knopf, Natalie Chin, Victor Chen (TAs)\n",
    "### Midterm Test 1 Tuesday, Feb 13, 3:30 - 4:20 PM\n",
    "### Maximum grade: 30 / 30\n",
    "\n",
    "You must use our JupyterHub server to complete the test. Once you have completed the test, click the “Submit” button in JupyterHub.  During the test, the only program you may use is your web browser, and the only web pages you may visit are the JupyterHub site and the Python documentation on doc.python.org.  You may not use Google, StackOverflow, IDLE, your own local Jupyter, or any other website or program.  University Technology Services will be logging network access for students in this class during the test period.  Please close all other programs on your computer and all other browser tabs and windows.  During the test, please raise your hand if you need assistance, would like scrap paper, or need to go to the washroom.  The test will be over at 4:20.  If you are finished early, you may submit your notebook on JupyterHub and then quietly leave.  However, we will ask you to remain in your seat during the last 10 minutes to avoid disturbing other students. "
   ]
  },
  {
   "cell_type": "markdown",
   "metadata": {
    "deletable": false,
    "editable": false,
    "nbgrader": {
     "checksum": "ec0faa58cdc0743d9f0e18c805875880",
     "grade": false,
     "grade_id": "cell-01368b0149cb4ce7",
     "locked": true,
     "schema_version": 1,
     "solution": false
    }
   },
   "source": [
    "## Part I: Multiple Choice and Short Answer (9 points)\n",
    "\n",
    "#### Question 1 (1 point)\n",
    "\n",
    "Which of the following lines of code checks if the value of x is equal to the value of y?\n",
    "\n",
    "a) `x = y`\n",
    "\n",
    "b) `x == y`\n",
    "\n",
    "Uncomment your answer in the cell below"
   ]
  },
  {
   "cell_type": "code",
   "execution_count": null,
   "metadata": {},
   "outputs": [],
   "source": [
    "def question1():\n",
    "    \n",
    "    # Uncomment the line corresponding to your answer\n",
    "    # That is, just delete the '#' in front of the first line to answer 'a', and the second line for 'b'\n",
    "    \n",
    "    #ans = 'a'\n",
    "    \n",
    "    #ans = 'b'\n",
    "    \n",
    "    return ans"
   ]
  },
  {
   "cell_type": "code",
   "execution_count": null,
   "metadata": {},
   "outputs": [],
   "source": [
    "# Run this code cell to check your answer to question 1\n",
    "print(\"Your answer is: %s\" % question1())"
   ]
  },
  {
   "cell_type": "code",
   "execution_count": null,
   "metadata": {
    "deletable": false,
    "editable": false,
    "nbgrader": {
     "checksum": "7a7ef57a1c9f67ba0d4143789af98f66",
     "grade": true,
     "grade_id": "cell-78b77369810f8c27",
     "locked": true,
     "points": 1,
     "schema_version": 1,
     "solution": false
    }
   },
   "outputs": [],
   "source": [
    "# Hidden tests for question 1"
   ]
  },
  {
   "cell_type": "markdown",
   "metadata": {
    "deletable": false,
    "editable": false,
    "nbgrader": {
     "checksum": "1ba6ddebe0891a3c51437631bc6fab5a",
     "grade": false,
     "grade_id": "cell-3e25eb799739f7ba",
     "locked": true,
     "schema_version": 1,
     "solution": false
    }
   },
   "source": [
    "#### Question 2 (2 points)\n",
    "\n",
    "What types of the following types variables are mutable? In other words, what data types can you change an element of?\n",
    "\n",
    "If the variable type is mutable, uncomment it. Otherwise, leave it commented out. Select all that apply."
   ]
  },
  {
   "cell_type": "code",
   "execution_count": null,
   "metadata": {},
   "outputs": [],
   "source": [
    "def question2():\n",
    "    \n",
    "    ## If a variable below is mutable, uncomment it. Otherwise, leave it commented out.\n",
    "    \n",
    "    #type1 = 'strings'\n",
    "    #type2 = 'lists'\n",
    "    #type3 = 'dictionaries'\n",
    "    #type4 = 'tuples'\n",
    "    \n",
    "    \n",
    "    ## Do not modify any of the code below this line\n",
    "    mutable_variables = []\n",
    "    for i in [1, 2, 3, 4]:\n",
    "        \n",
    "        if 'type%s'%i in locals():\n",
    "            mutable_variables.append(locals()['type%s' % i])\n",
    "            \n",
    "    return mutable_variables"
   ]
  },
  {
   "cell_type": "code",
   "execution_count": null,
   "metadata": {},
   "outputs": [],
   "source": [
    "# Use this cell to verify your answer\n",
    "print(\"You have indicated that the following variables are mutable:\", question2())"
   ]
  },
  {
   "cell_type": "code",
   "execution_count": null,
   "metadata": {
    "deletable": false,
    "editable": false,
    "nbgrader": {
     "checksum": "b5d81c960aecd96c6df4929971c8d565",
     "grade": true,
     "grade_id": "cell-05a2366b6609ef2b",
     "locked": true,
     "points": 1,
     "schema_version": 1,
     "solution": false
    }
   },
   "outputs": [],
   "source": [
    "# Hidden tests for question 2"
   ]
  },
  {
   "cell_type": "code",
   "execution_count": null,
   "metadata": {
    "deletable": false,
    "editable": false,
    "nbgrader": {
     "checksum": "c3a288296c362b180ac6270c0462076a",
     "grade": true,
     "grade_id": "cell-8d9eefa3f460b5b2",
     "locked": true,
     "points": 1,
     "schema_version": 1,
     "solution": false
    }
   },
   "outputs": [],
   "source": [
    "# Hidden tests for question 2"
   ]
  },
  {
   "cell_type": "markdown",
   "metadata": {
    "deletable": false,
    "editable": false,
    "nbgrader": {
     "checksum": "842b6e973f04c4b68f9f57c1e535417b",
     "grade": false,
     "grade_id": "cell-99853183b6f466d4",
     "locked": true,
     "schema_version": 1,
     "solution": false
    }
   },
   "source": [
    "#### Question 3 (2 points)\n",
    "\n",
    "Given a list containing 7 items, (for instance `l = ['a', 'b', 'c', 'd', 'e', 'f', 'g']`), which of the following code segments will return the 3rd element (`'c'`) up to **and including** the 6th element (`'f'`).  Select all that apply.\n",
    "\n",
    "a) `l[3:6]`\n",
    "\n",
    "b) `l[2:6]`\n",
    "\n",
    "c) `l[3:-1]`\n",
    "\n",
    "d) `l[2:-1]`\n",
    "\n",
    "e) `l[-5:-1]`\n",
    "\n",
    "f) `l[-5:7]`"
   ]
  },
  {
   "cell_type": "code",
   "execution_count": null,
   "metadata": {},
   "outputs": [],
   "source": [
    "def question3():\n",
    "    \n",
    "    ## Uncomment all letters corresponding to what you believe are the CORRECT code snippets\n",
    "    \n",
    "    #a = True\n",
    "    #b = True\n",
    "    #c = True\n",
    "    #d = True\n",
    "    #e = True\n",
    "    #f = True\n",
    "    \n",
    "    ## Do not modify the code below\n",
    "    answers = []\n",
    "    for i in 'abcdef':\n",
    "        \n",
    "        if i in locals(): answers.append(i)\n",
    "            \n",
    "    return answers"
   ]
  },
  {
   "cell_type": "code",
   "execution_count": null,
   "metadata": {},
   "outputs": [],
   "source": [
    "# Use this code cell to verify your answer\n",
    "print(\"You have selected: \", question3())"
   ]
  },
  {
   "cell_type": "code",
   "execution_count": null,
   "metadata": {
    "deletable": false,
    "editable": false,
    "nbgrader": {
     "checksum": "5a6161fc30333119c96a96189151eae4",
     "grade": true,
     "grade_id": "cell-6a41b0baa1f9691b",
     "locked": true,
     "points": 1,
     "schema_version": 1,
     "solution": false
    }
   },
   "outputs": [],
   "source": [
    "# Hidden tests for question 3"
   ]
  },
  {
   "cell_type": "code",
   "execution_count": null,
   "metadata": {
    "deletable": false,
    "editable": false,
    "nbgrader": {
     "checksum": "09a999a2812963ca9974bc13fec72df0",
     "grade": true,
     "grade_id": "cell-5a96c613037d52a2",
     "locked": true,
     "points": 1,
     "schema_version": 1,
     "solution": false
    }
   },
   "outputs": [],
   "source": [
    "# Hidden tests for question 3"
   ]
  },
  {
   "cell_type": "markdown",
   "metadata": {
    "deletable": false,
    "editable": false,
    "nbgrader": {
     "checksum": "c963b487fa00dc124f9165d1a229fae8",
     "grade": false,
     "grade_id": "cell-e35da215c72eff85",
     "locked": true,
     "schema_version": 1,
     "solution": false
    }
   },
   "source": [
    "#### Question 4 (Short answer, 2 points)\n",
    "\n",
    "Let's say you want to write a program that keeps track of all of the movies you've watched, and the number of times you have watched them. What sort of data structure would you use, and why?"
   ]
  },
  {
   "cell_type": "code",
   "execution_count": null,
   "metadata": {
    "deletable": false,
    "nbgrader": {
     "checksum": "1f64d18f5d00105a8cf25f422ca71c5e",
     "grade": true,
     "grade_id": "cell-6deddb6a2c4ba9f6",
     "locked": false,
     "points": 2,
     "schema_version": 1,
     "solution": true
    }
   },
   "outputs": [],
   "source": [
    "### Write Your Answer Here as a Comment:\n",
    "### "
   ]
  },
  {
   "cell_type": "markdown",
   "metadata": {
    "deletable": false,
    "editable": false,
    "nbgrader": {
     "checksum": "edd80ff415781f2fbb76974b3d9bbaec",
     "grade": false,
     "grade_id": "cell-0ebd1ecf59c9b524",
     "locked": true,
     "schema_version": 1,
     "solution": false
    }
   },
   "source": [
    "#### Question 5 (Short answer, 2 points)\n",
    "\n",
    "There is a problem with the code below. What is it, and how would you fix it? (The code is supposed to add all the numbers from 1 to N)\n",
    "\n",
    "~~~\n",
    "def counting(N):    \n",
    "    s = 0\n",
    "    while i < N:\n",
    "        s = s + i\n",
    "    i = i + 1\n",
    "    return s\n",
    "~~~"
   ]
  },
  {
   "cell_type": "code",
   "execution_count": null,
   "metadata": {
    "deletable": false,
    "nbgrader": {
     "checksum": "d7d42b8b2ab7b6ddabb69e6637f5074c",
     "grade": true,
     "grade_id": "cell-11c5d168ed504377",
     "locked": false,
     "points": 2,
     "schema_version": 1,
     "solution": true
    }
   },
   "outputs": [],
   "source": [
    "### Write Your Answer Here as a Comment:\n",
    "### "
   ]
  },
  {
   "cell_type": "markdown",
   "metadata": {
    "deletable": false,
    "editable": false,
    "nbgrader": {
     "checksum": "3033f8ea96a3d04fe3484d646fc65cc6",
     "grade": false,
     "grade_id": "cell-71a0b5befc6ac718",
     "locked": true,
     "schema_version": 1,
     "solution": false
    }
   },
   "source": [
    "## Part II: Programming Questions (21 points total)\n",
    "\n",
    "#### Question 6: Wizarding Currencies (10 points)\n",
    "\n",
    "In the wizarding world, money comes in three denominations: bronze Knuts, silver Sickles, and golden Galleons.\n",
    "\n",
    "29 Knuts make one Sickle, and 17 Sickles make one Galleon.\n",
    "\n",
    "Write two functions (worth 5 points each): \n",
    "\n",
    "* `knuts(k, s, g)` that takes in a number of Knuts, Sickles, and Galleons, and returns an integer representing the total number of Knuts the coins are worth together.\n",
    "\n",
    "* `ksg(k)`, which, given a number of Knuts, finds their value in Knuts, Sickles, and Galleons. Return your value as a dictionary, where the key represents the type of coin (Knut, Sickle, or Galleon), and the values are the number of that type of coin. See the test cases for an example."
   ]
  },
  {
   "cell_type": "code",
   "execution_count": null,
   "metadata": {
    "deletable": false,
    "nbgrader": {
     "checksum": "fec935ab3f65e9c2ef3107a2d8cb5d55",
     "grade": false,
     "grade_id": "cell-1f4f34250fdb3b4c",
     "locked": false,
     "schema_version": 1,
     "solution": true
    }
   },
   "outputs": [],
   "source": [
    "def knuts(k, s, g):\n",
    "    # Your code here.\n"
   ]
  },
  {
   "cell_type": "code",
   "execution_count": null,
   "metadata": {},
   "outputs": [],
   "source": [
    "knuts(1, 1, 1) == 523"
   ]
  },
  {
   "cell_type": "code",
   "execution_count": null,
   "metadata": {},
   "outputs": [],
   "source": [
    "knuts(33, 10, 1) == 816"
   ]
  },
  {
   "cell_type": "code",
   "execution_count": null,
   "metadata": {
    "deletable": false,
    "editable": false,
    "nbgrader": {
     "checksum": "12991db3d8fd77bfe7706650782ac093",
     "grade": true,
     "grade_id": "cell-5ad04bd63af3f9c3",
     "locked": true,
     "points": 1,
     "schema_version": 1,
     "solution": false
    }
   },
   "outputs": [],
   "source": [
    "# Hidden test cases for knuts()"
   ]
  },
  {
   "cell_type": "code",
   "execution_count": null,
   "metadata": {
    "deletable": false,
    "editable": false,
    "nbgrader": {
     "checksum": "988432e21ba187b0565dddd3c26f96da",
     "grade": true,
     "grade_id": "cell-f1965df1fed0c003",
     "locked": true,
     "points": 1,
     "schema_version": 1,
     "solution": false
    }
   },
   "outputs": [],
   "source": [
    "# Hidden test cases for knuts()"
   ]
  },
  {
   "cell_type": "code",
   "execution_count": null,
   "metadata": {
    "deletable": false,
    "editable": false,
    "nbgrader": {
     "checksum": "b2108d82dd5797e1a8c5443508d89a09",
     "grade": true,
     "grade_id": "cell-98e6f34c9a37a4ba",
     "locked": true,
     "points": 1,
     "schema_version": 1,
     "solution": false
    }
   },
   "outputs": [],
   "source": [
    "# Hidden test cases for knuts()"
   ]
  },
  {
   "cell_type": "code",
   "execution_count": null,
   "metadata": {
    "deletable": false,
    "editable": false,
    "nbgrader": {
     "checksum": "5d254d18e75d6bd571861990c64f3649",
     "grade": true,
     "grade_id": "cell-68879e5ba75507f0",
     "locked": true,
     "points": 1,
     "schema_version": 1,
     "solution": false
    }
   },
   "outputs": [],
   "source": [
    "# Hidden test cases for knuts()"
   ]
  },
  {
   "cell_type": "code",
   "execution_count": null,
   "metadata": {
    "deletable": false,
    "editable": false,
    "nbgrader": {
     "checksum": "edff46ad783e768ffbb45d4ff348c9de",
     "grade": true,
     "grade_id": "cell-d075af1caf6804cb",
     "locked": true,
     "points": 1,
     "schema_version": 1,
     "solution": false
    }
   },
   "outputs": [],
   "source": [
    "# Hidden test cases for knuts()"
   ]
  },
  {
   "cell_type": "code",
   "execution_count": null,
   "metadata": {
    "deletable": false,
    "nbgrader": {
     "checksum": "1778cfd39db06633243f6fa702b7d3cd",
     "grade": false,
     "grade_id": "cell-d7c92a5c665ba558",
     "locked": false,
     "schema_version": 1,
     "solution": true
    }
   },
   "outputs": [],
   "source": [
    "def ksg(k):  \n",
    "    # Your code here.\n"
   ]
  },
  {
   "cell_type": "code",
   "execution_count": null,
   "metadata": {},
   "outputs": [],
   "source": [
    "ksg(523) == {'Galleons': 1, 'Knuts': 1, 'Sickles': 1}"
   ]
  },
  {
   "cell_type": "code",
   "execution_count": null,
   "metadata": {},
   "outputs": [],
   "source": [
    "ksg(30) == {'Galleons': 0, 'Knuts': 1, 'Sickles': 1}"
   ]
  },
  {
   "cell_type": "code",
   "execution_count": null,
   "metadata": {},
   "outputs": [],
   "source": [
    "ksg(4096) == {'Galleons': 8, 'Knuts': 7, 'Sickles': 5}"
   ]
  },
  {
   "cell_type": "code",
   "execution_count": null,
   "metadata": {
    "deletable": false,
    "editable": false,
    "nbgrader": {
     "checksum": "9c7c9f46dd719ee7bb6ebf986a9f1b76",
     "grade": true,
     "grade_id": "cell-de24a24140239f3e",
     "locked": true,
     "points": 1,
     "schema_version": 1,
     "solution": false
    }
   },
   "outputs": [],
   "source": [
    "# Hidden test cases for ksg()"
   ]
  },
  {
   "cell_type": "code",
   "execution_count": null,
   "metadata": {
    "deletable": false,
    "editable": false,
    "nbgrader": {
     "checksum": "b97f94039b52e92112a8070aaf85b2e1",
     "grade": true,
     "grade_id": "cell-19dcb1a03dfbe7b5",
     "locked": true,
     "points": 1,
     "schema_version": 1,
     "solution": false
    }
   },
   "outputs": [],
   "source": [
    "# Hidden test cases for ksg()"
   ]
  },
  {
   "cell_type": "code",
   "execution_count": null,
   "metadata": {
    "deletable": false,
    "editable": false,
    "nbgrader": {
     "checksum": "8feb21e07be5ef3261d048326648368a",
     "grade": true,
     "grade_id": "cell-7601faea24544373",
     "locked": true,
     "points": 1,
     "schema_version": 1,
     "solution": false
    }
   },
   "outputs": [],
   "source": [
    "# Hidden test cases for ksg()"
   ]
  },
  {
   "cell_type": "code",
   "execution_count": null,
   "metadata": {
    "deletable": false,
    "editable": false,
    "nbgrader": {
     "checksum": "5734db6f77175c6c53d3f8bd98b01469",
     "grade": true,
     "grade_id": "cell-f19d80b0ee96e091",
     "locked": true,
     "points": 1,
     "schema_version": 1,
     "solution": false
    }
   },
   "outputs": [],
   "source": [
    "# Hidden test cases for ksg()"
   ]
  },
  {
   "cell_type": "code",
   "execution_count": null,
   "metadata": {
    "deletable": false,
    "editable": false,
    "nbgrader": {
     "checksum": "f4b9c5e30094b35864d9fc666429047e",
     "grade": true,
     "grade_id": "cell-2132b8b13ffd6c55",
     "locked": true,
     "points": 1,
     "schema_version": 1,
     "solution": false
    }
   },
   "outputs": [],
   "source": [
    "# Hidden test cases for ksg()"
   ]
  },
  {
   "cell_type": "markdown",
   "metadata": {
    "deletable": false,
    "editable": false,
    "nbgrader": {
     "checksum": "a89078c583a051667873f8ec0f44132a",
     "grade": false,
     "grade_id": "cell-242c7365c30a27b9",
     "locked": true,
     "schema_version": 1,
     "solution": false
    }
   },
   "source": [
    "#### Question 7a: Checking Primes (5 points)\n",
    "\n",
    "Write a function, `isPrime(N)`, that returns `True` if `N` is a prime number, and `False` otherwise. You may assume that `N` will always be positive, and greater than 1.\n",
    "\n",
    "A number is prime if it is only divisible by one and itself. A simple way to check if a number is prime is to check the remainder after dividing by every positive number (other than 1) below `N`. If any remainder is equal to zero, the number is not prime."
   ]
  },
  {
   "cell_type": "code",
   "execution_count": null,
   "metadata": {
    "deletable": false,
    "nbgrader": {
     "checksum": "23bf6f8de11c6a9979b36b578b1ddaa8",
     "grade": false,
     "grade_id": "cell-ffec72cc583c9c6c",
     "locked": false,
     "schema_version": 1,
     "solution": true
    }
   },
   "outputs": [],
   "source": [
    "# Write your answer here.\n"
   ]
  },
  {
   "cell_type": "code",
   "execution_count": null,
   "metadata": {},
   "outputs": [],
   "source": [
    "isPrime(4) == False"
   ]
  },
  {
   "cell_type": "code",
   "execution_count": null,
   "metadata": {},
   "outputs": [],
   "source": [
    "isPrime(13) == True"
   ]
  },
  {
   "cell_type": "code",
   "execution_count": null,
   "metadata": {},
   "outputs": [],
   "source": [
    "isPrime(101) == True"
   ]
  },
  {
   "cell_type": "code",
   "execution_count": null,
   "metadata": {},
   "outputs": [],
   "source": [
    "isPrime(1993) == True"
   ]
  },
  {
   "cell_type": "code",
   "execution_count": null,
   "metadata": {},
   "outputs": [],
   "source": [
    "isPrime(1991) == False"
   ]
  },
  {
   "cell_type": "code",
   "execution_count": null,
   "metadata": {
    "deletable": false,
    "editable": false,
    "nbgrader": {
     "checksum": "fdfe262ea95305f1dd5dace721edcd7d",
     "grade": true,
     "grade_id": "cell-e3e4fb9cd0d5cda2",
     "locked": true,
     "points": 1,
     "schema_version": 1,
     "solution": false
    }
   },
   "outputs": [],
   "source": [
    "# Hidden test cases for isPrime()"
   ]
  },
  {
   "cell_type": "code",
   "execution_count": null,
   "metadata": {
    "deletable": false,
    "editable": false,
    "nbgrader": {
     "checksum": "b9ca8df15841d2a2889272714512bed5",
     "grade": true,
     "grade_id": "cell-26c09ac2650e01bc",
     "locked": true,
     "points": 1,
     "schema_version": 1,
     "solution": false
    }
   },
   "outputs": [],
   "source": [
    "# Hidden test cases for isPrime()"
   ]
  },
  {
   "cell_type": "code",
   "execution_count": null,
   "metadata": {
    "deletable": false,
    "editable": false,
    "nbgrader": {
     "checksum": "29ba5e232727c20d391d78b9620ee7b8",
     "grade": true,
     "grade_id": "cell-945ed1173ef1217d",
     "locked": true,
     "points": 1,
     "schema_version": 1,
     "solution": false
    }
   },
   "outputs": [],
   "source": [
    "# Hidden test cases for isPrime()"
   ]
  },
  {
   "cell_type": "code",
   "execution_count": null,
   "metadata": {
    "deletable": false,
    "editable": false,
    "nbgrader": {
     "checksum": "ad748dcccd7934f5194880ceb9cb7ba2",
     "grade": true,
     "grade_id": "cell-31c9848c88d2fc07",
     "locked": true,
     "points": 1,
     "schema_version": 1,
     "solution": false
    }
   },
   "outputs": [],
   "source": [
    "# Hidden test cases for isPrime()"
   ]
  },
  {
   "cell_type": "code",
   "execution_count": null,
   "metadata": {
    "deletable": false,
    "editable": false,
    "nbgrader": {
     "checksum": "ee888fe61b5e02f8637baee1e2bf67bb",
     "grade": true,
     "grade_id": "cell-80c43bf83b599c6e",
     "locked": true,
     "points": 1,
     "schema_version": 1,
     "solution": false
    }
   },
   "outputs": [],
   "source": [
    "# Hidden test cases for isPrime()"
   ]
  },
  {
   "cell_type": "markdown",
   "metadata": {
    "deletable": false,
    "editable": false,
    "nbgrader": {
     "checksum": "93bb6eb44b74e3e50adb027ed879ef92",
     "grade": false,
     "grade_id": "cell-2e792f8f5e8ffe7c",
     "locked": true,
     "schema_version": 1,
     "solution": false
    }
   },
   "source": [
    "#### Question 7b: Find the Next Prime (3 points)\n",
    "\n",
    "Write a function, `nextPrime(N)` that finds the next number larger than `N` that is prime. You can rest assured that there is always another prime number above `N`."
   ]
  },
  {
   "cell_type": "code",
   "execution_count": null,
   "metadata": {
    "deletable": false,
    "nbgrader": {
     "checksum": "243cdb464df3b8ea374896de5b62c76f",
     "grade": false,
     "grade_id": "cell-bc772084dd8eaf72",
     "locked": false,
     "schema_version": 1,
     "solution": true
    }
   },
   "outputs": [],
   "source": [
    "# Write your answer here.\n"
   ]
  },
  {
   "cell_type": "code",
   "execution_count": null,
   "metadata": {},
   "outputs": [],
   "source": [
    "nextPrime(12) == 13"
   ]
  },
  {
   "cell_type": "code",
   "execution_count": null,
   "metadata": {},
   "outputs": [],
   "source": [
    "nextPrime(13) == 17"
   ]
  },
  {
   "cell_type": "code",
   "execution_count": null,
   "metadata": {},
   "outputs": [],
   "source": [
    "nextPrime(2**16) == 65537"
   ]
  },
  {
   "cell_type": "code",
   "execution_count": null,
   "metadata": {
    "deletable": false,
    "editable": false,
    "nbgrader": {
     "checksum": "41f686ffde0c7cf9ea036f5b70a7214a",
     "grade": true,
     "grade_id": "cell-3b30499e72fbe01b",
     "locked": true,
     "points": 1,
     "schema_version": 1,
     "solution": false
    }
   },
   "outputs": [],
   "source": [
    "# Hidden tests for nextPrime()"
   ]
  },
  {
   "cell_type": "code",
   "execution_count": null,
   "metadata": {
    "deletable": false,
    "editable": false,
    "nbgrader": {
     "checksum": "3351899dd763de786be0f5e0d5e22c7b",
     "grade": true,
     "grade_id": "cell-492d87ff3ec94583",
     "locked": true,
     "points": 1,
     "schema_version": 1,
     "solution": false
    }
   },
   "outputs": [],
   "source": [
    "# Hidden tests for nextPrime()"
   ]
  },
  {
   "cell_type": "code",
   "execution_count": null,
   "metadata": {
    "deletable": false,
    "editable": false,
    "nbgrader": {
     "checksum": "67bb5ac65e205727435c7ad6d7e746fa",
     "grade": true,
     "grade_id": "cell-0bb858edb4f165e7",
     "locked": true,
     "points": 1,
     "schema_version": 1,
     "solution": false
    }
   },
   "outputs": [],
   "source": [
    "# Hidden tests for nextPrime()"
   ]
  },
  {
   "cell_type": "markdown",
   "metadata": {
    "deletable": false,
    "editable": false,
    "nbgrader": {
     "checksum": "2e1429c808fecb31af674d3a0230df5f",
     "grade": false,
     "grade_id": "cell-8fa5e91ba2d14adc",
     "locked": true,
     "schema_version": 1,
     "solution": false
    }
   },
   "source": [
    "#### Question 8a: Largest Product (2 points)\n",
    "\n",
    "In the following number, the four adjacent digits that give the largest product are:\n",
    "9 × 9 × 8 × 9 = 5832.\n",
    "\n",
    "5100474821663704844031**9989**00088952434506585412275886\n",
    "\n",
    "Write a function `max_product` that takes as input a base 10 number `s` (represented as a string), and outputs the product of the **twelve** adjacent digits that have the greatest product."
   ]
  },
  {
   "cell_type": "code",
   "execution_count": null,
   "metadata": {
    "deletable": false,
    "nbgrader": {
     "checksum": "bf06b6afed3b291f16dadcaf0846f244",
     "grade": false,
     "grade_id": "cell-9cc76527702ece7b",
     "locked": false,
     "schema_version": 1,
     "solution": true
    }
   },
   "outputs": [],
   "source": [
    "# Write your answer here.\n"
   ]
  },
  {
   "cell_type": "code",
   "execution_count": null,
   "metadata": {},
   "outputs": [],
   "source": [
    "max_product('123456789123456789') == 121927680"
   ]
  },
  {
   "cell_type": "code",
   "execution_count": null,
   "metadata": {
    "deletable": false,
    "editable": false,
    "nbgrader": {
     "checksum": "85b46a773c9c620641c6899629d489f7",
     "grade": true,
     "grade_id": "cell-ab5bfc6fa8d874ac",
     "locked": true,
     "points": 2,
     "schema_version": 1,
     "solution": false
    }
   },
   "outputs": [],
   "source": [
    "# Hidden test cell for max_product()"
   ]
  },
  {
   "cell_type": "markdown",
   "metadata": {
    "deletable": false,
    "editable": false,
    "nbgrader": {
     "checksum": "36742a836ade037d5ca999cc80958894",
     "grade": false,
     "grade_id": "cell-0880dc64b4822f45",
     "locked": true,
     "schema_version": 1,
     "solution": false
    }
   },
   "source": [
    "#### Question 8b (1 point)\n",
    "\n",
    "Write a function `max_product2` that finds the value of the second largest product of twelve adjacent digits in a given number."
   ]
  },
  {
   "cell_type": "code",
   "execution_count": null,
   "metadata": {
    "deletable": false,
    "nbgrader": {
     "checksum": "404a41f0c6608ae138ce4ba8933d59a2",
     "grade": false,
     "grade_id": "cell-b9d4509836dadcaa",
     "locked": false,
     "schema_version": 1,
     "solution": true
    }
   },
   "outputs": [],
   "source": [
    "# Write your answer here.\n"
   ]
  },
  {
   "cell_type": "code",
   "execution_count": null,
   "metadata": {},
   "outputs": [],
   "source": [
    "max_product2('123456789123456789') == 76204800"
   ]
  },
  {
   "cell_type": "code",
   "execution_count": null,
   "metadata": {
    "deletable": false,
    "editable": false,
    "nbgrader": {
     "checksum": "7330ff3a97213cfc6c6ce160c25dbc03",
     "grade": true,
     "grade_id": "cell-3e1c72929b24b413",
     "locked": true,
     "points": 1,
     "schema_version": 1,
     "solution": false
    }
   },
   "outputs": [],
   "source": [
    "# Hidden test for max_product2()"
   ]
  }
 ],
 "metadata": {
  "kernelspec": {
   "display_name": "Python 3",
   "language": "python",
   "name": "python3"
  },
  "language_info": {
   "codemirror_mode": {
    "name": "ipython",
    "version": 3
   },
   "file_extension": ".py",
   "mimetype": "text/x-python",
   "name": "python",
   "nbconvert_exporter": "python",
   "pygments_lexer": "ipython3",
   "version": "3.6.3"
  }
 },
 "nbformat": 4,
 "nbformat_minor": 2
}
