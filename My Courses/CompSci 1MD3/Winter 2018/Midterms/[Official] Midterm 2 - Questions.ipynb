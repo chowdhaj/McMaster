{
 "cells": [
  {
   "cell_type": "markdown",
   "metadata": {
    "deletable": false,
    "editable": false,
    "nbgrader": {
     "checksum": "30e63af65921b23a40b4cbd5f4c65038",
     "grade": false,
     "grade_id": "cell-8270991a73638fc0",
     "locked": true,
     "schema_version": 1,
     "solution": false
    }
   },
   "source": [
    "## COMP SCI 1MD3 Introduction to Programming, Winter 2018\n",
    "### Douglas Stebila (Instructor), Joey Legere, Karl Knopf, Natalie Chin, Victor Chen (TAs)\n",
    "### Midterm Test 2 Wednesday, March 14, 3:30 - 4:20 PM\n",
    "### Maximum grade: 30 / 30\n",
    "\n",
    "You must use our JupyterHub server to complete the test. Once you have completed the test, click the “Submit” button in JupyterHub.  During the test, the only program you may use is your web browser, and the only web pages you may visit are the JupyterHub site and the Python documentation on doc.python.org.  You may not use Google, StackOverflow, IDLE, your own local Jupyter, or any other website or program.  University Technology Services will be logging network access for students in this class during the test period.  Please close all other programs on your computer and all other browser tabs and windows.  During the test, please raise your hand if you need assistance, would like scrap paper, or need to go to the washroom.  The test will be over at 4:20.  If you are finished early, you may submit your notebook on JupyterHub and then quietly leave.  However, we will ask you to remain in your seat during the last 10 minutes to avoid disturbing other students. "
   ]
  },
  {
   "cell_type": "markdown",
   "metadata": {
    "deletable": false,
    "editable": false,
    "nbgrader": {
     "checksum": "c695cd5ac050e2c4ab775530cf723b3e",
     "grade": false,
     "grade_id": "cell-261f4f4899c6a529",
     "locked": true,
     "schema_version": 1,
     "solution": false
    }
   },
   "source": [
    "## Part I: Short Answer (8 points)\n",
    "\n",
    "#### Question 1: Decimal/Hex Conversions (3 points)\n",
    "\n",
    "\n",
    "a) Convert the number `6AF` from hexadecimal to decimal.\n",
    "\n",
    "b) Convert the number `10110` from binary to decimal.\n",
    "\n",
    "c) Convert the number `267` from decimal to hexadecimal. Represent your hexadecimal number as an uppercase string."
   ]
  },
  {
   "cell_type": "code",
   "execution_count": 1,
   "metadata": {
    "deletable": false,
    "nbgrader": {
     "checksum": "664077da8e8ad923dd49771ac33e4bc9",
     "grade": false,
     "grade_id": "cell-ef5611c745911b43",
     "locked": false,
     "schema_version": 1,
     "solution": true
    }
   },
   "outputs": [],
   "source": [
    "def question1():\n",
    "    \n",
    "    # Set the variables a and b to your answers for question 1a and 1b respectively.\n",
    "    \n",
    "    # Replace this value with your answer for 1a\n",
    "    # AS AN INTEGER\n",
    "    a = 1711\n",
    "    \n",
    "    # Replace this value with your answer for 1a\n",
    "    # AS AN INTEGER\n",
    "    b = 22   \n",
    "    \n",
    "    # Replace this value with your answer for 1c\n",
    "    # AS A STRING, ALL UPPERCASE\n",
    "    c = \"10B\" \n",
    "    \n",
    "    return (a, b, c)\n"
   ]
  },
  {
   "cell_type": "code",
   "execution_count": 2,
   "metadata": {
    "deletable": false,
    "editable": false,
    "nbgrader": {
     "checksum": "747025ae97716425701a20ea9a9a215a",
     "grade": true,
     "grade_id": "cell-b6b01dc3facf1e79",
     "locked": true,
     "points": 1,
     "schema_version": 1,
     "solution": false
    }
   },
   "outputs": [],
   "source": [
    "# Hidden test for question 1a"
   ]
  },
  {
   "cell_type": "code",
   "execution_count": 3,
   "metadata": {
    "deletable": false,
    "editable": false,
    "nbgrader": {
     "checksum": "14c47ab98dc4d0e0977cda704dbcbf9c",
     "grade": true,
     "grade_id": "cell-926e078fc468d75e",
     "locked": true,
     "points": 1,
     "schema_version": 1,
     "solution": false
    }
   },
   "outputs": [],
   "source": [
    "# Hidden test for question 1b"
   ]
  },
  {
   "cell_type": "code",
   "execution_count": 4,
   "metadata": {
    "deletable": false,
    "editable": false,
    "nbgrader": {
     "checksum": "c00f33a07fd29330cf8d3da858d70f8f",
     "grade": true,
     "grade_id": "cell-4e980291540637d1",
     "locked": true,
     "points": 1,
     "schema_version": 1,
     "solution": false
    }
   },
   "outputs": [],
   "source": [
    "# Hidden test for question 1c"
   ]
  },
  {
   "cell_type": "markdown",
   "metadata": {
    "deletable": false,
    "editable": false,
    "nbgrader": {
     "checksum": "86955bb2f55b7dca0f370a5cb6ced855",
     "grade": false,
     "grade_id": "cell-448215b317113e18",
     "locked": true,
     "schema_version": 1,
     "solution": false
    }
   },
   "source": [
    "#### Question 2: Broken Function I (2 points)\n",
    "\n",
    "The following function tries to find the roots of a quadratic equation by implementing the following formula:\n",
    "\n",
    "$$ x = \\frac{-b \\pm \\sqrt{b^2 - 4ac}}{2a} $$\n",
    "\n",
    "\n",
    "\n",
    "a) There is a mistake in the implementation of this function. Fix it so you get correct results.<br>\n",
    "b) Find an input `a`, `b`, `c` that raises an unhandled exception."
   ]
  },
  {
   "cell_type": "code",
   "execution_count": 37,
   "metadata": {
    "deletable": false,
    "nbgrader": {
     "checksum": "2b1814870256bb3c85e77607fd293ef3",
     "grade": false,
     "grade_id": "cell-cb6fa14fffca753e",
     "locked": false,
     "schema_version": 1,
     "solution": true
    }
   },
   "outputs": [],
   "source": [
    "from math import sqrt\n",
    "# 2a) Fix this function\n",
    "def quadratic(a, b, c):\n",
    "    \n",
    "    x1 = (-b + sqrt(b**2 - 4*a*c)) / (2*a)\n",
    "    x2 = (-b - sqrt(b**2 - 4*a*c)) / (2*a)\n",
    "        \n",
    "    return (x1, x2)\n",
    "\n",
    "# 2b) Change these values so that you raise an error when calling the function above\n",
    "A = 10\n",
    "B = 0\n",
    "C = 5\n"
   ]
  },
  {
   "cell_type": "code",
   "execution_count": 38,
   "metadata": {},
   "outputs": [
    {
     "data": {
      "text/plain": [
       "(0.5, -3.0)"
      ]
     },
     "execution_count": 38,
     "metadata": {},
     "output_type": "execute_result"
    }
   ],
   "source": [
    "# Use this cell to run your own tests.\n",
    "quadratic(2, 5, -3) # (2.0, -12.0) -> Problem is with (2a)\n",
    "#2b --> Doesn't handle negative of square root"
   ]
  },
  {
   "cell_type": "code",
   "execution_count": 39,
   "metadata": {},
   "outputs": [
    {
     "data": {
      "text/plain": [
       "True"
      ]
     },
     "execution_count": 39,
     "metadata": {},
     "output_type": "execute_result"
    }
   ],
   "source": [
    "# Test case for 2a\n",
    "quadratic(2, 5, -3) == (0.5, -3.0)"
   ]
  },
  {
   "cell_type": "code",
   "execution_count": 40,
   "metadata": {},
   "outputs": [
    {
     "ename": "ValueError",
     "evalue": "math domain error",
     "output_type": "error",
     "traceback": [
      "\u001b[0;31m---------------------------------------------------------------------------\u001b[0m",
      "\u001b[0;31mValueError\u001b[0m                                Traceback (most recent call last)",
      "\u001b[0;32m<ipython-input-40-15ea8b054590>\u001b[0m in \u001b[0;36m<module>\u001b[0;34m()\u001b[0m\n\u001b[1;32m      1\u001b[0m \u001b[0;31m# Test case for 2b\u001b[0m\u001b[0;34m\u001b[0m\u001b[0;34m\u001b[0m\u001b[0m\n\u001b[0;32m----> 2\u001b[0;31m \u001b[0mquadratic\u001b[0m\u001b[0;34m(\u001b[0m\u001b[0mA\u001b[0m\u001b[0;34m,\u001b[0m \u001b[0mB\u001b[0m\u001b[0;34m,\u001b[0m \u001b[0mC\u001b[0m\u001b[0;34m)\u001b[0m\u001b[0;34m\u001b[0m\u001b[0m\n\u001b[0m",
      "\u001b[0;32m<ipython-input-37-7b49a559c8e9>\u001b[0m in \u001b[0;36mquadratic\u001b[0;34m(a, b, c)\u001b[0m\n\u001b[1;32m      3\u001b[0m \u001b[0;32mdef\u001b[0m \u001b[0mquadratic\u001b[0m\u001b[0;34m(\u001b[0m\u001b[0ma\u001b[0m\u001b[0;34m,\u001b[0m \u001b[0mb\u001b[0m\u001b[0;34m,\u001b[0m \u001b[0mc\u001b[0m\u001b[0;34m)\u001b[0m\u001b[0;34m:\u001b[0m\u001b[0;34m\u001b[0m\u001b[0m\n\u001b[1;32m      4\u001b[0m \u001b[0;34m\u001b[0m\u001b[0m\n\u001b[0;32m----> 5\u001b[0;31m     \u001b[0mx1\u001b[0m \u001b[0;34m=\u001b[0m \u001b[0;34m(\u001b[0m\u001b[0;34m-\u001b[0m\u001b[0mb\u001b[0m \u001b[0;34m+\u001b[0m \u001b[0msqrt\u001b[0m\u001b[0;34m(\u001b[0m\u001b[0mb\u001b[0m\u001b[0;34m**\u001b[0m\u001b[0;36m2\u001b[0m \u001b[0;34m-\u001b[0m \u001b[0;36m4\u001b[0m\u001b[0;34m*\u001b[0m\u001b[0ma\u001b[0m\u001b[0;34m*\u001b[0m\u001b[0mc\u001b[0m\u001b[0;34m)\u001b[0m\u001b[0;34m)\u001b[0m \u001b[0;34m/\u001b[0m \u001b[0;34m(\u001b[0m\u001b[0;36m2\u001b[0m\u001b[0;34m*\u001b[0m\u001b[0ma\u001b[0m\u001b[0;34m)\u001b[0m\u001b[0;34m\u001b[0m\u001b[0m\n\u001b[0m\u001b[1;32m      6\u001b[0m     \u001b[0mx2\u001b[0m \u001b[0;34m=\u001b[0m \u001b[0;34m(\u001b[0m\u001b[0;34m-\u001b[0m\u001b[0mb\u001b[0m \u001b[0;34m-\u001b[0m \u001b[0msqrt\u001b[0m\u001b[0;34m(\u001b[0m\u001b[0mb\u001b[0m\u001b[0;34m**\u001b[0m\u001b[0;36m2\u001b[0m \u001b[0;34m-\u001b[0m \u001b[0;36m4\u001b[0m\u001b[0;34m*\u001b[0m\u001b[0ma\u001b[0m\u001b[0;34m*\u001b[0m\u001b[0mc\u001b[0m\u001b[0;34m)\u001b[0m\u001b[0;34m)\u001b[0m \u001b[0;34m/\u001b[0m \u001b[0;34m(\u001b[0m\u001b[0;36m2\u001b[0m\u001b[0;34m*\u001b[0m\u001b[0ma\u001b[0m\u001b[0;34m)\u001b[0m\u001b[0;34m\u001b[0m\u001b[0m\n\u001b[1;32m      7\u001b[0m \u001b[0;34m\u001b[0m\u001b[0m\n",
      "\u001b[0;31mValueError\u001b[0m: math domain error"
     ]
    }
   ],
   "source": [
    "# Test case for 2b\n",
    "quadratic(A, B, C) "
   ]
  },
  {
   "cell_type": "code",
   "execution_count": 41,
   "metadata": {
    "deletable": false,
    "editable": false,
    "nbgrader": {
     "checksum": "bdd5d8d9d5ca22bb19f40a48d4d103f7",
     "grade": true,
     "grade_id": "cell-d5da80e92eae0f55",
     "locked": true,
     "points": 1,
     "schema_version": 1,
     "solution": false
    }
   },
   "outputs": [],
   "source": [
    "# Hidden test for 2a"
   ]
  },
  {
   "cell_type": "code",
   "execution_count": 42,
   "metadata": {
    "deletable": false,
    "editable": false,
    "nbgrader": {
     "checksum": "b9f9b2d0b0e5b8f171e5897f4d52bcbf",
     "grade": true,
     "grade_id": "cell-947492a475a22c67",
     "locked": true,
     "points": 1,
     "schema_version": 1,
     "solution": false
    }
   },
   "outputs": [],
   "source": [
    "# Hidden test for 2b"
   ]
  },
  {
   "cell_type": "markdown",
   "metadata": {
    "deletable": false,
    "editable": false,
    "nbgrader": {
     "checksum": "6b738d97180fd72614e21e880766e26c",
     "grade": false,
     "grade_id": "cell-bb147d655a1e0e7a",
     "locked": true,
     "schema_version": 1,
     "solution": false
    }
   },
   "source": [
    "#### Question 3: Pie Day (3 points)\n",
    "\n",
    "We are creating an object-oriented program that models various foods, including pies.  Here is a list of tasty pies.  Create a hierarchy of classes (up to a depth 4) which groups these foods together under some reasonable grouping criteria.  We have suggested `Food` -> `Vegetarian` as part of one possible grouping.\n",
    "\n",
    "* Apple Pie\n",
    "* Pecan Pie\n",
    "* Chicken Pot Pie\n",
    "* Pumpkin Pie\n",
    "* Meat Pie\n",
    "\n",
    "You only need to create \"stub\" classes, where the definition of the class just contains `pass`."
   ]
  },
  {
   "cell_type": "code",
   "execution_count": 47,
   "metadata": {
    "deletable": false,
    "nbgrader": {
     "checksum": "b461f9de0c2b51bb77455818d5b10520",
     "grade": true,
     "grade_id": "cell-caea9eb051868ea9",
     "locked": false,
     "points": 3,
     "schema_version": 1,
     "solution": true
    }
   },
   "outputs": [],
   "source": [
    "# Create your classes here.\n",
    "\n",
    "# DEPTH = 1\n",
    "class Food:\n",
    "    pass\n",
    "\n",
    "# DEPTH = 2\n",
    "class Pie(Food):\n",
    "    pass\n",
    "\n",
    "# DEPTH = 3\n",
    "class Vegetarian(Pie):\n",
    "    pass\n",
    "\n",
    "class Meatatarian(Pie ):\n",
    "    pass\n",
    "\n",
    "# DEPTH = 4\n",
    "class Apple(Vegetarian):\n",
    "    pass\n",
    "\n",
    "class Pecan(Vegetarian):\n",
    "    pass\n",
    "\n",
    "class Chicken(Meatatarian):\n",
    "    pass\n",
    "\n",
    "class Pumpkin(Vegetarian):\n",
    "    pass\n",
    "\n",
    "class MoreMeat(Meatatarian):\n",
    "    pass"
   ]
  },
  {
   "cell_type": "markdown",
   "metadata": {
    "deletable": false,
    "editable": false,
    "nbgrader": {
     "checksum": "225a10c58479657e8787ddaa6cb02b20",
     "grade": false,
     "grade_id": "cell-71a0b5befc6ac718",
     "locked": true,
     "schema_version": 1,
     "solution": false
    }
   },
   "source": [
    "## Part II: Programming Questions (22 points total)\n",
    "\n",
    "#### Question 4: Broken ATM (11 Points)\n",
    "\n",
    "The following ATM class doesn't work very well. I can withdraw money, even if my bank account is empty, I can't deposit anything in my savings account, and I can withdraw money from any account I want without entering a PIN.\n",
    "\n",
    "[2 points] a) Add a `deposit` method that, given a number, adds that money to my balance.\n",
    "\n",
    "[3 points] b) Modify the `withdraw` function so that it raises a `ValueError` if I try to withdraw more money than I have.\n",
    "\n",
    "[3 points] c) Add a `login` function that, given a PIN, sets `self.logged_in` equal to `True` if it is the correct PIN and `False` if it is not the correct PIN. The PIN for an account will always be stored as an integer, but the `login` method should accept any strings that happen to represent (decimal) integers. Raise a `BaseException` for any invalid data types (e.g., lists, tuples) or any string that cannot be converted to an integer (e.g., \"abcd\").\n",
    "\n",
    "[3 points] d) Modify `withdraw` so that I need to be logged in to withdraw money. If the user is not logged in, raise an `AssertionError` before checking their balance to raise a `ValueError`. <br>\n",
    "\n",
    "For part d, don't modify `deposit`--I actually strongly prefer if other people can deposit their money into my account."
   ]
  },
  {
   "cell_type": "code",
   "execution_count": 90,
   "metadata": {
    "deletable": false,
    "nbgrader": {
     "checksum": "6059905ce053e78bd4c3d0d17a724544",
     "grade": false,
     "grade_id": "cell-1faa473bb5b349fa",
     "locked": false,
     "schema_version": 1,
     "solution": true
    }
   },
   "outputs": [],
   "source": [
    "class ValueError(Exception):\n",
    "    pass\n",
    "\n",
    "class BaseException(Exception):\n",
    "    pass\n",
    "\n",
    "class ATM:\n",
    "    \n",
    "    def __init__(self, balance, pin):\n",
    "        \n",
    "        self.balance = balance\n",
    "        self.pin = pin\n",
    "        self.logged_in = False\n",
    "        \n",
    "    def withdraw(self, amount):\n",
    "        \n",
    "        if self.logged_in:\n",
    "            if amount > self.balance:\n",
    "                raise ValueError\n",
    "            self.balance -= amount\n",
    "        else:\n",
    "            raise AssertionError\n",
    "    \n",
    "        return amount\n",
    "    \n",
    "    \n",
    "    def deposit(self,add): # Fill in the arguments for this function, as well as the code below.\n",
    "        self.balance += add\n",
    "    \n",
    "    def login(self,pin): # Fill in the arguments for this function, as well as the code below.\n",
    "        if type(pin) == int or type(pin) == float:\n",
    "            if pin == self.pin:\n",
    "                self.logged_in = True\n",
    "        elif type(pin) == str:\n",
    "            for x in pin:\n",
    "                if type(x) == int or type(x) == float:\n",
    "                    self.logged_in = True\n",
    "                    continue  \n",
    "        else:\n",
    "            raise BaseException\n"
   ]
  },
  {
   "cell_type": "code",
   "execution_count": 91,
   "metadata": {},
   "outputs": [],
   "source": [
    "# Example test case for part a\n",
    "acct1 = ATM(0, 1234)\n",
    "acct1.deposit(121)\n",
    "acct1.deposit(100)\n",
    "assert acct1.balance == 221"
   ]
  },
  {
   "cell_type": "code",
   "execution_count": 92,
   "metadata": {},
   "outputs": [
    {
     "name": "stdout",
     "output_type": "stream",
     "text": [
      "Successful test case\n"
     ]
    }
   ],
   "source": [
    "# Example test case for part b\n",
    "acct2 = ATM(314.15, 9265)\n",
    "acct2.logged_in = True  # This is so the test case will still pass after you have completed part d\n",
    "\n",
    "assert acct2.withdraw(300) == 300 # Withdraw $300, there should be $14.15 left.\n",
    "assert round(acct2.balance, 2) == 14.15\n",
    "\n",
    "try:\n",
    "    acct2.withdraw(15)  # We should not be able to withdraw $15\n",
    "    print(\"Test was unsuccessful\")\n",
    "except ValueError:\n",
    "    print(\"Successful test case\")\n"
   ]
  },
  {
   "cell_type": "code",
   "execution_count": 93,
   "metadata": {},
   "outputs": [],
   "source": [
    "# Example test case for c\n",
    "acct = ATM(314.15, 9265)\n",
    "\n",
    "acct.login(9265)\n",
    "assert acct.logged_in"
   ]
  },
  {
   "cell_type": "code",
   "execution_count": 94,
   "metadata": {},
   "outputs": [],
   "source": [
    "# Example test case for c\n",
    "acct = ATM(314.15, 9265)\n",
    "\n",
    "acct.login(3213)\n",
    "assert not acct.logged_in"
   ]
  },
  {
   "cell_type": "code",
   "execution_count": 99,
   "metadata": {},
   "outputs": [],
   "source": [
    "# Example test case for c\n",
    "acct = ATM(314.15, 9265)\n",
    "\n",
    "try:\n",
    "    acct.login(\"a\")\n",
    "except BaseException:\n",
    "    acct.login('1234')\n",
    "    \n",
    "assert acct.logged_in == False"
   ]
  },
  {
   "cell_type": "code",
   "execution_count": 96,
   "metadata": {},
   "outputs": [
    {
     "name": "stdout",
     "output_type": "stream",
     "text": [
      "Succesful test case.\n"
     ]
    }
   ],
   "source": [
    "# Example test case for d\n",
    "acct = ATM(314.15, 9265)\n",
    "try:\n",
    "    acct.withdraw(300)\n",
    "except AssertionError:\n",
    "    print(\"Succesful test case.\")"
   ]
  },
  {
   "cell_type": "code",
   "execution_count": 97,
   "metadata": {},
   "outputs": [],
   "source": [
    "# Example test case for d\n",
    "acct = ATM(314.15, 9265)\n",
    "acct.login(9265)\n",
    "\n",
    "acct.withdraw(300)\n",
    "\n",
    "assert round(acct.balance, 2) == 14.15"
   ]
  },
  {
   "cell_type": "code",
   "execution_count": null,
   "metadata": {
    "deletable": false,
    "editable": false,
    "nbgrader": {
     "checksum": "707051908114175ed511d4ae6ef164d4",
     "grade": true,
     "grade_id": "cell-c8b0aa6fe5b1cf8e",
     "locked": true,
     "points": 2,
     "schema_version": 1,
     "solution": false
    }
   },
   "outputs": [],
   "source": [
    "# Hidden test case for 4a"
   ]
  },
  {
   "cell_type": "code",
   "execution_count": null,
   "metadata": {
    "deletable": false,
    "editable": false,
    "nbgrader": {
     "checksum": "3578a33a26d4f88ab40274bcd23d12c0",
     "grade": true,
     "grade_id": "cell-503a79190a993fe4",
     "locked": true,
     "points": 3,
     "schema_version": 1,
     "solution": false
    }
   },
   "outputs": [],
   "source": [
    "# Hidden test cases for 4b"
   ]
  },
  {
   "cell_type": "code",
   "execution_count": null,
   "metadata": {
    "deletable": false,
    "editable": false,
    "nbgrader": {
     "checksum": "86624678001c8926abfdee222dd7516b",
     "grade": true,
     "grade_id": "cell-1a1118e5fcfe0c10",
     "locked": true,
     "points": 1,
     "schema_version": 1,
     "solution": false
    }
   },
   "outputs": [],
   "source": [
    "# Hidden test cases for 4c"
   ]
  },
  {
   "cell_type": "code",
   "execution_count": null,
   "metadata": {
    "deletable": false,
    "editable": false,
    "nbgrader": {
     "checksum": "ba4eb08154ce7f47a0758225e1a27236",
     "grade": true,
     "grade_id": "cell-39a006fa47a0950b",
     "locked": true,
     "points": 1,
     "schema_version": 1,
     "solution": false
    }
   },
   "outputs": [],
   "source": [
    "# Hidden test cases for 4c"
   ]
  },
  {
   "cell_type": "code",
   "execution_count": null,
   "metadata": {
    "deletable": false,
    "editable": false,
    "nbgrader": {
     "checksum": "e72cd67e61266c16ec837550e6dc8e8d",
     "grade": true,
     "grade_id": "cell-4a3992800b73bb6b",
     "locked": true,
     "points": 1,
     "schema_version": 1,
     "solution": false
    }
   },
   "outputs": [],
   "source": [
    "# Hidden test cases for 4c"
   ]
  },
  {
   "cell_type": "code",
   "execution_count": null,
   "metadata": {
    "deletable": false,
    "editable": false,
    "nbgrader": {
     "checksum": "b99e84d6d0adc70a385e9018f3a1663e",
     "grade": true,
     "grade_id": "cell-431dca58d1a9f5ae",
     "locked": true,
     "points": 1,
     "schema_version": 1,
     "solution": false
    }
   },
   "outputs": [],
   "source": [
    "# Hidden test cases for 4d"
   ]
  },
  {
   "cell_type": "code",
   "execution_count": null,
   "metadata": {
    "deletable": false,
    "editable": false,
    "nbgrader": {
     "checksum": "6cb5c65925b313b49c508763be8de159",
     "grade": true,
     "grade_id": "cell-0f008df552cf2506",
     "locked": true,
     "points": 1,
     "schema_version": 1,
     "solution": false
    }
   },
   "outputs": [],
   "source": [
    "# Hidden test cases for 4d"
   ]
  },
  {
   "cell_type": "code",
   "execution_count": null,
   "metadata": {
    "deletable": false,
    "editable": false,
    "nbgrader": {
     "checksum": "44abff1ac23ed77247353c55716ba69d",
     "grade": true,
     "grade_id": "cell-712d05be08fc5d1c",
     "locked": true,
     "points": 1,
     "schema_version": 1,
     "solution": false
    }
   },
   "outputs": [],
   "source": [
    "# Hidden test cases for 4d"
   ]
  },
  {
   "cell_type": "markdown",
   "metadata": {
    "deletable": false,
    "editable": false,
    "nbgrader": {
     "checksum": "33fd8cc09c99928b3906ee6a78495486",
     "grade": false,
     "grade_id": "cell-242c7365c30a27b9",
     "locked": true,
     "schema_version": 1,
     "solution": false
    }
   },
   "source": [
    "#### Question 5: Pacman (8 points)\n",
    "\n",
    "Write a class, `Pacman` according the following specifications:\n",
    "\n",
    "- `Pacman(x, y)`: Creates an instance of pacman at coordinates x and y on a 2 dimensional grid.\n",
    "- `p.get_position`: return the current (x, y) coordinates of pacman as a tuple\n",
    "- `p.__str__`: Return a string saying \"Pacman is at position (x, y)\", where x and y are the current x and y coordinates\n",
    "- `p.move(s)`: Given an iterable (string or list) consisting of the characters U/D/L/R, move pacman up/down/left/right according to the string. Up and Right are positive y and x respectively. For instance, given the string \"ULU\", move pacman up, then left, then up again.\n"
   ]
  },
  {
   "cell_type": "code",
   "execution_count": 185,
   "metadata": {
    "deletable": false,
    "nbgrader": {
     "checksum": "3d8d5187b6310b970c883980d5c9967f",
     "grade": false,
     "grade_id": "cell-ffec72cc583c9c6c",
     "locked": false,
     "schema_version": 1,
     "solution": true
    }
   },
   "outputs": [],
   "source": [
    "# Write your answer:\n",
    "\n",
    "class Pacman:\n",
    "    def __init__(self,x,y):\n",
    "        self.x = x\n",
    "        self.y = y\n",
    "    \n",
    "    def get_position(self):\n",
    "        return (self.x,self.y)\n",
    "    \n",
    "    def move(self,s):\n",
    "        for c in s:\n",
    "            #print(c)\n",
    "            if c == 'U':\n",
    "                self.y += 1\n",
    "            if c == 'D':\n",
    "                self.y -= 1\n",
    "            if c == 'L':\n",
    "                self.x -= 1\n",
    "            if c == 'R':\n",
    "                self.x += 1\n",
    "    \n",
    "    def __str__(self):\n",
    "        return \"Pacman is at position (\" + str(self.x) + \", \" + str(self.y) + \")\"\n",
    "        "
   ]
  },
  {
   "cell_type": "code",
   "execution_count": 186,
   "metadata": {},
   "outputs": [],
   "source": [
    "p1 = Pacman(0, 0)\n",
    "assert p1.get_position() == (0, 0)"
   ]
  },
  {
   "cell_type": "code",
   "execution_count": 187,
   "metadata": {},
   "outputs": [],
   "source": [
    "p2 = Pacman(3, -4)\n",
    "assert p2.get_position() == (3, -4)"
   ]
  },
  {
   "cell_type": "code",
   "execution_count": 188,
   "metadata": {},
   "outputs": [],
   "source": [
    "p3 = Pacman(1, 2)\n",
    "assert str(p3) == 'Pacman is at position (1, 2)'"
   ]
  },
  {
   "cell_type": "code",
   "execution_count": 189,
   "metadata": {},
   "outputs": [],
   "source": [
    "p4 = Pacman(1, 2)\n",
    "p4.move(\"U\")\n",
    "assert p4.get_position() == (1, 3)"
   ]
  },
  {
   "cell_type": "code",
   "execution_count": 190,
   "metadata": {},
   "outputs": [],
   "source": [
    "p4 = Pacman(1, 2)\n",
    "p4.move(\"URRLD\")\n",
    "assert p4.get_position() == (2, 2)"
   ]
  },
  {
   "cell_type": "code",
   "execution_count": 191,
   "metadata": {},
   "outputs": [],
   "source": [
    "p5 = Pacman(0, 0)\n",
    "p5.move(\"UUDDLRLR\")\n",
    "assert str(p5) == 'Pacman is at position (0, 0)'"
   ]
  },
  {
   "cell_type": "code",
   "execution_count": 192,
   "metadata": {
    "deletable": false,
    "editable": false,
    "nbgrader": {
     "checksum": "7aca3604884b0e2063b3775a27201e2b",
     "grade": true,
     "grade_id": "cell-56600a40594f0676",
     "locked": true,
     "points": 1,
     "schema_version": 1,
     "solution": false
    }
   },
   "outputs": [],
   "source": [
    "# Hidden test cases for q5"
   ]
  },
  {
   "cell_type": "code",
   "execution_count": 193,
   "metadata": {
    "deletable": false,
    "editable": false,
    "nbgrader": {
     "checksum": "5c50b6751f1dbdffd0befa361f627804",
     "grade": true,
     "grade_id": "cell-8b7a2dad6f009fad",
     "locked": true,
     "points": 1,
     "schema_version": 1,
     "solution": false
    }
   },
   "outputs": [],
   "source": [
    "# Hidden test cases for q5"
   ]
  },
  {
   "cell_type": "code",
   "execution_count": 194,
   "metadata": {
    "deletable": false,
    "editable": false,
    "nbgrader": {
     "checksum": "e7b561d0d0627bcab74591d7f20cee61",
     "grade": true,
     "grade_id": "cell-7e27a8ed6393d846",
     "locked": true,
     "points": 1,
     "schema_version": 1,
     "solution": false
    }
   },
   "outputs": [],
   "source": [
    "# Hidden test cases for q5"
   ]
  },
  {
   "cell_type": "code",
   "execution_count": 195,
   "metadata": {
    "deletable": false,
    "editable": false,
    "nbgrader": {
     "checksum": "885b7c7e57d58feda4a294256d6d0161",
     "grade": true,
     "grade_id": "cell-9fd52c27e474c3d1",
     "locked": true,
     "points": 1,
     "schema_version": 1,
     "solution": false
    }
   },
   "outputs": [],
   "source": [
    "# Hidden test cases for q5"
   ]
  },
  {
   "cell_type": "code",
   "execution_count": 196,
   "metadata": {
    "deletable": false,
    "editable": false,
    "nbgrader": {
     "checksum": "f3acd40361ecbf2d276d21dffa76a2b5",
     "grade": true,
     "grade_id": "cell-7719e8b7ab6cc7d7",
     "locked": true,
     "points": 2,
     "schema_version": 1,
     "solution": false
    }
   },
   "outputs": [],
   "source": [
    "# Hidden test cases for q5"
   ]
  },
  {
   "cell_type": "code",
   "execution_count": 197,
   "metadata": {
    "deletable": false,
    "editable": false,
    "nbgrader": {
     "checksum": "4e3f639c78793c47d9860b38f2a30d48",
     "grade": true,
     "grade_id": "cell-4f94e627d72bf8e7",
     "locked": true,
     "points": 2,
     "schema_version": 1,
     "solution": false
    }
   },
   "outputs": [],
   "source": [
    "# Hidden test cases for q5"
   ]
  },
  {
   "cell_type": "markdown",
   "metadata": {
    "deletable": false,
    "editable": false,
    "nbgrader": {
     "checksum": "a21f18546c9644d7b3f951feea660f62",
     "grade": false,
     "grade_id": "cell-2e792f8f5e8ffe7c",
     "locked": true,
     "schema_version": 1,
     "solution": false
    }
   },
   "source": [
    "## Question 6: Making Histograms (3 points)\n",
    "\n",
    "Write a function, `histogram(l, blank, filled)` that produces a histogram from a list of integers `l`, where a filled in pixel is represented by the character `filled`, and a blank pixel is represeted by the character `blank`.\n",
    "\n",
    "For instance, calling: \n",
    "```\n",
    "histogram([1, 3, 5, 2], \"O\", \"X\")\n",
    "```\n",
    "\n",
    "Should produce a graph where each vertical bar has a height of 1 \"X\", then 3 \"X\"'s, then 5 \"X\"'s, then 2 \"X\"'s, starting from the bottom. Any empty space would be filled with an \"O\", like so:\n",
    "```\n",
    "OOXO\n",
    "OOXO\n",
    "OXXO\n",
    "OXXX\n",
    "XXXX\n",
    "```\n",
    "\n",
    "You may assume that `l` contains only positive integers. Don't worry about any edge cases for this question.\n",
    "\n",
    "Remember that you can use `\\n` in a string to create a new line.  For example, if you want a string that represents\n",
    "```\n",
    "A\n",
    "B\n",
    "```\n",
    "you would write\n",
    "```\n",
    "x = \"A\\nB\"\n",
    "```"
   ]
  },
  {
   "cell_type": "code",
   "execution_count": 108,
   "metadata": {
    "deletable": false,
    "nbgrader": {
     "checksum": "243cdb464df3b8ea374896de5b62c76f",
     "grade": false,
     "grade_id": "cell-bc772084dd8eaf72",
     "locked": false,
     "schema_version": 1,
     "solution": true
    }
   },
   "outputs": [],
   "source": [
    "# Write your answer here.\n",
    "\n",
    "def histogram(l,blank,filled):    \n",
    "    h = max(l)\n",
    "    b = 0\n",
    "    f = 0\n",
    "    s = \"\"\n",
    "    for x in l:\n",
    "        f = x\n",
    "        b = h - x\n",
    "        print(f,b)\n",
    "        for i in range(b):\n",
    "            s += blank\n",
    "        for i in range(f):\n",
    "            s += filled\n",
    "        s += \" \"\n",
    "    s = s.split()\n",
    "\n",
    "    ans = \"\"\n",
    "    c = 0\n",
    "    for i in range(len(s[i])):\n",
    "        for j in range(len(s)):\n",
    "            ans += (s[j][c])\n",
    "        ans += \"\\n\"\n",
    "        c += 1\n",
    "    return ans"
   ]
  },
  {
   "cell_type": "markdown",
   "metadata": {},
   "source": [
    "The first test case should look like this:\n",
    "```\n",
    "OOXO\n",
    "OOXO\n",
    "OXXO\n",
    "OXXX\n",
    "XXXX\n",
    "```"
   ]
  },
  {
   "cell_type": "code",
   "execution_count": 109,
   "metadata": {},
   "outputs": [
    {
     "name": "stdout",
     "output_type": "stream",
     "text": [
      "1 4\n",
      "3 2\n",
      "5 0\n",
      "2 3\n",
      "OOXO\n",
      "OOXO\n",
      "OXXO\n",
      "OXXX\n",
      "XXXX\n",
      "\n"
     ]
    }
   ],
   "source": [
    "print(histogram([1, 3, 5, 2], \"O\", \"X\"))"
   ]
  },
  {
   "cell_type": "markdown",
   "metadata": {},
   "source": [
    "(The `rstrip` in the test case below removes any trailing whitespace (carriage returns), in case you have any.)"
   ]
  },
  {
   "cell_type": "code",
   "execution_count": 110,
   "metadata": {},
   "outputs": [
    {
     "name": "stdout",
     "output_type": "stream",
     "text": [
      "1 4\n",
      "3 2\n",
      "5 0\n",
      "2 3\n"
     ]
    }
   ],
   "source": [
    "assert histogram([1, 3, 5, 2], \"O\", \"X\").rstrip() == 'OOXO\\nOOXO\\nOXXO\\nOXXX\\nXXXX'"
   ]
  },
  {
   "cell_type": "markdown",
   "metadata": {},
   "source": [
    "The second test case should look like this:\n",
    "```\n",
    "🖊🖊🍍🖊\n",
    "🖊🖊🍍🖊\n",
    "🖊🍍🍍🖊\n",
    "🖊🍍🍍🖊\n",
    "🖊🍍🍍🖊\n",
    "🖊🍍🍍🖊\n",
    "🖊🍍🍍🍍\n",
    "🍍🍍🍍🍍\n",
    "🍍🍍🍍🍍\n",
    "```"
   ]
  },
  {
   "cell_type": "code",
   "execution_count": 111,
   "metadata": {},
   "outputs": [
    {
     "name": "stdout",
     "output_type": "stream",
     "text": [
      "2 7\n",
      "7 2\n",
      "9 0\n",
      "3 6\n",
      "🖊🖊🍍🖊\n",
      "🖊🖊🍍🖊\n",
      "🖊🍍🍍🖊\n",
      "🖊🍍🍍🖊\n",
      "🖊🍍🍍🖊\n",
      "🖊🍍🍍🖊\n",
      "🖊🍍🍍🍍\n",
      "🍍🍍🍍🍍\n",
      "🍍🍍🍍🍍\n",
      "\n"
     ]
    }
   ],
   "source": [
    "print(histogram([2, 7, 9, 3], u\"\\U0001f58a\", u\"\\U0001f34d\"))"
   ]
  },
  {
   "cell_type": "code",
   "execution_count": 112,
   "metadata": {},
   "outputs": [
    {
     "name": "stdout",
     "output_type": "stream",
     "text": [
      "2 7\n",
      "7 2\n",
      "9 0\n",
      "3 6\n"
     ]
    }
   ],
   "source": [
    "assert histogram([2, 7, 9, 3], u\"\\U0001f58a\", u\"\\U0001f34d\").rstrip() == '🖊🖊🍍🖊\\n🖊🖊🍍🖊\\n🖊🍍🍍🖊\\n🖊🍍🍍🖊\\n🖊🍍🍍🖊\\n🖊🍍🍍🖊\\n🖊🍍🍍🍍\\n🍍🍍🍍🍍\\n🍍🍍🍍🍍'"
   ]
  },
  {
   "cell_type": "code",
   "execution_count": 113,
   "metadata": {
    "deletable": false,
    "editable": false,
    "nbgrader": {
     "checksum": "c19228288d69bccbb18f8dc1f38b0000",
     "grade": true,
     "grade_id": "cell-73922e5b7a273e12",
     "locked": true,
     "points": 3,
     "schema_version": 1,
     "solution": false
    }
   },
   "outputs": [],
   "source": [
    "# Hidden test for q6"
   ]
  }
 ],
 "metadata": {
  "kernelspec": {
   "display_name": "Python 3",
   "language": "python",
   "name": "python3"
  },
  "language_info": {
   "codemirror_mode": {
    "name": "ipython",
    "version": 3
   },
   "file_extension": ".py",
   "mimetype": "text/x-python",
   "name": "python",
   "nbconvert_exporter": "python",
   "pygments_lexer": "ipython3",
   "version": "3.6.3"
  }
 },
 "nbformat": 4,
 "nbformat_minor": 2
}
