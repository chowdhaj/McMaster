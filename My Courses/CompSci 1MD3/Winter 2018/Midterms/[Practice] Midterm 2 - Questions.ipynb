{
 "cells": [
  {
   "cell_type": "markdown",
   "metadata": {},
   "source": [
    "# COMP SCI 1MD3 Introduction to Programming, Winter 2018\n",
    "# Midterm Test 2 Practice questions"
   ]
  },
  {
   "cell_type": "markdown",
   "metadata": {},
   "source": [
    "## Question 1: Telephone Book\n",
    "\n",
    "The default Contacts app on your phone does not provide enough information for you. You want to create a program that allows you to find the first friend who's available for a certain hobby. \n",
    "\n",
    "Create a class, `Person`, which represents a person in your contact book that:\n",
    "* has a constructor which takes two parameters: **name** (string), **phoneNumber**, and are stored in variables `name` and `number` \n",
    "* stores that person's friends using a data structure of your choice\n",
    "* stores the hobbies that person is interested in using a data structure of your choice (e.g., hackathons, rock climbing, swimming, etc) \n",
    "* has a method, `findFriend` which has a string parameter **activity** and iterates through the list of friends and finds the first friend who is interested in that hobby. \n",
    "* has a method `addFriend` which takes a Person parameter **newFriend** and adds new friend to the list of friends \n",
    "* has a method `addHobby` which takes a string parameter **newFoundInterest** and adds newFoundInterest to the list of hobbies\n",
    "* has a method `__str__` which represents the person as string using their name.\n"
   ]
  },
  {
   "cell_type": "code",
   "execution_count": null,
   "metadata": {},
   "outputs": [],
   "source": [
    "# YOUR CODE HERE"
   ]
  },
  {
   "cell_type": "code",
   "execution_count": null,
   "metadata": {},
   "outputs": [],
   "source": [
    "hermione = Person(\"Hermione Granger\", 383384583)\n",
    "harry = Person(\"Harry Potter\", 4820947487)\n",
    "ron = Person(\"Ronald Weasley\", 1933837)\n",
    "hermione.addHobby(\"DADA\")\n",
    "hermione.addFriend(harry) \n",
    "harry.addHobby(\"DADA\")\n",
    "harry.addFriend(ron)"
   ]
  },
  {
   "cell_type": "code",
   "execution_count": null,
   "metadata": {},
   "outputs": [],
   "source": [
    "print(hermione.findFriend(\"DADA\"))"
   ]
  },
  {
   "cell_type": "code",
   "execution_count": null,
   "metadata": {},
   "outputs": [],
   "source": [
    "harry.addHobby(\"quidditch\")\n",
    "ron.addHobby(\"quidditch\")\n",
    "ron.addFriend(harry)\n",
    "harry.addFriend(ron)"
   ]
  },
  {
   "cell_type": "code",
   "execution_count": null,
   "metadata": {},
   "outputs": [],
   "source": [
    "print(ron.findFriend(\"quidditch\"))"
   ]
  },
  {
   "cell_type": "code",
   "execution_count": null,
   "metadata": {},
   "outputs": [],
   "source": [
    "print(harry.findFriend(\"quidditch\"))"
   ]
  },
  {
   "cell_type": "markdown",
   "metadata": {},
   "source": [
    "## Question 2: Currency Converter \n",
    "\n",
    "You have a constant revenue stream of British Pounds coming in, which you want to convert to Canadian Dollars. Assuming an exchange rate of 1GBR=1.79CAD, write a function called `convert`.\n",
    "\n",
    "The code must meet the following requirements: \n",
    "* Raise a `NotANumberException` exception when given non-integer/float types\n",
    "* If you are given a list of inputs, iterate through the list and return the multiple of each element *if they are all numbers*. Otherwise, raise `NotANumberException` \n",
    "* If any of the numbers are less than zero (in which no money actually exists), raise a `LessThanZeroException`"
   ]
  },
  {
   "cell_type": "code",
   "execution_count": null,
   "metadata": {},
   "outputs": [],
   "source": [
    "# YOUR CODE HERE"
   ]
  },
  {
   "cell_type": "code",
   "execution_count": null,
   "metadata": {},
   "outputs": [],
   "source": [
    "convert(0) == 0.0"
   ]
  },
  {
   "cell_type": "code",
   "execution_count": null,
   "metadata": {},
   "outputs": [],
   "source": [
    "convert(5000)"
   ]
  },
  {
   "cell_type": "code",
   "execution_count": null,
   "metadata": {},
   "outputs": [],
   "source": [
    "convert([1,2,3]) == [1.79, 3.58, 5.37]"
   ]
  },
  {
   "cell_type": "code",
   "execution_count": null,
   "metadata": {},
   "outputs": [],
   "source": [
    "# Inputs to raise a NotANumberException \n",
    "convert(\"hello\")"
   ]
  },
  {
   "cell_type": "code",
   "execution_count": null,
   "metadata": {},
   "outputs": [],
   "source": [
    "# Inputs to raise a NotANumberException \n",
    "convert([1, 2, \"hello\"])"
   ]
  },
  {
   "cell_type": "code",
   "execution_count": null,
   "metadata": {},
   "outputs": [],
   "source": [
    "#Inputs to raise a LessThanZeroException\n",
    "convert(-1)"
   ]
  },
  {
   "cell_type": "code",
   "execution_count": null,
   "metadata": {},
   "outputs": [],
   "source": [
    "#Inputs to raise a LessThanZeroException\n",
    "convert([-1,3,5])"
   ]
  },
  {
   "cell_type": "markdown",
   "metadata": {},
   "source": [
    "## Question 3 - Pythagorean Theorem \n",
    "Given a list of `(x,y)` points on a map, calculate the total distance to walk along the path from one point to the next, in the same order as in the list.  Recall the observation of Pythagoras that the distance between $(x,y)$ and $(u,v)$ is $\\sqrt{(x-u)^2 + (y-v)^2}$. The function takes an input of a list of pairs, and in each entry, the pair is an integer or a floating point value. "
   ]
  },
  {
   "cell_type": "code",
   "execution_count": null,
   "metadata": {},
   "outputs": [],
   "source": [
    "def hikingDistance(wayPoints) :   \n",
    "    pass # YOUR CODE HERE"
   ]
  },
  {
   "cell_type": "code",
   "execution_count": null,
   "metadata": {},
   "outputs": [],
   "source": [
    "l = [(0,0),(3,4),(6,8),(0,0)]\n",
    "assert abs(hikingDistance(l) - 20) < 0.1\n",
    "l = [(35,71),(30,24),(80,55),(94,19),(37,77)]\n",
    "assert abs(hikingDistance(l) - 226.04224350002065) < 0.1\n",
    "l = [(94,11),(14,37),(37,96),(67,81),(56,73)]\n",
    "assert abs(hikingDistance(l) - 194.5860143464349) < 0.1\n",
    "l = [(78,100),(8,45),(90,22),(84,21)]\n",
    "assert abs(hikingDistance(l) - 180.26977821830934) < 0.1\n",
    "l = [(74,99),(54,98),(17,2),(35,51),(98,41),(88,53)]\n",
    "assert abs(hikingDistance(l) - 254.5191592069317) < 0.1\n",
    "l = [(35,71),(80,55),(94,19),(37,77)]\n",
    "assert abs(hikingDistance(l) - 167.70658573234203) < 0.1\n",
    "\n",
    "print(\"All test cases work!\")"
   ]
  }
 ],
 "metadata": {
  "kernelspec": {
   "display_name": "Python 3",
   "language": "python",
   "name": "python3"
  },
  "language_info": {
   "codemirror_mode": {
    "name": "ipython",
    "version": 3
   },
   "file_extension": ".py",
   "mimetype": "text/x-python",
   "name": "python",
   "nbconvert_exporter": "python",
   "pygments_lexer": "ipython3",
   "version": "3.6.3"
  }
 },
 "nbformat": 4,
 "nbformat_minor": 2
}
