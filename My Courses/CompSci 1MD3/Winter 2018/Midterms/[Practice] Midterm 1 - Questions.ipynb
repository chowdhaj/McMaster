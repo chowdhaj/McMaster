{
 "cells": [
  {
   "cell_type": "markdown",
   "metadata": {},
   "source": [
    "#### Question 1 -  Increasing Numbers in List\n",
    "\n",
    "Write a function `numIncreasing` that takes as input a list of numbers and finds the first sequence within the list that is increasing order and has length at least 2.  You can assume such an increasing sequence always exists.\n",
    "\n",
    " + `[5, 2, 1, 3, 4]` returns `[1, 3, 4]`, because only the latter 3 are in increasing order \n",
    " + `[2, 1, 4, 5, 6]` returns `[1, 4, 5, 6]`\n",
    " + `[1, 8, 9, 10, 100]` returns `[1, 8, 9, 10, 100]` \n",
    " + `[4, 1, 2, 3, 4, 1, 2, 3]` returns `[1, 2, 3, 4]`\n"
   ]
  },
  {
   "cell_type": "code",
   "execution_count": null,
   "metadata": {},
   "outputs": [],
   "source": [
    "# YOUR CODE HERE"
   ]
  },
  {
   "cell_type": "code",
   "execution_count": null,
   "metadata": {},
   "outputs": [],
   "source": [
    "assert numIncreasing([5, 2, 1, 3, 4]) == [1,3,4]\n",
    "assert numIncreasing([2, 1, 4, 5, 6]) == [1,4,5,6]\n",
    "assert numIncreasing([1, 8, 9, 10, 100]) == [1,8,9,10,100]"
   ]
  },
  {
   "cell_type": "markdown",
   "metadata": {},
   "source": [
    "#### Question 2 - Standard Deviation of a List\n",
    "\n",
    "Below is a function that takes the standard deviation of a list. Write a Python function `std(x)` that takes a non-empty list `x` and returns its standard deviation. The return value of the `std(x)` function should be correct to within 2 decimal digits. \n",
    "\n",
    "$$ stdev = \\sqrt{\\frac{\\sum_{i=1}^{n}{(x_i - m)^2}}{n-1}} $$\n",
    "\n",
    "where $m$ is the average of all the entries of the list, and $n$ is the number of entries in the list."
   ]
  },
  {
   "cell_type": "code",
   "execution_count": null,
   "metadata": {},
   "outputs": [],
   "source": [
    "# YOUR CODE HERE"
   ]
  },
  {
   "cell_type": "code",
   "execution_count": null,
   "metadata": {},
   "outputs": [],
   "source": [
    "assert abs(std([2, 8, 10, 10, 10]) - 3.46) < 10**-2\n",
    "assert abs(std([4,1,32]) - 17.10) < 10**-2\n",
    "assert abs(std([5,1,9,3]) - 3.42) < 10**-2"
   ]
  },
  {
   "cell_type": "markdown",
   "metadata": {},
   "source": [
    "#### Question 3(a) Reversing a string\n",
    "\n",
    "Here's an easy task! Create a function called **reverseString** which takes in parameter **s**, and returns a string with the letters in the reverse order.\n",
    "For example:\n",
    "* reverseWord('!hello'); output:= 'olleh!'\n",
    "* reverseWord('Notice These Spaces'); output:= 'secapS esehT ecitoN'\n",
    "\n",
    "*Note: Remember the above are just sample cases, your function should work accordingly regardless of the string input size or char; Test your code!*"
   ]
  },
  {
   "cell_type": "code",
   "execution_count": null,
   "metadata": {},
   "outputs": [],
   "source": [
    "# YOUR CODE HERE"
   ]
  },
  {
   "cell_type": "code",
   "execution_count": null,
   "metadata": {},
   "outputs": [],
   "source": [
    "assert reverseString('!hello') == 'olleh!'\n",
    "assert reverseString('Notice These Spaces') == 'secapS esehT ecitoN'"
   ]
  },
  {
   "cell_type": "markdown",
   "metadata": {},
   "source": [
    "#### Question 3(b) Reversing a string -- with a loop\n",
    "\n",
    "Do question 3(a) again, but this time do it with a loop (if you didn't do it with a loop before)."
   ]
  },
  {
   "cell_type": "code",
   "execution_count": null,
   "metadata": {},
   "outputs": [],
   "source": [
    "# YOUR CODE HERE"
   ]
  },
  {
   "cell_type": "code",
   "execution_count": null,
   "metadata": {},
   "outputs": [],
   "source": [
    "assert reverseStringLoop('!hello') == 'olleh!'\n",
    "assert reverseStringLoop('Notice These Spaces') == 'secapS esehT ecitoN'"
   ]
  },
  {
   "cell_type": "markdown",
   "metadata": {},
   "source": [
    "#### Question 3(c) Reversing a string -- with recursion\n",
    "\n",
    "Do question 3(a) again, but this time do it with recursion (if you didn't do it with reursion before)."
   ]
  },
  {
   "cell_type": "code",
   "execution_count": null,
   "metadata": {},
   "outputs": [],
   "source": [
    "# YOUR CODE HERE"
   ]
  },
  {
   "cell_type": "code",
   "execution_count": null,
   "metadata": {},
   "outputs": [],
   "source": [
    "assert reverseStringRecursion('!hello') == 'olleh!'\n",
    "assert reverseStringRecursion('Notice These Spaces') == 'secapS esehT ecitoN'"
   ]
  },
  {
   "cell_type": "markdown",
   "metadata": {},
   "source": [
    "#### Question 4\n",
    "\n",
    "By now you should be very familiar with menial tasks such as reversing every letter in a word. Let's use this to create an ancient foreign language from a sentence full of words; the best words. \n",
    "\n",
    "Create a function `translateLite` which takes a string parameter **sentence** (note how words in sentences are always space-seperated), and returns the new string.  Your solution in question 4 should make use of one of the functions you wrote for question 3.\n",
    "\n",
    "\n",
    "For example:\n",
    "\n",
    "* `\"May the force be with you\"`; output:= `yaM eht ecrof eb htiw uoy\"`\n",
    "* `\"Ouch my back!\"`; output:= `\"hcuO ym !kcab\"`\n",
    "* `\"I'm walking on the sunshine\"`; output:= `\"m'I gniklaw no eht enihsnus\"`\n",
    "\n",
    "*Note: Remember the above are just sample cases, your function should work regardless of the string input size or char. **Test your code!***\n"
   ]
  },
  {
   "cell_type": "code",
   "execution_count": null,
   "metadata": {},
   "outputs": [],
   "source": [
    "# YOUR CODE HERE"
   ]
  },
  {
   "cell_type": "code",
   "execution_count": null,
   "metadata": {},
   "outputs": [],
   "source": [
    "assert translateLite(\"May the force be with you\") == \"yaM eht ecrof eb htiw uoy\"\n",
    "assert translateLite(\"Ouch my back!\") == \"hcuO ym !kcab\"\n",
    "assert translateLite(\"I'm walking on the sunshine\") == \"m'I gniklaw no eht enihsnus\""
   ]
  },
  {
   "cell_type": "markdown",
   "metadata": {},
   "source": [
    "#### Question 5(a) Roman-ish numerals\n",
    "\n",
    "Roman numerals are slightly tricky: the same letter should not be used more than 3 times, so `4` isn't `IIII`, it's `IV`.  In this part of the question, however, we will be lazy: we can use the same letter up to 4 times.  Write a Python function `romanish` that takes an integer smaller than 1000 and returns a string representation in this lazy form of Roman numerals.\n",
    "\n",
    "Example:\n",
    "\n",
    "- `romanish(1) == 'I'`\n",
    "- `romanish(5) == 'V'`\n",
    "- `romanish(9) == 'VIIII'`\n",
    "- `romanish(39) == 'XXXVIIII'`\n",
    "- `romanish(50) == 'L'`\n",
    "- `romanish(100) == 'C'`\n",
    "- `romanish(500) == 'D'`\n",
    "\n",
    "Try to do this question using a list/tuple.\n",
    "\n",
    "Hint: this is not too different from \"making change\"."
   ]
  },
  {
   "cell_type": "code",
   "execution_count": null,
   "metadata": {},
   "outputs": [],
   "source": [
    "# YOUR CODE HERE"
   ]
  },
  {
   "cell_type": "code",
   "execution_count": null,
   "metadata": {},
   "outputs": [],
   "source": [
    "assert romanish(1) == 'I'\n",
    "assert romanish(5) == 'V'\n",
    "assert romanish(9) == 'VIIII'\n",
    "assert romanish(39) == 'XXXVIIII'\n",
    "assert romanish(50) == 'L'\n",
    "assert romanish(100) == 'C'\n",
    "assert romanish(500) == 'D'"
   ]
  },
  {
   "cell_type": "markdown",
   "metadata": {},
   "source": [
    "#### Question 5(b) Converting back from Roman-ish\n",
    "\n",
    "Create a function `fromRomanish` that converts from a Roman-ish number back to a decimal number.\n",
    "\n",
    "Try to do this using a dictionary."
   ]
  },
  {
   "cell_type": "code",
   "execution_count": null,
   "metadata": {},
   "outputs": [],
   "source": [
    "# YOUR CODE HERE"
   ]
  },
  {
   "cell_type": "code",
   "execution_count": null,
   "metadata": {},
   "outputs": [],
   "source": [
    "assert backFromRomanish('I') == 1\n",
    "assert backFromRomanish('V') == 5\n",
    "assert backFromRomanish('VIIII') == 9\n",
    "assert backFromRomanish('XXXVIIII') == 39\n",
    "assert backFromRomanish('L') == 50\n",
    "assert backFromRomanish('C') == 100\n",
    "assert backFromRomanish('D') == 500"
   ]
  },
  {
   "cell_type": "markdown",
   "metadata": {},
   "source": [
    "If wanted to be really rigourous, we could test that `romanish` and `backFromRomanish` cancel each other out:"
   ]
  },
  {
   "cell_type": "code",
   "execution_count": null,
   "metadata": {},
   "outputs": [],
   "source": [
    "for i in range(0, 1000):\n",
    "    assert backFromRomanish(romanish(i)) == i"
   ]
  },
  {
   "cell_type": "markdown",
   "metadata": {},
   "source": [
    "#### Question 5(c) Roman numerals, the full version\n",
    "\n",
    "Write a function that converts an integer to its true Roman numeral representation:\n",
    "\n",
    "Write a Python function `roman(n)` that takes an integer and returns a string representation. Try to use _lists_ or _dictionaries_!\n",
    "\n",
    "Example:\n",
    "\n",
    "- `roman(1) == 'I'`\n",
    "- `roman(5) == 'V'`\n",
    "- `roman(9) == 'IX'`\n",
    "- `roman(39) == 'XXXIX'`\n",
    "- `roman(50) == 'L'`\n",
    "- `roman(100) == 'C'`\n",
    "- `roman(500) == 'D'`\n",
    "- `roman(999) == 'CMXCIX'`"
   ]
  },
  {
   "cell_type": "code",
   "execution_count": null,
   "metadata": {},
   "outputs": [],
   "source": [
    "# YOUR CODE HERE"
   ]
  },
  {
   "cell_type": "code",
   "execution_count": null,
   "metadata": {},
   "outputs": [],
   "source": [
    "assert roman(1) == 'I'\n",
    "assert roman(5) == 'V'\n",
    "assert roman(9) == 'IX'\n",
    "assert roman(39) == 'XXXIX'\n",
    "assert roman(50) == 'L'\n",
    "assert roman(100) == 'C'\n",
    "assert roman(500) == 'D'"
   ]
  }
 ],
 "metadata": {
  "kernelspec": {
   "display_name": "Python 3",
   "language": "python",
   "name": "python3"
  },
  "language_info": {
   "codemirror_mode": {
    "name": "ipython",
    "version": 3
   },
   "file_extension": ".py",
   "mimetype": "text/x-python",
   "name": "python",
   "nbconvert_exporter": "python",
   "pygments_lexer": "ipython3",
   "version": "3.6.3"
  }
 },
 "nbformat": 4,
 "nbformat_minor": 2
}
