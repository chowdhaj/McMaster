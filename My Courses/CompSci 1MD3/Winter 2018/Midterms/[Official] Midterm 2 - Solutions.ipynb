{
 "cells": [
  {
   "cell_type": "markdown",
   "metadata": {
    "nbgrader": {
     "grade": false,
     "grade_id": "cell-8270991a73638fc0",
     "locked": true,
     "schema_version": 1,
     "solution": false
    }
   },
   "source": [
    "## COMP SCI 1MD3 Introduction to Programming, Winter 2018\n",
    "### Douglas Stebila (Instructor), Joey Legere, Karl Knopf, Natalie Chin, Victor Chen (TAs)\n",
    "### Midterm Test 2 Wednesday, March 14, 3:30 - 4:20 PM\n",
    "### Maximum grade: 30 / 30\n",
    "\n",
    "You must use our JupyterHub server to complete the test. Once you have completed the test, click the “Submit” button in JupyterHub.  During the test, the only program you may use is your web browser, and the only web pages you may visit are the JupyterHub site and the Python documentation on doc.python.org.  You may not use Google, StackOverflow, IDLE, your own local Jupyter, or any other website or program.  University Technology Services will be logging network access for students in this class during the test period.  Please close all other programs on your computer and all other browser tabs and windows.  During the test, please raise your hand if you need assistance, would like scrap paper, or need to go to the washroom.  The test will be over at 4:20.  If you are finished early, you may submit your notebook on JupyterHub and then quietly leave.  However, we will ask you to remain in your seat during the last 10 minutes to avoid disturbing other students. "
   ]
  },
  {
   "cell_type": "markdown",
   "metadata": {},
   "source": [
    "## Part I: Short Answer (8 points)\n",
    "\n",
    "#### Question 1: Decimal/Hex Conversions (3 points)\n",
    "\n",
    "\n",
    "a) Convert the number `6AF` from hexadecimal to decimal.\n",
    "\n",
    "b) Convert the number `10110` from binary to decimal.\n",
    "\n",
    "c) Convert the number `267` from decimal to hexadecimal. Represent your hexadecimal number as an uppercase string."
   ]
  },
  {
   "cell_type": "code",
   "execution_count": null,
   "metadata": {
    "nbgrader": {
     "grade": false,
     "grade_id": "cell-ef5611c745911b43",
     "locked": false,
     "schema_version": 1,
     "solution": true
    }
   },
   "outputs": [],
   "source": [
    "def question1():\n",
    "    \n",
    "    # Set the variables a and b to your answers for question 1a and 1b respectively.\n",
    "    \n",
    "    # Replace this value with your answer for 1a\n",
    "    # AS AN INTEGER\n",
    "    a = 0\n",
    "    \n",
    "    # Replace this value with your answer for 1a\n",
    "    # AS AN INTEGER\n",
    "    b = 0    \n",
    "    \n",
    "    # Replace this value with your answer for 1c\n",
    "    # AS A STRING, ALL UPPERCASE\n",
    "    c = \"F\" \n",
    "    \n",
    "    return (a, b, c)\n",
    "\n",
    "### BEGIN SOLUTION\n",
    "def question1():\n",
    "    \n",
    "    a = 1711\n",
    "    b = 22\n",
    "    c = \"10B\" \n",
    "    \n",
    "    return (a, b, c)\n",
    "### END SOLUTION"
   ]
  },
  {
   "cell_type": "markdown",
   "metadata": {},
   "source": [
    "#### Question 2: Broken Function I (2 points)\n",
    "\n",
    "The following function tries to find the roots of a quadratic equation by implementing the following formula:\n",
    "\n",
    "$$ x = \\frac{-b \\pm \\sqrt{b^2 - 4ac}}{2a} $$\n",
    "\n",
    "\n",
    "\n",
    "a) There is a mistake in the implementation of this function. Fix it so you get correct results.<br>\n",
    "b) Find an input `a`, `b`, `c` that raises an unhandled exception."
   ]
  },
  {
   "cell_type": "code",
   "execution_count": null,
   "metadata": {
    "nbgrader": {
     "grade": false,
     "grade_id": "cell-cb6fa14fffca753e",
     "locked": false,
     "schema_version": 1,
     "solution": true
    }
   },
   "outputs": [],
   "source": [
    "from math import sqrt\n",
    "# 2a) Fix this function\n",
    "def quadratic(a, b, c):\n",
    "    \n",
    "    x1 = (-b + sqrt(b**2 - 4*a*c)) / 2*a\n",
    "    x2 = (-b - sqrt(b**2 - 4*a*c)) / 2*a\n",
    "    \n",
    "    return (x1, x2)\n",
    "\n",
    "# 2b) Change these values so that you raise an error when calling the function above\n",
    "A = 1\n",
    "B = 3\n",
    "C = 2\n",
    "\n",
    "### BEGIN SOLUTION\n",
    "def quadratic(a, b, c):\n",
    "    \n",
    "    x1 = (-b + sqrt(b**2 - 4*a*c)) / (2*a)\n",
    "    x2 = (-b - sqrt(b**2 - 4*a*c)) / (2*a)\n",
    "    \n",
    "    return (x1, x2)\n",
    "\n",
    "A = 14\n",
    "B = 3\n",
    "C = 2\n",
    "### END SOLUTION"
   ]
  },
  {
   "cell_type": "code",
   "execution_count": null,
   "metadata": {},
   "outputs": [],
   "source": [
    "# Use this cell to run your own tests."
   ]
  },
  {
   "cell_type": "code",
   "execution_count": null,
   "metadata": {},
   "outputs": [],
   "source": [
    "# Test case for 2a\n",
    "quadratic(2, 5, -3) == (0.5, -3.0)"
   ]
  },
  {
   "cell_type": "code",
   "execution_count": null,
   "metadata": {},
   "outputs": [],
   "source": [
    "# Test case for 2b\n",
    "quadratic(A, B, C)"
   ]
  },
  {
   "cell_type": "markdown",
   "metadata": {},
   "source": [
    "#### Question 3: Pie Day (3 points)\n",
    "\n",
    "We are creating an object-oriented program that models various foods, including pies.  Here is a list of tasty pies.  Create a hierarchy of classes (up to a depth 4) which groups these foods together under some reasonable grouping criteria.  We have suggested `Food` -> `Vegetarian` as part of one possible grouping.\n",
    "\n",
    "* Apple Pie\n",
    "* Pecan Pie\n",
    "* Chicken Pot Pie\n",
    "* Pumpkin Pie\n",
    "* Meat Pie\n",
    "\n",
    "You only need to create \"stub\" classes, where the definition of the class just contains `pass`."
   ]
  },
  {
   "cell_type": "code",
   "execution_count": null,
   "metadata": {
    "nbgrader": {
     "grade": true,
     "grade_id": "cell-caea9eb051868ea9",
     "locked": false,
     "points": 3,
     "schema_version": 1,
     "solution": true
    }
   },
   "outputs": [],
   "source": [
    "# Create your classes here.\n",
    "\n",
    "class Food:\n",
    "    pass\n",
    "\n",
    "class Vegetarian(Food):  # Vegetarian is a subclass of food, this item is at a depth of 2\n",
    "    pass\n",
    "\n",
    "### BEGIN SOLUTION\n",
    "class Meat(Food):\n",
    "    pass\n",
    "\n",
    "class Sweet:\n",
    "    pass\n",
    "\n",
    "class Savoury:\n",
    "    pass\n",
    "\n",
    "class Pie:\n",
    "    pass\n",
    "\n",
    "class ApplePie(Vegetarian,Sweet,Pie):\n",
    "    pass\n",
    "\n",
    "class PecanPie(Vegetarian,Sweet,Pie):\n",
    "    pass\n",
    "\n",
    "class ChickenPotPie(Meat,Savoury,Pie):\n",
    "    pass\n",
    "\n",
    "class PumpkinPie(Vegetarian,Sweet,Pie):\n",
    "    pass\n",
    "\n",
    "class MeatPie(Meat,Savoury,Pie):\n",
    "    pass\n",
    "### END SOLUTION"
   ]
  },
  {
   "cell_type": "markdown",
   "metadata": {
    "nbgrader": {
     "grade": false,
     "grade_id": "cell-71a0b5befc6ac718",
     "locked": true,
     "schema_version": 1,
     "solution": false
    }
   },
   "source": [
    "## Part II: Programming Questions (22 points total)\n",
    "\n",
    "#### Question 4: Broken ATM (11 Points)\n",
    "\n",
    "The following ATM class doesn't work very well. I can withdraw money, even if my bank account is empty, I can't deposit anything in my savings account, and I can withdraw money from any account I want without entering a PIN.\n",
    "\n",
    "[2 points] a) Add a `deposit` method that, given a number, adds that money to my balance.\n",
    "\n",
    "[3 points] b) Modify the `withdraw` function so that it raises a `ValueError` if I try to withdraw more money than I have.\n",
    "\n",
    "[3 points] c) Add a `login` function that, given a PIN, sets `self.logged_in` equal to `True` if it is the correct PIN and `False` if it is not the correct PIN. The PIN for an account will always be stored as an integer, but the `login` method should accept any strings that happen to represent (decimal) integers. Raise a `BaseException` for any invalid data types (e.g., lists, tuples) or any string that cannot be converted to an integer (e.g., \"abcd\").\n",
    "\n",
    "[3 points] d) Modify `withdraw` so that I need to be logged in to withdraw money. If the user is not logged in, raise an `AssertionError` before checking their balance to raise a `ValueError`. <br>\n",
    "\n",
    "For part d, don't modify `deposit`--I actually strongly prefer if other people can deposit their money into my account."
   ]
  },
  {
   "cell_type": "code",
   "execution_count": null,
   "metadata": {
    "nbgrader": {
     "grade": false,
     "grade_id": "cell-1faa473bb5b349fa",
     "locked": false,
     "schema_version": 1,
     "solution": true
    }
   },
   "outputs": [],
   "source": [
    "class ATM:\n",
    "    \n",
    "    def __init__(self, balance, pin):\n",
    "        \n",
    "        self.balance = balance\n",
    "        self.pin = pin\n",
    "        self.logged_in = False\n",
    "        \n",
    "    def withdraw(self, amount):\n",
    "        \n",
    "        self.balance = self.balance - amount\n",
    "        \n",
    "        return amount\n",
    "    \n",
    "    \n",
    "    def deposit(): # Fill in the arguments for this function, as well as the code below.\n",
    "        pass\n",
    "    \n",
    "    def login(): # Fill in the arguments for this function, as well as the code below.\n",
    "        pass\n",
    "\n",
    "        \n",
    "### BEGIN SOLUTION\n",
    "class ATM:\n",
    "    \n",
    "    def __init__(self, balance, pin):\n",
    "        \n",
    "        self.balance = balance\n",
    "        self.pin = pin\n",
    "        self.logged_in = False\n",
    "        \n",
    "    def withdraw(self, amount):\n",
    "        \n",
    "        assert self.logged_in\n",
    "        if amount > self.balance:\n",
    "            raise ValueError\n",
    "        \n",
    "        self.balance = self.balance - amount\n",
    "        return amount\n",
    "\n",
    "    \n",
    "    def deposit(self, amount): # Fill in the arguments for this function, as well as the code below.\n",
    "        self.balance += amount\n",
    "    \n",
    "    def login(self, pin): # Fill in the arguments for this function, as well as the code below.\n",
    "        \n",
    "        try:\n",
    "            pin = int(pin)\n",
    "        except:\n",
    "            raise BaseException\n",
    "        \n",
    "        if pin == self.pin:\n",
    "            self.logged_in = True\n",
    "\n",
    "### END SOLUTION"
   ]
  },
  {
   "cell_type": "code",
   "execution_count": null,
   "metadata": {},
   "outputs": [],
   "source": [
    "# Example test case for part a\n",
    "acct1 = ATM(0, 1234)\n",
    "acct1.deposit(121)\n",
    "acct1.deposit(100)\n",
    "assert acct1.balance == 221"
   ]
  },
  {
   "cell_type": "code",
   "execution_count": null,
   "metadata": {},
   "outputs": [],
   "source": [
    "# Example test case for part b\n",
    "acct2 = ATM(314.15, 9265)\n",
    "acct2.logged_in = True  # This is so the test case will still pass after you have completed part d\n",
    "\n",
    "assert acct2.withdraw(300) == 300 # Withdraw $300, there should be $14.15 left.\n",
    "assert round(acct2.balance, 2) == 14.15\n",
    "\n",
    "try:\n",
    "    acct2.withdraw(15)  # We should not be able to withdraw $15\n",
    "    print(\"Test was unsuccessful\")\n",
    "except ValueError:\n",
    "    print(\"Successful test case\")\n"
   ]
  },
  {
   "cell_type": "code",
   "execution_count": null,
   "metadata": {},
   "outputs": [],
   "source": [
    "# Example test case for c\n",
    "acct = ATM(314.15, 9265)\n",
    "\n",
    "acct.login(9265)\n",
    "assert acct.logged_in"
   ]
  },
  {
   "cell_type": "code",
   "execution_count": null,
   "metadata": {},
   "outputs": [],
   "source": [
    "# Example test case for c\n",
    "acct = ATM(314.15, 9265)\n",
    "\n",
    "acct.login(3213)\n",
    "assert not acct.logged_in"
   ]
  },
  {
   "cell_type": "code",
   "execution_count": null,
   "metadata": {},
   "outputs": [],
   "source": [
    "# Example test case for c\n",
    "acct = ATM(314.15, 9265)\n",
    "\n",
    "try:\n",
    "    acct.login(\"a\")\n",
    "except BaseException:\n",
    "    acct.login('1234')\n",
    "    \n",
    "assert acct.logged_in == False"
   ]
  },
  {
   "cell_type": "code",
   "execution_count": null,
   "metadata": {},
   "outputs": [],
   "source": [
    "# Example test case for d\n",
    "acct = ATM(314.15, 9265)\n",
    "try:\n",
    "    acct.withdraw(300)\n",
    "except AssertionError:\n",
    "    print(\"Succesful test case.\")"
   ]
  },
  {
   "cell_type": "code",
   "execution_count": null,
   "metadata": {},
   "outputs": [],
   "source": [
    "# Example test case for d\n",
    "acct = ATM(314.15, 9265)\n",
    "acct.login(9265)\n",
    "\n",
    "acct.withdraw(300)\n",
    "\n",
    "assert round(acct.balance, 2) == 14.15"
   ]
  },
  {
   "cell_type": "markdown",
   "metadata": {
    "nbgrader": {
     "grade": false,
     "grade_id": "cell-242c7365c30a27b9",
     "locked": true,
     "schema_version": 1,
     "solution": false
    }
   },
   "source": [
    "#### Question 5: Pacman (8 points)\n",
    "\n",
    "Write a class, `Pacman` according the following specifications:\n",
    "\n",
    "- `Pacman(x, y)`: Creates an instance of pacman at coordinates x and y on a 2 dimensional grid.\n",
    "- `p.get_position`: return the current (x, y) coordinates of pacman as a tuple\n",
    "- `p.__str__`: Return a string saying \"Pacman is at position (x, y)\", where x and y are the current x and y coordinates\n",
    "- `p.move(s)`: Given an iterable (string or list) consisting of the characters U/D/L/R, move pacman up/down/left/right according to the string. Up and Right are positive y and x respectively. For instance, given the string \"ULU\", move pacman up, then left, then up again.\n"
   ]
  },
  {
   "cell_type": "code",
   "execution_count": null,
   "metadata": {
    "nbgrader": {
     "grade": false,
     "grade_id": "cell-ffec72cc583c9c6c",
     "locked": false,
     "schema_version": 1,
     "solution": true
    }
   },
   "outputs": [],
   "source": [
    "# Write your answer here.\n",
    "\n",
    "### BEGIN SOLUTION\n",
    "\n",
    "class Pacman:\n",
    "    \n",
    "    def __init__(self, x, y):\n",
    "        \n",
    "        self.x = x\n",
    "        self.y = y\n",
    "    \n",
    "    def get_position(self):\n",
    "        \n",
    "        return (self.x, self.y)\n",
    "    \n",
    "    def __str__(self):\n",
    "        \n",
    "        return \"Pacman is at position (%s, %s)\" % (self.x, self.y)\n",
    "    \n",
    "    def move(self, s):\n",
    "        \n",
    "        for c in s:\n",
    "            \n",
    "            if c == \"U\":\n",
    "                self.y += 1\n",
    "            elif c == \"D\":\n",
    "                self.y -= 1\n",
    "            elif c == \"L\":\n",
    "                self.x -= 1\n",
    "            elif c == \"R\":\n",
    "                self.x += 1\n",
    "                \n",
    "### END SOLUTION"
   ]
  },
  {
   "cell_type": "code",
   "execution_count": null,
   "metadata": {},
   "outputs": [],
   "source": [
    "p1 = Pacman(0, 0)\n",
    "assert p1.get_position() == (0, 0)"
   ]
  },
  {
   "cell_type": "code",
   "execution_count": null,
   "metadata": {},
   "outputs": [],
   "source": [
    "p2 = Pacman(3, -4)\n",
    "assert p2.get_position() == (3, -4)"
   ]
  },
  {
   "cell_type": "code",
   "execution_count": null,
   "metadata": {},
   "outputs": [],
   "source": [
    "p3 = Pacman(1, 2)\n",
    "assert str(p3) == 'Pacman is at position (1, 2)'"
   ]
  },
  {
   "cell_type": "code",
   "execution_count": null,
   "metadata": {},
   "outputs": [],
   "source": [
    "p4 = Pacman(1, 2)\n",
    "p4.move(\"U\")\n",
    "assert p4.get_position() == (1, 3)"
   ]
  },
  {
   "cell_type": "code",
   "execution_count": null,
   "metadata": {},
   "outputs": [],
   "source": [
    "p4 = Pacman(1, 2)\n",
    "p4.move(\"URRLD\")\n",
    "assert p4.get_position() == (2, 2)"
   ]
  },
  {
   "cell_type": "code",
   "execution_count": null,
   "metadata": {},
   "outputs": [],
   "source": [
    "p5 = Pacman(0, 0)\n",
    "p5.move(\"UUDDLRLR\")\n",
    "assert str(p5) == 'Pacman is at position (0, 0)'"
   ]
  },
  {
   "cell_type": "markdown",
   "metadata": {
    "nbgrader": {
     "grade": false,
     "grade_id": "cell-2e792f8f5e8ffe7c",
     "locked": true,
     "schema_version": 1,
     "solution": false
    }
   },
   "source": [
    "#### Question 6: Making Histograms (3 points)\n",
    "\n",
    "Write a function, `histogram(l, blank, filled)` that produces a histogram from a list of integers `l`, where a filled in pixel is represented by the character `filled`, and a blank pixel is represeted by the character `blank`.\n",
    "\n",
    "For instance, calling: \n",
    "```\n",
    "histogram([1, 3, 5, 2], \"O\", \"X\")\n",
    "```\n",
    "\n",
    "Should produce a graph where each vertical bar has a height of 1 \"X\", then 3 \"X\"'s, then 5 \"X\"'s, then 2 \"X\"'s, starting from the bottom. Any empty space would be filled with an \"O\", like so:\n",
    "```\n",
    "OOXO\n",
    "OOXO\n",
    "OXXO\n",
    "OXXX\n",
    "XXXX\n",
    "```\n",
    "\n",
    "You may assume that `l` contains only positive integers. Don't worry about any edge cases for this question.\n",
    "\n",
    "Remember that you can use `\\n` in a string to create a new line.  For example, if you want a string that represents\n",
    "```\n",
    "A\n",
    "B\n",
    "```\n",
    "you would write\n",
    "```\n",
    "x = \"A\\nB\"\n",
    "```"
   ]
  },
  {
   "cell_type": "code",
   "execution_count": null,
   "metadata": {
    "nbgrader": {
     "grade": false,
     "grade_id": "cell-bc772084dd8eaf72",
     "locked": false,
     "schema_version": 1,
     "solution": true
    }
   },
   "outputs": [],
   "source": [
    "# Write your answer here.\n",
    "\n",
    "### BEGIN SOLUTION\n",
    "\n",
    "def histogram(l, b, f):\n",
    "    \n",
    "    outstr = \"\"\n",
    "    \n",
    "    i = max(l)\n",
    "    \n",
    "    while i > 1:\n",
    "        \n",
    "        for val in l:\n",
    "            \n",
    "            if i <= val:\n",
    "                outstr += f\n",
    "            else:\n",
    "                outstr += b\n",
    "                \n",
    "        i -= 1\n",
    "        \n",
    "        outstr += \"\\n\"\n",
    "        \n",
    "    for val in l:\n",
    "\n",
    "        if i <= val:\n",
    "            outstr += f\n",
    "        else:\n",
    "            outstr += b\n",
    "\n",
    "    return outstr\n",
    "    \n",
    "\n",
    "### END SOLUTION"
   ]
  },
  {
   "cell_type": "markdown",
   "metadata": {},
   "source": [
    "The first test case should look like this:\n",
    "```\n",
    "OOXO\n",
    "OOXO\n",
    "OXXO\n",
    "OXXX\n",
    "XXXX\n",
    "```"
   ]
  },
  {
   "cell_type": "code",
   "execution_count": null,
   "metadata": {},
   "outputs": [],
   "source": [
    "print(histogram([1, 3, 5, 2], \"O\", \"X\"))"
   ]
  },
  {
   "cell_type": "markdown",
   "metadata": {},
   "source": [
    "(The `rstrip` in the test case below removes any trailing whitespace (carriage returns), in case you have any.)"
   ]
  },
  {
   "cell_type": "code",
   "execution_count": null,
   "metadata": {},
   "outputs": [],
   "source": [
    "assert histogram([1, 3, 5, 2], \"O\", \"X\").rstrip() == 'OOXO\\nOOXO\\nOXXO\\nOXXX\\nXXXX'"
   ]
  },
  {
   "cell_type": "markdown",
   "metadata": {},
   "source": [
    "The second test case should look like this:\n",
    "```\n",
    "🖊🖊🍍🖊\n",
    "🖊🖊🍍🖊\n",
    "🖊🍍🍍🖊\n",
    "🖊🍍🍍🖊\n",
    "🖊🍍🍍🖊\n",
    "🖊🍍🍍🖊\n",
    "🖊🍍🍍🍍\n",
    "🍍🍍🍍🍍\n",
    "🍍🍍🍍🍍\n",
    "```"
   ]
  },
  {
   "cell_type": "code",
   "execution_count": null,
   "metadata": {},
   "outputs": [],
   "source": [
    "print(histogram([2, 7, 9, 3], u\"\\U0001f58a\", u\"\\U0001f34d\"))"
   ]
  },
  {
   "cell_type": "code",
   "execution_count": null,
   "metadata": {},
   "outputs": [],
   "source": [
    "assert histogram([2, 7, 9, 3], u\"\\U0001f58a\", u\"\\U0001f34d\").rstrip() == '🖊🖊🍍🖊\\n🖊🖊🍍🖊\\n🖊🍍🍍🖊\\n🖊🍍🍍🖊\\n🖊🍍🍍🖊\\n🖊🍍🍍🖊\\n🖊🍍🍍🍍\\n🍍🍍🍍🍍\\n🍍🍍🍍🍍'"
   ]
  }
 ],
 "metadata": {
  "celltoolbar": "Create Assignment",
  "kernelspec": {
   "display_name": "Python 3",
   "language": "python",
   "name": "python3"
  },
  "language_info": {
   "codemirror_mode": {
    "name": "ipython",
    "version": 3
   },
   "file_extension": ".py",
   "mimetype": "text/x-python",
   "name": "python",
   "nbconvert_exporter": "python",
   "pygments_lexer": "ipython3",
   "version": "3.6.3"
  }
 },
 "nbformat": 4,
 "nbformat_minor": 2
}
