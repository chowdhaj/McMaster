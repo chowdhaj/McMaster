{
 "cells": [
  {
   "cell_type": "markdown",
   "metadata": {
    "nbgrader": {
     "grade": false,
     "grade_id": "cell-8270991a73638fc0",
     "locked": true,
     "schema_version": 1,
     "solution": false
    }
   },
   "source": [
    "## COMP SCI 1MD3 Introduction to Programming, Winter 2018\n",
    "### Douglas Stebila (Instructor), Joey Legere, Karl Knopf, Natalie Chin, Victor Chen (TAs)\n",
    "### Midterm Test 1 Tuesday, Feb 13, 3:30 - 4:20 PM\n",
    "### Maximum grade: 30 / 30\n",
    "\n",
    "You must use our JupyterHub server to complete the test. Once you have completed the test, click the “Submit” button in JupyterHub.  During the test, the only program you may use is your web browser, and the only web pages you may visit are the JupyterHub site and the Python documentation on doc.python.org.  You may not use Google, StackOverflow, IDLE, your own local Jupyter, or any other website or program.  University Technology Services will be logging network access for students in this class during the test period.  Please close all other programs on your computer and all other browser tabs and windows.  During the test, please raise your hand if you need assistance, would like scrap paper, or need to go to the washroom.  The test will be over at 4:20.  If you are finished early, you may submit your notebook on JupyterHub and then quietly leave.  However, we will ask you to remain in your seat during the last 10 minutes to avoid disturbing other students. "
   ]
  },
  {
   "cell_type": "markdown",
   "metadata": {
    "nbgrader": {
     "grade": false,
     "grade_id": "cell-01368b0149cb4ce7",
     "locked": true,
     "schema_version": 1,
     "solution": false
    }
   },
   "source": [
    "## Part I: Multiple Choice and Short Answer (9 points)\n",
    "\n",
    "#### Question 1 (1 point)\n",
    "\n",
    "Which of the following lines of code checks if the value of x is equal to the value of y?\n",
    "\n",
    "a) `x = y`\n",
    "\n",
    "b) `x == y`\n",
    "\n",
    "Uncomment your answer in the cell below"
   ]
  },
  {
   "cell_type": "code",
   "execution_count": 1,
   "metadata": {},
   "outputs": [],
   "source": [
    "def question1():\n",
    "    \n",
    "    # Uncomment the line corresponding to your answer\n",
    "    # That is, just delete the '#' in front of the first line to answer 'a', and the second line for 'b'\n",
    "    \n",
    "    #ans = 'a'\n",
    "    \n",
    "    ans = 'b'\n",
    "    \n",
    "    return ans"
   ]
  },
  {
   "cell_type": "code",
   "execution_count": 2,
   "metadata": {},
   "outputs": [
    {
     "name": "stdout",
     "output_type": "stream",
     "text": [
      "Your answer is: b\n"
     ]
    }
   ],
   "source": [
    "# Run this code cell to check your answer to question 1\n",
    "print(\"Your answer is: %s\" % question1())"
   ]
  },
  {
   "cell_type": "code",
   "execution_count": 3,
   "metadata": {
    "nbgrader": {
     "grade": true,
     "grade_id": "cell-78b77369810f8c27",
     "locked": true,
     "points": 1,
     "schema_version": 1,
     "solution": false
    }
   },
   "outputs": [],
   "source": [
    "# Hidden tests for question 1\n",
    "### BEGIN HIDDEN TESTS\n",
    "assert question1() == 'b'\n",
    "### END HIDDEN TESTS"
   ]
  },
  {
   "cell_type": "markdown",
   "metadata": {
    "nbgrader": {
     "grade": false,
     "grade_id": "cell-3e25eb799739f7ba",
     "locked": true,
     "schema_version": 1,
     "solution": false
    }
   },
   "source": [
    "#### Question 2 (2 points)\n",
    "\n",
    "What types of the following types variables are mutable? In other words, what data types can you change an element of?\n",
    "\n",
    "If the variable type is mutable, uncomment it. Otherwise, leave it commented out. Select all that apply."
   ]
  },
  {
   "cell_type": "code",
   "execution_count": 8,
   "metadata": {},
   "outputs": [],
   "source": [
    "def question2():\n",
    "    \n",
    "    ## If a variable below is mutable, uncomment it. Otherwise, leave it commented out.\n",
    "    \n",
    "    #type1 = 'strings'\n",
    "    type2 = 'lists'\n",
    "    type3 = 'dictionaries'\n",
    "    #type4 = 'tuples'\n",
    "    \n",
    "    \n",
    "    ## Do not modify any of the code below this line\n",
    "    mutable_variables = []\n",
    "    for i in [1, 2, 3, 4]:\n",
    "        \n",
    "        if 'type%s'%i in locals():\n",
    "            mutable_variables.append(locals()['type%s' % i])\n",
    "            \n",
    "    return mutable_variables"
   ]
  },
  {
   "cell_type": "code",
   "execution_count": 9,
   "metadata": {},
   "outputs": [
    {
     "name": "stdout",
     "output_type": "stream",
     "text": [
      "You have indicated that the following variables are mutable: ['lists', 'dictionaries']\n"
     ]
    }
   ],
   "source": [
    "# Use this cell to verify your answer\n",
    "print(\"You have indicated that the following variables are mutable:\", question2())"
   ]
  },
  {
   "cell_type": "code",
   "execution_count": 10,
   "metadata": {
    "nbgrader": {
     "grade": true,
     "grade_id": "cell-05a2366b6609ef2b",
     "locked": true,
     "points": 1,
     "schema_version": 1,
     "solution": false
    }
   },
   "outputs": [],
   "source": [
    "# Hidden tests for question 2\n",
    "### BEGIN HIDDEN TESTS\n",
    "assert 'strings' not in question2()\n",
    "assert 'tuples' not in question2()\n",
    "### END HIDDEN TESTS"
   ]
  },
  {
   "cell_type": "code",
   "execution_count": 11,
   "metadata": {
    "nbgrader": {
     "grade": true,
     "grade_id": "cell-8d9eefa3f460b5b2",
     "locked": true,
     "points": 1,
     "schema_version": 1,
     "solution": false
    }
   },
   "outputs": [],
   "source": [
    "# Hidden tests for question 2\n",
    "### BEGIN HIDDEN TESTS\n",
    "assert 'lists' in question2()\n",
    "assert 'dictionaries' in question2()\n",
    "### END HIDDEN TESTS"
   ]
  },
  {
   "cell_type": "markdown",
   "metadata": {
    "nbgrader": {
     "grade": false,
     "grade_id": "cell-99853183b6f466d4",
     "locked": true,
     "schema_version": 1,
     "solution": false
    }
   },
   "source": [
    "#### Question 3 (2 points)\n",
    "\n",
    "Given a list containing 7 items, (for instance `l = ['a', 'b', 'c', 'd', 'e', 'f', 'g']`), which of the following code segments will return the 3rd element (`'c'`) up to **and including** the 6th element (`'f'`).  Select all that apply.\n",
    "\n",
    "a) `l[3:6]`\n",
    "\n",
    "b) `l[2:6]`\n",
    "\n",
    "c) `l[3:-1]`\n",
    "\n",
    "d) `l[2:-1]`\n",
    "\n",
    "e) `l[-5:-1]`\n",
    "\n",
    "f) `l[-5:7]`"
   ]
  },
  {
   "cell_type": "code",
   "execution_count": 12,
   "metadata": {},
   "outputs": [],
   "source": [
    "def question3():\n",
    "    \n",
    "    ## Uncomment all letters corresponding to what you believe are the CORRECT code snippets\n",
    "    \n",
    "    #a = True\n",
    "    b = True\n",
    "    #c = True\n",
    "    d = True\n",
    "    e = True\n",
    "    #f = True\n",
    "    \n",
    "    ## Do not modify the code below\n",
    "    answers = []\n",
    "    for i in 'abcdef':\n",
    "        \n",
    "        if i in locals(): answers.append(i)\n",
    "            \n",
    "    return answers"
   ]
  },
  {
   "cell_type": "code",
   "execution_count": 13,
   "metadata": {},
   "outputs": [
    {
     "name": "stdout",
     "output_type": "stream",
     "text": [
      "You have selected:  ['b', 'd', 'e']\n"
     ]
    }
   ],
   "source": [
    "# Use this code cell to verify your answer\n",
    "print(\"You have selected: \", question3())"
   ]
  },
  {
   "cell_type": "code",
   "execution_count": 14,
   "metadata": {
    "nbgrader": {
     "grade": true,
     "grade_id": "cell-6a41b0baa1f9691b",
     "locked": true,
     "points": 1,
     "schema_version": 1,
     "solution": false
    }
   },
   "outputs": [],
   "source": [
    "# Hidden tests for question 3\n",
    "### BEGIN HIDDEN TESTS\n",
    "assert 'a' not in question3()\n",
    "assert 'c' not in question3()\n",
    "assert 'f' not in question3()\n",
    "### END HIDDEN TESTS"
   ]
  },
  {
   "cell_type": "code",
   "execution_count": 15,
   "metadata": {
    "nbgrader": {
     "grade": true,
     "grade_id": "cell-5a96c613037d52a2",
     "locked": true,
     "points": 1,
     "schema_version": 1,
     "solution": false
    }
   },
   "outputs": [],
   "source": [
    "# Hidden tests for question 3\n",
    "### BEGIN HIDDEN TESTS\n",
    "assert 'b' in question3()\n",
    "assert 'd' in question3()\n",
    "assert 'e' in question3()\n",
    "### END HIDDEN TESTS"
   ]
  },
  {
   "cell_type": "markdown",
   "metadata": {
    "nbgrader": {
     "grade": false,
     "grade_id": "cell-e35da215c72eff85",
     "locked": true,
     "schema_version": 1,
     "solution": false
    }
   },
   "source": [
    "#### Question 4 (Short answer, 2 points)\n",
    "\n",
    "Let's say you want to write a program that keeps track of all of the movies you've watched, and the number of times you have watched them. What sort of data structure would you use, and why?"
   ]
  },
  {
   "cell_type": "code",
   "execution_count": null,
   "metadata": {
    "collapsed": true,
    "nbgrader": {
     "grade": true,
     "grade_id": "cell-6deddb6a2c4ba9f6",
     "locked": false,
     "points": 2,
     "schema_version": 1,
     "solution": true
    }
   },
   "outputs": [],
   "source": [
    "# Write your answer here\n",
    "Dictionary. Keys are movie name, values are number of times watched. Order doesn't matter, so dictionaries are a good choice."
   ]
  },
  {
   "cell_type": "markdown",
   "metadata": {
    "nbgrader": {
     "grade": false,
     "grade_id": "cell-0ebd1ecf59c9b524",
     "locked": true,
     "schema_version": 1,
     "solution": false
    }
   },
   "source": [
    "#### Question 5 (Short answer, 2 points)\n",
    "\n",
    "There is a problem with the code below. What is it, and how would you fix it? (The code is supposed to add all the numbers from 1 to N)\n",
    "\n",
    "~~~\n",
    "def counting(N):    \n",
    "    s = 0\n",
    "    while i < N:\n",
    "        s = s + i\n",
    "    i = i + 1\n",
    "    return s\n",
    "~~~"
   ]
  },
  {
   "cell_type": "code",
   "execution_count": null,
   "metadata": {
    "collapsed": true,
    "nbgrader": {
     "grade": true,
     "grade_id": "cell-11c5d168ed504377",
     "locked": false,
     "points": 2,
     "schema_version": 1,
     "solution": true
    }
   },
   "outputs": [],
   "source": [
    "# Write your answer here\n",
    "- i is not initialized: add line i = 1\n",
    "- infinite loop: i = i + 1 should be indented to be inside the while loop\n",
    "- off-by-one error: only adds up to N-1, but not including N: change < to <="
   ]
  },
  {
   "cell_type": "markdown",
   "metadata": {
    "nbgrader": {
     "grade": false,
     "grade_id": "cell-71a0b5befc6ac718",
     "locked": true,
     "schema_version": 1,
     "solution": false
    }
   },
   "source": [
    "## Part II: Programming Questions (21 points total)\n",
    "\n",
    "#### Question 6: Wizarding Currencies (10 points)\n",
    "\n",
    "In the wizarding world, money comes in three denominations: bronze Knuts, silver Sickles, and golden Galleons.\n",
    "\n",
    "29 Knuts make one Sickle, and 17 Sickles make one Galleon.\n",
    "\n",
    "Write two functions (worth 5 points each): \n",
    "\n",
    "* `knuts(k, s, g)` that takes in a number of Knuts, Sickles, and Galleons, and returns an integer representing the total number of Knuts the coins are worth together.\n",
    "\n",
    "* `ksg(k)`, which, given a number of Knuts, finds their value in Knuts, Sickles, and Galleons. Return your value as a dictionary, where the key represents the type of coin (Knut, Sickle, or Galleon), and the values are the number of that type of coin. See the test cases for an example."
   ]
  },
  {
   "cell_type": "code",
   "execution_count": 16,
   "metadata": {
    "nbgrader": {
     "grade": false,
     "grade_id": "cell-1f4f34250fdb3b4c",
     "locked": false,
     "schema_version": 1,
     "solution": true
    }
   },
   "outputs": [],
   "source": [
    "def knuts(k, s, g):\n",
    "    \n",
    "    # Your code here.\n",
    "    \n",
    "    ### BEGIN SOLUTION\n",
    "    return k + s*29 + g*29*17\n",
    "    ### END SOLUTION"
   ]
  },
  {
   "cell_type": "code",
   "execution_count": 17,
   "metadata": {},
   "outputs": [
    {
     "data": {
      "text/plain": [
       "True"
      ]
     },
     "execution_count": 17,
     "metadata": {},
     "output_type": "execute_result"
    }
   ],
   "source": [
    "knuts(1, 1, 1) == 523"
   ]
  },
  {
   "cell_type": "code",
   "execution_count": 18,
   "metadata": {},
   "outputs": [
    {
     "data": {
      "text/plain": [
       "True"
      ]
     },
     "execution_count": 18,
     "metadata": {},
     "output_type": "execute_result"
    }
   ],
   "source": [
    "knuts(33, 10, 1) == 816"
   ]
  },
  {
   "cell_type": "code",
   "execution_count": 19,
   "metadata": {
    "nbgrader": {
     "grade": true,
     "grade_id": "cell-5ad04bd63af3f9c3",
     "locked": true,
     "points": 1,
     "schema_version": 1,
     "solution": false
    }
   },
   "outputs": [],
   "source": [
    "# Hidden test cases for knuts()\n",
    "### BEGIN HIDDEN TESTS\n",
    "assert knuts(100, 100, 100) == 52300\n",
    "### END HIDDEN TESTS"
   ]
  },
  {
   "cell_type": "code",
   "execution_count": 20,
   "metadata": {
    "nbgrader": {
     "grade": true,
     "grade_id": "cell-f1965df1fed0c003",
     "locked": true,
     "points": 1,
     "schema_version": 1,
     "solution": false
    }
   },
   "outputs": [],
   "source": [
    "# Hidden test cases for knuts()\n",
    "### BEGIN HIDDEN TESTS\n",
    "assert knuts(1, 0, 1) == 494\n",
    "### END HIDDEN TESTS"
   ]
  },
  {
   "cell_type": "code",
   "execution_count": 21,
   "metadata": {
    "nbgrader": {
     "grade": true,
     "grade_id": "cell-98e6f34c9a37a4ba",
     "locked": true,
     "points": 1,
     "schema_version": 1,
     "solution": false
    }
   },
   "outputs": [],
   "source": [
    "# Hidden test cases for knuts()\n",
    "### BEGIN HIDDEN TESTS\n",
    "assert knuts(1, 1, 0) == 30\n",
    "### END HIDDEN TESTS"
   ]
  },
  {
   "cell_type": "code",
   "execution_count": 22,
   "metadata": {
    "nbgrader": {
     "grade": true,
     "grade_id": "cell-68879e5ba75507f0",
     "locked": true,
     "points": 1,
     "schema_version": 1,
     "solution": false
    }
   },
   "outputs": [],
   "source": [
    "# Hidden test cases for knuts()\n",
    "### BEGIN HIDDEN TESTS\n",
    "assert knuts(10, 20, 30) == 15380\n",
    "### END HIDDEN TESTS"
   ]
  },
  {
   "cell_type": "code",
   "execution_count": 23,
   "metadata": {
    "nbgrader": {
     "grade": true,
     "grade_id": "cell-d075af1caf6804cb",
     "locked": true,
     "points": 1,
     "schema_version": 1,
     "solution": false
    }
   },
   "outputs": [],
   "source": [
    "# Hidden test cases for knuts()\n",
    "### BEGIN HIDDEN TESTS\n",
    "assert knuts(1, 29, 0) == 842\n",
    "### END HIDDEN TESTS"
   ]
  },
  {
   "cell_type": "code",
   "execution_count": 24,
   "metadata": {
    "nbgrader": {
     "grade": false,
     "grade_id": "cell-d7c92a5c665ba558",
     "locked": false,
     "schema_version": 1,
     "solution": true
    }
   },
   "outputs": [],
   "source": [
    "def ksg(k):\n",
    "    \n",
    "    # Your code here.\n",
    "    \n",
    "    ### BEGIN SOLUTION\n",
    "    g = k // 493\n",
    "    s = (k%493) // 29\n",
    "    k = k % 29\n",
    "    \n",
    "    return {\"Knuts\": k, \"Sickles\": s, \"Galleons\": g}\n",
    "    ### END SOLUTION\n",
    "    "
   ]
  },
  {
   "cell_type": "code",
   "execution_count": 25,
   "metadata": {},
   "outputs": [
    {
     "data": {
      "text/plain": [
       "True"
      ]
     },
     "execution_count": 25,
     "metadata": {},
     "output_type": "execute_result"
    }
   ],
   "source": [
    "ksg(523) == {'Galleons': 1, 'Knuts': 1, 'Sickles': 1}"
   ]
  },
  {
   "cell_type": "code",
   "execution_count": 26,
   "metadata": {},
   "outputs": [
    {
     "data": {
      "text/plain": [
       "True"
      ]
     },
     "execution_count": 26,
     "metadata": {},
     "output_type": "execute_result"
    }
   ],
   "source": [
    "ksg(30) == {'Galleons': 0, 'Knuts': 1, 'Sickles': 1}"
   ]
  },
  {
   "cell_type": "code",
   "execution_count": 27,
   "metadata": {},
   "outputs": [
    {
     "data": {
      "text/plain": [
       "True"
      ]
     },
     "execution_count": 27,
     "metadata": {},
     "output_type": "execute_result"
    }
   ],
   "source": [
    "ksg(4096) == {'Galleons': 8, 'Knuts': 7, 'Sickles': 5}"
   ]
  },
  {
   "cell_type": "code",
   "execution_count": 28,
   "metadata": {
    "nbgrader": {
     "grade": true,
     "grade_id": "cell-de24a24140239f3e",
     "locked": true,
     "points": 1,
     "schema_version": 1,
     "solution": false
    }
   },
   "outputs": [],
   "source": [
    "# Hidden test cases for ksg()\n",
    "### BEGIN HIDDEN TESTS\n",
    "assert ksg(1) == {'Galleons': 0, 'Knuts': 1, 'Sickles': 0}\n",
    "### END HIDDEN TESTS"
   ]
  },
  {
   "cell_type": "code",
   "execution_count": 29,
   "metadata": {
    "nbgrader": {
     "grade": true,
     "grade_id": "cell-19dcb1a03dfbe7b5",
     "locked": true,
     "points": 1,
     "schema_version": 1,
     "solution": false
    }
   },
   "outputs": [],
   "source": [
    "# Hidden test cases for ksg()\n",
    "### BEGIN HIDDEN TESTS\n",
    "assert ksg(29) == {'Galleons': 0, 'Knuts': 0, 'Sickles': 1}\n",
    "### END HIDDEN TESTS"
   ]
  },
  {
   "cell_type": "code",
   "execution_count": 30,
   "metadata": {
    "nbgrader": {
     "grade": true,
     "grade_id": "cell-7601faea24544373",
     "locked": true,
     "points": 1,
     "schema_version": 1,
     "solution": false
    }
   },
   "outputs": [],
   "source": [
    "# Hidden test cases for ksg()\n",
    "### BEGIN HIDDEN TESTS\n",
    "assert ksg(493) == {'Galleons': 1, 'Knuts': 0, 'Sickles': 0}\n",
    "### END HIDDEN TESTS"
   ]
  },
  {
   "cell_type": "code",
   "execution_count": 31,
   "metadata": {
    "nbgrader": {
     "grade": true,
     "grade_id": "cell-f19d80b0ee96e091",
     "locked": true,
     "points": 1,
     "schema_version": 1,
     "solution": false
    }
   },
   "outputs": [],
   "source": [
    "# Hidden test cases for ksg()\n",
    "### BEGIN HIDDEN TESTS\n",
    "assert ksg(987) == {'Galleons': 2, 'Knuts': 1, 'Sickles': 0}\n",
    "### END HIDDEN TESTS"
   ]
  },
  {
   "cell_type": "code",
   "execution_count": 32,
   "metadata": {
    "nbgrader": {
     "grade": true,
     "grade_id": "cell-2132b8b13ffd6c55",
     "locked": true,
     "points": 1,
     "schema_version": 1,
     "solution": false
    }
   },
   "outputs": [],
   "source": [
    "# Hidden test cases for ksg()\n",
    "### BEGIN HIDDEN TESTS\n",
    "assert ksg(493*5 + 29*12 + 28) == {'Galleons': 5, 'Knuts': 28, 'Sickles': 12}\n",
    "### END HIDDEN TESTS"
   ]
  },
  {
   "cell_type": "markdown",
   "metadata": {
    "nbgrader": {
     "grade": false,
     "grade_id": "cell-242c7365c30a27b9",
     "locked": true,
     "schema_version": 1,
     "solution": false
    }
   },
   "source": [
    "#### Question 7a: Checking Primes (5 points)\n",
    "\n",
    "Write a function, `isPrime(N)`, that returns `True` if `N` is a prime number, and `False` otherwise. You may assume that `N` will always be positive, and greater than 1.\n",
    "\n",
    "A number is prime if it is only divisible by one and itself. A simple way to check if a number is prime is to check the remainder after dividing by every positive number (other than 1) below `N`. If any remainder is equal to zero, the number is not prime."
   ]
  },
  {
   "cell_type": "code",
   "execution_count": 33,
   "metadata": {
    "nbgrader": {
     "grade": false,
     "grade_id": "cell-ffec72cc583c9c6c",
     "locked": false,
     "schema_version": 1,
     "solution": true
    }
   },
   "outputs": [],
   "source": [
    "# Write your answer here.\n",
    "\n",
    "### BEGIN SOLUTION\n",
    "\n",
    "def isPrime(N):\n",
    "    \n",
    "    intsqrt = int(N**0.5) + 1    \n",
    "    for i in range(2, intsqrt):\n",
    "        \n",
    "        if N % i == 0:\n",
    "            return False\n",
    "        \n",
    "    return True\n",
    "\n",
    "### END SOLUTION\n"
   ]
  },
  {
   "cell_type": "code",
   "execution_count": 34,
   "metadata": {},
   "outputs": [
    {
     "data": {
      "text/plain": [
       "True"
      ]
     },
     "execution_count": 34,
     "metadata": {},
     "output_type": "execute_result"
    }
   ],
   "source": [
    "isPrime(4) == False"
   ]
  },
  {
   "cell_type": "code",
   "execution_count": 35,
   "metadata": {},
   "outputs": [
    {
     "data": {
      "text/plain": [
       "True"
      ]
     },
     "execution_count": 35,
     "metadata": {},
     "output_type": "execute_result"
    }
   ],
   "source": [
    "isPrime(13) == True"
   ]
  },
  {
   "cell_type": "code",
   "execution_count": 36,
   "metadata": {},
   "outputs": [
    {
     "data": {
      "text/plain": [
       "True"
      ]
     },
     "execution_count": 36,
     "metadata": {},
     "output_type": "execute_result"
    }
   ],
   "source": [
    "isPrime(101) == True"
   ]
  },
  {
   "cell_type": "code",
   "execution_count": 37,
   "metadata": {},
   "outputs": [
    {
     "data": {
      "text/plain": [
       "True"
      ]
     },
     "execution_count": 37,
     "metadata": {},
     "output_type": "execute_result"
    }
   ],
   "source": [
    "isPrime(1993) == True"
   ]
  },
  {
   "cell_type": "code",
   "execution_count": 38,
   "metadata": {},
   "outputs": [
    {
     "data": {
      "text/plain": [
       "True"
      ]
     },
     "execution_count": 38,
     "metadata": {},
     "output_type": "execute_result"
    }
   ],
   "source": [
    "isPrime(1991) == False"
   ]
  },
  {
   "cell_type": "code",
   "execution_count": 39,
   "metadata": {
    "nbgrader": {
     "grade": true,
     "grade_id": "cell-e3e4fb9cd0d5cda2",
     "locked": true,
     "points": 1,
     "schema_version": 1,
     "solution": false
    }
   },
   "outputs": [],
   "source": [
    "# Hidden test cases for isPrime()\n",
    "### BEGIN HIDDEN TESTS\n",
    "assert isPrime(123457)\n",
    "### END HIDDEN TESTS"
   ]
  },
  {
   "cell_type": "code",
   "execution_count": 40,
   "metadata": {
    "nbgrader": {
     "grade": true,
     "grade_id": "cell-26c09ac2650e01bc",
     "locked": true,
     "points": 1,
     "schema_version": 1,
     "solution": false
    }
   },
   "outputs": [],
   "source": [
    "# Hidden test cases for isPrime()\n",
    "### BEGIN HIDDEN TESTS\n",
    "assert not isPrime(33)\n",
    "### END HIDDEN TESTS"
   ]
  },
  {
   "cell_type": "code",
   "execution_count": 41,
   "metadata": {
    "nbgrader": {
     "grade": true,
     "grade_id": "cell-945ed1173ef1217d",
     "locked": true,
     "points": 1,
     "schema_version": 1,
     "solution": false
    }
   },
   "outputs": [],
   "source": [
    "# Hidden test cases for isPrime()\n",
    "### BEGIN HIDDEN TESTS\n",
    "assert isPrime(59)\n",
    "### END HIDDEN TESTS"
   ]
  },
  {
   "cell_type": "code",
   "execution_count": 42,
   "metadata": {
    "nbgrader": {
     "grade": true,
     "grade_id": "cell-31c9848c88d2fc07",
     "locked": true,
     "points": 1,
     "schema_version": 1,
     "solution": false
    }
   },
   "outputs": [],
   "source": [
    "# Hidden test cases for isPrime()\n",
    "### BEGIN HIDDEN TESTS\n",
    "assert not isPrime(24)\n",
    "### END HIDDEN TESTS"
   ]
  },
  {
   "cell_type": "code",
   "execution_count": 43,
   "metadata": {
    "nbgrader": {
     "grade": true,
     "grade_id": "cell-80c43bf83b599c6e",
     "locked": true,
     "points": 1,
     "schema_version": 1,
     "solution": false
    }
   },
   "outputs": [],
   "source": [
    "# Hidden test cases for isPrime()\n",
    "### BEGIN HIDDEN TESTS\n",
    "assert isPrime(337)\n",
    "### END HIDDEN TESTS"
   ]
  },
  {
   "cell_type": "markdown",
   "metadata": {
    "nbgrader": {
     "grade": false,
     "grade_id": "cell-2e792f8f5e8ffe7c",
     "locked": true,
     "schema_version": 1,
     "solution": false
    }
   },
   "source": [
    "#### Question 7b: Find the Next Prime (3 points)\n",
    "\n",
    "Write a function, `nextPrime(N)` that finds the next number larger than `N` that is prime. You can rest assured that there is always another prime number above `N`."
   ]
  },
  {
   "cell_type": "code",
   "execution_count": 44,
   "metadata": {
    "nbgrader": {
     "grade": false,
     "grade_id": "cell-bc772084dd8eaf72",
     "locked": false,
     "schema_version": 1,
     "solution": true
    }
   },
   "outputs": [],
   "source": [
    "# Write your answer here.\n",
    "\n",
    "### BEGIN SOLUTION\n",
    "\n",
    "def isPrime(N):\n",
    "    \n",
    "    intsqrt = int(N**0.5) + 1    \n",
    "    for i in range(2, intsqrt):\n",
    "        \n",
    "        if N % i == 0:\n",
    "            return False\n",
    "        \n",
    "    return True\n",
    "\n",
    "def nextPrime(N):\n",
    "    \n",
    "    i = N+1\n",
    "    \n",
    "    while not isPrime(i): i += 1\n",
    "        \n",
    "    return i\n",
    "\n",
    "### END SOLUTION"
   ]
  },
  {
   "cell_type": "code",
   "execution_count": 45,
   "metadata": {},
   "outputs": [
    {
     "data": {
      "text/plain": [
       "True"
      ]
     },
     "execution_count": 45,
     "metadata": {},
     "output_type": "execute_result"
    }
   ],
   "source": [
    "nextPrime(12) == 13"
   ]
  },
  {
   "cell_type": "code",
   "execution_count": 46,
   "metadata": {},
   "outputs": [
    {
     "data": {
      "text/plain": [
       "True"
      ]
     },
     "execution_count": 46,
     "metadata": {},
     "output_type": "execute_result"
    }
   ],
   "source": [
    "nextPrime(13) == 17"
   ]
  },
  {
   "cell_type": "code",
   "execution_count": 47,
   "metadata": {},
   "outputs": [
    {
     "data": {
      "text/plain": [
       "True"
      ]
     },
     "execution_count": 47,
     "metadata": {},
     "output_type": "execute_result"
    }
   ],
   "source": [
    "nextPrime(2**16) == 65537"
   ]
  },
  {
   "cell_type": "code",
   "execution_count": 48,
   "metadata": {
    "nbgrader": {
     "grade": true,
     "grade_id": "cell-3b30499e72fbe01b",
     "locked": true,
     "points": 1,
     "schema_version": 1,
     "solution": false
    }
   },
   "outputs": [],
   "source": [
    "# Hidden tests for nextPrime()\n",
    "### BEGIN HIDDEN TESTS\n",
    "assert nextPrime(2**10) == 1031\n",
    "### END HIDDEN TESTS"
   ]
  },
  {
   "cell_type": "code",
   "execution_count": 49,
   "metadata": {
    "nbgrader": {
     "grade": true,
     "grade_id": "cell-492d87ff3ec94583",
     "locked": true,
     "points": 1,
     "schema_version": 1,
     "solution": false
    }
   },
   "outputs": [],
   "source": [
    "# Hidden tests for nextPrime()\n",
    "### BEGIN HIDDEN TESTS\n",
    "assert nextPrime(2**13) == 8209\n",
    "### END HIDDEN TESTS"
   ]
  },
  {
   "cell_type": "code",
   "execution_count": 50,
   "metadata": {
    "nbgrader": {
     "grade": true,
     "grade_id": "cell-0bb858edb4f165e7",
     "locked": true,
     "points": 1,
     "schema_version": 1,
     "solution": false
    }
   },
   "outputs": [],
   "source": [
    "# Hidden tests for nextPrime()\n",
    "### BEGIN HIDDEN TESTS\n",
    "assert nextPrime(10**6) == 1000003\n",
    "### END HIDDEN TESTS"
   ]
  },
  {
   "cell_type": "markdown",
   "metadata": {
    "nbgrader": {
     "grade": false,
     "grade_id": "cell-8fa5e91ba2d14adc",
     "locked": true,
     "schema_version": 1,
     "solution": false
    }
   },
   "source": [
    "#### Question 8a: Largest Product (2 points)\n",
    "\n",
    "In the following number, the four adjacent digits that give the largest product are:\n",
    "9 × 9 × 8 × 9 = 5832.\n",
    "\n",
    "5100474821663704844031**9989**00088952434506585412275886\n",
    "\n",
    "Write a function `max_product` that takes as input a base 10 number `s` (represented as a string), and outputs the product of the **twelve** adjacent digits that have the greatest product."
   ]
  },
  {
   "cell_type": "code",
   "execution_count": 53,
   "metadata": {
    "nbgrader": {
     "grade": false,
     "grade_id": "cell-9cc76527702ece7b",
     "locked": false,
     "schema_version": 1,
     "solution": true
    }
   },
   "outputs": [],
   "source": [
    "# Write your answer here.\n",
    "    \n",
    "### BEGIN SOLUTION\n",
    "def max_product(s):\n",
    "    MAX_PRODUCT = 0\n",
    "    for i in range(len(s)-11):\n",
    "\n",
    "        prod = 1\n",
    "\n",
    "        for j in range(12): prod *= int(s[i+j])\n",
    "\n",
    "        if prod > MAX_PRODUCT:\n",
    "            MAX_PRODUCT = prod\n",
    "        \n",
    "\n",
    "    \n",
    "    return MAX_PRODUCT\n",
    "\n",
    "### END SOLUTION"
   ]
  },
  {
   "cell_type": "code",
   "execution_count": 55,
   "metadata": {},
   "outputs": [
    {
     "data": {
      "text/plain": [
       "True"
      ]
     },
     "execution_count": 55,
     "metadata": {},
     "output_type": "execute_result"
    }
   ],
   "source": [
    "max_product('123456789123456789') == 182891520"
   ]
  },
  {
   "cell_type": "code",
   "execution_count": 56,
   "metadata": {
    "nbgrader": {
     "grade": true,
     "grade_id": "cell-ab5bfc6fa8d874ac",
     "locked": true,
     "points": 2,
     "schema_version": 1,
     "solution": false
    }
   },
   "outputs": [],
   "source": [
    "# Hidden test cell for max_product()\n",
    "### BEGIN HIDDEN TESTS\n",
    "s = '7316717653133062491922511967442657474235534919493496983520312774506326239578318016984801869478851843858615607891129494954595017379583319528532088055111254069874715852386305071569329096329522744304355766896648950445244523161731856403098711121722383113622298934233803081353362766142828064444866452387493035890729629049156044077239071381051585930796086670172427121883998797908792274921901699720888093776657273330010533678812202354218097512545405947522435258490771167055601360483958644670632441572215539753697817977846174064955149290862569321978468622482839722413756570560574902614079729686524145351004748216637048440319989000889524345065854122758866688116427171479924442928230863465674813919123162824586178664583591245665294765456828489128831426076900422421902267105562632111110937054421750694165896040807198403850962455444362981230987879927244284909188845801561660979191338754992005240636899125607176060588611646710940507754100225698315520005593572972571636269561882670428252483600823257530420752963450'\n",
    "assert max_product(s) == 4702924800\n",
    "### END HIDDEN TESTS"
   ]
  },
  {
   "cell_type": "markdown",
   "metadata": {
    "nbgrader": {
     "grade": false,
     "grade_id": "cell-0880dc64b4822f45",
     "locked": true,
     "schema_version": 1,
     "solution": false
    }
   },
   "source": [
    "#### Question 8b (1 point)\n",
    "\n",
    "Write a function `max_product2` that finds the value of the second largest product of twelve adjacent digits in a given number."
   ]
  },
  {
   "cell_type": "code",
   "execution_count": 57,
   "metadata": {
    "nbgrader": {
     "grade": false,
     "grade_id": "cell-b9d4509836dadcaa",
     "locked": false,
     "schema_version": 1,
     "solution": true
    }
   },
   "outputs": [],
   "source": [
    "# Write your answer here.\n",
    "    \n",
    "### BEGIN SOLUTION\n",
    "def max_product2(s):\n",
    "    MAX_PRODUCT = 0\n",
    "    MAX_PRODUCT2 = 0\n",
    "    for i in range(len(s)-11):\n",
    "\n",
    "        prod = 1\n",
    "\n",
    "        for j in range(12): prod *= int(s[i+j])\n",
    "\n",
    "        if prod > MAX_PRODUCT:\n",
    "            MAX_PRODUCT2 = MAX_PRODUCT\n",
    "            MAX_PRODUCT = prod\n",
    "        \n",
    "    return MAX_PRODUCT2\n",
    "### END SOLUTION"
   ]
  },
  {
   "cell_type": "code",
   "execution_count": 59,
   "metadata": {},
   "outputs": [
    {
     "data": {
      "text/plain": [
       "True"
      ]
     },
     "execution_count": 59,
     "metadata": {},
     "output_type": "execute_result"
    }
   ],
   "source": [
    "max_product2('123456789123456789') == 121927680"
   ]
  },
  {
   "cell_type": "code",
   "execution_count": 60,
   "metadata": {
    "nbgrader": {
     "grade": true,
     "grade_id": "cell-3e1c72929b24b413",
     "locked": true,
     "points": 1,
     "schema_version": 1,
     "solution": false
    }
   },
   "outputs": [
    {
     "data": {
      "text/plain": [
       "True"
      ]
     },
     "execution_count": 60,
     "metadata": {},
     "output_type": "execute_result"
    }
   ],
   "source": [
    "# Hidden test for max_product2()\n",
    "### BEGIN HIDDEN TESTS\n",
    "s = '7316717653133062491922511967442657474235534919493496983520312774506326239578318016984801869478851843858615607891129494954595017379583319528532088055111254069874715852386305071569329096329522744304355766896648950445244523161731856403098711121722383113622298934233803081353362766142828064444866452387493035890729629049156044077239071381051585930796086670172427121883998797908792274921901699720888093776657273330010533678812202354218097512545405947522435258490771167055601360483958644670632441572215539753697817977846174064955149290862569321978468622482839722413756570560574902614079729686524145351004748216637048440319989000889524345065854122758866688116427171479924442928230863465674813919123162824586178664583591245665294765456828489128831426076900422421902267105562632111110937054421750694165896040807198403850962455444362981230987879927244284909188845801561660979191338754992005240636899125607176060588611646710940507754100225698315520005593572972571636269561882670428252483600823257530420752963450'\n",
    "max_product2(s) == 1567641600\n",
    "### END HIDDEN TESTS"
   ]
  }
 ],
 "metadata": {
  "celltoolbar": "Create Assignment",
  "kernelspec": {
   "display_name": "Python 3",
   "language": "python",
   "name": "python3"
  },
  "language_info": {
   "codemirror_mode": {
    "name": "ipython",
    "version": 3
   },
   "file_extension": ".py",
   "mimetype": "text/x-python",
   "name": "python",
   "nbconvert_exporter": "python",
   "pygments_lexer": "ipython3",
   "version": "3.6.4"
  }
 },
 "nbformat": 4,
 "nbformat_minor": 2
}
