{
 "cells": [
  {
   "cell_type": "markdown",
   "metadata": {},
   "source": [
    "## COMP SCI 1MD3 Introduction to Programming, Winter 2018\n",
    "### Douglas Stebila (Instructor), Joey Legere, Karl Knopf, Natalie Chin, Victor Chen (TAs)\n",
    "### Lab 1 Assigned Thursday, Jan 25, Due Wednesday Jan 31, 5pm\n",
    "### Maximum grade: 20 / 16\n",
    "\n",
    "The purpose of this lab is to:\n",
    "* Become familiar with for loops\n",
    "* Understand functions that can be applied to lists\n",
    "* Practice working with dictionaries\n",
    "\n",
    "\n",
    "You are supposed to download this notebook, embed your answers to the questions in the cells below, and submit it through Avenue. Name your notebook `yourmacid.ipynb`, where `yourmacid` is your Mac ID. For example, if your e-mail address is `legerejk@mcmaster.ca`, then name your notebook `legerejk.ipynb`."
   ]
  },
  {
   "cell_type": "markdown",
   "metadata": {},
   "source": [
    "### Practice Question: Word Frequency\n",
    "\n",
    "Given a sentence, s, produce a dictionary that tells you the number of times each word occurs in a string. You may assume each word is lowercase, there are no contractions, and each word is separated by a space."
   ]
  },
  {
   "cell_type": "code",
   "execution_count": 1,
   "metadata": {},
   "outputs": [],
   "source": [
    "def wordFrequency(s):\n",
    "    \n",
    "    a = s.split()\n",
    "    d = dict()\n",
    "    for w in a:\n",
    "        if w in d:\n",
    "            d[w] += 1\n",
    "        else:\n",
    "            d[w] = 1\n",
    "    \n",
    "    return d"
   ]
  },
  {
   "cell_type": "code",
   "execution_count": 2,
   "metadata": {},
   "outputs": [
    {
     "data": {
      "text/plain": [
       "True"
      ]
     },
     "execution_count": 2,
     "metadata": {},
     "output_type": "execute_result"
    }
   ],
   "source": [
    "wordFrequency(\"was it a car or cat i saw or was it a kangaroo\") == {'a': 2,\n",
    " 'car': 1,\n",
    " 'cat': 1,\n",
    " 'i': 1,\n",
    " 'it': 2,\n",
    " 'kangaroo': 1,\n",
    " 'or': 2,\n",
    " 'saw': 1,\n",
    " 'was': 2}"
   ]
  },
  {
   "cell_type": "code",
   "execution_count": 3,
   "metadata": {},
   "outputs": [
    {
     "data": {
      "text/plain": [
       "True"
      ]
     },
     "execution_count": 3,
     "metadata": {},
     "output_type": "execute_result"
    }
   ],
   "source": [
    "wordFrequency(\"this sentence has too too many repeated repeated words\") == {'has': 1,\n",
    " 'many': 1,\n",
    " 'repeated': 2,\n",
    " 'sentence': 1,\n",
    " 'this': 1,\n",
    " 'too': 2,\n",
    " 'words': 1}"
   ]
  },
  {
   "cell_type": "markdown",
   "metadata": {},
   "source": [
    "### Question 1a: Span of a List (1.5 points)\n",
    "\n",
    "The span, or range of a list of numbers is the difference between the largest and smallest elements of the list. Write a Python function **span(l)** that takes a non-empty list **l** of numbers and returns the span:"
   ]
  },
  {
   "cell_type": "code",
   "execution_count": 5,
   "metadata": {},
   "outputs": [],
   "source": [
    "def span(l):\n",
    "    \n",
    "    mx = l[0]\n",
    "    mn = l[0]\n",
    "    for i in l:\n",
    "        if i > mx: mx = i\n",
    "        if i < mn: mn = i\n",
    "    s = mx - mn\n",
    "    return s"
   ]
  },
  {
   "cell_type": "code",
   "execution_count": 6,
   "metadata": {},
   "outputs": [
    {
     "data": {
      "text/plain": [
       "True"
      ]
     },
     "execution_count": 6,
     "metadata": {},
     "output_type": "execute_result"
    }
   ],
   "source": [
    "span([4, 2, 6, 9, 6]) == 7"
   ]
  },
  {
   "cell_type": "code",
   "execution_count": 7,
   "metadata": {},
   "outputs": [
    {
     "data": {
      "text/plain": [
       "True"
      ]
     },
     "execution_count": 7,
     "metadata": {},
     "output_type": "execute_result"
    }
   ],
   "source": [
    "span([-3.4, 2.8, 3]) == 6.4"
   ]
  },
  {
   "cell_type": "code",
   "execution_count": 8,
   "metadata": {},
   "outputs": [
    {
     "data": {
      "text/plain": [
       "True"
      ]
     },
     "execution_count": 8,
     "metadata": {},
     "output_type": "execute_result"
    }
   ],
   "source": [
    "span([5]) == 0"
   ]
  },
  {
   "cell_type": "markdown",
   "metadata": {},
   "source": [
    "### Question 1b: Bound of a List (1.5 points)\n",
    "\n",
    "The bound of a list of numbers is a pair with the smallest and largest number. Write a Python function **bound(l)** that takes non-empty list **l** and returns its bound as a list or tuple."
   ]
  },
  {
   "cell_type": "code",
   "execution_count": 12,
   "metadata": {},
   "outputs": [],
   "source": [
    "def bound(l):\n",
    "    \n",
    "    mx = l[0]\n",
    "    mn = l[0]\n",
    "    for i in l:\n",
    "        if i > mx: mx = i\n",
    "        if i < mn: mn = i\n",
    "    b = [mn, mx]\n",
    "    \n",
    "    return b"
   ]
  },
  {
   "cell_type": "code",
   "execution_count": 13,
   "metadata": {},
   "outputs": [
    {
     "data": {
      "text/plain": [
       "True"
      ]
     },
     "execution_count": 13,
     "metadata": {},
     "output_type": "execute_result"
    }
   ],
   "source": [
    "bound([4, 2, 6, 9, 6]) == [2, 9]"
   ]
  },
  {
   "cell_type": "code",
   "execution_count": 14,
   "metadata": {},
   "outputs": [
    {
     "data": {
      "text/plain": [
       "True"
      ]
     },
     "execution_count": 14,
     "metadata": {},
     "output_type": "execute_result"
    }
   ],
   "source": [
    "bound([-3.4, 2.8, 3]) == [-3.4, 3]"
   ]
  },
  {
   "cell_type": "code",
   "execution_count": 15,
   "metadata": {},
   "outputs": [
    {
     "data": {
      "text/plain": [
       "True"
      ]
     },
     "execution_count": 15,
     "metadata": {},
     "output_type": "execute_result"
    }
   ],
   "source": [
    "bound([5]) == [5, 5]"
   ]
  },
  {
   "cell_type": "markdown",
   "metadata": {},
   "source": [
    "### Question 1c: Arithmetic Mean of a List (1.5 points)\n",
    "\n",
    "The arithmetic mean of a series $x$ of $n$ numbers is defined as: $$ \\frac{1}{n} \\sum{x} $$.\n",
    "\n",
    "Write a function **arithmetic_mean(l)** that takes a non-empty list **l** and returns its arithmetic mean as a floating-point number."
   ]
  },
  {
   "cell_type": "code",
   "execution_count": 20,
   "metadata": {},
   "outputs": [],
   "source": [
    "def arithmetic_mean(l):\n",
    "    \n",
    "    s = 0\n",
    "    for x in l:\n",
    "        s += x\n",
    "    \n",
    "    m = s / len(l)\n",
    "    \n",
    "    return m"
   ]
  },
  {
   "cell_type": "code",
   "execution_count": 21,
   "metadata": {},
   "outputs": [
    {
     "data": {
      "text/plain": [
       "True"
      ]
     },
     "execution_count": 21,
     "metadata": {},
     "output_type": "execute_result"
    }
   ],
   "source": [
    "arithmetic_mean([5, 7, 9]) == 7.0"
   ]
  },
  {
   "cell_type": "code",
   "execution_count": 22,
   "metadata": {},
   "outputs": [
    {
     "data": {
      "text/plain": [
       "True"
      ]
     },
     "execution_count": 22,
     "metadata": {},
     "output_type": "execute_result"
    }
   ],
   "source": [
    "arithmetic_mean([3.2, 2.8]) == 3.0"
   ]
  },
  {
   "cell_type": "code",
   "execution_count": 23,
   "metadata": {},
   "outputs": [
    {
     "data": {
      "text/plain": [
       "True"
      ]
     },
     "execution_count": 23,
     "metadata": {},
     "output_type": "execute_result"
    }
   ],
   "source": [
    "arithmetic_mean([42]) == 42.0"
   ]
  },
  {
   "cell_type": "markdown",
   "metadata": {},
   "source": [
    "### Question 2: Subset Sum (2.5 points)\n",
    "\n",
    "Write a function subsetsum(l, s) that determines if there are any two numbers in the list l that add to s.\n",
    "\n",
    "e.g., for ([1, 2, 3], 5), it would be True, since 2 + 3 = 5.\n",
    "<br>([1, 2, 3], 6) would be false since there are no two numbers that add to six in the list (you cannot use the same value of three twice). On the contrary, if the input were ([1, 2, 3, 3], 6), this would be true because there are two 3s in the list."
   ]
  },
  {
   "cell_type": "code",
   "execution_count": 24,
   "metadata": {},
   "outputs": [],
   "source": [
    "def subsetsum(l, s):\n",
    "    \n",
    "    for i in range(len(l)):\n",
    "        d = s - l[i]\n",
    "        if d in l[i+1:]: return True\n",
    "    \n",
    "    return False\n",
    "    "
   ]
  },
  {
   "cell_type": "code",
   "execution_count": 25,
   "metadata": {},
   "outputs": [
    {
     "data": {
      "text/plain": [
       "True"
      ]
     },
     "execution_count": 25,
     "metadata": {},
     "output_type": "execute_result"
    }
   ],
   "source": [
    "subsetsum([1, 2, 3], 5) == True"
   ]
  },
  {
   "cell_type": "code",
   "execution_count": 26,
   "metadata": {},
   "outputs": [
    {
     "data": {
      "text/plain": [
       "True"
      ]
     },
     "execution_count": 26,
     "metadata": {},
     "output_type": "execute_result"
    }
   ],
   "source": [
    "subsetsum([1, 2, 2], 4) == True"
   ]
  },
  {
   "cell_type": "code",
   "execution_count": 27,
   "metadata": {},
   "outputs": [
    {
     "data": {
      "text/plain": [
       "True"
      ]
     },
     "execution_count": 27,
     "metadata": {},
     "output_type": "execute_result"
    }
   ],
   "source": [
    "subsetsum([1, 2, 3], 6) == False"
   ]
  },
  {
   "cell_type": "markdown",
   "metadata": {},
   "source": [
    "### Question 3a: Shortening Sentences (2 points)\n",
    "To speed up texting your friends, you are thinking of leaving out all vowels. Write a Python function `shorten(s)` that takes an arbitrary string and removes all uppercase and lowercase vowels."
   ]
  },
  {
   "cell_type": "code",
   "execution_count": 28,
   "metadata": {},
   "outputs": [],
   "source": [
    "def shorten(s):\n",
    "    \n",
    "    short_s = s\n",
    "    vowels = 'aeiouAEIOU'\n",
    "    for v in vowels:\n",
    "        short_s = short_s.replace(v, '')\n",
    "    \n",
    "    return short_s"
   ]
  },
  {
   "cell_type": "code",
   "execution_count": 29,
   "metadata": {},
   "outputs": [
    {
     "data": {
      "text/plain": [
       "True"
      ]
     },
     "execution_count": 29,
     "metadata": {},
     "output_type": "execute_result"
    }
   ],
   "source": [
    "shorten('What is the airspeed velocity of an unladen swallow?') == 'Wht s th rspd vlcty f n nldn swllw?'"
   ]
  },
  {
   "cell_type": "code",
   "execution_count": 30,
   "metadata": {},
   "outputs": [
    {
     "data": {
      "text/plain": [
       "True"
      ]
     },
     "execution_count": 30,
     "metadata": {},
     "output_type": "execute_result"
    }
   ],
   "source": [
    "shorten('') == ''"
   ]
  },
  {
   "cell_type": "code",
   "execution_count": 31,
   "metadata": {},
   "outputs": [
    {
     "data": {
      "text/plain": [
       "True"
      ]
     },
     "execution_count": 31,
     "metadata": {},
     "output_type": "execute_result"
    }
   ],
   "source": [
    "shorten('AEIOUaeiou') == ''"
   ]
  },
  {
   "cell_type": "markdown",
   "metadata": {},
   "source": [
    "### Question 3b: Shortening Sentence II (2 points)\n",
    "\n",
    "You find out that the resulting words are sometime incomprehensible and like to improve your method by removing only those vowels that directly follow another letter. This means keeping the vowel at the beginning of a word--specifically, any letter following a space. Write a Python function `shortenPlus(s)` that takes an arbitrary string and removes some vowels."
   ]
  },
  {
   "cell_type": "code",
   "execution_count": 32,
   "metadata": {},
   "outputs": [],
   "source": [
    "def shortenPlus(s):\n",
    "    \n",
    "    short_s = s[0]\n",
    "    i = 1\n",
    "    vowels = 'aeiouAEIOU'\n",
    "    while i < len(s):\n",
    "        if s[i] not in vowels:\n",
    "            short_s += s[i]\n",
    "        elif s[i-1] == ' ':\n",
    "            short_s += s[i]\n",
    "        i += 1\n",
    "    \n",
    "    return short_s"
   ]
  },
  {
   "cell_type": "code",
   "execution_count": 33,
   "metadata": {},
   "outputs": [
    {
     "data": {
      "text/plain": [
       "True"
      ]
     },
     "execution_count": 33,
     "metadata": {},
     "output_type": "execute_result"
    }
   ],
   "source": [
    "shortenPlus('What is the airspeed velocity of an unladen swallow') == 'Wht is th arspd vlcty of an unldn swllw'"
   ]
  },
  {
   "cell_type": "code",
   "execution_count": 34,
   "metadata": {},
   "outputs": [
    {
     "data": {
      "text/plain": [
       "True"
      ]
     },
     "execution_count": 34,
     "metadata": {},
     "output_type": "execute_result"
    }
   ],
   "source": [
    "shortenPlus('AEIOUaeiou') == 'A'"
   ]
  },
  {
   "cell_type": "code",
   "execution_count": 35,
   "metadata": {},
   "outputs": [
    {
     "data": {
      "text/plain": [
       "True"
      ]
     },
     "execution_count": 35,
     "metadata": {},
     "output_type": "execute_result"
    }
   ],
   "source": [
    "shortenPlus('x Ax Ex Ix Ox UY aY eY iY oY uY') == 'x Ax Ex Ix Ox UY aY eY iY oY uY'"
   ]
  },
  {
   "cell_type": "markdown",
   "metadata": {},
   "source": [
    "### Question 4: University Majors (2.5 points)\n",
    "\n",
    "Given a dictionary that tell you a person's major, write a Python function that, given a person's name and a major, returns `True` if that person is majoring that subject, and `False` otherwise"
   ]
  },
  {
   "cell_type": "code",
   "execution_count": 36,
   "metadata": {},
   "outputs": [],
   "source": [
    "def check_major(name, major, majors_dict):\n",
    "    \n",
    "    if majors_dict[name] == major:\n",
    "        return True\n",
    "    else:\n",
    "        return False\n",
    "    "
   ]
  },
  {
   "cell_type": "code",
   "execution_count": 37,
   "metadata": {},
   "outputs": [
    {
     "data": {
      "text/plain": [
       "True"
      ]
     },
     "execution_count": 37,
     "metadata": {},
     "output_type": "execute_result"
    }
   ],
   "source": [
    "majors_1 = {\"Josh\": \"Engineering\", \"Carol\": \"Accounting\", \"Douglas\": \"Art History\", \"Irene\": \"Engineering\", \"Robert\": \"Engineering\", \"Christine\": \"Accounting\", \"Charles\": \"Accounting\"}\n",
    "check_major(\"Douglas\", \"Art History\", majors_1) == True"
   ]
  },
  {
   "cell_type": "code",
   "execution_count": 38,
   "metadata": {},
   "outputs": [
    {
     "data": {
      "text/plain": [
       "True"
      ]
     },
     "execution_count": 38,
     "metadata": {},
     "output_type": "execute_result"
    }
   ],
   "source": [
    "majors_1 = {\"Josh\": \"Engineering\", \"Carol\": \"Accounting\", \"Douglas\": \"Art History\", \"Irene\": \"Engineering\", \"Robert\": \"Engineering\", \"Christine\": \"Accounting\", \"Charles\": \"Accounting\"}\n",
    "check_major(\"Josh\", \"Accounting\", majors_1) == False"
   ]
  },
  {
   "cell_type": "markdown",
   "metadata": {},
   "source": [
    "### Question 4b: University Majors II (2.5 points)\n",
    "\n",
    "Given a dictonary that instead maps majors to lists of names, repeat the above question."
   ]
  },
  {
   "cell_type": "code",
   "execution_count": 39,
   "metadata": {},
   "outputs": [],
   "source": [
    "def check_major2(name, major, major_dictionary):\n",
    "    \n",
    "    # Your code here\n",
    "    is_major = name in major_dictionary[major]\n",
    "    \n",
    "    return is_major"
   ]
  },
  {
   "cell_type": "code",
   "execution_count": 40,
   "metadata": {},
   "outputs": [
    {
     "data": {
      "text/plain": [
       "True"
      ]
     },
     "execution_count": 40,
     "metadata": {},
     "output_type": "execute_result"
    }
   ],
   "source": [
    "majors_2 = {\"Engineering\": [\"Josh\", \"Robert\", \"Irene\"], \"Accounting\": [\"Carol\", \"Christine\", \"Charles\"], \"Art History\": [\"Douglas\"]}\n",
    "check_major2(\"Douglas\", \"Art History\", majors_2) == True"
   ]
  },
  {
   "cell_type": "code",
   "execution_count": 41,
   "metadata": {},
   "outputs": [
    {
     "data": {
      "text/plain": [
       "True"
      ]
     },
     "execution_count": 41,
     "metadata": {},
     "output_type": "execute_result"
    }
   ],
   "source": [
    "majors_2 = {\"Engineering\": [\"Josh\", \"Robert\", \"Irene\"], \"Accounting\": [\"Carol\", \"Christine\", \"Charles\"], \"Art History\": [\"Douglas\"]}\n",
    "check_major2(\"Josh\", \"Accounting\", majors_2) == False"
   ]
  },
  {
   "cell_type": "markdown",
   "metadata": {},
   "source": [
    "### Bonus: 1337 h4x0r (4 p01n+\\$)\n",
    "\n",
    "Write a function that translates an English sentence to leetspeak.\n",
    "\n",
    "<br>Hints: You will want to turn your sentence into a list of words, replace those, and then turn it back into a sentence before replacing letters. To turn a list of words into a sentence, you can use the syntax:\n",
    "<br>`new_sentence = \" \".join(old_list)`\n",
    "<br>This will join all the values in \"old list\" into a string, separated by spaces.\n",
    "<br>If you want to determine if a word is in your dictionary, use \"if word in dictionary.keys()\"\n",
    "\n",
    "You may assume that the sentences are, much like YouTube comments, devoid of any punctuation or capitalization.\n",
    "\n",
    "\n",
    "Use the following general algorithm:\n",
    "Replace the following words:<ul>\n",
    "<li>elite -> leet\n",
    "<li>the -> teh\n",
    "<li>hacker -> haxor\n",
    "<li>hack -> hax\n",
    "<li>own -> pwn\n",
    "<li>owned -> pwned\n",
    "<li>dude -> dood\n",
    "<li>rocks -> roxxorz\n",
    "<li>1md3 -> most awesome course ever\n",
    "</ul>\n",
    "<br>If any word ends with an 's', replace it with a 'z'\n",
    "\n",
    "Replace the following letters:<ul>\n",
    "<li>a -> \"@\"\n",
    "<li>e -> \"3\"\n",
    "<li>t -> \"7\"\n",
    "<li>l -> \"1\"\n",
    "<li>o -> \"0\"\n",
    "<li>s -> \"$\"\n",
    "</ul>\n"
   ]
  },
  {
   "cell_type": "code",
   "execution_count": 42,
   "metadata": {},
   "outputs": [],
   "source": [
    "def leet(s):\n",
    "    \n",
    "    leetwords = {'elite': 'leet', 'the': 'teh', 'hacker': 'haxor', 'hack': 'hax', 'own': 'pwn', 'owned': 'pwned', 'dude': 'dood', '1md3': 'most awesome course ever'}\n",
    "    words = s.split()\n",
    "    for i in range(len(words)):\n",
    "        if words[i] in leetwords: words[i] = leetwords[words[i]]\n",
    "        if words[i][-1] == 's': words[i] = words[i][:-1] + 'z'\n",
    "    leetletters = {'a': \"@\", 'e': '3', 't': '7', 'l': '1', 'o': '0', 's': '$'}\n",
    "    leet_sentence = ' '.join(words)\n",
    "    for l in leetletters:\n",
    "        leet_sentence = leet_sentence.replace(l, leetletters[l])\n",
    "    \n",
    "    return leet_sentence"
   ]
  },
  {
   "cell_type": "code",
   "execution_count": 43,
   "metadata": {},
   "outputs": [
    {
     "data": {
      "text/plain": [
       "True"
      ]
     },
     "execution_count": 43,
     "metadata": {},
     "output_type": "execute_result"
    }
   ],
   "source": [
    "leet(\"abcdefghijklmnopqrstuvwxyz\") == '@bcd3fghijk1mn0pqr$7uvwxyz'"
   ]
  },
  {
   "cell_type": "code",
   "execution_count": 44,
   "metadata": {},
   "outputs": [
    {
     "data": {
      "text/plain": [
       "True"
      ]
     },
     "execution_count": 44,
     "metadata": {},
     "output_type": "execute_result"
    }
   ],
   "source": [
    "leet(\"i am a elite hacker\") == 'i @m @ 1337 h@x0r'"
   ]
  },
  {
   "cell_type": "code",
   "execution_count": 45,
   "metadata": {},
   "outputs": [
    {
     "data": {
      "text/plain": [
       "True"
      ]
     },
     "execution_count": 45,
     "metadata": {},
     "output_type": "execute_result"
    }
   ],
   "source": [
    "leet(\"dont let your memes be dreams\") == 'd0n7 137 y0ur m3m3z b3 dr3@mz'"
   ]
  }
 ],
 "metadata": {
  "kernelspec": {
   "display_name": "Python 3",
   "language": "python",
   "name": "python3"
  },
  "language_info": {
   "codemirror_mode": {
    "name": "ipython",
    "version": 3
   },
   "file_extension": ".py",
   "mimetype": "text/x-python",
   "name": "python",
   "nbconvert_exporter": "python",
   "pygments_lexer": "ipython3",
   "version": "3.6.4"
  }
 },
 "nbformat": 4,
 "nbformat_minor": 1
}
