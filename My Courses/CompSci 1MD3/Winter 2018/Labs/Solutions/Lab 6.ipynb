{
 "cells": [
  {
   "cell_type": "markdown",
   "metadata": {
    "nbgrader": {
     "grade": false,
     "grade_id": "cell-8270991a73638fc0",
     "locked": true,
     "schema_version": 1,
     "solution": false
    }
   },
   "source": [
    "## COMP SCI 1MD3 Introduction to Programming, Winter 2018\n",
    "### Douglas Stebila (Instructor), Joey Legere, Karl Knopf, Natalie Chin, Victor Chen (TAs)\n",
    "### Lab 6 Assigned Wednesday, Feb 21, Due Wednesday Feb 28, 5pm\n",
    "### Maximum grade: 20 / 16\n",
    "\n",
    "The purpose of this lab is to:\n",
    "* Learn to check data types before manipulating data\n",
    "* Practice handling different types of exceptions gracefully without your program breaking"
   ]
  },
  {
   "cell_type": "markdown",
   "metadata": {
    "nbgrader": {
     "grade": false,
     "grade_id": "cell-165b0cea3a8dbb9e",
     "locked": true,
     "schema_version": 1,
     "solution": false
    }
   },
   "source": [
    "#### Practice Question 1: Finding a Product\n",
    "\n",
    "Consider the following function that multiplies all the numbers in a given list:"
   ]
  },
  {
   "cell_type": "code",
   "execution_count": null,
   "metadata": {},
   "outputs": [],
   "source": [
    "def prod(l):\n",
    "    \n",
    "    p = 1\n",
    "    \n",
    "    for i in l:\n",
    "        \n",
    "        p *= i\n",
    "        \n",
    "    return p"
   ]
  },
  {
   "cell_type": "markdown",
   "metadata": {
    "nbgrader": {
     "grade": false,
     "grade_id": "cell-874a0cb020a0a786",
     "locked": true,
     "schema_version": 1,
     "solution": false
    }
   },
   "source": [
    "This works quite well, given a list of all integers, or a mix with floating point numbers:"
   ]
  },
  {
   "cell_type": "code",
   "execution_count": null,
   "metadata": {},
   "outputs": [],
   "source": [
    "prod([1,2,3,7]) == 42"
   ]
  },
  {
   "cell_type": "code",
   "execution_count": null,
   "metadata": {},
   "outputs": [],
   "source": [
    "prod([1.0, 2.0, 3.1, 17.5]) == 108.5"
   ]
  },
  {
   "cell_type": "markdown",
   "metadata": {
    "nbgrader": {
     "grade": false,
     "grade_id": "cell-719e1919c336baec",
     "locked": true,
     "schema_version": 1,
     "solution": false
    }
   },
   "source": [
    "However, adding strings or lists produces unexpected behaviours:"
   ]
  },
  {
   "cell_type": "code",
   "execution_count": null,
   "metadata": {},
   "outputs": [],
   "source": [
    "prod([1, 2, 3, 'badger '])"
   ]
  },
  {
   "cell_type": "code",
   "execution_count": null,
   "metadata": {},
   "outputs": [],
   "source": [
    "prod([2, [7, 8, 9], 3])"
   ]
  },
  {
   "cell_type": "code",
   "execution_count": null,
   "metadata": {},
   "outputs": [],
   "source": [
    "prod([1, 3, 7, '', []])"
   ]
  },
  {
   "cell_type": "markdown",
   "metadata": {
    "nbgrader": {
     "grade": false,
     "grade_id": "cell-ed90ea1ad4ea4837",
     "locked": true,
     "schema_version": 1,
     "solution": false
    }
   },
   "source": [
    "We can use the `type` function to get the type of a variable and make use of that in our code.  For example:"
   ]
  },
  {
   "cell_type": "code",
   "execution_count": null,
   "metadata": {},
   "outputs": [],
   "source": [
    "x = 17\n",
    "if type(x) in (int, float):\n",
    "    print(\"x is a number\")\n",
    "elif type(x) == str:\n",
    "    print(\"x is a string\")\n",
    "elif type(x) in (list, set, tuple):\n",
    "    print(\"x is a list/set/tuple\")\n",
    "elif type(x) == dict:\n",
    "    print(\"x is a dictionary\")\n",
    "else:\n",
    "    print(\"x is a \" + str(type(x)))"
   ]
  },
  {
   "cell_type": "markdown",
   "metadata": {
    "nbgrader": {
     "grade": false,
     "grade_id": "cell-4f1831f63c24891d",
     "locked": true,
     "schema_version": 1,
     "solution": false
    }
   },
   "source": [
    "Write a function, `prodBetter(l)` that performs the same function as `prod(l)`, but ignores any elements of `l` that are not integers or floating point numbers."
   ]
  },
  {
   "cell_type": "code",
   "execution_count": null,
   "metadata": {},
   "outputs": [],
   "source": [
    "# Your code here"
   ]
  },
  {
   "cell_type": "code",
   "execution_count": null,
   "metadata": {},
   "outputs": [],
   "source": [
    "prodBetter([2, [7, 8, 9], 3, 'kittens']) == 6"
   ]
  },
  {
   "cell_type": "markdown",
   "metadata": {
    "nbgrader": {
     "grade": false,
     "grade_id": "cell-0ea2615e3a466214",
     "locked": true,
     "schema_version": 1,
     "solution": false
    }
   },
   "source": [
    "#### Practice Question 2: prodEvenBetter()\n",
    "\n",
    "Let's build on the `prodBetter(l)` function. Say that '3.14' is an element of the list. We want our function to be able to multiply by this number. However, we obviously don't want to convert the string 'kittens' to a number (<a href='https://xkcd.com/26/'>generally one should not perform mathematics on cats </a>).\n",
    "\n",
    "Improve the function so that it tries to convert any strings in the list into floating point numbers, but skips any string that cannot be converted to a number.  You will have to make use of try/except to catch any conversion errors that occur."
   ]
  },
  {
   "cell_type": "code",
   "execution_count": null,
   "metadata": {},
   "outputs": [],
   "source": [
    "# Write prodEvenBetter here"
   ]
  },
  {
   "cell_type": "code",
   "execution_count": null,
   "metadata": {},
   "outputs": [],
   "source": [
    "prodEvenBetter([2, [7, 8, 9], 3, 'kittens']) == 6"
   ]
  },
  {
   "cell_type": "code",
   "execution_count": null,
   "metadata": {},
   "outputs": [],
   "source": [
    "prodEvenBetter([2, [7, 8, 9], 3, '3.14']) == 18.84"
   ]
  },
  {
   "cell_type": "markdown",
   "metadata": {
    "nbgrader": {
     "grade": false,
     "grade_id": "cell-f0421da4a3cf21b9",
     "locked": true,
     "schema_version": 1,
     "solution": false
    }
   },
   "source": [
    "#### Practice Question 3: prodBest(l)\n",
    "\n",
    "What a terrific function. Too bad it can't work with hexadecimal numbers (yet).\n",
    "\n",
    "Create a function `prodBest(l)` that does everything `prodBetter(l)` does, but also tries to convert any strings that are provided into hexadecimal.\n",
    "\n",
    "Modify the given function hex2dec() so that it raises a `BaseException` if it cannot convert the given number from hex. `prodBest()` should skip any strings in the list that raise this particular error.\n",
    "\n"
   ]
  },
  {
   "cell_type": "code",
   "execution_count": null,
   "metadata": {},
   "outputs": [],
   "source": [
    "# Modify to raise a BaseException if it cannot convert a given string\n",
    "def hex2dec(x):\n",
    "\n",
    "    return int(x, 16)\n",
    "        "
   ]
  },
  {
   "cell_type": "code",
   "execution_count": null,
   "metadata": {},
   "outputs": [],
   "source": [
    "# Write prodBest here."
   ]
  },
  {
   "cell_type": "code",
   "execution_count": null,
   "metadata": {},
   "outputs": [],
   "source": [
    "prodBest(['1A', 'F']) == 390"
   ]
  },
  {
   "cell_type": "code",
   "execution_count": null,
   "metadata": {},
   "outputs": [],
   "source": [
    "prodBest([[], 3.0, '3.14', 'cats', '1a']) == 244.92"
   ]
  },
  {
   "cell_type": "markdown",
   "metadata": {
    "nbgrader": {
     "grade": false,
     "grade_id": "cell-242c7365c30a27b9",
     "locked": true,
     "schema_version": 1,
     "solution": false
    }
   },
   "source": [
    "#### Question 1 (4 points):  Adding Numbers (But Better!)\n",
    "\n",
    "Write a function, `addBetter(x, y)` that takes two numbers, adds them, and **returns a floating point number (even if all the inputs are integers)**. Your function should try to convert strings to floats, and handle any weird inputs gracefully. If you are unable to add `x` and `y`, return `False`."
   ]
  },
  {
   "cell_type": "code",
   "execution_count": null,
   "metadata": {},
   "outputs": [],
   "source": [
    "# Use this code cell to run your tests"
   ]
  },
  {
   "cell_type": "code",
   "execution_count": null,
   "metadata": {
    "nbgrader": {
     "grade": false,
     "grade_id": "cell-ffec72cc583c9c6c",
     "locked": false,
     "schema_version": 1,
     "solution": true
    }
   },
   "outputs": [],
   "source": [
    "# Write your answer here.\n",
    "\n",
    "###BEGIN SOLUTION\n",
    "\n",
    "def addBetter(x, y):\n",
    "    \n",
    "    if type(x) not in (int, float, str) or type(y) not in (int, float, str):\n",
    "        return False\n",
    "    \n",
    "    else:\n",
    "        \n",
    "        try:\n",
    "            x = float(x)\n",
    "            y = float(y)\n",
    "        except:\n",
    "            return False\n",
    "        \n",
    "        return x + y\n",
    "\n",
    "### END SOLUTION"
   ]
  },
  {
   "cell_type": "code",
   "execution_count": null,
   "metadata": {},
   "outputs": [],
   "source": [
    "addBetter(3, 4) == 7"
   ]
  },
  {
   "cell_type": "code",
   "execution_count": null,
   "metadata": {},
   "outputs": [],
   "source": [
    "addBetter('3.14', '2.72') == 5.86"
   ]
  },
  {
   "cell_type": "code",
   "execution_count": null,
   "metadata": {},
   "outputs": [],
   "source": [
    "addBetter('cat', 3) == False"
   ]
  },
  {
   "cell_type": "code",
   "execution_count": null,
   "metadata": {},
   "outputs": [],
   "source": [
    "type(addBetter(0, 0)) == float"
   ]
  },
  {
   "cell_type": "code",
   "execution_count": null,
   "metadata": {
    "nbgrader": {
     "grade": true,
     "grade_id": "cell-31c9848c88d2fc07",
     "locked": true,
     "points": 1,
     "schema_version": 1,
     "solution": false
    }
   },
   "outputs": [],
   "source": [
    "# Hidden test for addBetter\n",
    "### BEGIN HIDDEN TESTS\n",
    "assert type(addBetter('3', 1)) == float\n",
    "### END HIDDEN TESTS"
   ]
  },
  {
   "cell_type": "code",
   "execution_count": null,
   "metadata": {
    "nbgrader": {
     "grade": true,
     "grade_id": "cell-ca28d218ed96521f",
     "locked": true,
     "points": 1,
     "schema_version": 1,
     "solution": false
    }
   },
   "outputs": [],
   "source": [
    "# Hidden test for addBetter\n",
    "### BEGIN HIDDEN TESTS\n",
    "assert not addBetter('potato', 'salad') \n",
    "### END HIDDEN TESTS"
   ]
  },
  {
   "cell_type": "code",
   "execution_count": null,
   "metadata": {
    "nbgrader": {
     "grade": true,
     "grade_id": "cell-dc1492c7ee471b53",
     "locked": true,
     "points": 1,
     "schema_version": 1,
     "solution": false
    }
   },
   "outputs": [],
   "source": [
    "# Hidden test for addBetter\n",
    "### BEGIN HIDDEN TESTS\n",
    "assert addBetter('33.89', 5.13) == 39.02\n",
    "### END HIDDEN TESTS"
   ]
  },
  {
   "cell_type": "code",
   "execution_count": null,
   "metadata": {
    "nbgrader": {
     "grade": true,
     "grade_id": "cell-4b1c513d2ecefb29",
     "locked": true,
     "points": 1,
     "schema_version": 1,
     "solution": false
    }
   },
   "outputs": [],
   "source": [
    "# Hidden test for addBetter\n",
    "### BEGIN HIDDEN TESTS\n",
    "assert (addBetter('3', '-7.1')) == -4.1\n",
    "### END HIDDEN TESTS"
   ]
  },
  {
   "cell_type": "markdown",
   "metadata": {
    "nbgrader": {
     "grade": false,
     "grade_id": "cell-2e792f8f5e8ffe7c",
     "locked": true,
     "schema_version": 1,
     "solution": false
    }
   },
   "source": [
    "#### Question 2 (4 points): Comparing Rainy Seasons\n",
    "\n",
    "Write a function, `precipiation(d, a, b)` that takes parameters:\n",
    "\n",
    "`d`: Dictionary mapping a season to an amount of precipitation for that season.<br>\n",
    "`a`: One season<br>\n",
    "`b`: Another season\n",
    "\n",
    "Your function should return `True` if the rainfall in season `a` was greater than it was in season `b`, and `False` otherwise. If the rainfall was equal, return `False`.\n",
    "\n",
    "Your function should handle the following errors the following ways:\n",
    "\n",
    "If either a or b is not a valid season in the dictionary, you should return an error message (as a string) formatted **exactly** as:<br>\n",
    "\"Error: Key is not in Dictionary.\"\n",
    "\n",
    "If the values for the rainfall in each season are not valid for comparison, that is, one of them is not a number, return an error message (as a string) formatted **exactly** as:<br>\n",
    "\"Error: Invalid data types in Dictionary?\"\n",
    "\n",
    "You may assume that no test case will produce both types of errors (so you do not need to decide whether or not to return a Key Error or Invalid Type error when you encounter both). However, you should not make any assumptions about the seasons that exist--sometimes there may be a 'potato' season."
   ]
  },
  {
   "cell_type": "code",
   "execution_count": null,
   "metadata": {},
   "outputs": [],
   "source": [
    "# Use this code cell to run your tests"
   ]
  },
  {
   "cell_type": "code",
   "execution_count": null,
   "metadata": {
    "nbgrader": {
     "grade": false,
     "grade_id": "cell-bc772084dd8eaf72",
     "locked": false,
     "schema_version": 1,
     "solution": true
    }
   },
   "outputs": [],
   "source": [
    "# Write your answer here.\n",
    "\n",
    "### BEGIN SOLUTION\n",
    "\n",
    "def precipitation(d, a, b):\n",
    "    \n",
    "    try:\n",
    "        if type(d[a]) not in (int, float) or type(d[b]) not in (int, float):\n",
    "            return \"Error: Invalid data types in Dictionary?\"\n",
    "    except KeyError: return \"Error: Key is not in Dictionary.\"\n",
    "        \n",
    "    return d[a] > d[b]\n",
    "\n",
    "### END SOLUTION\n",
    "\n"
   ]
  },
  {
   "cell_type": "code",
   "execution_count": null,
   "metadata": {},
   "outputs": [],
   "source": [
    "precipitation({\"Spring\": 813, \"Summer\":337, \"Fall\": 581, \"Winter\": 468}, \"Spring\", \"Summer\") == True"
   ]
  },
  {
   "cell_type": "code",
   "execution_count": null,
   "metadata": {},
   "outputs": [],
   "source": [
    "precipitation({\"Spring\": 982, \"Summer\":484, \"Fall\": 557, \"Winter\": 313}, \"Winter\", \"Spring\") == False"
   ]
  },
  {
   "cell_type": "code",
   "execution_count": null,
   "metadata": {},
   "outputs": [],
   "source": [
    "precipitation({\"Spring\": 887, \"Summer\":529, \"Fall\": 616, \"Winter\": 286}, \"Winter\", \"Potato\") == \"Error: Key is not in Dictionary.\""
   ]
  },
  {
   "cell_type": "code",
   "execution_count": null,
   "metadata": {},
   "outputs": [],
   "source": [
    "precipitation({\"Spring\": 887, \"Summer\":529, \"Fall\": 616, \"Winter\": 286, \"Potato\": 17}, \"Winter\", \"Potato\") == True"
   ]
  },
  {
   "cell_type": "code",
   "execution_count": null,
   "metadata": {},
   "outputs": [],
   "source": [
    "precipitation({\"Spring\": 'cats', \"Summer\": 313, \"Fall\": 1457, \"Winter\": 354}, \"Summer\", \"Spring\") == 'Error: Invalid data types in Dictionary?'"
   ]
  },
  {
   "cell_type": "code",
   "execution_count": null,
   "metadata": {
    "nbgrader": {
     "grade": true,
     "grade_id": "cell-3b30499e72fbe01b",
     "locked": true,
     "points": 1,
     "schema_version": 1,
     "solution": false
    }
   },
   "outputs": [],
   "source": [
    "# Hidden test cell for precipitation\n",
    "### BEGIN HIDDEN TESTS\n",
    "assert precipitation({\"Spring\": 'cats', \"Summer\": 'dogs', \"Fall\": 1457, \"Winter\": 354}, \"Summer\", \"Spring\") == 'Error: Invalid data types in Dictionary?'\n",
    "### END HIDDEN TESTS"
   ]
  },
  {
   "cell_type": "code",
   "execution_count": null,
   "metadata": {
    "nbgrader": {
     "grade": true,
     "grade_id": "cell-beb43870c366f25b",
     "locked": true,
     "points": 1,
     "schema_version": 1,
     "solution": false
    }
   },
   "outputs": [],
   "source": [
    "# Hidden test cell for precipitation\n",
    "### BEGIN HIDDEN TESTS\n",
    "assert not precipitation({\"potato1\":33, \"potato2\": 47}, \"potato1\", \"potato2\")\n",
    "### END HIDDEN TESTS"
   ]
  },
  {
   "cell_type": "code",
   "execution_count": null,
   "metadata": {
    "nbgrader": {
     "grade": true,
     "grade_id": "cell-e1eebcbf3d5864b6",
     "locked": true,
     "points": 1,
     "schema_version": 1,
     "solution": false
    }
   },
   "outputs": [],
   "source": [
    "# Hidden test cell for precipitation\n",
    "### BEGIN HIDDEN TESTS\n",
    "assert precipitation({\"Spring\": 'cats', \"Summer\": 313, \"Fall\": 1457, \"Winter\": 354}, \"cat\", \"dog\") == 'Error: Key is not in Dictionary.'\n",
    "### END HIDDEN TESTS"
   ]
  },
  {
   "cell_type": "code",
   "execution_count": null,
   "metadata": {
    "nbgrader": {
     "grade": true,
     "grade_id": "cell-87385834f481adc1",
     "locked": true,
     "points": 1,
     "schema_version": 1,
     "solution": false
    }
   },
   "outputs": [],
   "source": [
    "# Hidden test cell for precipitation\n",
    "### BEGIN HIDDEN TESTS\n",
    "assert precipitation({\"Spring\": 'cats', \"Summer\": 'dogs', \"Fall\": 1457, \"Winter\": 354}, \"Fall\", \"Winter\")\n",
    "### END HIDDEN TESTS"
   ]
  },
  {
   "cell_type": "markdown",
   "metadata": {
    "nbgrader": {
     "grade": false,
     "grade_id": "cell-8fa5e91ba2d14adc",
     "locked": true,
     "schema_version": 1,
     "solution": false
    }
   },
   "source": [
    "#### Question 3 (4 points): Checking Valid Inputs\n",
    "\n",
    "Write a function `valid(f, l)` that, given a function `f` and a list of potential inputs `l`, returns a list, tuple, or set of the elements of `l` that are valid inputs to `f`.  How will you know if something is a valid input to `f`?  If you call `f` on the element and an exception is thrown, you know it was not a valid input--review practice question 3 where we try to use the hex2dec() function, but ignore any error we get if the input was not valid.\n",
    "\n",
    "For instance, if `f` is the `abs()` function, it can only accept integers and floating point numbers. If it is the `max()` function, it can only accept lists or tuples, if it is the `sqrt()` function, it can only accept non-negative numbers, etc..."
   ]
  },
  {
   "cell_type": "code",
   "execution_count": null,
   "metadata": {
    "nbgrader": {
     "grade": false,
     "grade_id": "cell-6e59a5187b224404",
     "locked": false,
     "schema_version": 1,
     "solution": true
    }
   },
   "outputs": [],
   "source": [
    "# Write your answer here.\n",
    "\n",
    "### BEGIN SOLUTION\n",
    "\n",
    "def valid(f, l):\n",
    "    \n",
    "    good = []\n",
    "    \n",
    "    for i in l:\n",
    "        \n",
    "        try:\n",
    "            f(i)\n",
    "            good.append(i)\n",
    "        except:\n",
    "            pass\n",
    "        \n",
    "    return good\n",
    "\n",
    "### END SOLUTION\n"
   ]
  },
  {
   "cell_type": "code",
   "execution_count": null,
   "metadata": {},
   "outputs": [],
   "source": [
    "from math import sqrt\n",
    "valid(sqrt, [-3, 0, 5]) == [0, 5]"
   ]
  },
  {
   "cell_type": "code",
   "execution_count": null,
   "metadata": {},
   "outputs": [],
   "source": [
    "from math import asin\n",
    "valid(asin, [0.3, -0.1, -1, 1, 'cat', '1', 1.3]) == [0.3, -0.1, -1, 1]"
   ]
  },
  {
   "cell_type": "code",
   "execution_count": null,
   "metadata": {},
   "outputs": [],
   "source": [
    "valid(chr, [-1, 10, 123.3, 2**21]) == [10]"
   ]
  },
  {
   "cell_type": "code",
   "execution_count": null,
   "metadata": {},
   "outputs": [],
   "source": [
    "def onlyStrings(x):\n",
    "    \n",
    "    if type(x) == str:\n",
    "        return True\n",
    "    else:\n",
    "        raise UserWarning\n",
    "\n",
    "valid(onlyStrings, ['cat', 123, [1, 2, 3]]) == ['cat']"
   ]
  },
  {
   "cell_type": "code",
   "execution_count": null,
   "metadata": {
    "nbgrader": {
     "grade": true,
     "grade_id": "cell-d6df13b487b53f1f",
     "locked": true,
     "points": 1,
     "schema_version": 1,
     "solution": false
    }
   },
   "outputs": [],
   "source": [
    "# Hidden test cell for valid()\n",
    "### BEGIN HIDDEN TESTS\n",
    "assert valid(pow, [(1,2), 'honeybadger', 3, 5.14, {'potato':'tomato'}]) == []\n",
    "### END HIDDEN TESTS"
   ]
  },
  {
   "cell_type": "code",
   "execution_count": null,
   "metadata": {
    "nbgrader": {
     "grade": true,
     "grade_id": "cell-0dc4921f996ca83d",
     "locked": true,
     "points": 1,
     "schema_version": 1,
     "solution": false
    }
   },
   "outputs": [],
   "source": [
    "# Hidden test cell for valid()\n",
    "### BEGIN HIDDEN TESTS\n",
    "assert valid(int, ['1', '3.14', '-5', {}]) == ['1', '-5']\n",
    "### END HIDDEN TESTS"
   ]
  },
  {
   "cell_type": "code",
   "execution_count": null,
   "metadata": {
    "nbgrader": {
     "grade": true,
     "grade_id": "cell-d9a6d490ab954561",
     "locked": true,
     "points": 1,
     "schema_version": 1,
     "solution": false
    }
   },
   "outputs": [],
   "source": [
    "# Hidden test cell for valid()\n",
    "### BEGIN HIDDEN TESTS\n",
    "assert valid(set, [(1,2), 'honeybadger', 3, 5.14, [{'potato':'tomato'}]]) ==[(1, 2), 'honeybadger']\n",
    "### END HIDDEN TESTS"
   ]
  },
  {
   "cell_type": "code",
   "execution_count": null,
   "metadata": {
    "nbgrader": {
     "grade": true,
     "grade_id": "cell-104063570791e181",
     "locked": true,
     "points": 1,
     "schema_version": 1,
     "solution": false
    }
   },
   "outputs": [],
   "source": [
    "# Hidden test cell for valid()\n",
    "### BEGIN HIDDEN TESTS\n",
    "from cmath import sqrt\n",
    "assert valid(sqrt, [-3, '1', 'cat', -1.3, 25]) == [-3, -1.3, 25]\n",
    "### END HIDDEN TESTS"
   ]
  },
  {
   "cell_type": "markdown",
   "metadata": {
    "nbgrader": {
     "grade": false,
     "grade_id": "cell-0880dc64b4822f45",
     "locked": true,
     "schema_version": 1,
     "solution": false
    }
   },
   "source": [
    "#### Question 4a (2 points): Finding Edge Cases I\n",
    "\n",
    "This program is a partially correct solution to the winning streak problem from a previous lab. Given a string, list, or tuple as input, find the longest winning streak. This solution contains an error. Find a test case that returns an incorrect value, or raises an error.\n",
    "\n",
    "**Do not modify or try to correct the code for this question, simply find a problematic input for the function**"
   ]
  },
  {
   "cell_type": "code",
   "execution_count": null,
   "metadata": {
    "nbgrader": {
     "grade": false,
     "grade_id": "cell-9209a400fa396373",
     "locked": false,
     "schema_version": 1,
     "solution": true
    }
   },
   "outputs": [],
   "source": [
    "# Modify the value of this variable so that winningStreakBad produces incorrect output\n",
    "PROBLEM_INPUT1 = ''\n",
    "\n",
    "# Do not modify the code below this line\n",
    "def winningStreakBad(s):\n",
    "    \n",
    "    \n",
    "    if type(s) not in (tuple, list, str):\n",
    "        return 0    \n",
    "    \n",
    "    if len(s) == 0:\n",
    "        return 0\n",
    "    \n",
    "    wins = 1\n",
    "    maxwins = 1\n",
    "    \n",
    "    for i in range(len(s)):\n",
    "        \n",
    "        if s[i] == s[i-1]:\n",
    "            wins += 1\n",
    "        else:\n",
    "            wins = 1\n",
    "        \n",
    "        if wins > maxwins:\n",
    "            maxwins = wins\n",
    "            \n",
    "    return maxwins\n",
    "        \n",
    "\n",
    "### BEGIN SOLUTION\n",
    "\n",
    "def winningStreakBad(s):\n",
    " \n",
    "    if type(s) not in (tuple, list, str):\n",
    "        return 0\n",
    "\n",
    "    if len(s) == 0:\n",
    "        return 0\n",
    "\n",
    "    wins = 1\n",
    "    maxwins = 1\n",
    "    \n",
    "    for i in range(len(s)):\n",
    "        \n",
    "        if s[i] == s[i-1]:\n",
    "            wins += 1\n",
    "        else:\n",
    "            wins = 1\n",
    "        \n",
    "        if wins > maxwins:\n",
    "            maxwins = wins\n",
    "            \n",
    "    return maxwins\n",
    "\n",
    "def winningStreakGood(s):\n",
    "    \n",
    "    if type(s) not in (tuple, list, str):\n",
    "        return 0\n",
    "    \n",
    "    if len(s) == 0:\n",
    "        return 0    \n",
    "    \n",
    "    wins = 1\n",
    "    maxwins = 1\n",
    "    \n",
    "    for i in range(1, len(s)):\n",
    "        \n",
    "        if s[i] == s[i-1]:\n",
    "            wins += 1\n",
    "        else:\n",
    "            wins = 1\n",
    "        \n",
    "        if wins > maxwins:\n",
    "            maxwins = wins\n",
    "            \n",
    "    return maxwins\n",
    "\n",
    "### END SOLUTION"
   ]
  },
  {
   "cell_type": "code",
   "execution_count": null,
   "metadata": {
    "nbgrader": {
     "grade": false,
     "grade_id": "cell-9f33164c07993572",
     "locked": true,
     "schema_version": 1,
     "solution": false
    }
   },
   "outputs": [],
   "source": [
    "## This is what the autograder will see:\n",
    "winningStreakBad(PROBLEM_INPUT1)"
   ]
  },
  {
   "cell_type": "code",
   "execution_count": null,
   "metadata": {
    "nbgrader": {
     "grade": true,
     "grade_id": "cell-33490ad25625a24f",
     "locked": true,
     "points": 2,
     "schema_version": 1,
     "solution": false
    }
   },
   "outputs": [],
   "source": [
    "# Hidden test cell for 4a\n",
    "### BEGIN HIDDEN TESTS\n",
    "def winningStreakBad(s):\n",
    " \n",
    "    if type(s) not in (tuple, list, str):\n",
    "        return 0\n",
    "\n",
    "    if len(s) == 0:\n",
    "        return 0\n",
    "\n",
    "    wins = 1\n",
    "    maxwins = 1\n",
    "    \n",
    "    for i in range(len(s)):\n",
    "        \n",
    "        if s[i] == s[i-1]:\n",
    "            wins += 1\n",
    "        else:\n",
    "            wins = 1\n",
    "        \n",
    "        if wins > maxwins:\n",
    "            maxwins = wins\n",
    "            \n",
    "    return maxwins\n",
    "\n",
    "def winningStreakGood(s):\n",
    "    \n",
    "    if type(s) not in (tuple, list, str):\n",
    "        return 0\n",
    "    \n",
    "    if len(s) == 0:\n",
    "        return 0    \n",
    "    \n",
    "    wins = 1\n",
    "    maxwins = 1\n",
    "    \n",
    "    for i in range(1, len(s)):\n",
    "        \n",
    "        if s[i] == s[i-1]:\n",
    "            wins += 1\n",
    "        else:\n",
    "            wins = 1\n",
    "        \n",
    "        if wins > maxwins:\n",
    "            maxwins = wins\n",
    "            \n",
    "    return maxwins\n",
    "try:\n",
    "    winningStreakBad(PROBLEM_INPUT1)\n",
    "    winningStreakGood(PROBLEM_INPUT1)\n",
    "    assert winningStreakBad(PROBLEM_INPUT1) != winningStreakGood(PROBLEM_INPUT1)\n",
    "    \n",
    "except AssertionError: # The outputs of the functions are the same\n",
    "    assert False\n",
    "\n",
    "except NameError: # They did not define PROBLEM_INPUT1\n",
    "    assert False\n",
    "    \n",
    "except: # They found a different error\n",
    "    assert True\n",
    "\n",
    "### END HIDDEN TESTS"
   ]
  },
  {
   "cell_type": "markdown",
   "metadata": {
    "nbgrader": {
     "grade": false,
     "grade_id": "cell-17fb42d6dd16692b",
     "locked": true,
     "schema_version": 1,
     "solution": false
    }
   },
   "source": [
    "#### Question 4b (2 points): Finding Edge Cases II\n",
    "\n",
    "The code below tries to solve the linear system:\n",
    "$$ax + b = cx + d$$\n",
    "\n",
    "Find an input (A, B, C, D) that produces incorrect results. For the purposes of this question, `False` is considered a correst result for non-numeric inputs (strings, lists, etc.)"
   ]
  },
  {
   "cell_type": "code",
   "execution_count": null,
   "metadata": {
    "nbgrader": {
     "grade": false,
     "grade_id": "cell-8dcff65a305b9ef9",
     "locked": false,
     "schema_version": 1,
     "solution": true
    }
   },
   "outputs": [],
   "source": [
    "# Modify these values so that solveLinearBad does not produce correct results\n",
    "A = 1\n",
    "B = 2\n",
    "C = 3\n",
    "D = 4\n",
    "\n",
    "\n",
    "# Do not modify the code below this line\n",
    "def solveLinearBad(a, b, c, d):\n",
    "    \n",
    "    for i in [a, b, c, d]:\n",
    "        if type(i) not in (int, float):\n",
    "            return False\n",
    "    \n",
    "    x = (b - d) / (c - a)\n",
    "    \n",
    "    return x\n",
    "\n",
    "### BEGIN SOLUTION\n",
    "\n",
    "def solveLinearBad(a, b, c, d):\n",
    "    \n",
    "    for i in [a, b, c, d]:\n",
    "        if type(i) not in (int, float):\n",
    "            return False    \n",
    "    \n",
    "    x = (b - d) / (c - a)\n",
    "    \n",
    "    return x\n",
    "\n",
    "### END SOLUTION\n"
   ]
  },
  {
   "cell_type": "code",
   "execution_count": null,
   "metadata": {
    "nbgrader": {
     "grade": false,
     "grade_id": "cell-55d7840b8e242ff9",
     "locked": true,
     "schema_version": 1,
     "solution": false
    }
   },
   "outputs": [],
   "source": [
    "## This is what the autograder will see:\n",
    "solveLinearBad(A, B, C, D)"
   ]
  },
  {
   "cell_type": "code",
   "execution_count": null,
   "metadata": {
    "nbgrader": {
     "grade": true,
     "grade_id": "cell-b97f26dd1961c7c2",
     "locked": true,
     "points": 2,
     "schema_version": 1,
     "solution": false
    }
   },
   "outputs": [],
   "source": [
    "# Hidden test cell for 4b\n",
    "### BEGIN HIDDEN TESTS\n",
    "def solveLinearBad(a, b, c, d):\n",
    "    \n",
    "    for i in [a, b, c, d]:\n",
    "        if type(i) not in (int, float):\n",
    "            return False    \n",
    "    \n",
    "    x = (b - d) / (c - a)\n",
    "    \n",
    "    return x\n",
    "\n",
    "try:\n",
    "    solveLinearBad(A, B, C, D)\n",
    "    assert False # only gets called if solveLinearBad() ran correctly\n",
    "\n",
    "except AssertionError: # Their function ran correctly.\n",
    "    assert False\n",
    "\n",
    "except NameError: # They did not define A, B, C, or D\n",
    "    assert False\n",
    "    \n",
    "except: \n",
    "    assert True    \n",
    "    \n",
    "### END HIDDEN TESTS"
   ]
  },
  {
   "cell_type": "markdown",
   "metadata": {
    "nbgrader": {
     "grade": false,
     "grade_id": "cell-e61fa62ec99eec01",
     "locked": true,
     "schema_version": 1,
     "solution": false
    }
   },
   "source": [
    "#### Bonus (4 points): Why was 6 afraid of 7?\n",
    "\n",
    "#### Because 7 8 9!\n",
    "\n",
    "Actually, this is mathematically impossible. \"Cannibal numbers\" as they're called can only eat numbers that are smaller than them, or the same size. After eating another number, the number that gets eaten disappears, and the number that ate them increases by 1. \n",
    "\n",
    "For example, given the following set of numbers, let's pretend that **9** is the cannibal.<br>\n",
    "[27, **9**, 3, 8, 11]\n",
    "\n",
    "9 could start by eating 3 or 8. Let's say it eats 3, then the numbers would be:<br>\n",
    "[27, **10**, 8, 11]\n",
    "\n",
    "Then it could eat 8, so the numbers would be:<br>\n",
    "[27, **11**, 8, 11]\n",
    "\n",
    "And lastly, it could eat 11:<br>\n",
    "[27, **12**, 8]\n",
    "\n",
    "Your task is to write a program that, given a list of numbers and a target number, determines how many numbers in the list can become **exactly** that number. For instance, in our example, two numbers could reach the value of 10. As we saw, 9 took on that value in the example. However, if 8 were the cannibal, it could:\n",
    "\n",
    "* Eat 3 to become 9\n",
    "* Eat 9 to become 10\n",
    "\n",
    "So it could also hold the value of 10.\n",
    "\n",
    "For a target value of 11, the answer would also be 2, because 9 can become 11, and 11 is already 11.\n",
    "\n",
    "Your function may be passed a string of values separated by commas instead of a list--1 out of 4 points will be awarded for handling this case correctly."
   ]
  },
  {
   "cell_type": "code",
   "execution_count": null,
   "metadata": {
    "nbgrader": {
     "grade": false,
     "grade_id": "cell-77063b4697eac250",
     "locked": false,
     "schema_version": 1,
     "solution": true
    }
   },
   "outputs": [],
   "source": [
    "# Write your answer here.\n",
    "### BEGIN SOLUTION\n",
    "\n",
    "# One solution\n",
    "def cannibal(l, target):\n",
    "    \n",
    "    if type(l) == str:\n",
    "        l = l.split(\",\")\n",
    "    l = [int(i) for i in l]    \n",
    "    \n",
    "    cannibals = 0\n",
    "    for i in range(len(l)):\n",
    "        \n",
    "        eaten = []\n",
    "        this = l[i]\n",
    "        \n",
    "        j = 0\n",
    "        while j < len(l):\n",
    "            \n",
    "            if this == target:\n",
    "                cannibals += 1\n",
    "                break\n",
    "                \n",
    "            if this >= l[j] and i != j and j not in eaten:\n",
    "                this += 1\n",
    "                eaten.append(j)\n",
    "                j = 0\n",
    "            j += 1\n",
    "    \n",
    "    return cannibals\n",
    "\n",
    "# Alternative solution, sorted, easier to understand?\n",
    "def cannibal(l, target):\n",
    "    \n",
    "    if type(l) == str:\n",
    "        l = l.split(\",\")\n",
    "    l = [int(i) for i in l]\n",
    "    \n",
    "    cannibals = 0\n",
    "    l.sort()\n",
    "    \n",
    "    for i in range(len(l)):\n",
    "        \n",
    "        this = l[i]\n",
    "        \n",
    "        if this == target:\n",
    "            cannibals += 1\n",
    "            continue\n",
    "        \n",
    "        for j in range(len(l)):\n",
    "            \n",
    "            if l[j] <= this and j != i:\n",
    "                this += 1\n",
    "            \n",
    "            elif l[j] > this:\n",
    "                break\n",
    "                \n",
    "            if this == target:\n",
    "                cannibals += 1\n",
    "                break\n",
    "                \n",
    "    return cannibals\n",
    "\n",
    "\n",
    "### END SOLUTION"
   ]
  },
  {
   "cell_type": "code",
   "execution_count": null,
   "metadata": {},
   "outputs": [],
   "source": [
    "cannibal([27, 9, 3, 8, 11], 11) == 2"
   ]
  },
  {
   "cell_type": "code",
   "execution_count": null,
   "metadata": {},
   "outputs": [],
   "source": [
    "cannibal([27, 9, 3, 8, 11], 50) == 0"
   ]
  },
  {
   "cell_type": "code",
   "execution_count": null,
   "metadata": {},
   "outputs": [],
   "source": [
    "cannibal([3, 3, 3, 2, 2, 2, 1, 1, 1], 4) == 9"
   ]
  },
  {
   "cell_type": "code",
   "execution_count": null,
   "metadata": {},
   "outputs": [],
   "source": [
    "cannibal(\"1,2,3,4,5\", 5) == 4"
   ]
  },
  {
   "cell_type": "code",
   "execution_count": null,
   "metadata": {
    "nbgrader": {
     "grade": true,
     "grade_id": "cell-e58bfa8edb7ad7d4",
     "locked": true,
     "points": 1,
     "schema_version": 1,
     "solution": false
    }
   },
   "outputs": [],
   "source": [
    "# Hidden tests for bonus\n",
    "### BEGIN HIDDEN TESTS\n",
    "assert cannibal([106, 110, 107, 109, 33, 44, 10], 109) == 3\n",
    "### END HIDDEN TESTS"
   ]
  },
  {
   "cell_type": "code",
   "execution_count": null,
   "metadata": {
    "nbgrader": {
     "grade": true,
     "grade_id": "cell-75d365964471fae0",
     "locked": true,
     "points": 1,
     "schema_version": 1,
     "solution": false
    }
   },
   "outputs": [],
   "source": [
    "# Hidden tests for bonus\n",
    "### BEGIN HIDDEN TESTS\n",
    "assert cannibal([1, 1, 1, 2, 3], 5) == 5\n",
    "### END HIDDEN TESTS"
   ]
  },
  {
   "cell_type": "code",
   "execution_count": null,
   "metadata": {
    "nbgrader": {
     "grade": true,
     "grade_id": "cell-c0f9ca7e33d6c880",
     "locked": true,
     "points": 1,
     "schema_version": 1,
     "solution": false
    }
   },
   "outputs": [],
   "source": [
    "# Hidden tests for bonus\n",
    "### BEGIN HIDDEN TESTS\n",
    "assert cannibal(\"1,2,3,4,6\", 7) == 3\n",
    "### END HIDDEN TESTS"
   ]
  },
  {
   "cell_type": "code",
   "execution_count": null,
   "metadata": {
    "nbgrader": {
     "grade": true,
     "grade_id": "cell-a55554dc00825531",
     "locked": true,
     "points": 1,
     "schema_version": 1,
     "solution": false
    }
   },
   "outputs": [],
   "source": [
    "# Hidden tests for bonus\n",
    "### BEGIN HIDDEN TESTS\n",
    "assert cannibal([1, 6, 4, 9, 2, 6, 3, 16], 15) == 1\n",
    "### END HIDDEN TESTS"
   ]
  }
 ],
 "metadata": {
  "celltoolbar": "Create Assignment",
  "kernelspec": {
   "display_name": "Python 3",
   "language": "python",
   "name": "python3"
  },
  "language_info": {
   "codemirror_mode": {
    "name": "ipython",
    "version": 3
   },
   "file_extension": ".py",
   "mimetype": "text/x-python",
   "name": "python",
   "nbconvert_exporter": "python",
   "pygments_lexer": "ipython3",
   "version": "3.6.3"
  }
 },
 "nbformat": 4,
 "nbformat_minor": 2
}
