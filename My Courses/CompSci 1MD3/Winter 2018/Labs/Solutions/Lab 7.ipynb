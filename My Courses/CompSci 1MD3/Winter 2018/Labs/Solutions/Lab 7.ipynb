{
 "cells": [
  {
   "cell_type": "markdown",
   "metadata": {
    "nbgrader": {
     "grade": false,
     "grade_id": "cell-8270991a73638fc0",
     "locked": true,
     "schema_version": 1,
     "solution": false
    }
   },
   "source": [
    "## COMP SCI 1MD3 Introduction to Programming, Winter 2018\n",
    "### Douglas Stebila (Instructor), Joey Legere, Karl Knopf, Natalie Chin, Victor Chen (TAs)\n",
    "### Lab 7 Assigned Wednesday, Feb 28, Due Wednesday March 7, 5pm\n",
    "### Maximum grade: 20 / 16\n",
    "\n",
    "The purpose of this lab is to:\n",
    "* Practice extending existing classes\n",
    "* Implement basic operators for classes such as +, -, `__getitem__` and *\n",
    "* Create your own custom classes and exceptions"
   ]
  },
  {
   "cell_type": "markdown",
   "metadata": {
    "nbgrader": {
     "grade": false,
     "grade_id": "cell-447989ca42b4d15d",
     "locked": true,
     "schema_version": 1,
     "solution": false
    }
   },
   "source": [
    "#### Practice Question: Blackjack\n",
    "\n",
    "Write a program that draws cards from a deck, and simulates a game of blackjack.\n",
    "\n",
    "First, create a class representing a card by filling in the template below. For the value method, Jacks, Kings, and Queens are worth 10, and aces should be returned as 1--whether or not an ace is high (11) or low (1) can be decided by the program that is \"playing\" blackjack later."
   ]
  },
  {
   "cell_type": "code",
   "execution_count": null,
   "metadata": {},
   "outputs": [],
   "source": [
    "class Card:\n",
    "    \n",
    "    def __init__(self, suit, face):\n",
    "        \n",
    "        pass # Your code here.\n",
    "        \n",
    "    def value(self):\n",
    "        '''\n",
    "        Returns the value of the card as an integer.\n",
    "        For Aces, return 1.\n",
    "        '''\n",
    "        \n",
    "        pass # Your code here."
   ]
  },
  {
   "cell_type": "code",
   "execution_count": null,
   "metadata": {},
   "outputs": [],
   "source": [
    "c1 = Card(\"Spades\", 3)\n",
    "c1.value() == 3"
   ]
  },
  {
   "cell_type": "code",
   "execution_count": null,
   "metadata": {},
   "outputs": [],
   "source": [
    "c2 = Card(\"Hearts\", \"K\")\n",
    "c2.value() == 10"
   ]
  },
  {
   "cell_type": "code",
   "execution_count": null,
   "metadata": {},
   "outputs": [],
   "source": [
    "c3 = Card(\"Diamonds\", \"A\")\n",
    "c3.value() == 1"
   ]
  },
  {
   "cell_type": "markdown",
   "metadata": {
    "nbgrader": {
     "grade": false,
     "grade_id": "cell-bbb3e20c9359dc34",
     "locked": true,
     "schema_version": 1,
     "solution": false
    }
   },
   "source": [
    "Now, create a `Deck` class that consists of 52 cards by filling in the template below. Represent the suit of cards as a string: `(\"Spades\", \"Diamonds\", \"Hearts\", \"Clubs\")` and the face of cards as a single character or integer: `[2, 3, 4, 5, 6, 7, 8, 9, 10, \"J\", \"Q\", \"K\", \"A\"]`"
   ]
  },
  {
   "cell_type": "code",
   "execution_count": null,
   "metadata": {},
   "outputs": [],
   "source": [
    "class Deck:\n",
    "    \n",
    "    def __init__(self):\n",
    "\n",
    "            \n",
    "    def draw(self):\n",
    "        \"\"\"\n",
    "        Returns the card at the top of the deck, and removes it from the deck\n",
    "        \"\"\"\n",
    "    \n",
    "        pass\n",
    "    def shuffle(self):\n",
    "        \"\"\"\n",
    "        Shuffle the remaining cards in the deck.\n",
    "        \"\"\"\n",
    "        pass\n",
    "    \n",
    "    def reshuffle(self):\n",
    "        \"\"\"\n",
    "        Put all the cards back in the deck, and shuffle it.\n",
    "        \"\"\"\n",
    "        pass\n"
   ]
  },
  {
   "cell_type": "code",
   "execution_count": null,
   "metadata": {},
   "outputs": [],
   "source": [
    "d = Deck()"
   ]
  },
  {
   "cell_type": "code",
   "execution_count": null,
   "metadata": {},
   "outputs": [],
   "source": [
    "card = d.draw()\n",
    "print(card.suit)\n",
    "print(card.face)\n",
    "print(card.value()) # Pay attention to the brackets here. value() is a method, so we need to call it like one"
   ]
  },
  {
   "cell_type": "code",
   "execution_count": null,
   "metadata": {},
   "outputs": [],
   "source": [
    "d.shuffle()"
   ]
  },
  {
   "cell_type": "code",
   "execution_count": null,
   "metadata": {},
   "outputs": [],
   "source": [
    "card = d.draw()\n",
    "print(card.suit)\n",
    "print(card.face)\n",
    "print(card.value()) # Pay attention to the brackets here. value() is a method, so we need to call it like one"
   ]
  },
  {
   "cell_type": "markdown",
   "metadata": {
    "nbgrader": {
     "grade": false,
     "grade_id": "cell-74ac21bef44beb1f",
     "locked": true,
     "schema_version": 1,
     "solution": false
    }
   },
   "source": [
    "The following function returns the value of a hand (as a list of `Card` objects) in blackjack:"
   ]
  },
  {
   "cell_type": "code",
   "execution_count": null,
   "metadata": {},
   "outputs": [],
   "source": [
    "def value(hand):\n",
    "    \n",
    "    val = 0\n",
    "    num_aces = 0\n",
    "    \n",
    "    for card in hand:\n",
    "        this_val = card.value()\n",
    "        \n",
    "        if this_val != 1:\n",
    "            val += this_val\n",
    "        else:\n",
    "            num_aces += 1\n",
    "    \n",
    "    while num_aces > 0:\n",
    "        \n",
    "        if val + 11 > 21:\n",
    "            val += 1\n",
    "        else:\n",
    "            val += 11\n",
    "            \n",
    "        num_aces -= 1\n",
    "    \n",
    "    return val"
   ]
  },
  {
   "cell_type": "markdown",
   "metadata": {
    "nbgrader": {
     "grade": false,
     "grade_id": "cell-48f815e8b37ac6b7",
     "locked": true,
     "schema_version": 1,
     "solution": false
    }
   },
   "source": [
    "#### Question 1a: Extending Geometric Shapes (2 points)\n",
    "\n",
    "Add the method `area` to the classes `Line` and `Rectangle` that returns the area of the given shapes. The area of a line is always `0`."
   ]
  },
  {
   "cell_type": "code",
   "execution_count": null,
   "metadata": {
    "nbgrader": {
     "grade": false,
     "grade_id": "cell-a5f50ca21561ee40",
     "locked": false,
     "schema_version": 1,
     "solution": true
    }
   },
   "outputs": [],
   "source": [
    "class Shape:\n",
    "    def setOrigin(self, x, y):\n",
    "        self.x, self.y = x, y\n",
    "        \n",
    "    def move(self, dx, dy):\n",
    "        \"\"\"Move by dx and dy\"\"\"\n",
    "        self.x, self.y = self.x + dx, self.y + dy\n",
    "\n",
    "class Line(Shape):\n",
    "    def __init__(self, x, y, u, v):\n",
    "        \"\"\"Line with start point (x, y) and end point (u, v)\"\"\"\n",
    "        Shape.setOrigin(self, x, y)\n",
    "        self.u, self.v = u, v\n",
    "        \n",
    "    def move(self, dx, dy):\n",
    "        Shape.move(self, dx, dy)\n",
    "        self.u, self.v = self.u + dx, self.v + dy\n",
    "        \n",
    "    def area(self):\n",
    "        pass # Replace this line with your body\n",
    "    \n",
    "    def __str__(self):\n",
    "        return \"Line from (\" + str(self.x) + \", \" + str(self.y) + \\\n",
    "               \") to (\" + str(self.u) + \", \" + str(self.v) + \")\"\n",
    "\n",
    "class Rectangle(Shape):\n",
    "    def __init__(self, x, y, w, h):\n",
    "        \"\"\"Rectangle at (x, y) with width w and height h\"\"\"\n",
    "        Shape.setOrigin(self, x, y)\n",
    "        self.w, self.h = w, h\n",
    "        \n",
    "    def area(self):\n",
    "        pass # Replace this line with your body\n",
    "        \n",
    "    def __str__(self):\n",
    "        return \"Rectangle at (\" + str(self.x) + \", \" + str(self.y) + \\\n",
    "               \"), width \" + str(self.w) + \", height \" + str(self.h)\n",
    "    \n",
    "### BEGIN SOLUTION\n",
    "\n",
    "class Shape:\n",
    "    def setOrigin(self, x, y):\n",
    "        self.x, self.y = x, y\n",
    "    def move(self, dx, dy):\n",
    "        \"\"\"Move by dx and dy\"\"\"\n",
    "        self.x, self.y = self.x + dx, self.y + dy\n",
    "\n",
    "class Line(Shape):\n",
    "    def __init__(self, x, y, u, v):\n",
    "        \"\"\"Line with start point (x, y) and end point (u, v)\"\"\"\n",
    "        Shape.setOrigin(self, x, y)\n",
    "        self.u, self.v = u, v\n",
    "        \n",
    "    def move(self, dx, dy):\n",
    "        Shape.move(self, dx, dy)\n",
    "        self.u, self.v = self.u + dx, self.v + dy\n",
    "        \n",
    "    def area(self):\n",
    "        return 0\n",
    "    \n",
    "    def __str__(self):\n",
    "        return \"Line from (\" + str(self.x) + \", \" + str(self.y) + \\\n",
    "               \") to (\" + str(self.u) + \", \" + str(self.v) + \")\"\n",
    "\n",
    "class Rectangle(Shape):\n",
    "    def __init__(self, x, y, w, h):\n",
    "        \"\"\"Rectangle at (x, y) with width w and height h\"\"\"\n",
    "        Shape.setOrigin(self, x, y)\n",
    "        self.w, self.h = w, h\n",
    "        \n",
    "    def area(self):\n",
    "        return self.w * self.h\n",
    "    \n",
    "    def __str__(self):\n",
    "        return \"Rectangle at (\" + str(self.x) + \", \" + str(self.y) + \\\n",
    "               \"), width \" + str(self.w) + \", height \" + str(self.h)\n",
    "\n",
    "### END SOLUTION    "
   ]
  },
  {
   "cell_type": "code",
   "execution_count": null,
   "metadata": {},
   "outputs": [],
   "source": [
    "r = Rectangle(-2, -3, 2, 3)"
   ]
  },
  {
   "cell_type": "code",
   "execution_count": null,
   "metadata": {},
   "outputs": [],
   "source": [
    "l = Line(1, 2, 5, 6)"
   ]
  },
  {
   "cell_type": "code",
   "execution_count": null,
   "metadata": {},
   "outputs": [],
   "source": [
    "str(r) == \"Rectangle at (-2, -3), width 2, height 3\""
   ]
  },
  {
   "cell_type": "code",
   "execution_count": null,
   "metadata": {},
   "outputs": [],
   "source": [
    "str(l) == \"Line from (1, 2) to (5, 6)\""
   ]
  },
  {
   "cell_type": "code",
   "execution_count": null,
   "metadata": {},
   "outputs": [],
   "source": [
    "l.area() == 0"
   ]
  },
  {
   "cell_type": "code",
   "execution_count": null,
   "metadata": {},
   "outputs": [],
   "source": [
    "r.area() == 6"
   ]
  },
  {
   "cell_type": "code",
   "execution_count": null,
   "metadata": {
    "nbgrader": {
     "grade": true,
     "grade_id": "cell-6f60efc3ada4cd3a",
     "locked": true,
     "points": 1,
     "schema_version": 1,
     "solution": false
    }
   },
   "outputs": [],
   "source": [
    "# Hidden test for 1a\n",
    "### BEGIN HIDDEN TESTS\n",
    "r = Rectangle(-8, 0, 2.5, 3.7)\n",
    "assert r.area() == 9.25\n",
    "\n",
    "### END HIDDEN TESTS"
   ]
  },
  {
   "cell_type": "code",
   "execution_count": null,
   "metadata": {
    "nbgrader": {
     "grade": true,
     "grade_id": "cell-e5f9d3ac468b7100",
     "locked": true,
     "points": 1,
     "schema_version": 1,
     "solution": false
    }
   },
   "outputs": [],
   "source": [
    "# Hidden test for 1a\n",
    "### BEGIN HIDDEN TESTS\n",
    "l = Line(1, 2, 31, 96)\n",
    "assert l.area() == 0\n",
    "### END HIDDEN TESTS"
   ]
  },
  {
   "cell_type": "markdown",
   "metadata": {
    "nbgrader": {
     "grade": false,
     "grade_id": "cell-167808fc5b8e05b0",
     "locked": true,
     "schema_version": 1,
     "solution": false
    }
   },
   "source": [
    "#### Question 1b: Groups of Shapes (2 points)\n",
    "\n",
    "The class below represents a group of shapes. For instance, a group could be a square, a rectangle, and a triangle. Implement the `area` method for the `Group` class.\n",
    "\n",
    "The area of a group is just the total area of the shapes in the group. For the purpose of this assignment, we will not consider cases where shapes overlap, you simply need to add the areas of the shapes in a group independently."
   ]
  },
  {
   "cell_type": "code",
   "execution_count": null,
   "metadata": {
    "nbgrader": {
     "grade": false,
     "grade_id": "cell-d8bd6680a06909ab",
     "locked": false,
     "schema_version": 1,
     "solution": true
    }
   },
   "outputs": [],
   "source": [
    "class Group:\n",
    "    def __init__(self):\n",
    "        self.c = set()\n",
    "    def add(self, s):\n",
    "        \"\"\"Add shape s to group\"\"\"\n",
    "        self.c.add(s)\n",
    "    def move(self, dx, dy):\n",
    "        \"\"\"Move by dx and dy\"\"\"\n",
    "        for s in self.c:\n",
    "            s.move(dx, dy)\n",
    "            \n",
    "    def area(self):\n",
    "        pass # Replace this line with your body\n",
    "        \n",
    "    def __str__(self):\n",
    "        r = \"Group with:\"\n",
    "        for s in self.c:\n",
    "            r = r + \"\\n  \" + str(s)\n",
    "        return r\n",
    "    \n",
    "    \n",
    "### BEGIN SOLUTION\n",
    "class Group:\n",
    "    def __init__(self):\n",
    "        self.c = set()\n",
    "    def add(self, s):\n",
    "        \"\"\"Add shape s to group\"\"\"\n",
    "        self.c.add(s)\n",
    "    def move(self, dx, dy):\n",
    "        \"\"\"Move by dx and dy\"\"\"\n",
    "        for s in self.c:\n",
    "            s.move(dx, dy)\n",
    "    def area(self):\n",
    "        # Replace this line with your body\n",
    "        return sum(s.area() for s in self.c)\n",
    "    def __str__(self):\n",
    "        r = \"Group with:\"\n",
    "        for s in self.c:\n",
    "            r = r + \"\\n  \" + str(s)\n",
    "        return r#\n",
    "    \n",
    "### END SOLUTION"
   ]
  },
  {
   "cell_type": "markdown",
   "metadata": {
    "nbgrader": {
     "grade": false,
     "grade_id": "cell-09bf98b17fb64ee4",
     "locked": true,
     "schema_version": 1,
     "solution": false
    }
   },
   "source": [
    "The following cell should create a new group, and add both our line and rectangle from above to it. The output should look like:\n",
    "```\n",
    "Group with:\n",
    "  Line from (1, 2) to (5, 6)\n",
    "  Rectangle at (-2, -3), width 2, height 3\n",
    "```"
   ]
  },
  {
   "cell_type": "code",
   "execution_count": null,
   "metadata": {},
   "outputs": [],
   "source": [
    "g1 = Group()\n",
    "g1.add(l)\n",
    "g1.add(r)\n",
    "print(g1)"
   ]
  },
  {
   "cell_type": "markdown",
   "metadata": {
    "collapsed": true,
    "nbgrader": {
     "grade": false,
     "grade_id": "cell-dbfea09668238eaa",
     "locked": true,
     "schema_version": 1,
     "solution": false
    }
   },
   "source": [
    "Now, if we move every element in the group up one unit and to the right one unit, the output should look like:\n",
    "```\n",
    "Group with:\n",
    "  Line from (2, 3) to (6, 7)\n",
    "  Rectangle at (-1, -2), width 2, height 3\n",
    "```"
   ]
  },
  {
   "cell_type": "code",
   "execution_count": null,
   "metadata": {},
   "outputs": [],
   "source": [
    "g1.move(1, 1)\n",
    "print(g1)"
   ]
  },
  {
   "cell_type": "code",
   "execution_count": null,
   "metadata": {},
   "outputs": [],
   "source": [
    "g1.area() == 6"
   ]
  },
  {
   "cell_type": "code",
   "execution_count": null,
   "metadata": {
    "nbgrader": {
     "grade": true,
     "grade_id": "cell-8d57d815985b12c1",
     "locked": true,
     "points": 1,
     "schema_version": 1,
     "solution": false
    }
   },
   "outputs": [],
   "source": [
    "# Hidden test for 1b\n",
    "### BEGIN HIDDEN TESTS\n",
    "r1 = Rectangle(3,3,31,3)\n",
    "r2 = Rectangle(-1,7,22,44)\n",
    "g = Group()\n",
    "g.add(r1)\n",
    "g.add(r2)\n",
    "assert g.area() == 1061\n",
    "### END HIDDEN TESTS"
   ]
  },
  {
   "cell_type": "code",
   "execution_count": null,
   "metadata": {
    "nbgrader": {
     "grade": true,
     "grade_id": "cell-6b7a02039a4e74df",
     "locked": true,
     "points": 1,
     "schema_version": 1,
     "solution": false
    }
   },
   "outputs": [],
   "source": [
    "# Hidden test for 1b\n",
    "### BEGIN HIDDEN TESTS\n",
    "r1 = Rectangle(3,3,1,3.3)\n",
    "r2 = Rectangle(-1,7,4,3.8)\n",
    "l1 = Line(1,2,3,4)\n",
    "g = Group()\n",
    "g.add(r1)\n",
    "g.add(r2)\n",
    "g.add(l1)\n",
    "assert g.area() == 18.5\n",
    "### END HIDDEN TESTS"
   ]
  },
  {
   "cell_type": "markdown",
   "metadata": {
    "nbgrader": {
     "grade": false,
     "grade_id": "cell-e8c3b20eca9a5ce1",
     "locked": true,
     "schema_version": 1,
     "solution": false
    }
   },
   "source": [
    "#### Question 1c: Creating New Shapes (4 points)\n",
    "\n",
    "Create two new shapes: `Circle` and `Polygon`.\n",
    "\n",
    "Classes `Circle` and `Polygon` should inherit from `Shape`. For circles, at creation the radius has to be specified and the `__str__` method should return a string in the same style as for `Line` and `Rectangle`. The are of circles should be computed in the usual way. For this, import `pi` from `math`.  The area of a non-self-intersecting polygon with $n$ vertices is defined as\n",
    "\n",
    "> $A = {1 \\over 2} \\sum_{i=0}^{n-1}(x_i y_{i+1}-x_{i+1} y_i)$\n",
    "\n",
    "where each $x_i$, $y_i$ represents a vertex (“corner”) of a polygon and where $x_n = x_0$ and $y_n = y_0$. Note that the area of a convex polygon is positive if the points are in counterclockwise order and negative if they are in clockwise order. (The Wikipedia page takes the absolute value to avoid negative areas. Don’t do this here.)"
   ]
  },
  {
   "cell_type": "code",
   "execution_count": null,
   "metadata": {
    "nbgrader": {
     "grade": false,
     "grade_id": "cell-9aba98829f8fe16b",
     "locked": false,
     "schema_version": 1,
     "solution": true
    }
   },
   "outputs": [],
   "source": [
    "# Create classes Circle and Polygon here\n",
    "\n",
    "class Circle(Shape):\n",
    "    pass # Replace this line with your methods\n",
    "    \n",
    "class Polygon(Shape):\n",
    "    pass # Replace this line with your methods    \n",
    "    \n",
    "    \n",
    "### BEGIN SOLUTION\n",
    "class Circle(Shape):\n",
    "    def __init__(self, x, y, r):\n",
    "        \"\"\"Circle (x, y) with radius r\"\"\"\n",
    "        Shape.setOrigin(self, x, y)\n",
    "        self.r = r\n",
    "    def area(self):\n",
    "        from math import pi\n",
    "        return self.r * self.r * pi\n",
    "    def __str__(self):\n",
    "        return \"Circle at (\" + str(self.x) + \", \" + str(self.y) + \\\n",
    "               \"), radius \" + str(self.r)\n",
    "\n",
    "class Polygon(Shape):\n",
    "    def __init__(self, l):\n",
    "        \"\"\"Polgon with non-empty list l of vertices\"\"\"\n",
    "        Shape.setOrigin(self, l[0][0], l[0][1])\n",
    "        self.l = l\n",
    "    def move(self, dx, dy):\n",
    "        Shape.move(self, dx, dy)\n",
    "        self.l = [(x + dx, y + dy) for (x, y) in self.l]\n",
    "    def area(self):\n",
    "        r, a = 0.0, self.l[- 1]\n",
    "        for b in self.l:\n",
    "            r, a = r + a[0] * b[1] - b[0] * a[1], b\n",
    "        return r / 2\n",
    "    def __str__(self):\n",
    "        return \"Polygon with \" + str(self.l)\n",
    "### END SOLUTION"
   ]
  },
  {
   "cell_type": "code",
   "execution_count": null,
   "metadata": {},
   "outputs": [],
   "source": [
    "g2 = Group()\n",
    "\n",
    "p = Polygon([(0, 0), (4, 0), (2, 2), (4, 4), (0, 4), (2, 2)])\n",
    "g2.add(p)\n",
    "\n",
    "c = Circle(1, -5, 1)\n",
    "g2.add(c)"
   ]
  },
  {
   "cell_type": "code",
   "execution_count": null,
   "metadata": {},
   "outputs": [],
   "source": [
    "str(c) == \"Circle at (1, -5), radius 1\""
   ]
  },
  {
   "cell_type": "code",
   "execution_count": null,
   "metadata": {},
   "outputs": [],
   "source": [
    "str(p) == \"Polygon with [(0, 0), (4, 0), (2, 2), (4, 4), (0, 4), (2, 2)]\""
   ]
  },
  {
   "cell_type": "code",
   "execution_count": null,
   "metadata": {},
   "outputs": [],
   "source": [
    "c.area() == 3.141592653589793"
   ]
  },
  {
   "cell_type": "code",
   "execution_count": null,
   "metadata": {},
   "outputs": [],
   "source": [
    "p.area() == 8.0"
   ]
  },
  {
   "cell_type": "code",
   "execution_count": null,
   "metadata": {},
   "outputs": [],
   "source": [
    "round(g2.area(), 3) == 11.142"
   ]
  },
  {
   "cell_type": "code",
   "execution_count": null,
   "metadata": {
    "nbgrader": {
     "grade": true,
     "grade_id": "cell-8eb29d4032a54dc9",
     "locked": true,
     "points": 1,
     "schema_version": 1,
     "solution": false
    }
   },
   "outputs": [],
   "source": [
    "# Hidden test for 1c\n",
    "### BEGIN HIDDEN TESTS\n",
    "c = Circle(2, 5, 3.3)\n",
    "assert round(c.area(), 4) == 34.2119\n",
    "### END HIDDEN TESTS"
   ]
  },
  {
   "cell_type": "code",
   "execution_count": null,
   "metadata": {
    "nbgrader": {
     "grade": true,
     "grade_id": "cell-6c05305a2740ebc5",
     "locked": true,
     "points": 1,
     "schema_version": 1,
     "solution": false
    }
   },
   "outputs": [],
   "source": [
    "# Hidden test for 1c\n",
    "### BEGIN HIDDEN TESTS\n",
    "p = Polygon([(0, 1), (2, 3), (4, 5), (6, 7), (2, 9)])\n",
    "assert p.area() == 18\n",
    "### END HIDDEN TESTS"
   ]
  },
  {
   "cell_type": "code",
   "execution_count": null,
   "metadata": {
    "nbgrader": {
     "grade": true,
     "grade_id": "cell-ba7f2b5975797431",
     "locked": true,
     "points": 1,
     "schema_version": 1,
     "solution": false
    }
   },
   "outputs": [],
   "source": [
    "# Hidden test for 1c\n",
    "### BEGIN HIDDEN TESTS\n",
    "c1 = Circle(-1, 1, 4.7)\n",
    "c2 = Circle(0, 3, 3.14)\n",
    "g = Group()\n",
    "g.add(c1)\n",
    "g.add(c2)\n",
    "assert round(g.area(), 4) == 100.3726\n",
    "### END HIDDEN TESTS"
   ]
  },
  {
   "cell_type": "code",
   "execution_count": null,
   "metadata": {
    "nbgrader": {
     "grade": true,
     "grade_id": "cell-7ab5c37b49545f0b",
     "locked": true,
     "points": 1,
     "schema_version": 1,
     "solution": false
    }
   },
   "outputs": [],
   "source": [
    "# Hidden test for 1c\n",
    "### BEGIN HIDDEN TESTS\n",
    "c1 = Circle(-1, 1, 4.7)\n",
    "c2 = Circle(0, 3, 3.14)\n",
    "p1 = Polygon(([(-7, -3), (4, 3), (4, 5), (6, 7), (2, 9)]))\n",
    "g = Group()\n",
    "g.add(c1)\n",
    "g.add(c2)\n",
    "g.add(p1)\n",
    "assert round(g.area(), 4) == 147.3726\n",
    "### END HIDDEN TESTS"
   ]
  },
  {
   "cell_type": "markdown",
   "metadata": {
    "nbgrader": {
     "grade": false,
     "grade_id": "cell-29daefae924637a8",
     "locked": true,
     "schema_version": 1,
     "solution": false
    }
   },
   "source": [
    "#### Question 2: Defining Vectors (7 points)\n",
    "Define class `Vector` for n-dimensional vectors as follows:\n",
    "- `Vector(l)`: Creates a new vector with dimension `len(l)` from list `l` of numbers; raises `TypeError` if `l` is not a list or not all of its elements are of type `int` or `float`.\n",
    "- `v.dim()`: Returns the dimension (length) of the vector.\n",
    "- `v. __getitem__(i)`: Returns the `i`-th component of the vector, **where components are indexed starting from `1`**; raises `IndexError` if `i` is less than `1` or greater than the dimension of the vector.\n",
    "- `v. __setitem__(i, x)`: Sets the `i`-th component of vector `v` to `x`, where components are indexed starting from `1`; raises `IndexError` if `i` is less than `1` or greater than the dimension of the vector.\n",
    "- `v.__str__()`: Returns a string with a readable representation of the vector, see the example below.\n",
    "- `v. __add__(other)`: Returns a new vector that is the component-wise sum of `v` and other; raises `ValueError` if `other` is not of type `Vector` or if `other` is of a different dimension.\n",
    "- `v.__mul__(other)`: If `other` is of type `int` or `float`, returns a new vector resulting from the scalar multiplication of `v` with `other`, , i.e. with each component of `v` multiplied by scalar. If `other` is of type `Vector`, returns the dot product of `v` and `other`, which is the sum of the products of the corresponding components; raises `ValueError` if `other` is of different dimension in this case. If the type of `other` is none of `Vector`, `int`, `float`, raises `AssertionError`.  \n",
    "- `v.__rmul__(other)`: Defined exactly like `v.__mul__(other)`\n",
    "\n",
    "Python uses following equivalent notations:\n",
    "\n",
    "    v[i]       =  v.__getitem__(i)\n",
    "    v[i] = x   =  v.__setitem__(i, x)\n",
    "    str(v)     =  v.__str__()\n",
    "    v + other  =  v.__add__(other)\n",
    "    v * other  =  v.__mul__(other)\n",
    "    other * v  =  v.__rmul__(other)   if other.__mul__(v) is not defined "
   ]
  },
  {
   "cell_type": "code",
   "execution_count": null,
   "metadata": {
    "nbgrader": {
     "grade": false,
     "grade_id": "cell-e2595c6e1f70d0d7",
     "locked": false,
     "schema_version": 1,
     "solution": true
    }
   },
   "outputs": [],
   "source": [
    "# Define your Vector class here\n",
    "\n",
    "### BEGIN SOLUTION\n",
    "class Vector:\n",
    "    def __init__(self, v):\n",
    "        # replace with your body\n",
    "        \n",
    "        if type(v) != list:\n",
    "            raise TypeError\n",
    "            \n",
    "        for e in v:\n",
    "            if type(e) not in (int, float):\n",
    "                raise TypeError\n",
    "\n",
    "        self.v = v\n",
    "    def dim(self):\n",
    "        return len(self.v)\n",
    "    \n",
    "    def __getitem__(self, i):\n",
    "        if 1 <= i <= len(self.v):\n",
    "            return self.v[i - 1]\n",
    "        else: raise IndexError\n",
    "            \n",
    "    def __setitem__(self, i, x):\n",
    "        \n",
    "        if 1 <= i <= len(self.v):\n",
    "            self.v[i - 1] = x\n",
    "        else: raise IndexError\n",
    "            \n",
    "    def __str__(self):\n",
    "        return 'Vector: ' + str(self.v)\n",
    "    \n",
    "    def __add__(self, other):\n",
    "        if type(other) == Vector and self.dim() == other.dim():\n",
    "            return Vector([self.v[i] + other.v[i] for i in range(self.dim())])\n",
    "        else:\n",
    "            raise ValueError\n",
    "            \n",
    "    def __mul__(self, other): # new\n",
    "        if type(other) not in (int, float, Vector):\n",
    "            raise AssertionError\n",
    "            \n",
    "        if type(other) == Vector: # return dot product\n",
    "            assert self.dim() == other.dim()\n",
    "            return sum(self.v[i] * other.v[i] for i in range(self.dim()))\n",
    "        else: # return scalar multiplication\n",
    "            return Vector([self.v[i] * other for i in range(self.dim())])\n",
    "    def __rmul__(self, other):\n",
    "        return self.__mul__(other)\n",
    "###END SOLUTION    "
   ]
  },
  {
   "cell_type": "markdown",
   "metadata": {
    "nbgrader": {
     "grade": false,
     "grade_id": "cell-509538adb24982bc",
     "locked": true,
     "schema_version": 1,
     "solution": false
    }
   },
   "source": [
    "For example:"
   ]
  },
  {
   "cell_type": "code",
   "execution_count": null,
   "metadata": {},
   "outputs": [],
   "source": [
    "v1 = Vector([2, 3, 4])\n",
    "v1[1] == 2"
   ]
  },
  {
   "cell_type": "code",
   "execution_count": null,
   "metadata": {},
   "outputs": [],
   "source": [
    "v1.dim() == 3"
   ]
  },
  {
   "cell_type": "code",
   "execution_count": null,
   "metadata": {},
   "outputs": [],
   "source": [
    "v2 = Vector([1, 2, 2])\n",
    "v2[3] = 3\n",
    "str(v2) == 'Vector: [1, 2, 3]'"
   ]
  },
  {
   "cell_type": "code",
   "execution_count": null,
   "metadata": {},
   "outputs": [],
   "source": [
    "str(v1 + v2) == 'Vector: [3, 5, 7]'"
   ]
  },
  {
   "cell_type": "code",
   "execution_count": null,
   "metadata": {},
   "outputs": [],
   "source": [
    "str(v2 * 2) == 'Vector: [2, 4, 6]'"
   ]
  },
  {
   "cell_type": "code",
   "execution_count": null,
   "metadata": {},
   "outputs": [],
   "source": [
    "str(2 * (v1 + v2)) == 'Vector: [6, 10, 14]'"
   ]
  },
  {
   "cell_type": "markdown",
   "metadata": {
    "nbgrader": {
     "grade": false,
     "grade_id": "cell-72398c1925f0810d",
     "locked": true,
     "schema_version": 1,
     "solution": false
    }
   },
   "source": [
    "Following raise exceptions:\n",
    "(remember, these are supposed to be *mathematical* vectors so we are starting indexing from 1, not 0."
   ]
  },
  {
   "cell_type": "code",
   "execution_count": null,
   "metadata": {},
   "outputs": [],
   "source": [
    "try:\n",
    "    v1[0] # raises IndexError\n",
    "except IndexError:\n",
    "    print(\"Successful test case.\")"
   ]
  },
  {
   "cell_type": "code",
   "execution_count": null,
   "metadata": {},
   "outputs": [],
   "source": [
    "try:\n",
    "    v2 + [9] # raises ValueError\n",
    "except ValueError:\n",
    "    print(\"Successful test case.\")"
   ]
  },
  {
   "cell_type": "code",
   "execution_count": null,
   "metadata": {},
   "outputs": [],
   "source": [
    "try:\n",
    "    v3 = Vector([1, 'cat', 3]) # Raises TypeError\n",
    "except TypeError:\n",
    "    print(\"Successful test case.\")"
   ]
  },
  {
   "cell_type": "code",
   "execution_count": null,
   "metadata": {
    "nbgrader": {
     "grade": true,
     "grade_id": "cell-e98b86536ff53624",
     "locked": true,
     "points": 1,
     "schema_version": 1,
     "solution": false
    }
   },
   "outputs": [],
   "source": [
    "# Hidden test for Vector\n",
    "### BEGIN HIDDEN TESTS\n",
    "v = Vector([1,2,5])\n",
    "assert v[3] == 5\n",
    "### END HIDDEN TESTS"
   ]
  },
  {
   "cell_type": "code",
   "execution_count": null,
   "metadata": {
    "nbgrader": {
     "grade": true,
     "grade_id": "cell-a7272504f3a9ac24",
     "locked": true,
     "points": 1,
     "schema_version": 1,
     "solution": false
    }
   },
   "outputs": [],
   "source": [
    "# Hidden test for Vector\n",
    "### BEGIN HIDDEN TESTS\n",
    "v = Vector([1,2,5])\n",
    "assert 3*v[2] == 6\n",
    "### END HIDDEN TESTS"
   ]
  },
  {
   "cell_type": "code",
   "execution_count": null,
   "metadata": {
    "nbgrader": {
     "grade": true,
     "grade_id": "cell-547277d9f0f5b33d",
     "locked": true,
     "points": 1,
     "schema_version": 1,
     "solution": false
    }
   },
   "outputs": [],
   "source": [
    "# Hidden test for Vector\n",
    "### BEGIN HIDDEN TESTS\n",
    "v = Vector([1,2,5,0])\n",
    "v[4] = 5\n",
    "assert v.dim() == 4 and v[4] == 5\n",
    "### END HIDDEN TESTS"
   ]
  },
  {
   "cell_type": "code",
   "execution_count": null,
   "metadata": {
    "nbgrader": {
     "grade": true,
     "grade_id": "cell-67da8a068242283d",
     "locked": true,
     "points": 1,
     "schema_version": 1,
     "solution": false
    }
   },
   "outputs": [],
   "source": [
    "# Hidden test for Vector\n",
    "### BEGIN HIDDEN TESTS\n",
    "v1 = Vector([1,2,5])\n",
    "v2 = Vector([3,7,9])\n",
    "assert v1 * (v1 + v2) == 92\n",
    "### END HIDDEN TESTS"
   ]
  },
  {
   "cell_type": "code",
   "execution_count": null,
   "metadata": {
    "nbgrader": {
     "grade": true,
     "grade_id": "cell-b87295c960c2aee7",
     "locked": true,
     "points": 1,
     "schema_version": 1,
     "solution": false
    }
   },
   "outputs": [],
   "source": [
    "# Hidden test for Vector\n",
    "### BEGIN HIDDEN TESTS\n",
    "try:\n",
    "    v = Vector([1,'cat'])\n",
    "    assert False\n",
    "except TypeError:\n",
    "    pass\n",
    "except:\n",
    "    assert False\n",
    "\n",
    "try:\n",
    "    v = Vector([1,2,5])\n",
    "    v[0]\n",
    "    assert False\n",
    "except IndexError:\n",
    "    assert True\n",
    "except:\n",
    "    assert False\n",
    "    \n",
    "### END HIDDEN TESTS"
   ]
  },
  {
   "cell_type": "code",
   "execution_count": null,
   "metadata": {
    "nbgrader": {
     "grade": true,
     "grade_id": "cell-460fbcafc8b42236",
     "locked": true,
     "points": 1,
     "schema_version": 1,
     "solution": false
    }
   },
   "outputs": [],
   "source": [
    "# Hidden test for Vector\n",
    "### BEGIN HIDDEN TESTS\n",
    "v = Vector([1,2,3])\n",
    "try:\n",
    "    v * 'c'\n",
    "    assert False\n",
    "except AssertionError:\n",
    "    pass\n",
    "except:\n",
    "    assert False\n",
    "\n",
    "try:\n",
    "    v + 3\n",
    "except ValueError:\n",
    "    assert True\n",
    "except:\n",
    "    assert False\n",
    "\n",
    "### END HIDDEN TESTS"
   ]
  },
  {
   "cell_type": "code",
   "execution_count": null,
   "metadata": {
    "nbgrader": {
     "grade": true,
     "grade_id": "cell-7ae3af0dc7dcc80e",
     "locked": true,
     "points": 1,
     "schema_version": 1,
     "solution": false
    }
   },
   "outputs": [],
   "source": [
    "# Hidden test for Vector\n",
    "### BEGIN HIDDEN TESTS\n",
    "v = Vector([1,2,3,4,8,0])\n",
    "assert str(v) == 'Vector: [1, 2, 3, 4, 8, 0]'\n",
    "\n",
    "try:\n",
    "    v[12] = 3\n",
    "except IndexError:\n",
    "    assert True\n",
    "except:\n",
    "    assert False\n",
    "### END HIDDEN TESTS"
   ]
  },
  {
   "cell_type": "markdown",
   "metadata": {
    "nbgrader": {
     "grade": false,
     "grade_id": "cell-e01be38afbde0045",
     "locked": true,
     "schema_version": 1,
     "solution": false
    }
   },
   "source": [
    "#### Question 3:  Robust Change (5 points)\n",
    "Complete following function according to the specification in the documentation string. You will need to create your own custom exceptions for these functions."
   ]
  },
  {
   "cell_type": "code",
   "execution_count": null,
   "metadata": {
    "nbgrader": {
     "grade": false,
     "grade_id": "cell-3831d37862b52a19",
     "locked": false,
     "schema_version": 1,
     "solution": true
    }
   },
   "outputs": [],
   "source": [
    "# Write your answers here. Define ChangeParameterError and ChangeRemainderError in this code cell as well.\n",
    "\n",
    "def change1(a, d):\n",
    "    \"\"\"\n",
    "    Computes the change of amount a given denominations d. \n",
    "    Parameter a must be of type int, d must be of type list of int, and the\n",
    "    elements of d must be in ascending order, otherwise ChangeParameterError is raised. \n",
    "    The result is a dictionary with keys from d, mapping to values of \n",
    "    the number of coins / bills of each denomination. \n",
    "    \n",
    "    This is computed by first taking the maximal  number of coins / bill of the \n",
    "    highest denomination, then the next highest, etc.\n",
    "    If no exact change is possible, ChangeRemainderError is raised.\n",
    "    \"\"\"\n",
    "    return    \n",
    "    \n",
    "### BEGIN SOLUTION\n",
    "class ChangeRemainderError(Exception):\n",
    "    pass\n",
    "\n",
    "class ChangeParameterError(Exception):\n",
    "    pass\n",
    "\n",
    "def change(a, d):\n",
    "   \n",
    "    if type(a) != int or type(d) != list or len(d) == 0 or \\\n",
    "        not all(type(d[i]) == int for i in range(len(d))) or \\\n",
    "        not all(d[i-1] < d[i] for i in range(1, len(d))):\n",
    "        raise ChangeParameterError\n",
    "    i, r, c = len(d), a, len(d) * [0]\n",
    "    \n",
    "    out = {i:0 for i in d}\n",
    "    while i > 0:\n",
    "        i = i - 1\n",
    "        out[d[i]], r = divmod(r, d[i])\n",
    "    if r != 0: raise ChangeRemainderError\n",
    "    return out\n",
    "### END SOLUTION"
   ]
  },
  {
   "cell_type": "code",
   "execution_count": null,
   "metadata": {},
   "outputs": [],
   "source": [
    "change(3, [3, 7]) ==  {3: 1, 7: 0}"
   ]
  },
  {
   "cell_type": "code",
   "execution_count": null,
   "metadata": {},
   "outputs": [],
   "source": [
    "change(15, [1, 3, 7]) == {1: 1, 3: 0, 7: 2}"
   ]
  },
  {
   "cell_type": "code",
   "execution_count": null,
   "metadata": {},
   "outputs": [],
   "source": [
    "try:\n",
    "    change(True, [4]) # raises ChangeParameterError\n",
    "except ChangeParameterError:\n",
    "    print(\"Successful test case\")"
   ]
  },
  {
   "cell_type": "code",
   "execution_count": null,
   "metadata": {},
   "outputs": [],
   "source": [
    "try:\n",
    "    change(3, 7) # raises ChangeParameterError\n",
    "except ChangeParameterError:\n",
    "    print(\"Successful test case\")"
   ]
  },
  {
   "cell_type": "code",
   "execution_count": null,
   "metadata": {},
   "outputs": [],
   "source": [
    "try:\n",
    "    change(3, [7, True]) # raises ChangeParameterError\n",
    "except ChangeParameterError:\n",
    "    print(\"Successful test case\")"
   ]
  },
  {
   "cell_type": "code",
   "execution_count": null,
   "metadata": {},
   "outputs": [],
   "source": [
    "try:\n",
    "    change(3, [7, 3]) # raises ChangeParameterError\n",
    "except ChangeParameterError:\n",
    "    print(\"Successful test case\")"
   ]
  },
  {
   "cell_type": "code",
   "execution_count": null,
   "metadata": {},
   "outputs": [],
   "source": [
    "try:\n",
    "    change(3, [2, 7]) # raises ChangeRemainderError\n",
    "except ChangeRemainderError:\n",
    "    print(\"Successful test case\")"
   ]
  },
  {
   "cell_type": "code",
   "execution_count": null,
   "metadata": {
    "nbgrader": {
     "grade": true,
     "grade_id": "cell-16ccf86c7354d6ab",
     "locked": true,
     "points": 1,
     "schema_version": 1,
     "solution": false
    }
   },
   "outputs": [],
   "source": [
    "# Hidden test for Question 3\n",
    "### BEGIN HIDDEN TESTS\n",
    "assert change(16, [1, 4, 9]) == {1: 3, 4: 1, 9: 1}\n",
    "### END HIDDEN TESTS"
   ]
  },
  {
   "cell_type": "code",
   "execution_count": null,
   "metadata": {
    "nbgrader": {
     "grade": true,
     "grade_id": "cell-f7cd91f11e24e067",
     "locked": true,
     "points": 1,
     "schema_version": 1,
     "solution": false
    }
   },
   "outputs": [],
   "source": [
    "# Hidden test for Question 3\n",
    "### BEGIN HIDDEN TESTS\n",
    "assert change(11,[3,7,11]) == {3: 0, 7: 0, 11: 1}\n",
    "### END HIDDEN TESTS"
   ]
  },
  {
   "cell_type": "code",
   "execution_count": null,
   "metadata": {
    "nbgrader": {
     "grade": true,
     "grade_id": "cell-b4e9cde2bec380e9",
     "locked": true,
     "points": 1,
     "schema_version": 1,
     "solution": false
    }
   },
   "outputs": [],
   "source": [
    "# Hidden test for Question 3\n",
    "### BEGIN HIDDEN TESTS\n",
    "try:\n",
    "    change(3,[9,0])\n",
    "    assert False\n",
    "except ChangeParameterError:\n",
    "    assert True\n",
    "except:\n",
    "    assert False\n",
    "### END HIDDEN TESTS"
   ]
  },
  {
   "cell_type": "code",
   "execution_count": null,
   "metadata": {
    "nbgrader": {
     "grade": true,
     "grade_id": "cell-e1490314fa409f6e",
     "locked": true,
     "points": 1,
     "schema_version": 1,
     "solution": false
    }
   },
   "outputs": [],
   "source": [
    "# Hidden test for Question 3\n",
    "### BEGIN HIDDEN TESTS\n",
    "try:\n",
    "    change(5,[2])\n",
    "    assert False\n",
    "except ChangeRemainderError:\n",
    "    assert True\n",
    "except:\n",
    "    assert False\n",
    "### END HIDDEN TESTS"
   ]
  },
  {
   "cell_type": "code",
   "execution_count": null,
   "metadata": {
    "nbgrader": {
     "grade": true,
     "grade_id": "cell-65653f27801c6400",
     "locked": true,
     "points": 1,
     "schema_version": 1,
     "solution": false
    }
   },
   "outputs": [],
   "source": [
    "# Hidden test for Question 3\n",
    "### BEGIN HIDDEN TESTS\n",
    "try:\n",
    "    change(5,'1')\n",
    "    assert False\n",
    "except ChangeParameterError:\n",
    "    pass\n",
    "except:\n",
    "    assert False\n",
    "    \n",
    "try:\n",
    "    change(5,[3,4])\n",
    "    assert False\n",
    "except ChangeRemainderError:\n",
    "    assert True\n",
    "except:\n",
    "    assert False\n",
    "### END HIDDEN TESTS"
   ]
  }
 ],
 "metadata": {
  "celltoolbar": "Create Assignment",
  "kernelspec": {
   "display_name": "Python 3",
   "language": "python",
   "name": "python3"
  },
  "language_info": {
   "codemirror_mode": {
    "name": "ipython",
    "version": 3
   },
   "file_extension": ".py",
   "mimetype": "text/x-python",
   "name": "python",
   "nbconvert_exporter": "python",
   "pygments_lexer": "ipython3",
   "version": "3.6.3"
  }
 },
 "nbformat": 4,
 "nbformat_minor": 2
}
