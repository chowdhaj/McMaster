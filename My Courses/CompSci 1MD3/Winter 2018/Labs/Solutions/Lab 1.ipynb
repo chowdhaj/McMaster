{
 "cells": [
  {
   "cell_type": "markdown",
   "metadata": {},
   "source": [
    "## COMP SCI 1MD3 Introduction to Programming, Winter 2018\n",
    "### Douglas Stebila (Instructor), Joey Legere, Karl Knopf, Natalie Chin, Victor Chen (TAs)\n",
    "### Lab 1 Assigned Tuesday, Jan 9, Due Wednesday Jan 17, 5pm\n",
    "### Maximum grade: 20 / 16\n",
    "\n",
    "The purpose of this lab is to:\n",
    "* Become familiar with Jupyter notebooks\n",
    "* Understand how to test your own solutions\n",
    "* Practice writing syntactically correct expressions in Python\n",
    "\n",
    "\n",
    "You are supposed to download this notebook, embed your answers to the questions in the cells below, and submit it through Avenue. Name your notebook `yourmacid.ipynb`, where `yourmacid` is your Mac ID. For example, if your e-mail address is `legerejk@mcmaster.ca`, then name your notebook `legerejk.ipynb`."
   ]
  },
  {
   "cell_type": "markdown",
   "metadata": {},
   "source": [
    "#### Practice Question (Ungraded)\n",
    "\n",
    "The purpose of this example is to help you understand how to correctly test your code and format it for the autograder.\n",
    "\n",
    "For this example, you need to write a Python function that computes the sum of two numbers.\n",
    "\n",
    "We won't talk about functions yet, but you need to know some basics. The variables in the first line are the ones you are given--in this case, x and y. The variables after the 'return' statement are the ones you need to create. In this example, we want to find the sum of x and y, and call it s. Therefore the code we need to write is just: `s = x + y`.\n",
    "\n",
    "It is also import to note that all of the code in the cell is indented. You will need to write your code so that it is in line with the `return` statement vertically (Jupyter should do this automatically, but it's important to understand)."
   ]
  },
  {
   "cell_type": "code",
   "execution_count": null,
   "metadata": {},
   "outputs": [],
   "source": [
    "def add(x, y):  # The variables x and y here are the ones that you are given to work with\n",
    "    \n",
    "    # Your code here\n",
    "    \n",
    "    return s # the variable after the 'return' statement is the one you need to create."
   ]
  },
  {
   "cell_type": "markdown",
   "metadata": {},
   "source": [
    "The two cells below are 'test' cells. When you have written your function above (and run the code cell that it's in), these two cells should evaluate to 'True' when you run them. If not, modify your code cell above, rerun it, and try the tests again.\n",
    "\n",
    "When your code is run through the autograder it will be tested in a similar way. However, we will use different test cases, so just because you pass every test case that we provide does not guarantee you will pass every test case that the grader runs."
   ]
  },
  {
   "cell_type": "code",
   "execution_count": null,
   "metadata": {},
   "outputs": [],
   "source": [
    "add(3, 5) == 8  # This should evaluate to \"True\" when run"
   ]
  },
  {
   "cell_type": "code",
   "execution_count": null,
   "metadata": {},
   "outputs": [],
   "source": [
    "add(2, 7) == 9 # This is another test cell."
   ]
  },
  {
   "cell_type": "markdown",
   "metadata": {},
   "source": [
    "#### Question 1a (1 point)\n",
    "\n",
    "Does exponentiation bind tighter than multiplication in Python? That is, is `x * y ** z` the same as `x * (y ** z)` or as `(x * y) ** z`?\n",
    "\n",
    "Use the code cell below to run your own tests and figure it out. If it does bind tighter (that is, it is like `x * (y ** z)`), set `ans1` to True by uncommenting the first line. Otherwise, set it to False by uncommenting the second line."
   ]
  },
  {
   "cell_type": "code",
   "execution_count": null,
   "metadata": {},
   "outputs": [],
   "source": [
    "# Use this code cell to run your tests"
   ]
  },
  {
   "cell_type": "code",
   "execution_count": null,
   "metadata": {},
   "outputs": [],
   "source": [
    "# Uncomment what you believe to be the correct answer in this cell\n",
    "\n",
    "def question1a():\n",
    "    \n",
    "    ans1 = True\n",
    "    \n",
    "    #ans1 = False\n",
    "    \n",
    "    return ans1"
   ]
  },
  {
   "cell_type": "markdown",
   "metadata": {},
   "source": [
    "#### Question 1b (1 point)\n",
    "Does exponentiation bind tighter than unary minus in Python? That is, is `- x ** y` the same as `- (x ** y)` or as `(- x) ** y`? \n",
    "\n",
    "Use the code cell below to run your own tests and figure it out. If it does bind tighter (that is, it is like `- (x ** y)`), set `ans2` to True by uncommenting the first line. Otherwise, set it to False by uncommenting the second line."
   ]
  },
  {
   "cell_type": "code",
   "execution_count": null,
   "metadata": {},
   "outputs": [],
   "source": [
    "# Use this code cell to run your tests\n",
    "- 2 ** 2"
   ]
  },
  {
   "cell_type": "code",
   "execution_count": null,
   "metadata": {},
   "outputs": [],
   "source": [
    "# Uncomment what you believe to be the correct answer in this cell\n",
    "\n",
    "def question1b():\n",
    "    \n",
    "    ans2 = True\n",
    "    \n",
    "    #ans2 = False\n",
    "    \n",
    "    return ans2"
   ]
  },
  {
   "cell_type": "markdown",
   "metadata": {},
   "source": [
    "#### Question 2: Time Conversion 1 (3 points)\n",
    "\n",
    "Write a Python function that computes number of minutes in the period of `m` minutes, `h` hours, and `d` days."
   ]
  },
  {
   "cell_type": "code",
   "execution_count": null,
   "metadata": {},
   "outputs": [],
   "source": [
    "def minutes(m, h, d):\n",
    "    \n",
    "    total_time = m + 60 * h + 60 * 24 * d\n",
    "    \n",
    "    return total_time"
   ]
  },
  {
   "cell_type": "markdown",
   "metadata": {},
   "source": [
    "Here are more test cells you can use to check if your code is producing the expected answer."
   ]
  },
  {
   "cell_type": "code",
   "execution_count": null,
   "metadata": {},
   "outputs": [],
   "source": [
    "minutes(10, 0, 0) == 10"
   ]
  },
  {
   "cell_type": "code",
   "execution_count": null,
   "metadata": {},
   "outputs": [],
   "source": [
    "minutes(0, 3, 0) == 180"
   ]
  },
  {
   "cell_type": "code",
   "execution_count": null,
   "metadata": {},
   "outputs": [],
   "source": [
    "minutes(2, 20, 12) == 18482"
   ]
  },
  {
   "cell_type": "markdown",
   "metadata": {},
   "source": [
    "#### Question 3a: Compound Interest with Regular Deposits (2 points)\n",
    "\n",
    "If _p_ is the bank's interest rate in percent per year, an initial amount _a_ will grow after _n_ years to: $$a(1 + p)^n$$ Write a Python function `growth(a, p, n)` that returns the future value (that is, the total amount of funds), starting with amount `a`, rate `p`, for `n` years. You can assume that all parameters are non-negative. (Your solution does not need to check for that condition, it should simply assume it.)  The input `p` represents the interest rate as a floating point number, e.g., `p=0.05` means 5%."
   ]
  },
  {
   "cell_type": "code",
   "execution_count": null,
   "metadata": {},
   "outputs": [],
   "source": [
    "def growth(a, p, n):\n",
    "    \n",
    "    s = a * (1+p) ** n\n",
    "    \n",
    "    return s"
   ]
  },
  {
   "cell_type": "code",
   "execution_count": null,
   "metadata": {},
   "outputs": [],
   "source": [
    "growth(100, 0.05, 2) == 110.25"
   ]
  },
  {
   "cell_type": "code",
   "execution_count": null,
   "metadata": {},
   "outputs": [],
   "source": [
    "growth(200, 1.00, 1) == 400.0"
   ]
  },
  {
   "cell_type": "code",
   "execution_count": null,
   "metadata": {},
   "outputs": [],
   "source": [
    "growth(10, 0.0, 200) == 10.0"
   ]
  },
  {
   "cell_type": "markdown",
   "metadata": {},
   "source": [
    "#### Question 3b (1 point)\n",
    "\n",
    "What is the difference in savings if you invest $2000 for 20 years at 2% vs. 1% interest? Set `ans3` to the difference in savings (as a positive number, rounded to two decimal places) in the cell below.\n",
    "\n",
    "Do not write any function calls in the cell--simply write the number that you compute."
   ]
  },
  {
   "cell_type": "code",
   "execution_count": null,
   "metadata": {},
   "outputs": [],
   "source": [
    "# Use this code cell for rough work / to calculate your answer\n",
    "growth(2000, 0.02, 20) - growth(2000, 0.01, 20)"
   ]
  },
  {
   "cell_type": "code",
   "execution_count": null,
   "metadata": {},
   "outputs": [],
   "source": [
    "def question3b():\n",
    "    \n",
    "    ans3 = round(growth(2000, 0.02, 20) - growth(2000, 0.01, 20), 2) # Replace with your answer\n",
    "    \n",
    "    return ans3"
   ]
  },
  {
   "cell_type": "markdown",
   "metadata": {
    "collapsed": true
   },
   "source": [
    "#### Question 4: Heron's Formula (3 points)\n",
    "\n",
    "Given a triangle with sides `a`, `b`, and `c`, compute its area using Heron’s formula. For this, see the Wikipedia page at http://en.wikipedia.org/wiki/Heron%27s_formula. The formula makes use of square roots. Consult https://docs.python.org/3/ to find out how to use square roots in Python. Enter the Python expression for the area in the cell below."
   ]
  },
  {
   "cell_type": "code",
   "execution_count": null,
   "metadata": {},
   "outputs": [],
   "source": [
    "def heron(a, b, c):\n",
    "    \n",
    "    s = (a + b + c) / 2\n",
    "    area = (s * (s-a) * (s-b) * (s-c)) ** 0.5\n",
    "    # Your code here.\n",
    "    \n",
    "    return area"
   ]
  },
  {
   "cell_type": "code",
   "execution_count": null,
   "metadata": {},
   "outputs": [],
   "source": [
    "heron(3, 4, 5) == 6.0"
   ]
  },
  {
   "cell_type": "code",
   "execution_count": null,
   "metadata": {},
   "outputs": [],
   "source": [
    "heron(8, 5, 5) == 12"
   ]
  },
  {
   "cell_type": "code",
   "execution_count": null,
   "metadata": {},
   "outputs": [],
   "source": [
    "heron(15, 13, 4) == 24"
   ]
  },
  {
   "cell_type": "markdown",
   "metadata": {},
   "source": [
    "#### Question 5: Quadratic Formula (3 points)\n",
    "\n",
    "The solutions to an equation of the form $$ ax^2 + bx + c = 0$$ is: $$x_{1}, x_{2} = \\frac{-b\\pm\\sqrt{b^2-4ac}}{2a} $$\n",
    "\n",
    "<br> There are two solutions: one for adding, and one for subtracting the radical.\n",
    "<br> Write a program that takes a, b, and c as input and solves for $x_1$ and $x_2$.\n",
    "<br>You may assume that $ b^2 - 4ac \\geq 0$. Let $x_1$ be the solution where you add the term under the square root term, and $x_2$ be the solution where you subtract the square root term."
   ]
  },
  {
   "cell_type": "code",
   "execution_count": null,
   "metadata": {},
   "outputs": [],
   "source": [
    "def quadratic(a, b, c):\n",
    "    \n",
    "    # Your code here.\n",
    "    x1 = (- b + (b ** 2 - 4 * a * c) ** (1/2)) / (2* a)\n",
    "    x2 = (- b - (b ** 2 - 4 * a * c) ** (1/2)) / (2* a)\n",
    "    \n",
    "    return (x1, x2)"
   ]
  },
  {
   "cell_type": "code",
   "execution_count": null,
   "metadata": {},
   "outputs": [],
   "source": [
    "quadratic(1, 2, 1) == (-1.0, -1.0)"
   ]
  },
  {
   "cell_type": "code",
   "execution_count": null,
   "metadata": {},
   "outputs": [],
   "source": [
    "quadratic(1, 2, 1)"
   ]
  },
  {
   "cell_type": "code",
   "execution_count": null,
   "metadata": {},
   "outputs": [],
   "source": [
    "quadratic(2, 5, -3) == (0.5, -3.0)"
   ]
  },
  {
   "cell_type": "code",
   "execution_count": null,
   "metadata": {},
   "outputs": [],
   "source": [
    "quadratic(10, 40, 30) == (-1.0, -3.0)"
   ]
  },
  {
   "cell_type": "markdown",
   "metadata": {},
   "source": [
    "#### Question 6: Time Conversion 2 (2 points)\n",
    "\n",
    "Write a Python function that computes the number of days, hours, and minutes in a given number of minutes (essentially, do the opposite of question 2)."
   ]
  },
  {
   "cell_type": "code",
   "execution_count": null,
   "metadata": {},
   "outputs": [],
   "source": [
    "def daysHoursMinutes(m):\n",
    "    \n",
    "    # Your code here.\n",
    "    d = (m // 60) // 24\n",
    "    h = (m // 60) % 24\n",
    "    m = m % 60\n",
    "    \n",
    "    return (d, h, m)"
   ]
  },
  {
   "cell_type": "code",
   "execution_count": null,
   "metadata": {},
   "outputs": [],
   "source": [
    "daysHoursMinutes(241) == (0, 4, 1)"
   ]
  },
  {
   "cell_type": "code",
   "execution_count": null,
   "metadata": {},
   "outputs": [],
   "source": [
    "daysHoursMinutes(60) == (0, 1, 0)"
   ]
  },
  {
   "cell_type": "code",
   "execution_count": null,
   "metadata": {},
   "outputs": [],
   "source": [
    "daysHoursMinutes(1439) == (0, 23, 59)"
   ]
  },
  {
   "cell_type": "code",
   "execution_count": null,
   "metadata": {},
   "outputs": [],
   "source": [
    "daysHoursMinutes(1440) == (1, 0, 0)"
   ]
  },
  {
   "cell_type": "markdown",
   "metadata": {},
   "source": [
    "#### Bonus: Dr. Cooper’s Breakfast Egg (4 points)\n",
    "\n",
    "Dr. Cooper is serious about his breakfast eggs. He is aware that as an egg cooks, the proteins first denature and then coagulate. When the temperature exceeds a critical point, reactions begin and proceed faster as the temperature increases. In the egg white the proteins start to coagulate for temperatures above $63C$, while in the yolk the proteins start to coagulate for temperatures above $70C$. For a soft-boiled egg, the egg white needs to have been heated long enough to coagulate at a temperature above $63$C, but the yolk should not be heated above $70C$. For a hard boiled egg, the center of the yolk should be allowed to reach $70C$. The following formula expresses the time t it takes (in seconds) for the center of the yolk to reach the temperature:\n",
    "\n",
    "> $\\large t = \\frac{M^{2/3}cϱ^{1/3}}{K π^2 (4π / 3)^{2/3}} \\ln{\\left[0.76\\frac{T_0 - T_w}{T_y - T_w}\\right]}$\n",
    "\n",
    "Here, $M$, $ϱ$, $c$, and $K$ are properties of the egg: $M$ is the mass, $ϱ$ is the density, $c$ is the specific heat capacity, and $K$ is the thermal conductivity. Relevant values are $ϱ =1.038g~cm^{-3}$, $c = 3.7Jg^{-1}K^{-1}$, and $K = 5.4~10^{-3}W~cm^{-1}~K^{-1}$. Furthermore, $T_w$ is the temperature (in $C$ degrees) of the boiling water, $100C$, and $T_0$ is the original temperature (in $C$ degree) of the egg before being put in the water. For $T_y$ take $70C$. Write a Python function that helps Dr. Cooper to determine the correct cooking time. The function should take $M$ and $T_0$ as parameters. Run your implementation with $M=47g$ for a small egg and $M=67g$ for a larger egg and with $T_0=4C$ for an egg taken from the fridge and $T_0=20C$ for an egg with room temperature.\n"
   ]
  },
  {
   "cell_type": "code",
   "execution_count": null,
   "metadata": {},
   "outputs": [],
   "source": [
    "from math import log, pi\n",
    "\n",
    "def correctCookingTime(m, t0):\n",
    "    \n",
    "    # Your code here.\n",
    "    \n",
    "    return t"
   ]
  },
  {
   "cell_type": "code",
   "execution_count": null,
   "metadata": {},
   "outputs": [],
   "source": [
    "correctCookingTime(47, 20) == 248.86253747844736"
   ]
  }
 ],
 "metadata": {
  "kernelspec": {
   "display_name": "Python 3",
   "language": "python",
   "name": "python3"
  },
  "language_info": {
   "codemirror_mode": {
    "name": "ipython",
    "version": 3
   },
   "file_extension": ".py",
   "mimetype": "text/x-python",
   "name": "python",
   "nbconvert_exporter": "python",
   "pygments_lexer": "ipython3",
   "version": "3.6.4"
  }
 },
 "nbformat": 4,
 "nbformat_minor": 1
}
