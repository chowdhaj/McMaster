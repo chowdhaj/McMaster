{
 "cells": [
  {
   "cell_type": "code",
   "execution_count": null,
   "metadata": {},
   "outputs": [],
   "source": [
    "import sqlite3\n",
    "db = sqlite3.connect('videostore.db')"
   ]
  },
  {
   "cell_type": "code",
   "execution_count": null,
   "metadata": {},
   "outputs": [],
   "source": [
    "cur = db.cursor()\n",
    "cur.execute('SELECT * FROM movies ORDER BY title')\n",
    "print(cur.fetchall())"
   ]
  },
  {
   "cell_type": "code",
   "execution_count": null,
   "metadata": {},
   "outputs": [],
   "source": [
    "cur = db.cursor()\n",
    "rows = cur.execute('SELECT * FROM movies ORDER BY title')\n",
    "for row in rows:\n",
    "    print(row)"
   ]
  },
  {
   "cell_type": "code",
   "execution_count": null,
   "metadata": {},
   "outputs": [],
   "source": [
    "db.row_factory = sqlite3.Row\n",
    "cur = db.cursor()\n",
    "rows = cur.execute('SELECT * FROM movies ORDER BY title')\n",
    "for row in rows:\n",
    "    print(row[\"title\"])"
   ]
  },
  {
   "cell_type": "code",
   "execution_count": null,
   "metadata": {},
   "outputs": [],
   "source": [
    "cur = db.cursor()\n",
    "m = 17\n",
    "t = 'Beauty and the Beast'\n",
    "g = 'animation musical comedy'\n",
    "r = 'G'\n",
    "cur.execute('INSERT INTO movies VALUES (?, ?, ?, ?)', (m, t, g, r))"
   ]
  },
  {
   "cell_type": "code",
   "execution_count": null,
   "metadata": {},
   "outputs": [],
   "source": [
    "cur = db.cursor()\n",
    "rows = cur.execute('SELECT * FROM movies')\n",
    "for row in rows:\n",
    "    print(list(row))"
   ]
  },
  {
   "cell_type": "code",
   "execution_count": null,
   "metadata": {},
   "outputs": [],
   "source": [
    "cur = db.cursor()\n",
    "rows = cur.execute('SELECT * FROM rentals, customers WHERE customers.customerid = rentals.customerid')\n",
    "for row in rows:\n",
    "    print(dict(row))"
   ]
  },
  {
   "cell_type": "code",
   "execution_count": null,
   "metadata": {},
   "outputs": [],
   "source": [
    "cur = db.cursor()\n",
    "rows = cur.execute('SELECT * FROM rentals, customers, movies WHERE customers.customerid = rentals.customerid AND rentals.movieid = movies.movieid')\n",
    "for row in rows:\n",
    "    print(dict(row))"
   ]
  },
  {
   "cell_type": "code",
   "execution_count": null,
   "metadata": {},
   "outputs": [],
   "source": [
    "rating = input(\"Enter a rating you'd like to search for: \")\n",
    "rows = cur.execute('SELECT * FROM movies WHERE rating = \"' + rating + '\"')\n",
    "for row in rows:\n",
    "    print(list(row))"
   ]
  },
  {
   "cell_type": "code",
   "execution_count": null,
   "metadata": {},
   "outputs": [],
   "source": [
    "movieid = input(\"Enter movie ID of new movie: \")\n",
    "title = input(\"Enter title of new movie: \")\n",
    "cur.executescript('INSERT INTO movies (movieid, title) VALUES (' + movieid + ', \"' + title + '\")')"
   ]
  },
  {
   "cell_type": "code",
   "execution_count": null,
   "metadata": {},
   "outputs": [],
   "source": [
    "cur = db.cursor()\n",
    "rows = cur.execute('SELECT * FROM movies')\n",
    "for row in rows:\n",
    "    print(list(row))"
   ]
  }
 ],
 "metadata": {
  "kernelspec": {
   "display_name": "Python 3",
   "language": "python",
   "name": "python3"
  },
  "language_info": {
   "codemirror_mode": {
    "name": "ipython",
    "version": 3
   },
   "file_extension": ".py",
   "mimetype": "text/x-python",
   "name": "python",
   "nbconvert_exporter": "python",
   "pygments_lexer": "ipython3",
   "version": "3.6.3"
  }
 },
 "nbformat": 4,
 "nbformat_minor": 2
}
