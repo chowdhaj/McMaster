{
 "cells": [
  {
   "cell_type": "markdown",
   "metadata": {},
   "source": [
    "## Practice question: List reversal\n",
    "\n",
    "Given a list of elements, return a reversed version of the list.  There are many ways to do this, but in this question you should do it using recursion."
   ]
  },
  {
   "cell_type": "code",
   "execution_count": 1,
   "metadata": {
    "collapsed": true
   },
   "outputs": [],
   "source": [
    "def reverse(L):\n",
    "    if len(L) <= 1:\n",
    "        return L\n",
    "    else:\n",
    "        Lprime = [L[-1]]\n",
    "        Lprime.extend(reverse(L[1:-1]))\n",
    "        Lprime.append(L[0])\n",
    "        return Lprime"
   ]
  },
  {
   "cell_type": "code",
   "execution_count": 2,
   "metadata": {
    "collapsed": true
   },
   "outputs": [],
   "source": [
    "assert reverse([]) == []\n",
    "assert reverse([1]) == [1]\n",
    "assert reverse([1, 2]) == [2, 1]\n",
    "assert reverse([1, 2, 3]) == [3, 2, 1]\n",
    "assert reverse([1, 2, 3, 4]) == [4, 3, 2, 1]"
   ]
  }
 ],
 "metadata": {
  "kernelspec": {
   "display_name": "Python 2",
   "language": "python",
   "name": "python2"
  },
  "language_info": {
   "codemirror_mode": {
    "name": "ipython",
    "version": 2
   },
   "file_extension": ".py",
   "mimetype": "text/x-python",
   "name": "python",
   "nbconvert_exporter": "python",
   "pygments_lexer": "ipython2",
   "version": "2.7.13"
  }
 },
 "nbformat": 4,
 "nbformat_minor": 2
}
