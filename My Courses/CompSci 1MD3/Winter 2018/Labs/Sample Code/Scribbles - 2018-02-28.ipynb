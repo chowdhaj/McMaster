{
 "cells": [
  {
   "cell_type": "code",
   "execution_count": 12,
   "metadata": {
    "collapsed": true
   },
   "outputs": [],
   "source": [
    "class Point:\n",
    "  def __init__(self, x0, y0):\n",
    "    self.x = x0\n",
    "    self.y = y0\n",
    "  def __eq__(self, other):\n",
    "    return self.x == other.x and self.y == other.y\n",
    "\n",
    "class ColoredPoint(Point):\n",
    "    def __init__(self, x0, y0, color):\n",
    "        Point.__init__(self, x0, y0)\n",
    "        self.color = color\n",
    "    def darken(self):\n",
    "        self.color = 'dark '+self.color\n",
    "    def __eq__(self, other):\n",
    "        return Point.__eq__(self, other) and \\\n",
    "               self.color == other.color\n",
    "    def __str__(self):\n",
    "        return Point.__str__(self)+ \\\n",
    "               ', color = '+str(self.color)\n",
    "\n",
    "p = Point(3,5)\n",
    "q = ColoredPoint(4,6,\"red\")"
   ]
  },
  {
   "cell_type": "code",
   "execution_count": null,
   "metadata": {
    "collapsed": true
   },
   "outputs": [],
   "source": []
  },
  {
   "cell_type": "code",
   "execution_count": 8,
   "metadata": {
    "collapsed": true
   },
   "outputs": [],
   "source": [
    "class BirthdayCalendar:\n",
    "    \"\"\"\n",
    "    A birthday calendar keeps track of person names and\n",
    "    their birthdays, and allows to query who has\n",
    "    birthday at a given date\n",
    "    \"\"\"\n",
    "    def __init__(self):\n",
    "        pass\n",
    "    def clear(self):\n",
    "        \"\"\"removes all names from the calendar\"\"\"\n",
    "        pass\n",
    "    def add(self, name, date):\n",
    "        \"\"\"adds name with date to the calendar\"\"\"\n",
    "        pass\n",
    "    def contains(self, name):\n",
    "        \"\"\"checks if name is in the calendar\"\"\"\n",
    "        pass\n",
    "    def birthdays(self, date):\n",
    "        \"\"\"returns a set of names with birthday on date\"\"\"\n",
    "        pass\n",
    "    def __str__(self):\n",
    "        return object.__str__(self)"
   ]
  },
  {
   "cell_type": "code",
   "execution_count": 9,
   "metadata": {},
   "outputs": [
    {
     "name": "stdout",
     "output_type": "stream",
     "text": [
      "<__main__.BirthdayCalendar instance at 0x10dcb9ef0>\n",
      "None\n"
     ]
    }
   ],
   "source": [
    "myCalendar = BirthdayCalendar()\n",
    "myCalendar.add(\"Alice\", \"April 1\")\n",
    "myCalendar.add(\"Bob\", \"April 1\")\n",
    "myCalendar.add(\"Charlie\", \"February 28\")\n",
    "print(myCalendar)\n",
    "print(myCalendar.birthdays(\"April 1\"))"
   ]
  },
  {
   "cell_type": "code",
   "execution_count": 10,
   "metadata": {
    "collapsed": true
   },
   "outputs": [],
   "source": [
    "class MeanCalculator1:\n",
    "    \"\"\"\n",
    "    Computes the mean (arithmetic average) of a\n",
    "    collection of numbers\n",
    "    \"\"\"\n",
    "    def __init__(self):\n",
    "        pass\n",
    "    def add(self, n):\n",
    "        \"\"\"adds n to the collection\"\"\"\n",
    "        pass\n",
    "    def mean(self):\n",
    "        \"\"\"returns the mean of the collection\"\"\"\n",
    "        pass"
   ]
  },
  {
   "cell_type": "code",
   "execution_count": 11,
   "metadata": {},
   "outputs": [
    {
     "name": "stdout",
     "output_type": "stream",
     "text": [
      "None\n"
     ]
    }
   ],
   "source": [
    "m = MeanCalculator1()\n",
    "m.add(1)\n",
    "m.add(1)\n",
    "m.add(4)\n",
    "print(m.mean())"
   ]
  },
  {
   "cell_type": "code",
   "execution_count": null,
   "metadata": {
    "collapsed": true
   },
   "outputs": [],
   "source": [
    "class MeanCalculator2:\n",
    "    \"\"\"\n",
    "    Computes the mean (arithmetic average) of a\n",
    "    collection of numbers\n",
    "    \"\"\"\n",
    "    def __init__(self):\n",
    "        pass\n",
    "    def add(self, n):\n",
    "        \"\"\"adds n to the collection\"\"\"\n",
    "        pass\n",
    "    def mean(self):\n",
    "        \"\"\"returns the mean of the collection\"\"\"\n",
    "        pass"
   ]
  },
  {
   "cell_type": "code",
   "execution_count": null,
   "metadata": {
    "collapsed": true
   },
   "outputs": [],
   "source": [
    "m = MeanCalculator2()\n",
    "m.add(1)\n",
    "m.add(1)\n",
    "m.add(4)\n",
    "print(m.mean())"
   ]
  }
 ],
 "metadata": {
  "kernelspec": {
   "display_name": "Python 2",
   "language": "python",
   "name": "python2"
  },
  "language_info": {
   "codemirror_mode": {
    "name": "ipython",
    "version": 2
   },
   "file_extension": ".py",
   "mimetype": "text/x-python",
   "name": "python",
   "nbconvert_exporter": "python",
   "pygments_lexer": "ipython2",
   "version": "2.7.14"
  }
 },
 "nbformat": 4,
 "nbformat_minor": 2
}
