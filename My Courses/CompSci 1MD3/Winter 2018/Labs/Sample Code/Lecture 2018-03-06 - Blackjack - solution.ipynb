{
 "cells": [
  {
   "cell_type": "code",
   "execution_count": null,
   "metadata": {
    "collapsed": true
   },
   "outputs": [],
   "source": [
    "import random\n",
    "\n",
    "class CantScoreAceError(Exception):\n",
    "    pass\n",
    "\n",
    "class Card:\n",
    "    def __init__(self, suit, face):\n",
    "        self.suit = suit\n",
    "        self.face = face\n",
    "    def __int__(self):\n",
    "        if self.face in ['2', '3', '4', '5', '6', '7', '8', '9', '10']:\n",
    "            return int(self.face)\n",
    "        elif self.face in ['J', 'Q', 'K']:\n",
    "            return 10\n",
    "        elif self.face in ['A']:\n",
    "            raise CantScoreAceError()\n",
    "        else:\n",
    "            raise ValueError()\n",
    "    def __str__(self):\n",
    "        return self.face + self.suit\n",
    "\n",
    "class Deck:\n",
    "    def __init__(self):\n",
    "        self.cards = []\n",
    "        for suit in ['♣︎', '♦︎', '♥︎', '♠︎']:\n",
    "            for face in ['2', '3', '4', '5', '6', '7', '8', '9', '10', 'J', 'Q', 'K', 'A']:\n",
    "                card = Card(suit, face)\n",
    "                self.cards.append(card)\n",
    "        random.shuffle(self.cards)\n",
    "    def deal(self):\n",
    "        return self.cards.pop()\n",
    "    def __str__(self):\n",
    "        return \"[\" + \", \".join(map(str, self.cards)) + \"]\"\n",
    "\n",
    "class Hand:\n",
    "    def __init__(self):\n",
    "        self.cards = []\n",
    "    def add(self, card):\n",
    "        self.cards.append(card)\n",
    "    def score(self):\n",
    "        total = 0\n",
    "        aces = 0\n",
    "        for card in self.cards:\n",
    "            if card.face == 'A':\n",
    "                aces += 1\n",
    "            else:\n",
    "                total += int(card)\n",
    "        for i in range(aces):\n",
    "            if total + 11 <= 21:\n",
    "                total += 11\n",
    "            else:\n",
    "                total += 1\n",
    "        return total\n",
    "    def __str__(self):\n",
    "        return \"[\" + \", \".join(map(str, self.cards)) + \"]\"\n",
    "    def hit(self):\n",
    "        return False\n",
    "    def busted(self):\n",
    "        return self.score() > 21\n",
    "    \n",
    "class ThresholdHand(Hand):\n",
    "    def __init__(self, threshold):\n",
    "        Hand.__init__(self)\n",
    "        self.threshold = threshold\n",
    "    def hit(self):\n",
    "        return (self.score() <= self.threshold)"
   ]
  },
  {
   "cell_type": "code",
   "execution_count": null,
   "metadata": {},
   "outputs": [],
   "source": [
    "# TEST CELL: make a deck, deal a few cards, and score a hand\n",
    "random.seed(5) # Use a fixed seed for the random generator so we get the same results every time\n",
    "deck = Deck()\n",
    "print(deck)\n",
    "hand = ThresholdHand(16)\n",
    "hand.add(deck.deal())\n",
    "print(hand)\n",
    "print(hand.score())\n",
    "print(hand.hit())\n",
    "print(hand.busted())\n",
    "hand.add(deck.deal())\n",
    "print(hand)\n",
    "print(hand.score())\n",
    "print(hand.hit())\n",
    "print(hand.busted())\n",
    "hand.add(deck.deal())\n",
    "print(hand)\n",
    "print(hand.score())\n",
    "print(hand.hit())\n",
    "print(hand.busted())\n",
    "hand.add(deck.deal())\n",
    "print(hand)\n",
    "print(hand.score())\n",
    "print(hand.hit())\n",
    "print(hand.busted())"
   ]
  },
  {
   "cell_type": "code",
   "execution_count": null,
   "metadata": {
    "collapsed": true
   },
   "outputs": [],
   "source": [
    "def gameOfBlackjack(hand1, hand2, debug = False):\n",
    "    deck = Deck()\n",
    "    hand1.add(deck.deal())\n",
    "    hand2.add(deck.deal())\n",
    "    again = True\n",
    "    while again:\n",
    "        again = False\n",
    "        if not(hand1.busted()) and hand1.hit():\n",
    "            hand1.add(deck.deal())\n",
    "            again = True\n",
    "        if not(hand2.busted()) and hand2.hit():\n",
    "            hand2.add(deck.deal())\n",
    "            again = True\n",
    "    if debug:\n",
    "        print \"Player 1: \" + str(hand1) + \"; Score = \" + str(hand1.score())\n",
    "        print \"Player 2: \" + str(hand2) + \"; Score = \" + str(hand2.score())\n",
    "    if hand1.busted() and hand2.busted():\n",
    "        return \"Dealer\"\n",
    "    elif hand1.busted() and not hand2.busted():\n",
    "        return \"Player 2\"\n",
    "    elif not hand1.busted() and hand2.busted():\n",
    "        return \"Player 1\"\n",
    "    else:\n",
    "        if hand1.score() > hand2.score():\n",
    "            return \"Player 1\"\n",
    "        elif hand2.score() > hand1.score():\n",
    "            return \"Player 2\"\n",
    "        else: \n",
    "            return \"Dealer\""
   ]
  },
  {
   "cell_type": "code",
   "execution_count": null,
   "metadata": {},
   "outputs": [],
   "source": [
    "# TEST CELL: run a single game of blackjack\n",
    "print(gameOfBlackjack(ThresholdHand(17), ThresholdHand(16), debug = True))"
   ]
  },
  {
   "cell_type": "code",
   "execution_count": null,
   "metadata": {
    "collapsed": true
   },
   "outputs": [],
   "source": [
    "def runSimulation(hand1Threshold, hand2Threshold, trials):\n",
    "    random.seed()\n",
    "    winners = {\"Dealer\": 0, \"Player 1\": 0, \"Player 2\": 0}\n",
    "    for i in range(trials):\n",
    "        hand1 = ThresholdHand(hand1Threshold)\n",
    "        hand2 = ThresholdHand(hand2Threshold)\n",
    "        winner = gameOfBlackjack(hand1, hand2)\n",
    "        winners[winner] += 1\n",
    "    return winners"
   ]
  },
  {
   "cell_type": "code",
   "execution_count": null,
   "metadata": {},
   "outputs": [],
   "source": [
    "# TEST CELL: simulate 10000 hands\n",
    "print(runSimulation(17, 10, 10000))"
   ]
  }
 ],
 "metadata": {
  "kernelspec": {
   "display_name": "Python 2",
   "language": "python",
   "name": "python2"
  },
  "language_info": {
   "codemirror_mode": {
    "name": "ipython",
    "version": 2
   },
   "file_extension": ".py",
   "mimetype": "text/x-python",
   "name": "python",
   "nbconvert_exporter": "python",
   "pygments_lexer": "ipython2",
   "version": "2.7.14"
  }
 },
 "nbformat": 4,
 "nbformat_minor": 2
}
