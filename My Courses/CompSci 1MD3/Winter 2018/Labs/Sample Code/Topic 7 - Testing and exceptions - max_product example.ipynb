{
 "cells": [
  {
   "cell_type": "markdown",
   "metadata": {},
   "source": [
    "Write a function `max_product` that takes as input a base 10 number `s` (represented as a string), and outputs the product of the **twelve** adjacent digits that have the greatest product."
   ]
  },
  {
   "cell_type": "code",
   "execution_count": null,
   "metadata": {},
   "outputs": [],
   "source": [
    "def max_product(s):\n",
    "\n",
    "    MAX_PRODUCT = 0\n",
    "\n",
    "    for i in range(len(s)-12):\n",
    "\n",
    "        prod = 1\n",
    "        for j in range(12): prod *= int(s[i+j])\n",
    "        if prod > MAX_PRODUCT:\n",
    "            MAX_PRODUCT = prod\n",
    "    \n",
    "    return MAX_PRODUCT"
   ]
  },
  {
   "cell_type": "code",
   "execution_count": null,
   "metadata": {},
   "outputs": [],
   "source": [
    "max_product('123456789123456789') == 121927680"
   ]
  },
  {
   "cell_type": "code",
   "execution_count": null,
   "metadata": {},
   "outputs": [],
   "source": []
  }
 ],
 "metadata": {
  "kernelspec": {
   "display_name": "Python 3",
   "language": "python",
   "name": "python3"
  },
  "language_info": {
   "codemirror_mode": {
    "name": "ipython",
    "version": 3
   },
   "file_extension": ".py",
   "mimetype": "text/x-python",
   "name": "python",
   "nbconvert_exporter": "python",
   "pygments_lexer": "ipython3",
   "version": "3.6.3"
  }
 },
 "nbformat": 4,
 "nbformat_minor": 2
}
