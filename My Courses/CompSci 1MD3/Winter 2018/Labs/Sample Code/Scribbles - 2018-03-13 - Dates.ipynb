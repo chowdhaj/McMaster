{
 "cells": [
  {
   "cell_type": "code",
   "execution_count": null,
   "metadata": {},
   "outputs": [],
   "source": [
    "from datetime import datetime\n",
    "rightnow = datetime.now()\n",
    "midterm = datetime(2018, 3, 14, 15, 30)\n",
    "timeleft = midterm - rightnow\n",
    "print(timeleft)\n",
    "print(type(timeleft))\n",
    "print(midterm.strftime(\"%Y-%m-%d %H:%M:%S\"))"
   ]
  },
  {
   "cell_type": "code",
   "execution_count": null,
   "metadata": {},
   "outputs": [],
   "source": [
    "christmas = datetime.strptime(\"Dec 25, 2017 12:00:00\", \"%b %d, %Y %H:%M:%S\")\n",
    "print(christmas)\n",
    "print(type(christmas))"
   ]
  },
  {
   "cell_type": "code",
   "execution_count": null,
   "metadata": {},
   "outputs": [],
   "source": [
    "from datetime import datetime, timedelta\n",
    "import pytz\n",
    "tz = pytz.timezone('Canada/Eastern')\n",
    "before = datetime(2018, 3, 11, 6, 59, 59, 0, tzinfo=pytz.utc)\n",
    "onesec = timedelta(seconds=1)\n",
    "after = before + onesec\n",
    "fmt = '%Y-%m-%d %H:%M:%S %Z%z'\n",
    "print(before.astimezone(tz).strftime(fmt))\n",
    "print(after.astimezone(tz).strftime(fmt))\n"
   ]
  }
 ],
 "metadata": {
  "kernelspec": {
   "display_name": "Python 3",
   "language": "python",
   "name": "python3"
  },
  "language_info": {
   "codemirror_mode": {
    "name": "ipython",
    "version": 3
   },
   "file_extension": ".py",
   "mimetype": "text/x-python",
   "name": "python",
   "nbconvert_exporter": "python",
   "pygments_lexer": "ipython3",
   "version": "3.6.4"
  }
 },
 "nbformat": 4,
 "nbformat_minor": 2
}
