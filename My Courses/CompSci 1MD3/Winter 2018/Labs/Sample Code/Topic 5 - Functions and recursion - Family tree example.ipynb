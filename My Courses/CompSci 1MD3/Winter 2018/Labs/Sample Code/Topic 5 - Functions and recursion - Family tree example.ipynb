{
 "cells": [
  {
   "cell_type": "code",
   "execution_count": 1,
   "metadata": {},
   "outputs": [],
   "source": [
    "jamesP = {\"name\": \"James Potter\", \"children\": [], \"spouse\": None}\n",
    "albusP = {\"name\": \"Albus Potter\", \"children\": [], \"spouse\": None}\n",
    "lilyP = {\"name\": \"Lily Potter\", \"children\": [], \"spouse\": None}\n",
    "harryP = {\"name\": \"Harry Potter\"}\n",
    "ginnyW = {\"name\": \"Ginny Weasley\", \"children\": [jamesP, albusP, lilyP], \"spouse\": harryP}\n",
    "harryP[\"spouse\"] = ginnyW\n",
    "harryP[\"children\"] = ginnyW[\"children\"]\n",
    "\n",
    "roseGW = {\"name\": \"Rose Granger-Weasley\", \"children\": [], \"spouse\": None}\n",
    "hugoGW = {\"name\": \"Hugo Granger-Weasley\", \"children\": [], \"spouse\": None}\n",
    "ronW = {\"name\": \"Ron Weasley\"}\n",
    "hermioneG = {\"name\": \"Hermione Granger\", \"children\": [roseGW, hugoGW]}\n",
    "ronW[\"spouse\"] = hermioneG\n",
    "ronW[\"children\"] = hermioneG[\"children\"]\n",
    "\n",
    "arthurW = {\"name\": \"Arthur Weasley\"}\n",
    "mollyW = {\"name\": \"Molly Weasley\", \"children\": [ronW, ginnyW], \"spouse\": arthurW}\n",
    "arthurW[\"spouse\"] = mollyW\n",
    "arthurW[\"children\"] = mollyW[\"children\"]"
   ]
  },
  {
   "cell_type": "code",
   "execution_count": 2,
   "metadata": {},
   "outputs": [],
   "source": [
    "def all_descendants_including(person):\n",
    "    descendants = set()\n",
    "    descendants.add(person[\"name\"])\n",
    "    for child in person[\"children\"]:\n",
    "        descendants |= all_descendants_including(child)\n",
    "    return descendants"
   ]
  },
  {
   "cell_type": "code",
   "execution_count": 3,
   "metadata": {},
   "outputs": [],
   "source": [
    "def print_family_tree(person, indent = \"\"):\n",
    "    if person[\"spouse\"] == None:\n",
    "        print(indent + person[\"name\"])\n",
    "    else:\n",
    "        print(indent + person[\"name\"] + \" + \" + person[\"spouse\"][\"name\"])\n",
    "    for child in person[\"children\"]:\n",
    "        print_family_tree(child, indent + \"-\")"
   ]
  },
  {
   "cell_type": "code",
   "execution_count": 5,
   "metadata": {},
   "outputs": [
    {
     "name": "stdout",
     "output_type": "stream",
     "text": [
      "{'Hugo Granger-Weasley', 'Lily Potter', 'Ginny Weasley', 'Rose Granger-Weasley', 'James Potter', 'Arthur Weasley', 'Ron Weasley', 'Albus Potter'}\n"
     ]
    }
   ],
   "source": [
    "print(all_descendants_including(arthurW))"
   ]
  },
  {
   "cell_type": "code",
   "execution_count": 6,
   "metadata": {},
   "outputs": [
    {
     "name": "stdout",
     "output_type": "stream",
     "text": [
      "Molly Weasley + Arthur Weasley\n",
      "-Ron Weasley + Hermione Granger\n",
      "--Rose Granger-Weasley\n",
      "--Hugo Granger-Weasley\n",
      "-Ginny Weasley + Harry Potter\n",
      "--James Potter\n",
      "--Albus Potter\n",
      "--Lily Potter\n"
     ]
    }
   ],
   "source": [
    "print_family_tree(mollyW)"
   ]
  }
 ],
 "metadata": {
  "kernelspec": {
   "display_name": "Python 3",
   "language": "python",
   "name": "python3"
  },
  "language_info": {
   "codemirror_mode": {
    "name": "ipython",
    "version": 3
   },
   "file_extension": ".py",
   "mimetype": "text/x-python",
   "name": "python",
   "nbconvert_exporter": "python",
   "pygments_lexer": "ipython3",
   "version": "3.6.4"
  }
 },
 "nbformat": 4,
 "nbformat_minor": 2
}
