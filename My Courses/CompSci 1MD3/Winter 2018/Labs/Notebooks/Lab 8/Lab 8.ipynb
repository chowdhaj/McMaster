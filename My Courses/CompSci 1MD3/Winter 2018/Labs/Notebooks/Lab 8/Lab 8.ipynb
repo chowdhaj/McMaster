{
 "cells": [
  {
   "cell_type": "markdown",
   "metadata": {
    "deletable": false,
    "editable": false,
    "nbgrader": {
     "checksum": "f736f484cfdeb85689da205a2f382e7f",
     "grade": false,
     "grade_id": "cell-8270991a73638fc0",
     "locked": true,
     "schema_version": 1,
     "solution": false
    }
   },
   "source": [
    "## COMP SCI 1MD3 Introduction to Programming, Winter 2018\n",
    "### Douglas Stebila (Instructor), Joey Legere, Karl Knopf, Natalie Chin, Victor Chen (TAs)\n",
    "### Lab 8 Assigned Saturday, March 10, Due Friday March 16, 5pm\n",
    "### Maximum grade: 20 / 16\n",
    "\n",
    "The purpose of this lab is to:\n",
    "* Work with external files\n",
    "* Learn about csv and JSON data\n",
    "* Work with network / remote files"
   ]
  },
  {
   "cell_type": "markdown",
   "metadata": {
    "deletable": false,
    "editable": false,
    "nbgrader": {
     "checksum": "99f496fe66785a977add372ab48fe572",
     "grade": false,
     "grade_id": "cell-6483651a2b85b9da",
     "locked": true,
     "schema_version": 1,
     "solution": false
    }
   },
   "source": [
    "#### Practice Question 1: Reading and Writing Plaintext Files\n",
    "\n",
    "One of the most common ways to represent data is as *plain text*. This is different from rich text. as used by programs like Word, or your web browser, which can be stylized in some way, such as **bold** *italicized*, or <font color='red'>coloured</font> . Plain text data is just that--plain text, with no styling.\n",
    "\n",
    "Write a function `copyfile(infile, outfile)` that, given two files names: `infile` and `outfile`, reads the contents of `infile`, prints them on the screen, and then writes them into `outfile`."
   ]
  },
  {
   "cell_type": "code",
   "execution_count": null,
   "metadata": {},
   "outputs": [],
   "source": [
    "# Your code here\n"
   ]
  },
  {
   "cell_type": "markdown",
   "metadata": {
    "deletable": false,
    "editable": false,
    "nbgrader": {
     "checksum": "f215af8fb259796aff1e989f1191ab39",
     "grade": false,
     "grade_id": "cell-696b9d5a694428c3",
     "locked": true,
     "schema_version": 1,
     "solution": false
    }
   },
   "source": [
    "The cell below should print out the contents of the file if you've read it correctly:"
   ]
  },
  {
   "cell_type": "code",
   "execution_count": null,
   "metadata": {},
   "outputs": [],
   "source": [
    "copyfile(\"practice1.txt\", \"practice1_out.txt\")"
   ]
  },
  {
   "cell_type": "markdown",
   "metadata": {
    "deletable": false,
    "editable": false,
    "nbgrader": {
     "checksum": "6267d8b64cb4ba4219e43ca8e8af1bd6",
     "grade": false,
     "grade_id": "cell-78084856847bf312",
     "locked": true,
     "schema_version": 1,
     "solution": false
    }
   },
   "source": [
    "The cell below is a Jupyter magic command that tries to open `practice1_out.txt` and display it. If you wrote your file correctly, this should display the same as above:"
   ]
  },
  {
   "cell_type": "code",
   "execution_count": null,
   "metadata": {},
   "outputs": [],
   "source": [
    "% cat practice1_out.txt"
   ]
  },
  {
   "cell_type": "markdown",
   "metadata": {
    "deletable": false,
    "editable": false,
    "nbgrader": {
     "checksum": "71537334d1ac68d7729e77e2a5d04005",
     "grade": false,
     "grade_id": "cell-917f75387b92a007",
     "locked": true,
     "schema_version": 1,
     "solution": false
    }
   },
   "source": [
    "#### Practice Question 2: Working with CSV files\n",
    "\n",
    "A comma-separated value (csv) file is a very common way to represent a spreadsheet in a plain text file. In a csv file, each value is separated by a comma, and each row is separated by a newline character. For instance, the following table:\n",
    "\n",
    "|name|age|salary|\n",
    "|-|-||-|\n",
    "|Odie|23|19000|\n",
    "|Garfield|25|22000|\n",
    "|John|22|21000|\n",
    "\n",
    "Is not meant to be a commentary on the economy at all. It is simply an example of a table that could be represented in a csv file like so:"
   ]
  },
  {
   "cell_type": "raw",
   "metadata": {},
   "source": [
    "name,age,salary\n",
    "Odie,23,19000\n",
    "Garfield,25,22000\n",
    "John,22,21000"
   ]
  },
  {
   "cell_type": "markdown",
   "metadata": {
    "deletable": false,
    "editable": false,
    "nbgrader": {
     "checksum": "fa55b66a3ce18e2087914fb020512df1",
     "grade": false,
     "grade_id": "cell-836e6fdb8900ee2d",
     "locked": true,
     "schema_version": 1,
     "solution": false
    }
   },
   "source": [
    "Write a program `getrow(infile, n)` that reads a .csv file, `infile`, and prints out the column labels, and the `nth` row of `infile`. For instance, in the above example, calling `getcolumn(infile, 1)` would print out:\n",
    "```\n",
    "['name', 'age', 'salary']\n",
    "['Odie', '23', '19000']\n",
    "```\n",
    "\n",
    "You may wish to use Python's built in <a href=https://docs.python.org/3/library/csv.html>csv library</a> for this task."
   ]
  },
  {
   "cell_type": "code",
   "execution_count": null,
   "metadata": {},
   "outputs": [],
   "source": [
    "# Your code here.\n"
   ]
  },
  {
   "cell_type": "code",
   "execution_count": null,
   "metadata": {},
   "outputs": [],
   "source": [
    "getrow('practice2.csv', 1)"
   ]
  },
  {
   "cell_type": "markdown",
   "metadata": {
    "deletable": false,
    "editable": false,
    "nbgrader": {
     "checksum": "b6496b7628208e1a36dce5999f6d7e34",
     "grade": false,
     "grade_id": "cell-914c3e8c1fabffa3",
     "locked": true,
     "schema_version": 1,
     "solution": false
    }
   },
   "source": [
    "This should produce the output\n",
    "```\n",
    "['name', 'age', 'salary']\n",
    "['Odie', '23', '19000']\n",
    "```"
   ]
  },
  {
   "cell_type": "markdown",
   "metadata": {
    "deletable": false,
    "editable": false,
    "nbgrader": {
     "checksum": "d02f3368434d9ad77b6e039f3352eab1",
     "grade": false,
     "grade_id": "cell-72e4c0930ebfa079",
     "locked": true,
     "schema_version": 1,
     "solution": false
    }
   },
   "source": [
    "#### Practice Question 3: Network Files and JSON\n",
    "\n",
    "JavaScript Object Notation (JSON) data is another common way of representing more structed data. In most cases, you can treat JSON data as a list of Python dictionaries. \n",
    "\n",
    "Often a JSON object will have many fields for each entry. Consider the example below, which organizes a few books on JavaScript:"
   ]
  },
  {
   "cell_type": "code",
   "execution_count": null,
   "metadata": {},
   "outputs": [],
   "source": [
    "BOOKS = \\\n",
    "[\n",
    "    {\n",
    "        \"title\": \"Professional JavaScript\",\n",
    "        \"authors\": [\n",
    "            \"Nicholas C. Zakas\"\n",
    "        ],\n",
    "        \"edition\": 3,\n",
    "        \"year\": 2011\n",
    "    },\n",
    "    {\n",
    "        \"title\": \"Professional JavaScript\",\n",
    "        \"authors\": [\n",
    "            \"Nicholas C. Zakas\"\n",
    "        ],\n",
    "        \"edition\": 2,\n",
    "        \"year\": 2009\n",
    "    },\n",
    "    {\n",
    "        \"title\": \"Professional Ajax\",\n",
    "        \"authors\": [\n",
    "            \"Nicholas C. Zakas\",\n",
    "            \"Jeremy McPeak\",\n",
    "            \"Joe Fawcett\"\n",
    "        ],\n",
    "        \"edition\": 2,\n",
    "        \"year\": 2008\n",
    "    }\n",
    "]"
   ]
  },
  {
   "cell_type": "markdown",
   "metadata": {
    "deletable": false,
    "editable": false,
    "nbgrader": {
     "checksum": "ff173e107e7858cf83f29f9631c428f8",
     "grade": false,
     "grade_id": "cell-99e2fd5e923cb464",
     "locked": true,
     "schema_version": 1,
     "solution": false
    }
   },
   "source": [
    "Getting the first author of a book in the list isn't too challenging:"
   ]
  },
  {
   "cell_type": "code",
   "execution_count": null,
   "metadata": {},
   "outputs": [],
   "source": [
    "for i in range(len(BOOKS)):\n",
    "    \n",
    "    print(BOOKS[i][\"authors\"][0])"
   ]
  },
  {
   "cell_type": "markdown",
   "metadata": {
    "deletable": false,
    "editable": false,
    "nbgrader": {
     "checksum": "196477a2deb7aa6a00c0ea7397dad794",
     "grade": false,
     "grade_id": "cell-b0a718340fef39ff",
     "locked": true,
     "schema_version": 1,
     "solution": false
    }
   },
   "source": [
    "Write a function `remotejson(url, fields)` that reads in a JSON object from a remote url, and prints out every object from the given fields. Assume we are only interested in the top level fields--that is, you only need to index `OBJ[i][field]`, and no subfields that it might contain. However, if more than one field is given, return their data side by side.\n",
    "\n",
    "You may wish to separate your output with an extra newline between outputs in order to make it easier to read.\n",
    "\n",
    "Note: Use the built in `urllib` library to read the files from the remote server, and `json` in order to parse it."
   ]
  },
  {
   "cell_type": "code",
   "execution_count": null,
   "metadata": {},
   "outputs": [],
   "source": [
    "# Your code here.\n"
   ]
  },
  {
   "cell_type": "markdown",
   "metadata": {
    "deletable": false,
    "editable": false,
    "nbgrader": {
     "checksum": "0bc0f67ca08386ea269a0319a3884070",
     "grade": false,
     "grade_id": "cell-13676bb7da80b741",
     "locked": true,
     "schema_version": 1,
     "solution": false
    }
   },
   "source": [
    "The cell below, when run correctly, should print a list of some of Dr. Stebila's favourite songs, and where to listen to them."
   ]
  },
  {
   "cell_type": "code",
   "execution_count": null,
   "metadata": {},
   "outputs": [],
   "source": [
    "remotejson(\"http://brain.mcmaster.ca/joey/dr_stebilas_songs.json\", ['Title', \"Artist\", \"URL\"])"
   ]
  },
  {
   "cell_type": "markdown",
   "metadata": {
    "deletable": false,
    "editable": false,
    "nbgrader": {
     "checksum": "5caa9db2a151d9d22b11aeea63703574",
     "grade": false,
     "grade_id": "cell-933b29f5ca264b95",
     "locked": true,
     "schema_version": 1,
     "solution": false
    }
   },
   "source": [
    "*[Comment from Dr. Stebila: Joey only guessed 2 of my favourite songs.]*"
   ]
  },
  {
   "cell_type": "markdown",
   "metadata": {
    "deletable": false,
    "editable": false,
    "nbgrader": {
     "checksum": "33042aace891151ee108606b0284e274",
     "grade": false,
     "grade_id": "cell-04854ada49b205e2",
     "locked": true,
     "schema_version": 1,
     "solution": false
    }
   },
   "source": [
    "#### Question 1a: I know words [3 points]\n",
    "\n",
    "During his presidential campaing in 2016, Donald Trump said “I know words. I have the best words.”\n",
    "\n",
    "Let's explore this idea in an objective, scientific manner.\n",
    "\n",
    "Write a function `tweets_per_day(jsonurl)` that, given the website address (URL) of a JSON file, counts the number of tweets that are sent on every day of the week. Return your result as a dictionary, mapping the day of the week to the total number of tweets sent on that day.\n",
    "\n",
    "For this question, you may want to open the file `http://brain.mcmaster.ca/joey/trump_tweets.json` and manually inspect the fields to help parse the data.\n",
    "    "
   ]
  },
  {
   "cell_type": "code",
   "execution_count": null,
   "metadata": {
    "deletable": false,
    "nbgrader": {
     "checksum": "68b3ddd480e41b2e8e92115f0ae5aa5d",
     "grade": false,
     "grade_id": "cell-a952ea8b4c173603",
     "locked": false,
     "schema_version": 1,
     "solution": true
    }
   },
   "outputs": [],
   "source": [
    "import json\n",
    "import urllib.request\n",
    "# Write your answer here.\n"
   ]
  },
  {
   "cell_type": "code",
   "execution_count": null,
   "metadata": {},
   "outputs": [],
   "source": [
    "tweets_per_day('http://brain.mcmaster.ca/joey/trump_tweets.json') == {\n",
    " 'Friday': 33,\n",
    " 'Monday': 19,\n",
    " 'Saturday': 35,\n",
    " 'Sunday': 26,\n",
    " 'Thursday': 30,\n",
    " 'Tuesday': 28,\n",
    " 'Wednesday': 29\n",
    "}"
   ]
  },
  {
   "cell_type": "code",
   "execution_count": null,
   "metadata": {
    "deletable": false,
    "editable": false,
    "nbgrader": {
     "checksum": "336c424770b0d8cf2d1a3153990b573d",
     "grade": true,
     "grade_id": "cell-9e852f206f21e307",
     "locked": true,
     "points": 1,
     "schema_version": 1,
     "solution": false
    }
   },
   "outputs": [],
   "source": [
    "# Hidden test for Q1a"
   ]
  },
  {
   "cell_type": "code",
   "execution_count": null,
   "metadata": {
    "deletable": false,
    "editable": false,
    "nbgrader": {
     "checksum": "2487520cd50b6e9a14913c0d678372e0",
     "grade": true,
     "grade_id": "cell-af2bb0f99332df06",
     "locked": true,
     "points": 1,
     "schema_version": 1,
     "solution": false
    }
   },
   "outputs": [],
   "source": [
    "# Hidden test for Q1a"
   ]
  },
  {
   "cell_type": "code",
   "execution_count": null,
   "metadata": {
    "deletable": false,
    "editable": false,
    "nbgrader": {
     "checksum": "db355aca209806a6e466ed64bf1ad20c",
     "grade": true,
     "grade_id": "cell-f9ae7ae1dfb9b294",
     "locked": true,
     "points": 1,
     "schema_version": 1,
     "solution": false
    }
   },
   "outputs": [],
   "source": [
    "# Hidden test for Q1a"
   ]
  },
  {
   "cell_type": "markdown",
   "metadata": {
    "deletable": false,
    "editable": false,
    "nbgrader": {
     "checksum": "ad0da546484290544be724c13a16afb1",
     "grade": false,
     "grade_id": "cell-c31a5ff5cea7291c",
     "locked": true,
     "schema_version": 1,
     "solution": false
    }
   },
   "source": [
    "#### Question 1b: The Best Words [4 points]\n",
    "\n",
    "Write a function `count_occurences(jsonurl, word)` that counts the number of times that `word` occurs across all of the given tweets. This should be case insensitive, but for simplicity, you only need to match whole words. \n",
    "\n",
    "Make sure you match whole words only, and not substrings. For example, if `word = \"dont\"`, then \"dont\", \"DONT\", and \"dOnT\" would all count, but \"perioDONTal\" should not. Remove all punctuation in the text of the tweet (if there is any). \"don't\" should be correctly counted for `word=\"dont\"`."
   ]
  },
  {
   "cell_type": "code",
   "execution_count": null,
   "metadata": {},
   "outputs": [],
   "source": [
    "from string import punctuation\n",
    "print(\"Remove all of these symbols from the tweets: \", punctuation)"
   ]
  },
  {
   "cell_type": "code",
   "execution_count": null,
   "metadata": {
    "deletable": false,
    "nbgrader": {
     "checksum": "56e333ec608f7ef2a4578366e7051d8a",
     "grade": false,
     "grade_id": "cell-e9b4c034335292a9",
     "locked": false,
     "schema_version": 1,
     "solution": true
    }
   },
   "outputs": [],
   "source": [
    "import json\n",
    "import urllib.request\n",
    "from string import punctuation\n",
    "# Write your answer here\n"
   ]
  },
  {
   "cell_type": "code",
   "execution_count": null,
   "metadata": {},
   "outputs": [],
   "source": [
    "count_occurences('http://brain.mcmaster.ca/joey/trump_tweets.json', 'crooked') == 5"
   ]
  },
  {
   "cell_type": "code",
   "execution_count": null,
   "metadata": {},
   "outputs": [],
   "source": [
    "count_occurences('http://brain.mcmaster.ca/joey/trump_tweets.json', 'fake') == 9"
   ]
  },
  {
   "cell_type": "code",
   "execution_count": null,
   "metadata": {},
   "outputs": [],
   "source": [
    "count_occurences('http://brain.mcmaster.ca/joey/trump_tweets.json', 'obama') == 18"
   ]
  },
  {
   "cell_type": "code",
   "execution_count": null,
   "metadata": {},
   "outputs": [],
   "source": [
    "count_occurences('http://brain.mcmaster.ca/joey/trump_tweets.json', 'wall') == 8"
   ]
  },
  {
   "cell_type": "code",
   "execution_count": null,
   "metadata": {
    "deletable": false,
    "editable": false,
    "nbgrader": {
     "checksum": "6fc841430d7eddf99240cd99c093f1c0",
     "grade": true,
     "grade_id": "cell-6aa804bc80448063",
     "locked": true,
     "points": 1,
     "schema_version": 1,
     "solution": false
    }
   },
   "outputs": [],
   "source": [
    "# Hidden test for Q1b"
   ]
  },
  {
   "cell_type": "code",
   "execution_count": null,
   "metadata": {
    "deletable": false,
    "editable": false,
    "nbgrader": {
     "checksum": "396d11da14854cafaa9289fd640d9641",
     "grade": true,
     "grade_id": "cell-a35dfcaf05cdda6f",
     "locked": true,
     "points": 1,
     "schema_version": 1,
     "solution": false
    }
   },
   "outputs": [],
   "source": [
    "# Hidden test for Q1b"
   ]
  },
  {
   "cell_type": "code",
   "execution_count": null,
   "metadata": {
    "deletable": false,
    "editable": false,
    "nbgrader": {
     "checksum": "f4a618b208d9d2a985696d547d9de007",
     "grade": true,
     "grade_id": "cell-36d596ab96c5d78d",
     "locked": true,
     "points": 1,
     "schema_version": 1,
     "solution": false
    }
   },
   "outputs": [],
   "source": [
    "# Hidden test for Q1b"
   ]
  },
  {
   "cell_type": "code",
   "execution_count": null,
   "metadata": {
    "deletable": false,
    "editable": false,
    "nbgrader": {
     "checksum": "2c63e642470395e3e3fa7900c9f7d7ef",
     "grade": true,
     "grade_id": "cell-62467bb65233149b",
     "locked": true,
     "points": 1,
     "schema_version": 1,
     "solution": false
    }
   },
   "outputs": [],
   "source": [
    "# Hidden test for Q1b"
   ]
  },
  {
   "cell_type": "markdown",
   "metadata": {
    "deletable": false,
    "editable": false,
    "nbgrader": {
     "checksum": "8eb9b5f50fb24515c402d05bcc7b6dd1",
     "grade": false,
     "grade_id": "cell-0e91216c7cf76ece",
     "locked": true,
     "schema_version": 1,
     "solution": false
    }
   },
   "source": [
    "#### Question 1c: The Most Words. The Best Words. [3 points]\n",
    "\n",
    "Write a function `words_per_day(jsonurl, word)` that counts the total number of times that `word` is tweeted versus the day of the week."
   ]
  },
  {
   "cell_type": "code",
   "execution_count": null,
   "metadata": {
    "deletable": false,
    "nbgrader": {
     "checksum": "3e8f422648820b48bd7f3d782e4976fa",
     "grade": false,
     "grade_id": "cell-495893b89823d6bc",
     "locked": false,
     "schema_version": 1,
     "solution": true
    }
   },
   "outputs": [],
   "source": [
    "import json\n",
    "import urllib.request\n",
    "from string import punctuation\n",
    "\n",
    "# Write your answer here."
   ]
  },
  {
   "cell_type": "code",
   "execution_count": null,
   "metadata": {},
   "outputs": [],
   "source": [
    "words_per_day('http://brain.mcmaster.ca/joey/trump_tweets.json', 'america') == {\n",
    " 'Friday': 1,\n",
    " 'Monday': 3,\n",
    " 'Saturday': 0,\n",
    " 'Sunday': 2,\n",
    " 'Thursday': 2,\n",
    " 'Tuesday': 1,\n",
    " 'Wednesday': 2\n",
    "}"
   ]
  },
  {
   "cell_type": "code",
   "execution_count": null,
   "metadata": {},
   "outputs": [],
   "source": [
    "words_per_day('http://brain.mcmaster.ca/joey/trump_tweets.json', 'china') == {\n",
    " 'Friday': 0,\n",
    " 'Monday': 0,\n",
    " 'Saturday': 0,\n",
    " 'Sunday': 1,\n",
    " 'Thursday': 1,\n",
    " 'Tuesday': 0,\n",
    " 'Wednesday': 0\n",
    "}"
   ]
  },
  {
   "cell_type": "code",
   "execution_count": null,
   "metadata": {},
   "outputs": [],
   "source": [
    "words_per_day('http://brain.mcmaster.ca/joey/trump_tweets.json', 'great') == {\n",
    " 'Friday': 8,\n",
    " 'Monday': 4,\n",
    " 'Saturday': 1,\n",
    " 'Sunday': 8,\n",
    " 'Thursday': 8,\n",
    " 'Tuesday': 8,\n",
    " 'Wednesday': 9\n",
    "}"
   ]
  },
  {
   "cell_type": "code",
   "execution_count": null,
   "metadata": {},
   "outputs": [],
   "source": [
    "words_per_day('http://brain.mcmaster.ca/joey/trump_tweets.json', 'hillary') == {\n",
    " 'Friday': 2,\n",
    " 'Monday': 0,\n",
    " 'Saturday': 0,\n",
    " 'Sunday': 1,\n",
    " 'Thursday': 0,\n",
    " 'Tuesday': 1,\n",
    " 'Wednesday': 0\n",
    "}"
   ]
  },
  {
   "cell_type": "code",
   "execution_count": null,
   "metadata": {
    "deletable": false,
    "editable": false,
    "nbgrader": {
     "checksum": "e4e4f464edb22c78d9939139a26ff7b3",
     "grade": true,
     "grade_id": "cell-655a40239a386869",
     "locked": true,
     "points": 1,
     "schema_version": 1,
     "solution": false
    }
   },
   "outputs": [],
   "source": [
    "# Hidden test for Q1c"
   ]
  },
  {
   "cell_type": "code",
   "execution_count": null,
   "metadata": {
    "deletable": false,
    "editable": false,
    "nbgrader": {
     "checksum": "6bfeddcad23213dd153973a3f1deb6c1",
     "grade": true,
     "grade_id": "cell-fd9e9257ac15624e",
     "locked": true,
     "points": 1,
     "schema_version": 1,
     "solution": false
    }
   },
   "outputs": [],
   "source": [
    "# Hidden test for Q1c"
   ]
  },
  {
   "cell_type": "code",
   "execution_count": null,
   "metadata": {
    "deletable": false,
    "editable": false,
    "nbgrader": {
     "checksum": "a377293e9609e3b634617dd9b38430df",
     "grade": true,
     "grade_id": "cell-a2fbd06ee45ab5ca",
     "locked": true,
     "points": 1,
     "schema_version": 1,
     "solution": false
    }
   },
   "outputs": [],
   "source": [
    "# Hidden test for Q1c"
   ]
  },
  {
   "cell_type": "markdown",
   "metadata": {
    "deletable": false,
    "editable": false,
    "nbgrader": {
     "checksum": "016412ef868b13818bef98df87f04af2",
     "grade": false,
     "grade_id": "cell-a0153acc02a1ad97",
     "locked": true,
     "schema_version": 1,
     "solution": false
    }
   },
   "source": [
    "#### Question 2: Stocks (Again) [6 points]\n",
    "\n",
    "Recall the `stocks` question from lab 4:\n",
    "\n",
    "> Let's assume I'm playing the stock market - buy low, sell high. I'm a day trader, so I want to get in and out of a stock before the day is done, and I want to time my trades so that I make the biggest gain possible. And obviously I can't buy in the future and sell in the past.\n",
    ">\n",
    "> Write a function stocks(s) that emits the two trades in chronological order - what you think I should buy at and sell at - in order to maximize my profit.\n",
    "\n",
    "Repeat this question, but load your data from a .csv file on a remote server. The .csv file will be formatted like so:\n",
    "```\n",
    "Date,Open,High,Low,Close,Adj Close,Volume\n",
    "2013-12-24,16295.700195,16360.599609,16295.700195,16357.549805,16357.549805,33640000\n",
    "2013-12-26,16370.969727,16483.000000,16370.969727,16479.880859,16479.880859,50160000\n",
    "2013-12-27,16486.369141,16529.009766,16461.230469,16478.410156,16478.410156,47230000\n",
    "2013-12-30,16484.509766,16504.349609,16476.869141,16504.289063,16504.289063,54220000\n",
    "```\n",
    "\n",
    "Assume that you buy at the value in the \"Low\" column, and sell at the value in \"High\". You may not buy and sell on the same day. Your functions, `stocks(s)` should take in a string of the filename of a CSV file containing the data. You may assume the file is in chronological order."
   ]
  },
  {
   "cell_type": "code",
   "execution_count": null,
   "metadata": {
    "deletable": false,
    "nbgrader": {
     "checksum": "cfc8c979ec519ecf1b1cae165ddf715a",
     "grade": false,
     "grade_id": "cell-272ccd76b9909416",
     "locked": false,
     "schema_version": 1,
     "solution": true
    }
   },
   "outputs": [],
   "source": [
    "# Write your answer here.\n"
   ]
  },
  {
   "cell_type": "markdown",
   "metadata": {
    "deletable": false,
    "editable": false,
    "nbgrader": {
     "checksum": "1c2dbe222f8badd35291ec41f35fe02d",
     "grade": false,
     "grade_id": "cell-6b9674d759fa93f9",
     "locked": true,
     "schema_version": 1,
     "solution": false
    }
   },
   "source": [
    "This cell should print the values of the trades. They should be [15340.69043, 26616.710938]"
   ]
  },
  {
   "cell_type": "code",
   "execution_count": null,
   "metadata": {},
   "outputs": [],
   "source": [
    "trades = stocks(\"DJI.csv\")\n",
    "print(trades)"
   ]
  },
  {
   "cell_type": "markdown",
   "metadata": {
    "deletable": false,
    "editable": false,
    "nbgrader": {
     "checksum": "8042dcd3c2caaed9a597fcbc73f1bcd0",
     "grade": false,
     "grade_id": "cell-824db2eebd61ab3b",
     "locked": true,
     "schema_version": 1,
     "solution": false
    }
   },
   "source": [
    "The cell below is how the autograder will be evaluating your answer. It only needs to be correct to two decimal places. Make sure you return a list of floating point numbers."
   ]
  },
  {
   "cell_type": "code",
   "execution_count": null,
   "metadata": {},
   "outputs": [],
   "source": [
    "assert round(trades[0], 2) == 15340.69\n",
    "assert round(trades[1], 2) == 26616.71"
   ]
  },
  {
   "cell_type": "code",
   "execution_count": null,
   "metadata": {
    "deletable": false,
    "editable": false,
    "nbgrader": {
     "checksum": "28bdce463ef2bff11fa23a2c129053d4",
     "grade": true,
     "grade_id": "cell-ad372f0ca2ab122d",
     "locked": true,
     "points": 3,
     "schema_version": 1,
     "solution": false
    }
   },
   "outputs": [],
   "source": [
    "# Hidden test for Q2"
   ]
  },
  {
   "cell_type": "code",
   "execution_count": null,
   "metadata": {
    "deletable": false,
    "editable": false,
    "nbgrader": {
     "checksum": "c5f788e1222176abdfe7e961503f9365",
     "grade": true,
     "grade_id": "cell-b58cb12369ce57ba",
     "locked": true,
     "points": 3,
     "schema_version": 1,
     "solution": false
    }
   },
   "outputs": [],
   "source": [
    "# Hidden test for Q2"
   ]
  },
  {
   "cell_type": "markdown",
   "metadata": {
    "deletable": false,
    "editable": false,
    "nbgrader": {
     "checksum": "1ccd98066a819ee4b2058ecb2d5454e1",
     "grade": false,
     "grade_id": "cell-b5d856221e492efc",
     "locked": true,
     "schema_version": 1,
     "solution": false
    }
   },
   "source": [
    "#### Bonus: Working with Pillow (4 points)\n",
    "\n",
    "The Python Imaging Library (PIL or pillow) is a library for loading and manipulating images in Python. The below example creates an image that is black in the top left, becomes more red as you move to the right, and more green as you move towards the bottom."
   ]
  },
  {
   "cell_type": "code",
   "execution_count": null,
   "metadata": {},
   "outputs": [],
   "source": [
    "from PIL import Image\n",
    "\n",
    "# PIL accesses images in Cartesian co-ordinates, so it is Image[columns, rows]\n",
    "img = Image.new( 'RGB', (250,250), \"black\") # create a new black image\n",
    "pixels = img.load() # create the pixel map\n",
    "\n",
    "for i in range(img.size[0]):    # for every col:\n",
    "    for j in range(img.size[1]):    # For every row\n",
    "        pixels[i,j] = (i, j, 0) # set the colour accordingly\n",
    "\n",
    "img.show()"
   ]
  },
  {
   "cell_type": "markdown",
   "metadata": {
    "deletable": false,
    "editable": false,
    "nbgrader": {
     "checksum": "1b3ade648975c6f6bf083bccd9a3238a",
     "grade": false,
     "grade_id": "cell-3d5eeb1cea9c358c",
     "locked": true,
     "schema_version": 1,
     "solution": false
    }
   },
   "source": [
    "`img.show()` will try to show you the image, but it does not work on JupyterHub.  You will have to run this code on your local installation of Jupyter to work on your solution to this problem.  \n",
    "\n",
    "But even on your local installation of Jupyter you may still also have to install PIL.  You can install PIL on your computer by running one of the following commands in your command-line terminal:\n",
    "\n",
    "- `pip3 install pillow`\n",
    "- `python3 -m pip install pillow`\n",
    "- `sudo pip3 install pillow`\n",
    "\n",
    "Each pixel is represented using an RGB value--that is, how much red, green, and blue there is in each pixel. The line:\n",
    "\n",
    "`pixels[i,j] = (i, j, 0) # set the colour accordingly`\n",
    "\n",
    "Accomplishes this by setting the pixel at coordinates (i, j) to have a red value of i (its x coordinate), a green value of j (its y coordinate), and a blue value of 0. Indexing works such that (0, 0) is at the top left corner.\n",
    "\n",
    "This question will be manually graded. You may choose one of the following ideas, or implement your own idea using pillow (if it is sufficiently technically challenging enough, and most importantly, not copied from stackoverflow...)\n",
    "\n",
    "* Write a function that takes in the path to an image, and darkens or lightens it by a set amount.\n",
    "* Write a function that generates an image of your choosing (not the one from the example..)\n",
    "* Write a function that generates your absolute best sketch of Donald Trump, programmatically.\n",
    "\n",
    "If you use any outside sources for this question, add links to them in your comments."
   ]
  },
  {
   "cell_type": "code",
   "execution_count": null,
   "metadata": {
    "deletable": false,
    "nbgrader": {
     "checksum": "88611d4866e4945e167e8b6ebbb79159",
     "grade": true,
     "grade_id": "cell-8bae9d13fa3ace28",
     "locked": false,
     "points": 4,
     "schema_version": 1,
     "solution": true
    }
   },
   "outputs": [],
   "source": [
    "#Write your answer here."
   ]
  }
 ],
 "metadata": {
  "kernelspec": {
   "display_name": "Python 3",
   "language": "python",
   "name": "python3"
  },
  "language_info": {
   "codemirror_mode": {
    "name": "ipython",
    "version": 3
   },
   "file_extension": ".py",
   "mimetype": "text/x-python",
   "name": "python",
   "nbconvert_exporter": "python",
   "pygments_lexer": "ipython3",
   "version": "3.6.3"
  }
 },
 "nbformat": 4,
 "nbformat_minor": 2
}
