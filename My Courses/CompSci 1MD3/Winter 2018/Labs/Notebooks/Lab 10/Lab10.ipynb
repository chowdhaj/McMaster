{
 "cells": [
  {
   "cell_type": "markdown",
   "metadata": {
    "deletable": false,
    "editable": false,
    "nbgrader": {
     "checksum": "44d6010a66be507dde18b4f46ac444bb",
     "grade": false,
     "grade_id": "cell-8270991a73638fc0",
     "locked": true,
     "schema_version": 1,
     "solution": false
    }
   },
   "source": [
    "## COMP SCI 1MD3 Introduction to Programming, Winter 2018\n",
    "### Douglas Stebila (Instructor), Joey Legere, Karl Knopf, Natalie Chin, Victor Chen (TAs)\n",
    "### Lab 10 Assigned Friday, March 30, Due Friday April 6, 5pm\n",
    "### Maximum grade: 20 / 16\n",
    "\n",
    "The purpose of this lab is to:\n",
    "* Use scikit-learn to implement linear regression\n",
    "* Implement basic sentiment analysis\n",
    "* Use machine learning on some real-world data"
   ]
  },
  {
   "cell_type": "markdown",
   "metadata": {
    "deletable": false,
    "editable": false,
    "nbgrader": {
     "checksum": "f4fc0a8f4c7e26d4f6e17fcfc2609bf4",
     "grade": false,
     "grade_id": "cell-3d3a75b77c5d2c12",
     "locked": true,
     "schema_version": 1,
     "solution": false
    }
   },
   "source": [
    "#### Question 1a: Nicolas Cage: National Treasure or Threat To National Security? [6 points]\n",
    "\n",
    "It is a well-established fact that, at least from the years 1999-2009, there was a strong positive correlation between the number of films Nicolas Cage appeared in and the number of people who died by falling into a swimming pool. That is, the more movies he was in, the more peopled died by falling into pools (specifically after falling in; the correlation does not hold for people who entered the pool of their own volition).\n",
    "\n",
    "...No, really. This is real data:\n",
    "* Number of movies Nicolas Cage appears in: https://m.imdb.com/name/nm0000115/filmotype\n",
    "* U.S. Mortality data: https://wonder.cdc.gov/ucd-icd10.html\n",
    "\n",
    "Using the file `cage.csv`, explore the relationship between Nicolas Cage's acting and these (rather tragic) deaths. You may wish to consult http://scikit-learn.org/stable/modules/linear_model.html \n",
    "\n",
    "(i) (2 points) Create two plots: One that shows the number of movies Nicolas Cage stars in per year, and one that shows the number of people who drown after falling in a pool per year."
   ]
  },
  {
   "cell_type": "code",
   "execution_count": null,
   "metadata": {
    "deletable": false,
    "nbgrader": {
     "checksum": "abf0e134979bd502614d50f8dd06eac7",
     "grade": true,
     "grade_id": "cell-50de3e705f50d954",
     "locked": false,
     "points": 2,
     "schema_version": 1,
     "solution": true
    }
   },
   "outputs": [],
   "source": [
    "# YOUR CODE HERE"
   ]
  },
  {
   "cell_type": "markdown",
   "metadata": {
    "deletable": false,
    "editable": false,
    "nbgrader": {
     "checksum": "1273617baaa24db66727ff0c26026fa4",
     "grade": false,
     "grade_id": "cell-46c55091d2b94aa7",
     "locked": true,
     "schema_version": 1,
     "solution": false
    }
   },
   "source": [
    "(ii) (1 point) Use scikit-learn to create two linear models that relate the number of movies he stars in to the number of people who drowned after falling into in a swimming pool. Your first model should use linear regression (also called ordinary least squares), the other should use the \"lasso\" model.  (You can access the lasso model using using the `sklearn.linear_model.Lasso()` function; the inputs and outputs are the same as the `sklearn.linear_model.LinearRegression()` function we used in class.)\n",
    "\n",
    "You might need to use the `fix1Darray` function I showed in class for converting a one-dimensional list into the format needed to use in scikit-learn."
   ]
  },
  {
   "cell_type": "code",
   "execution_count": null,
   "metadata": {},
   "outputs": [],
   "source": [
    "def fix1Darray(L):\n",
    "    return [[x] for x in L]"
   ]
  },
  {
   "cell_type": "code",
   "execution_count": null,
   "metadata": {
    "deletable": false,
    "nbgrader": {
     "checksum": "020e2cd0988e8d166e8d6144de1f33a3",
     "grade": true,
     "grade_id": "cell-d274bd540fa3d939",
     "locked": false,
     "points": 1,
     "schema_version": 1,
     "solution": true
    }
   },
   "outputs": [],
   "source": [
    "# YOUR CODE HERE"
   ]
  },
  {
   "cell_type": "markdown",
   "metadata": {
    "deletable": false,
    "editable": false,
    "nbgrader": {
     "checksum": "e4c089f7dbfb01ec36b3160fe776ef7a",
     "grade": false,
     "grade_id": "cell-8e2a983f15a7312d",
     "locked": true,
     "schema_version": 1,
     "solution": false
    }
   },
   "source": [
    "(iii) (1 point) Now let's use our linear regression models to predict the number of people who might drown based on the number of films Nicolas Cage appears in.  Then, create a scatter plot.  The x axis will be the number of movies Nicolas Cage appears in; the y axis will be the number of people who drown after falling into in a swimming pool.  Put three things on the plot: a scatter plot showing the **real** relationship between the number of movies Nicolas Cage appears in and the number of people who drowned after falling into in a swimming pool on the y axis; and two lines of best fit for the predictions that each linear regression model predicted.\n"
   ]
  },
  {
   "cell_type": "code",
   "execution_count": null,
   "metadata": {
    "deletable": false,
    "nbgrader": {
     "checksum": "cf9e970f4e7c4ab9d7758c79f733ae70",
     "grade": true,
     "grade_id": "cell-4d5668fff441e3a3",
     "locked": false,
     "points": 1,
     "schema_version": 1,
     "solution": true
    }
   },
   "outputs": [],
   "source": [
    "# YOUR CODE HERE"
   ]
  },
  {
   "cell_type": "markdown",
   "metadata": {
    "deletable": false,
    "editable": false,
    "nbgrader": {
     "checksum": "124c133f8fe8198dc662d6eb8ea52fd4",
     "grade": false,
     "grade_id": "cell-b5826a8cfd940346",
     "locked": true,
     "schema_version": 1,
     "solution": false
    }
   },
   "source": [
    "(iv) (2 points) Print out the R2 score for each model using the method shown in class to 2 decimal places. Which model performs better?  Does this answer the question whether Nicolas Cage is a national treasure or threat to life?"
   ]
  },
  {
   "cell_type": "code",
   "execution_count": null,
   "metadata": {
    "deletable": false,
    "nbgrader": {
     "checksum": "6b01e67d33d6ae42b354b70e8e16bc41",
     "grade": true,
     "grade_id": "cell-25b0d943244761db",
     "locked": false,
     "points": 2,
     "schema_version": 1,
     "solution": true
    }
   },
   "outputs": [],
   "source": [
    "# YOUR CODE HERE\n",
    "\n",
    "# Fill in the blanks:\n",
    "print(\"I think the model that performs better is... because ...\")\n",
    "print(\"I conclude that... because...\")"
   ]
  },
  {
   "cell_type": "markdown",
   "metadata": {
    "deletable": false,
    "editable": false,
    "nbgrader": {
     "checksum": "d1a93e005bf4cbda1cfd436607d35703",
     "grade": false,
     "grade_id": "cell-74396927aa5f9280",
     "locked": true,
     "schema_version": 1,
     "solution": false
    }
   },
   "source": [
    "#### Question 1b: Nicolas Cage: Good or Bad? [2 points]\n",
    "\n",
    "Although it is clear from 1a that Nicolas Cage might possibly be indirectly responsible for people falling into pools and consequently dying, there is also a strong negative correlation between the number of films he stars in and the number of deaths from helicopter accidents. That is, the more movies Nicolas Cage starred in within a given year, the fewer people died in tragic helicopter accidents. So, we have to consider that he *might* save more lives than he ends.\n",
    "\n",
    "The file `cage.csv` contains another column that represents the number of helicopter accidents that ended up killing the occupant. Use this data to answer the question that drove Abed to madness in Community: is Nicolas Cage good or bad?\n",
    "\n",
    "\n",
    "<ol>\n",
    "<li> Create two linear models (using `Linear Regression`) to predict the number of deaths both by helicopter accident and drowning (after falling into a pool) as a function of the number of films Nicolas Cage is in.\n",
    "<li> Use these models to predict how many people will die by both helicopter accident and drowning (after falling into a pool) if Nicolas Cage stars in 6 movies in a year? (round to the nearest whole number).\n",
    "<li> How many movies does Nicolas Cage have to star in if he wants to start saving lives? Specifically, how many movies does he need to star in for `(number of deaths by drowning) + (number of deaths by helicopter)` to be a negative number?\n",
    "<ol>\n",
    "\n",
    "Format your code in a function called `cage`. Your function should take no arguments, and return a list with three elements: `[a, b, c]`<br>\n",
    "`a`: Number of people who would die by helicopter accident if Nicolas Cage stars in 6 movies, rounded to the nearest whole number.\n",
    "\n",
    "`b`: Number of people who would die by drowning in a pool (after falling in, of course) if Nicolas Cage stars in 6 movies, rounded to the nearest whole number.\n",
    "\n",
    "`c`: Minimum number of movies Nicolas Cage needs to star in for `number_of_people_dying_in_pools + number_of_people_dying_in_helicopters` to become a negative number.\n"
   ]
  },
  {
   "cell_type": "code",
   "execution_count": null,
   "metadata": {
    "deletable": false,
    "nbgrader": {
     "checksum": "fd64be5fbd9e1971ae7ad88f2a4b3e40",
     "grade": false,
     "grade_id": "cell-f1fe5e5704b99405",
     "locked": false,
     "schema_version": 1,
     "solution": true
    }
   },
   "outputs": [],
   "source": [
    "# YOUR CODE HERE"
   ]
  },
  {
   "cell_type": "code",
   "execution_count": null,
   "metadata": {},
   "outputs": [],
   "source": [
    "# Test case for number of people dying by dying by helicopter\n",
    "assert cage()[0] == 24"
   ]
  },
  {
   "cell_type": "code",
   "execution_count": null,
   "metadata": {},
   "outputs": [],
   "source": [
    "# Test case to make sure your list is the correct length\n",
    "assert len(cage()) == 3"
   ]
  },
  {
   "cell_type": "code",
   "execution_count": null,
   "metadata": {
    "deletable": false,
    "editable": false,
    "nbgrader": {
     "checksum": "538d5db5ee82bb815843168f25e466e4",
     "grade": true,
     "grade_id": "cell-6c22b20f3b706467",
     "locked": true,
     "points": 1,
     "schema_version": 1,
     "solution": false
    }
   },
   "outputs": [],
   "source": []
  },
  {
   "cell_type": "code",
   "execution_count": null,
   "metadata": {
    "deletable": false,
    "editable": false,
    "nbgrader": {
     "checksum": "aca0d8df1aa95cce282fb65bfda23828",
     "grade": true,
     "grade_id": "cell-a05d3b6ec9e90dee",
     "locked": true,
     "points": 1,
     "schema_version": 1,
     "solution": false
    }
   },
   "outputs": [],
   "source": []
  },
  {
   "cell_type": "markdown",
   "metadata": {
    "deletable": false,
    "editable": false,
    "nbgrader": {
     "checksum": "10042f98c7e905af026435148358005d",
     "grade": false,
     "grade_id": "cell-f086d95331dc7899",
     "locked": true,
     "schema_version": 1,
     "solution": false
    }
   },
   "source": [
    "*In case you are wondering where we came up with these correlations, check out the website Spurious Correlations at http://www.tylervigen.com/spurious-correlations.  It contains such interesting facts as:*\n",
    "\n",
    "- *the per capita consumption of cheese in the United States is strongly correlated with the number of people who died by becoming tangled in their bedsheets (don't eat cheese in bed!)*\n",
    "- *the total revenue generated by video game arcades is strongly correlated with the number of computer science doctorates awarded in the US (nerds like video games!)*"
   ]
  },
  {
   "cell_type": "markdown",
   "metadata": {
    "deletable": false,
    "editable": false,
    "nbgrader": {
     "checksum": "e261724afa2129cfb8ce9f4f82efa878",
     "grade": false,
     "grade_id": "cell-79bbfab82fa054e7",
     "locked": true,
     "schema_version": 1,
     "solution": false
    }
   },
   "source": [
    "### Question 2: Does Donald Trump's Mood Influence the Stock Market? [12 points]\n",
    "\n",
    "The rest of the lab is designed to answer the above question by breaking it into a series of smaller steps, using the tools you've learnt so far.\n",
    "\n",
    "#### Part a: [4 points]\n",
    "Using the file `http://joey.legere.io/files/trump_lab10.json`, create a dictionary that maps each day (represeted as a datetime object) to a sentiment score for all tweets from that day.\n",
    "\n",
    "Hints:\n",
    "* Use the `time` field for each tweet to create a datetime structure. Crop the time so that it only contains the date. That is, if the text is `2018-03-05T12:57:12.000Z`, create a datetime structure using only the first few characters: `2018-03-05`.  (We are not worrying about timezones.)\n",
    "* Calculate the sentiment analysis score for each date using VADER from nltk. If the output from vader is the variable s, the sentiment score of a tweet would just be s['pos'] - s['neg']. For simplicity, you do not need to average the scores based on the number of tweets in a given day, just sum the sentiments of all tweets that day.  Save this in a dictionary called `sents` with the keys being the datetime object."
   ]
  },
  {
   "cell_type": "code",
   "execution_count": null,
   "metadata": {},
   "outputs": [],
   "source": [
    "# This will ensure that the VADER lexicon datafile is installed before running your solution.\n",
    "\n",
    "import nltk\n",
    "nltk.download('vader_lexicon')"
   ]
  },
  {
   "cell_type": "code",
   "execution_count": null,
   "metadata": {
    "deletable": false,
    "nbgrader": {
     "checksum": "92865a1cdd493c393189ee3c59c59036",
     "grade": true,
     "grade_id": "cell-e8a157df892adb04",
     "locked": false,
     "points": 2,
     "schema_version": 1,
     "solution": true
    }
   },
   "outputs": [],
   "source": [
    "sents = {}\n",
    "\n",
    "# YOUR CODE HERE"
   ]
  },
  {
   "cell_type": "markdown",
   "metadata": {
    "deletable": false,
    "editable": false,
    "nbgrader": {
     "checksum": "abc525a52111177e7461ce3d9f6916ee",
     "grade": false,
     "grade_id": "cell-ba956e566402e764",
     "locked": true,
     "schema_version": 1,
     "solution": false
    }
   },
   "source": [
    "If you want to check your work so far, we computed that Trump's sentiment on 2018-02-14 was 0.16499999999999998.  (Happy Valentine's Day, I guess?)"
   ]
  },
  {
   "cell_type": "code",
   "execution_count": null,
   "metadata": {},
   "outputs": [],
   "source": [
    "assert round(sents[datetime.datetime(2018, 2, 14)], 3) == 0.165"
   ]
  },
  {
   "cell_type": "code",
   "execution_count": null,
   "metadata": {
    "deletable": false,
    "editable": false,
    "nbgrader": {
     "checksum": "dbd0ce5bb38f413ede7a145bc95da308",
     "grade": true,
     "grade_id": "cell-05e11d07cf88103c",
     "locked": true,
     "points": 2,
     "schema_version": 1,
     "solution": false
    }
   },
   "outputs": [],
   "source": []
  },
  {
   "cell_type": "markdown",
   "metadata": {
    "collapsed": true,
    "deletable": false,
    "editable": false,
    "nbgrader": {
     "checksum": "41065c8f6a1a0427642a6cb5cc0cedff",
     "grade": false,
     "grade_id": "cell-445ea774fc6da05f",
     "locked": true,
     "schema_version": 1,
     "solution": false
    }
   },
   "source": [
    "#### Part b: [1 point]\n",
    "\n",
    "Using the file `DJI.csv` included in the assignment on JupyterHub, create a dictionary that maps each day (represeted as a datetime object) to the overall change in the stock market for that day, namely the closing price minus the opening price.  Save this in a dictionary called `pricechanges` with the keys being the datetime object."
   ]
  },
  {
   "cell_type": "code",
   "execution_count": null,
   "metadata": {
    "deletable": false,
    "nbgrader": {
     "checksum": "3390a7044c05f0f1c1b0760ed7e75bdc",
     "grade": false,
     "grade_id": "cell-913a040979cb2c29",
     "locked": false,
     "schema_version": 1,
     "solution": true
    }
   },
   "outputs": [],
   "source": [
    "pricechanges = {}\n",
    "\n",
    "# YOUR CODE HERE"
   ]
  },
  {
   "cell_type": "markdown",
   "metadata": {
    "deletable": false,
    "editable": false,
    "nbgrader": {
     "checksum": "1c2cc9cf5600c05f54cee63f4362ee31",
     "grade": false,
     "grade_id": "cell-913cc5aea084545d",
     "locked": true,
     "schema_version": 1,
     "solution": false
    }
   },
   "source": [
    "If you want to check your work so far, we computed that the stock market change on 2018-02-14 was 357.67."
   ]
  },
  {
   "cell_type": "code",
   "execution_count": null,
   "metadata": {},
   "outputs": [],
   "source": [
    "assert round(pricechanges[datetime.datetime(2018, 2, 14)], 2) == 357.67"
   ]
  },
  {
   "cell_type": "code",
   "execution_count": null,
   "metadata": {
    "deletable": false,
    "editable": false,
    "nbgrader": {
     "checksum": "fa74fbea8516829a2ab1e8cff60d5dc4",
     "grade": true,
     "grade_id": "cell-bf3b2eabbcdce3ff",
     "locked": true,
     "points": 1,
     "schema_version": 1,
     "solution": false
    }
   },
   "outputs": [],
   "source": []
  },
  {
   "cell_type": "markdown",
   "metadata": {
    "deletable": false,
    "editable": false,
    "nbgrader": {
     "checksum": "ab4d715e923a46f6893034e9ceb91ea1",
     "grade": false,
     "grade_id": "cell-724eeb9f88b1ef4d",
     "locked": true,
     "schema_version": 1,
     "solution": false
    }
   },
   "source": [
    "#### Part c: [1 point]\n",
    "\n",
    "We will only try to find a correlation on days when BOTH Trump tweeted AND the stock market was open.  Create three lists:\n",
    "\n",
    "1. A list called `dates` containing the dates when BOTH Trump tweeted and the stock market was open.\n",
    "2. A list containing Trump's tweets' sentiments on those dates, in the same order as the first list.\n",
    "3. A list containing the stock market price difference on those dates, in the same order as the first list."
   ]
  },
  {
   "cell_type": "code",
   "execution_count": null,
   "metadata": {
    "deletable": false,
    "nbgrader": {
     "checksum": "55d21c81685a80b9ff75f7660a6d6f33",
     "grade": true,
     "grade_id": "cell-789909eda1d1f809",
     "locked": false,
     "points": 1,
     "schema_version": 1,
     "solution": true
    }
   },
   "outputs": [],
   "source": [
    "dates = []\n",
    "\n",
    "# YOUR CODE HERE"
   ]
  },
  {
   "cell_type": "markdown",
   "metadata": {
    "deletable": false,
    "editable": false,
    "nbgrader": {
     "checksum": "de525781ad129c5841c0275a3191ce75",
     "grade": false,
     "grade_id": "cell-64e4c22bb0cee902",
     "locked": true,
     "schema_version": 1,
     "solution": false
    }
   },
   "source": [
    "If you want to check your work, here are three facts:\n",
    "\n",
    "- The stock market was not open on February 25, so that should not be in your list of dates.\n",
    "- The stock market was open on February 26, but Trump didn't tweet that day, so that should not be in your list of dates.\n",
    "- Trump tweeted and the stock market was open on February 27, so that should be in your list of dates."
   ]
  },
  {
   "cell_type": "code",
   "execution_count": null,
   "metadata": {},
   "outputs": [],
   "source": [
    "assert datetime.datetime(2018, 2, 25) not in dates\n",
    "assert datetime.datetime(2018, 2, 26) not in dates\n",
    "assert datetime.datetime(2018, 2, 27) in dates"
   ]
  },
  {
   "cell_type": "markdown",
   "metadata": {
    "deletable": false,
    "editable": false,
    "nbgrader": {
     "checksum": "d24f802430168c96db4c127e278c131f",
     "grade": false,
     "grade_id": "cell-1858d35b9e1b2451",
     "locked": true,
     "schema_version": 1,
     "solution": false
    }
   },
   "source": [
    "#### Part d: [1 point]\n",
    "\n",
    "Create three plots:\n",
    "\n",
    "1. A line plot, showing dates on the x axis and Trump's sentiment on the y axis.\n",
    "2. A line plot, showing dates on the x axis and stock price changes on the y axis.\n",
    "3. A scatter plot, showing Trump's sentiment on the x axis and stock price changes on the y axis."
   ]
  },
  {
   "cell_type": "code",
   "execution_count": null,
   "metadata": {
    "deletable": false,
    "nbgrader": {
     "checksum": "4b3bd40f6582359e87645893c3e9e889",
     "grade": true,
     "grade_id": "cell-a61a91d5300cdcee",
     "locked": false,
     "points": 1,
     "schema_version": 1,
     "solution": true
    }
   },
   "outputs": [],
   "source": [
    "# YOUR CODE HERE"
   ]
  },
  {
   "cell_type": "markdown",
   "metadata": {
    "deletable": false,
    "editable": false,
    "nbgrader": {
     "checksum": "9bff46650105c618fce728a63e07482e",
     "grade": false,
     "grade_id": "cell-777fb065f8c61210",
     "locked": true,
     "schema_version": 1,
     "solution": false
    }
   },
   "source": [
    "#### Part d: Linear regression [1 point]\n",
    "\n",
    "Apply linear regression to develop a model for predicting the stock market price change based on Trump's sentiment.\n",
    "\n",
    "1. Print the coeffient and intercept calculated by the regression model.\n",
    "2. Then use the linear regression model to predict what the stock market price change would be based on Trump's sentiment.  (We will commit a statistical no-no: we didn't split the data into a training set and a testing set.  Instead, we'll just do predictions on the training data.)"
   ]
  },
  {
   "cell_type": "code",
   "execution_count": null,
   "metadata": {
    "deletable": false,
    "nbgrader": {
     "checksum": "977b40dd6a2448b3f78b5c35ee08fe62",
     "grade": true,
     "grade_id": "cell-51c15eb895b62653",
     "locked": false,
     "points": 1,
     "schema_version": 1,
     "solution": true
    }
   },
   "outputs": [],
   "source": [
    "# YOUR CODE HERE"
   ]
  },
  {
   "cell_type": "markdown",
   "metadata": {
    "deletable": false,
    "editable": false,
    "nbgrader": {
     "checksum": "2fe41dc36a85e59db316e9a4e0318a6f",
     "grade": false,
     "grade_id": "cell-80285adc14138c10",
     "locked": true,
     "schema_version": 1,
     "solution": false
    }
   },
   "source": [
    "### Part e: Evaluation [2 points]\n",
    "\n",
    "Create a plot just like the scatter plot in part (c) above, but add in a line of best fit using the predicted data.\n",
    "\n",
    "Print the R2 score.  \n",
    "\n",
    "Based on the R2 score, how would you answer the question: Are stock market prices affected by President Trump's mood?"
   ]
  },
  {
   "cell_type": "code",
   "execution_count": null,
   "metadata": {
    "deletable": false,
    "nbgrader": {
     "checksum": "c541d5eb2ee6b5470c2f0cc835fa7a17",
     "grade": true,
     "grade_id": "cell-da37d118c647ba55",
     "locked": false,
     "points": 2,
     "schema_version": 1,
     "solution": true
    }
   },
   "outputs": [],
   "source": [
    "# YOUR CODE HERE\n",
    "\n",
    "# Fill in the blanks\n",
    "print(\"I conclude that... because...\")"
   ]
  },
  {
   "cell_type": "markdown",
   "metadata": {
    "deletable": false,
    "editable": false,
    "nbgrader": {
     "checksum": "b492986686689dfeb0c27f836c57edac",
     "grade": false,
     "grade_id": "cell-de85893e9c113bf9",
     "locked": true,
     "schema_version": 1,
     "solution": false
    }
   },
   "source": [
    "#### Part f: Bonus (2 marks)\n",
    "\n",
    "Now let's abuse statistics, in the vein of Spurious Correlations.  For a bonus of up to 2 marks, do some additional experiment on whether Trump's mood affects the stock market.  Maybe use a different type of regression?  Maybe use some other way of measuring his sentiment?  Maybe check another stock market index or stock?  Perhaps Trump's use of the word \"Obama\" correlates with price changes for the OncBioMune Pharmaceuticals, Inc. corporation (whose stock symbol is OBMP)?  Full marks if you demonstrate a correlation with an R2 score of at least 0.95."
   ]
  },
  {
   "cell_type": "code",
   "execution_count": null,
   "metadata": {
    "deletable": false,
    "nbgrader": {
     "checksum": "21502e6402d51baec638b13c9c0a4cb8",
     "grade": true,
     "grade_id": "cell-289f3011584a984a",
     "locked": false,
     "points": 2,
     "schema_version": 1,
     "solution": true
    }
   },
   "outputs": [],
   "source": [
    "# YOUR CODE HERE"
   ]
  }
 ],
 "metadata": {
  "kernelspec": {
   "display_name": "Python 3",
   "language": "python",
   "name": "python3"
  },
  "language_info": {
   "codemirror_mode": {
    "name": "ipython",
    "version": 3
   },
   "file_extension": ".py",
   "mimetype": "text/x-python",
   "name": "python",
   "nbconvert_exporter": "python",
   "pygments_lexer": "ipython3",
   "version": "3.6.3"
  }
 },
 "nbformat": 4,
 "nbformat_minor": 2
}
