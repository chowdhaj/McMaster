{
 "cells": [
  {
   "cell_type": "markdown",
   "metadata": {
    "deletable": false,
    "editable": false,
    "nbgrader": {
     "checksum": "cac2bf3c71b6cfd0e6320c551d5743c1",
     "grade": false,
     "grade_id": "cell-8270991a73638fc0",
     "locked": true,
     "schema_version": 1,
     "solution": false
    }
   },
   "source": [
    "## COMP SCI 1MD3 Introduction to Programming, Winter 2018\n",
    "### Douglas Stebila (Instructor), Joey Legere, Karl Knopf, Natalie Chin, Victor Chen (TAs)\n",
    "### Lab 4 Assigned Wednesday, Jan 31, Due Wednesday Feb 7, 5pm\n",
    "### Maximum grade: 20 / 16\n",
    "\n",
    "The purpose of this lab is to:\n",
    "* Become comfortable writing your own functions\n",
    "* Understand and apply recursion\n",
    "* Practice developing your own algorithms to solve more complex problems"
   ]
  },
  {
   "cell_type": "markdown",
   "metadata": {
    "deletable": false,
    "editable": false,
    "nbgrader": {
     "checksum": "5ef4bfec25e84a90fc80ef82afd03712",
     "grade": false,
     "grade_id": "cell-71a0b5befc6ac718",
     "locked": true,
     "schema_version": 1,
     "solution": false
    }
   },
   "source": [
    "#### Practice Question (Ungraded)\n",
    "\n",
    "A couple of friends, say `Monica`, `Phoebe`, `Joey`, `Chandler` get together in the evening to play darts. They record who wins each round. Assume that the result of the evening is represented by a Python tuple, for example:"
   ]
  },
  {
   "cell_type": "code",
   "execution_count": null,
   "metadata": {},
   "outputs": [],
   "source": [
    "wins = ('J', 'P', 'C', 'J', 'J', 'J', 'M', 'C', 'C')"
   ]
  },
  {
   "cell_type": "markdown",
   "metadata": {
    "deletable": false,
    "editable": false,
    "nbgrader": {
     "checksum": "455eb6e45f8e6c181b5f14dcb05d8f6b",
     "grade": false,
     "grade_id": "cell-93e971f5916f33df",
     "locked": true,
     "schema_version": 1,
     "solution": false
    }
   },
   "source": [
    "A winning streak consists of consecutive wins of one player. For example, Chandler has a winning streak of length 2 at the end of the evening and Joey has a winning streak of length 3 in the middle of the evening. Write a Python function longestWinningStreak(w) that takes a non-empty tuple, or \"iterable\" in general, of winners and returns the length of the longest winning streak; winners can be of arbitrary type, not necessarily strings.\n"
   ]
  },
  {
   "cell_type": "code",
   "execution_count": null,
   "metadata": {
    "deletable": false,
    "nbgrader": {
     "checksum": "b7ba1e0903079ab1adf8acca674c6189",
     "grade": true,
     "grade_id": "cell-c443870f1160e49e",
     "locked": false,
     "points": 0,
     "schema_version": 1,
     "solution": true
    }
   },
   "outputs": [],
   "source": [
    "# Write your answer in this cell\n",
    "\n",
    "# YOUR CODE HERE\n",
    "raise NotImplementedError()"
   ]
  },
  {
   "cell_type": "code",
   "execution_count": null,
   "metadata": {},
   "outputs": [],
   "source": [
    "longestWinningStreak(wins) == 3"
   ]
  },
  {
   "cell_type": "code",
   "execution_count": null,
   "metadata": {},
   "outputs": [],
   "source": [
    "longestWinningStreak('JPCJJJMCC') == 3"
   ]
  },
  {
   "cell_type": "code",
   "execution_count": null,
   "metadata": {},
   "outputs": [],
   "source": [
    "longestWinningStreak((1, 2, 2, 1, 2, 1)) == 2"
   ]
  },
  {
   "cell_type": "markdown",
   "metadata": {
    "deletable": false,
    "editable": false,
    "nbgrader": {
     "checksum": "189b9c6b29c5e7267f62877f0ff90342",
     "grade": false,
     "grade_id": "cell-242c7365c30a27b9",
     "locked": true,
     "schema_version": 1,
     "solution": false
    }
   },
   "source": [
    "#### Question 1a: Distance Between Points (2 points)\n",
    "\n",
    "The distance $d$ between points $(x_0, y_0)$ and $(x_1, y_1)$ is defined as:\n",
    "$$d = \\sqrt{(x_1 - x_0)^2 + (y_1 - y_0)^2}$$\n",
    "\n",
    "Write a Python function `distance(p, q)` that takes two pairs of numbers, the coordinates of the points, and returns the distance between the points."
   ]
  },
  {
   "cell_type": "code",
   "execution_count": null,
   "metadata": {},
   "outputs": [],
   "source": [
    "# Use this code cell to run your tests"
   ]
  },
  {
   "cell_type": "code",
   "execution_count": null,
   "metadata": {
    "deletable": false,
    "nbgrader": {
     "checksum": "29a64f9d1b1ab8f09c3ad3dafd1231a7",
     "grade": false,
     "grade_id": "cell-ffec72cc583c9c6c",
     "locked": false,
     "schema_version": 1,
     "solution": true
    }
   },
   "outputs": [],
   "source": [
    "# Write your answer in this cell\n",
    "\n",
    "# YOUR CODE HERE\n",
    "raise NotImplementedError()"
   ]
  },
  {
   "cell_type": "code",
   "execution_count": null,
   "metadata": {},
   "outputs": [],
   "source": [
    "distance((1, 1), (1, 1)) == 0.0"
   ]
  },
  {
   "cell_type": "code",
   "execution_count": null,
   "metadata": {},
   "outputs": [],
   "source": [
    "distance((5, 1), (1, 1)) == 4.0"
   ]
  },
  {
   "cell_type": "code",
   "execution_count": null,
   "metadata": {},
   "outputs": [],
   "source": [
    "distance((-1, -1), (7, 5)) == 10.0"
   ]
  },
  {
   "cell_type": "code",
   "execution_count": null,
   "metadata": {
    "deletable": false,
    "editable": false,
    "nbgrader": {
     "checksum": "1420a7240a0bc4c5c5ccdad7cc1df17e",
     "grade": true,
     "grade_id": "cell-31c9848c88d2fc07",
     "locked": true,
     "points": 2,
     "schema_version": 1,
     "solution": false
    }
   },
   "outputs": [],
   "source": []
  },
  {
   "cell_type": "markdown",
   "metadata": {
    "deletable": false,
    "editable": false,
    "nbgrader": {
     "checksum": "1587f16a87b0cbb5fa50e7954e505e91",
     "grade": false,
     "grade_id": "cell-0fe4cd3b976e5a85",
     "locked": true,
     "schema_version": 1,
     "solution": false
    }
   },
   "source": [
    "#### Question 1b: Perimeter of a Polygon (2 points)\n",
    "\n",
    "The perimeter of a polygon is the sum of the length of all its sides.\n",
    "Write a Python function `perimeter(p)` that takes a possibly empty list `p` of pairs of numbers, the coordinates of the vertices, and returns the perimeter of the polygon. Use the function `distance` from above. You may assume that the list of vertices is given in the correct order."
   ]
  },
  {
   "cell_type": "code",
   "execution_count": null,
   "metadata": {},
   "outputs": [],
   "source": [
    "# Use this code cell to run your tests"
   ]
  },
  {
   "cell_type": "code",
   "execution_count": null,
   "metadata": {
    "deletable": false,
    "nbgrader": {
     "checksum": "e065800cf33405a7fd6beabbf7dc14ec",
     "grade": false,
     "grade_id": "cell-73d2e4c398495454",
     "locked": false,
     "schema_version": 1,
     "solution": true
    }
   },
   "outputs": [],
   "source": [
    "# Write your answer in this cell\n",
    "    \n",
    "# YOUR CODE HERE\n",
    "raise NotImplementedError()"
   ]
  },
  {
   "cell_type": "code",
   "execution_count": null,
   "metadata": {},
   "outputs": [],
   "source": [
    "perimeter([]) == 0.0"
   ]
  },
  {
   "cell_type": "code",
   "execution_count": null,
   "metadata": {},
   "outputs": [],
   "source": [
    "perimeter([(1, 1)]) == 0.0"
   ]
  },
  {
   "cell_type": "code",
   "execution_count": null,
   "metadata": {},
   "outputs": [],
   "source": [
    "perimeter([(1, 1), (4, 1)]) == 6.0"
   ]
  },
  {
   "cell_type": "code",
   "execution_count": null,
   "metadata": {},
   "outputs": [],
   "source": [
    "perimeter([(1, 1), (4, 1), (4, 5)]) == 12.0"
   ]
  },
  {
   "cell_type": "code",
   "execution_count": null,
   "metadata": {},
   "outputs": [],
   "source": [
    "perimeter([(1, 1), (4, 1), (4, 5), (1, 5)]) == 14.0"
   ]
  },
  {
   "cell_type": "code",
   "execution_count": null,
   "metadata": {
    "deletable": false,
    "editable": false,
    "nbgrader": {
     "checksum": "9dae5cb7f9c6a8041984d387d096ee72",
     "grade": true,
     "grade_id": "cell-b06514dc39d14123",
     "locked": true,
     "points": 2,
     "schema_version": 1,
     "solution": false
    }
   },
   "outputs": [],
   "source": []
  },
  {
   "cell_type": "markdown",
   "metadata": {
    "deletable": false,
    "editable": false,
    "nbgrader": {
     "checksum": "6bb2f29a7e04565a4ab8b9bfe563a9ab",
     "grade": false,
     "grade_id": "cell-2e792f8f5e8ffe7c",
     "locked": true,
     "schema_version": 1,
     "solution": false
    }
   },
   "source": [
    "#### Question 2: Recursive Combinations (3 points)\n",
    "\n",
    "Given a set of `n` items, we can choose `k` of them in $_nC_k$ ways. That is, if we have `n=3` items (for instance, an apple, an orange, and a pear) and we want to select `k=2` of them, there are $_3C_2 = 3$  ways to do this (an apple and an orange, an orange and a pear, or an apple and a pear).\n",
    "\n",
    "We can compute $_nC_k$ recursively:\n",
    "\n",
    "$$ _nC_k = \\begin{cases} 1, & \\mbox{if } k = 0, \\\\ 0, & \\mbox{if } n < k, \\\\ _{n-1}C_{k-1} + _{n-1}C_{k}, & \\mbox{otherwise}. \\end{cases} $$\n",
    "\n",
    "Write a function choose(n,k) that recursively computes the number of ways you can choose `k` out of `n` items."
   ]
  },
  {
   "cell_type": "code",
   "execution_count": null,
   "metadata": {},
   "outputs": [],
   "source": [
    "# Use this code cell to run your tests"
   ]
  },
  {
   "cell_type": "code",
   "execution_count": null,
   "metadata": {
    "deletable": false,
    "nbgrader": {
     "checksum": "391957dfc6c42705fbc6498bf2e0c239",
     "grade": false,
     "grade_id": "cell-bc772084dd8eaf72",
     "locked": false,
     "schema_version": 1,
     "solution": true
    }
   },
   "outputs": [],
   "source": [
    "# Write your answer in this cell\n",
    "    \n",
    "# YOUR CODE HERE\n",
    "raise NotImplementedError()\n"
   ]
  },
  {
   "cell_type": "code",
   "execution_count": null,
   "metadata": {},
   "outputs": [],
   "source": [
    "choose(3, 2) == 3"
   ]
  },
  {
   "cell_type": "code",
   "execution_count": null,
   "metadata": {},
   "outputs": [],
   "source": [
    "choose(5, 3) == 10"
   ]
  },
  {
   "cell_type": "code",
   "execution_count": null,
   "metadata": {},
   "outputs": [],
   "source": [
    "choose(20, 10) == 184756"
   ]
  },
  {
   "cell_type": "code",
   "execution_count": null,
   "metadata": {
    "deletable": false,
    "editable": false,
    "nbgrader": {
     "checksum": "ba5ef655a59466e5c90eec93c0a63620",
     "grade": true,
     "grade_id": "cell-3b30499e72fbe01b",
     "locked": true,
     "points": 3,
     "schema_version": 1,
     "solution": false
    }
   },
   "outputs": [],
   "source": []
  },
  {
   "cell_type": "markdown",
   "metadata": {
    "deletable": false,
    "editable": false,
    "nbgrader": {
     "checksum": "d497603400251ee092137cd65a8508af",
     "grade": false,
     "grade_id": "cell-8fa5e91ba2d14adc",
     "locked": true,
     "schema_version": 1,
     "solution": false
    }
   },
   "source": [
    "#### Question 3a: Verifying Palindromes Recursively (3 points)\n",
    "\n",
    "A word is a palindrome if it reads the same forwards as it does backwards. For instance, `racecar` and `kayak` are both palindromes, whereas `computer` is not.\n",
    "\n",
    "Write a function that determines whether or not a given string is a palindrome. For this question, you must write your own function and test cases. Your function should be called `is_palindrome` and accept a single string as input, and return the boolean value `True` or `False` as output. Your function does not need to check anything with the input, you can assume that this function will only be passed entirely lowercase strings.\n",
    "\n",
    "Use the following recursive algorithm to check if a string is a palindrome: If the string is 0 or 1 items long, it is definitely a palindrome (by definition). If the string is 2 or more characters long, remove the first and last characters, check if they are equal. If they aren't, the string is not a palindrome, otherwise, check if the remainder of the string is a palindrome."
   ]
  },
  {
   "cell_type": "code",
   "execution_count": null,
   "metadata": {},
   "outputs": [],
   "source": [
    "# Use this code cell to run your tests"
   ]
  },
  {
   "cell_type": "code",
   "execution_count": null,
   "metadata": {
    "deletable": false,
    "nbgrader": {
     "checksum": "80536036de47cf5a232b81a339d45831",
     "grade": false,
     "grade_id": "cell-6e59a5187b224404",
     "locked": false,
     "schema_version": 1,
     "solution": true
    }
   },
   "outputs": [],
   "source": [
    "# Write your answer in this cell\n",
    "# YOUR CODE HERE\n",
    "raise NotImplementedError()"
   ]
  },
  {
   "cell_type": "code",
   "execution_count": null,
   "metadata": {
    "deletable": false,
    "editable": false,
    "nbgrader": {
     "checksum": "cc233bacb39de92b35c3b93419304e93",
     "grade": true,
     "grade_id": "cell-ab5bfc6fa8d874ac",
     "locked": true,
     "points": 3,
     "schema_version": 1,
     "solution": false
    }
   },
   "outputs": [],
   "source": []
  },
  {
   "cell_type": "markdown",
   "metadata": {
    "deletable": false,
    "editable": false,
    "nbgrader": {
     "checksum": "2e7be34a1e86ae320c5e8ca54eef4cd6",
     "grade": false,
     "grade_id": "cell-0880dc64b4822f45",
     "locked": true,
     "schema_version": 1,
     "solution": false
    }
   },
   "source": [
    "#### Question 3b: Improving our Palindrome Function (2 points)\n",
    "\n",
    "Let's improve the palindrome function so that it works with a sentence that has punctuation in it.\n",
    "First, write a function **only_letters(s)** that removes all punctuation (including spaces) from a given string and converts it to lowercase.\n",
    "\n",
    "For this question you may assume the string contains only letters, punctuation, and spaces (no numbers).\n"
   ]
  },
  {
   "cell_type": "code",
   "execution_count": null,
   "metadata": {},
   "outputs": [],
   "source": [
    "# Use this code cell to run your tests"
   ]
  },
  {
   "cell_type": "code",
   "execution_count": null,
   "metadata": {
    "deletable": false,
    "nbgrader": {
     "checksum": "86a27dcbab73f6f01657bf465f2df75e",
     "grade": false,
     "grade_id": "cell-9209a400fa396373",
     "locked": false,
     "schema_version": 1,
     "solution": true
    }
   },
   "outputs": [],
   "source": [
    "# Write your answer in this cell\n",
    "# YOUR CODE HERE\n",
    "raise NotImplementedError()"
   ]
  },
  {
   "cell_type": "code",
   "execution_count": null,
   "metadata": {},
   "outputs": [],
   "source": [
    "only_letters(\"Do geese see God?\") == 'dogeeseseegod'"
   ]
  },
  {
   "cell_type": "code",
   "execution_count": null,
   "metadata": {},
   "outputs": [],
   "source": [
    "only_letters(\"Here is some punctuation: !@#$%^&*()\") == 'hereissomepunctuation'"
   ]
  },
  {
   "cell_type": "code",
   "execution_count": null,
   "metadata": {
    "deletable": false,
    "editable": false,
    "nbgrader": {
     "checksum": "6b857fb78a1c8f3e55208b29d6957342",
     "grade": true,
     "grade_id": "cell-b97f26dd1961c7c2",
     "locked": true,
     "points": 2,
     "schema_version": 1,
     "solution": false
    }
   },
   "outputs": [],
   "source": []
  },
  {
   "cell_type": "markdown",
   "metadata": {
    "deletable": false,
    "editable": false,
    "nbgrader": {
     "checksum": "c813bbff72196074658a76b541f7cc3f",
     "grade": false,
     "grade_id": "cell-e61fa62ec99eec01",
     "locked": true,
     "schema_version": 1,
     "solution": false
    }
   },
   "source": [
    "#### Question 3c: Combining the Two (2 points)\n",
    "\n",
    "Now, using the only_letters function, write a function **is_palindrome_plus(s)** that determines if a string is a palindrome or not, regardless of punctuation or case. **You should not copy the code that is already in is_palindrome() into this function. Call the is_palindrome() function instead.**\n"
   ]
  },
  {
   "cell_type": "code",
   "execution_count": null,
   "metadata": {},
   "outputs": [],
   "source": [
    "# Use this code cell to run your tests"
   ]
  },
  {
   "cell_type": "code",
   "execution_count": null,
   "metadata": {
    "deletable": false,
    "nbgrader": {
     "checksum": "4161d2c96ee675eb96a9d6a7565900df",
     "grade": false,
     "grade_id": "cell-77063b4697eac250",
     "locked": false,
     "schema_version": 1,
     "solution": true
    }
   },
   "outputs": [],
   "source": [
    "# Write your answer in this cell\n",
    "\n",
    "# YOUR CODE HERE\n",
    "raise NotImplementedError()\n"
   ]
  },
  {
   "cell_type": "code",
   "execution_count": null,
   "metadata": {},
   "outputs": [],
   "source": [
    "is_palindrome_plus(\"Do geese see God?\") == True"
   ]
  },
  {
   "cell_type": "code",
   "execution_count": null,
   "metadata": {
    "deletable": false,
    "editable": false,
    "nbgrader": {
     "checksum": "f7b41c9a80ac88c1c812553873009d3e",
     "grade": true,
     "grade_id": "cell-e58bfa8edb7ad7d4",
     "locked": true,
     "points": 2,
     "schema_version": 1,
     "solution": false
    }
   },
   "outputs": [],
   "source": []
  },
  {
   "cell_type": "markdown",
   "metadata": {
    "deletable": false,
    "editable": false,
    "nbgrader": {
     "checksum": "6a96e056b2a4dce9180dbc1c79a85987",
     "grade": false,
     "grade_id": "cell-d11adbe85671f34b",
     "locked": true,
     "schema_version": 1,
     "solution": false
    }
   },
   "source": [
    "#### Question 4: Stock Market (2 points)\n",
    "\n",
    "Let's assume I'm playing the stock market - buy low, sell high. I'm a day trader, so I want to get in and out of a stock before the day is done, and I want to time my trades so that I make the biggest gain possible. And obviously I can't buy in the future and sell in the past.\n",
    "\n",
    "So, given a list of stock price ticks for the day, can you tell me what trades I should make to maximize my gain within the constraints of the market?\n",
    "\n",
    "Write a function `stocks(s)` that, given a list of stock prices as a space separated list of 2 decimal floats (dollars and cents), listed in chronological order, emits the two trades in chronological order - what you think I should buy at and sell at. See the test case for an example."
   ]
  },
  {
   "cell_type": "code",
   "execution_count": null,
   "metadata": {},
   "outputs": [],
   "source": [
    "# Use this code cell to run your tests"
   ]
  },
  {
   "cell_type": "code",
   "execution_count": null,
   "metadata": {
    "deletable": false,
    "nbgrader": {
     "checksum": "69b61ff221d1bc68e3d26327a6a21d6d",
     "grade": false,
     "grade_id": "cell-fa5b833541877367",
     "locked": false,
     "schema_version": 1,
     "solution": true
    }
   },
   "outputs": [],
   "source": [
    "# Write your answer in this cell\n",
    "    \n",
    "# YOUR CODE HERE\n",
    "raise NotImplementedError()\n",
    "    "
   ]
  },
  {
   "cell_type": "code",
   "execution_count": null,
   "metadata": {},
   "outputs": [],
   "source": [
    "stocks('19.35 19.30 18.88 18.93 18.95 19.03 19.00 18.97 18.97 18.98') == [18.88, 19.03]"
   ]
  },
  {
   "cell_type": "code",
   "execution_count": null,
   "metadata": {},
   "outputs": [],
   "source": [
    "stocks('12.34 16.87 17.92 23.33') == [12.34, 23.33]"
   ]
  },
  {
   "cell_type": "code",
   "execution_count": null,
   "metadata": {
    "deletable": false,
    "editable": false,
    "nbgrader": {
     "checksum": "3be4274cf3ebd7f9d11607cb038d5b91",
     "grade": true,
     "grade_id": "cell-c733ec78645a355b",
     "locked": true,
     "points": 2,
     "schema_version": 1,
     "solution": false
    }
   },
   "outputs": [],
   "source": []
  },
  {
   "cell_type": "markdown",
   "metadata": {
    "deletable": false,
    "editable": false,
    "nbgrader": {
     "checksum": "0ac3715741c38175a84ab54c69da2628",
     "grade": false,
     "grade_id": "cell-0926ea04a618d9e2",
     "locked": true,
     "schema_version": 1,
     "solution": false
    }
   },
   "source": [
    "#### Bonus: Eel of Fortune (4 points)\n",
    "\n",
    "You enjoy the popular game show Eel of Fortune, where contestants take turns fishing live eels out of an aquarium for the opportunity to solve a word puzzle. The word puzzle works like the game Hangman. A secret word is obscured on the board. A player guesses a letter of the alphabet, and if that letter appears anywhere in the secret word, all of the times it appears in the secret word are revealed.\n",
    "\n",
    "For high school recruitment, McMaster decided to host their own special version of the game where an unfortunate incident occured. The secret phrase was `luck of the irish`, and the contestants had guessed the letters: `t`, `u`, `f`, `o`. This led to the horrible incident where the board said:\n",
    "\n",
    "\\_ U \\_ \\_  O F  T \\_ \\_  \\_ \\_ \\_ \\_ \\_\n",
    "\n",
    "Naturally, every potential student ended up going to U of T instead, and this was a PR nightmare for McMaster. Being first year CS students, you've been enlisted to prevent this from ever happening again.\n",
    "\n",
    "Your task is to write a function `problem(s, w)`, that, given a puzzle phrase `s` and a list of problem words `w`, returns a list of all possible problem words in `w` that could occur in puzzle `s`.\n",
    "\n",
    "You may assume that the puzzle and problem words are all given as lowercase strings, and spaces do not matter. (That is, they are not part of the puzzle--only letters will be guessed)."
   ]
  },
  {
   "cell_type": "code",
   "execution_count": null,
   "metadata": {},
   "outputs": [],
   "source": [
    "# Use this code cell to run your tests"
   ]
  },
  {
   "cell_type": "code",
   "execution_count": null,
   "metadata": {
    "deletable": false,
    "nbgrader": {
     "checksum": "5431e4c1a9ae531a8d0f6b5931d5fb46",
     "grade": false,
     "grade_id": "cell-69f3e0f6e2bbe387",
     "locked": false,
     "schema_version": 1,
     "solution": true
    }
   },
   "outputs": [],
   "source": [
    "# YOUR CODE HERE\n",
    "raise NotImplementedError()"
   ]
  },
  {
   "cell_type": "code",
   "execution_count": null,
   "metadata": {},
   "outputs": [],
   "source": [
    "set(problem('luck of the irish', ['uoft'])) == set(['uoft'])"
   ]
  },
  {
   "cell_type": "code",
   "execution_count": null,
   "metadata": {},
   "outputs": [],
   "source": [
    "set(problem('triumph', ['trump', 'trumps', 'drumpf'])) == set(['trump'])"
   ]
  },
  {
   "cell_type": "code",
   "execution_count": null,
   "metadata": {},
   "outputs": [],
   "source": [
    "set(problem('resounds', ['sound', 'sounds', 'sounded'])) == set(['sound', 'sounds'])"
   ]
  },
  {
   "cell_type": "code",
   "execution_count": null,
   "metadata": {
    "deletable": false,
    "editable": false,
    "nbgrader": {
     "checksum": "99df5e255666ceaea686b5ff5143ab1b",
     "grade": true,
     "grade_id": "cell-dd43b34dfff71678",
     "locked": true,
     "points": 4,
     "schema_version": 1,
     "solution": false
    }
   },
   "outputs": [],
   "source": []
  }
 ],
 "metadata": {
  "kernelspec": {
   "display_name": "Python 3",
   "language": "python",
   "name": "python3"
  },
  "language_info": {
   "codemirror_mode": {
    "name": "ipython",
    "version": 3
   },
   "file_extension": ".py",
   "mimetype": "text/x-python",
   "name": "python",
   "nbconvert_exporter": "python",
   "pygments_lexer": "ipython3",
   "version": "3.6.3"
  }
 },
 "nbformat": 4,
 "nbformat_minor": 2
}
