{
 "cells": [
  {
   "cell_type": "markdown",
   "metadata": {},
   "source": [
    "## COMP SCI 1MD3 Introduction to Programming, Winter 2018\n",
    "### Douglas Stebila (Instructor), Joey Legere, Karl Knopf, Natalie Chin, Victor Chen (TAs)\n",
    "### Lab 2 Assigned Thursday January 18, Due Wednesday January 24, 5pm\n",
    "### Maximum grade: 20 / 16\n",
    "\n",
    "The purpose of this lab is to:\n",
    "\n",
    "* Work with strings\n",
    "* Practice writing if statements\n",
    "* Become comfortable writing `while` loops\n",
    "\n",
    "\n",
    "You are supposed to download this notebook, embed your answers to the questions in the cells below, and submit it through Avenue. Name your notebook `yourmacid.ipynb`, where `yourmacid` is your Mac ID. For example, if your e-mail address is `legerejk@mcmaster.ca`, then name your notebook `legerejk.ipynb`."
   ]
  },
  {
   "cell_type": "markdown",
   "metadata": {},
   "source": [
    "### Practice Question: Counting Vowels\n",
    "\n",
    "Write a Python function, countVowels(s) that counts the number of vowels in a given string."
   ]
  },
  {
   "cell_type": "code",
   "execution_count": null,
   "metadata": {
    "collapsed": true
   },
   "outputs": [],
   "source": [
    "def vowelsCount(s):\n",
    "    # Your code here\n",
    "    # This will be demonstrated in tutorial\n",
    "\n",
    "    return v"
   ]
  },
  {
   "cell_type": "code",
   "execution_count": null,
   "metadata": {
    "collapsed": true
   },
   "outputs": [],
   "source": [
    "vowelsCount(\"Was it a car or a cat I saw?\") == 9"
   ]
  },
  {
   "cell_type": "code",
   "execution_count": null,
   "metadata": {
    "collapsed": true
   },
   "outputs": [],
   "source": [
    "vowelsCount(\"\") == 0"
   ]
  },
  {
   "cell_type": "markdown",
   "metadata": {},
   "source": [
    "### Question 1: Prohibited Character in a String (2 points)\n",
    "\n",
    "Occasionally, we might want to restrict what characters a person can enter into a program--for instance, file names cannot contain `/` on Unix systems (as these are used to separate paths), and many websites will not allow you to put spaces in your passwords.\n",
    "\n",
    "Write a program that, given a string, `s`, and a single character, `c`, determines if the string is valid (that is, string `s` does not contain character `c`). Your program should return `False` if `c` is in `s`, and `True` otherwise."
   ]
  },
  {
   "cell_type": "code",
   "execution_count": null,
   "metadata": {
    "collapsed": true
   },
   "outputs": [],
   "source": [
    "def prohibitedCharacter(s, c):\n",
    "    \n",
    "    # Your code here.\n",
    "    \n",
    "    return validity"
   ]
  },
  {
   "cell_type": "code",
   "execution_count": null,
   "metadata": {
    "collapsed": true
   },
   "outputs": [],
   "source": [
    "prohibitedCharacter('This string is not valid.', 'd') == False"
   ]
  },
  {
   "cell_type": "code",
   "execution_count": null,
   "metadata": {
    "collapsed": true
   },
   "outputs": [],
   "source": [
    "prohibitedCharacter('This string is valid.', 'x') == True"
   ]
  },
  {
   "cell_type": "markdown",
   "metadata": {},
   "source": [
    "### Question 2: Sum of a Series (4 points)\n",
    "\n",
    "The value of $(1^2 + 2^2 + … + n^2) / n^3$ is always greater than $1/3$ for any $n ≥ 1$ and as $n$ grows, the value gets closer to $1/3$. Write a Python function `onethird(n)` that returns a floating-point number according to this formula."
   ]
  },
  {
   "cell_type": "code",
   "execution_count": null,
   "metadata": {
    "collapsed": true
   },
   "outputs": [],
   "source": [
    "def onethird(n):\n",
    "    \n",
    "    # Your code here\n",
    "    \n",
    "    return s"
   ]
  },
  {
   "cell_type": "code",
   "execution_count": null,
   "metadata": {
    "collapsed": true
   },
   "outputs": [],
   "source": [
    "onethird(1) == 1.0"
   ]
  },
  {
   "cell_type": "code",
   "execution_count": null,
   "metadata": {
    "collapsed": true
   },
   "outputs": [],
   "source": [
    "onethird(4) == 0.46875"
   ]
  },
  {
   "cell_type": "markdown",
   "metadata": {},
   "source": [
    "### Question 3: Letter Grade (4 points)\n",
    "\n",
    "McMaster is considering a radical new grading scheme--only scores of 95 or above are As, a score of 85 or above is a B, a score of 60 or above is a C, a score of 40 or above is a D, and anything below 40 is an F.\n",
    "\n",
    "Write a Python function `letterGrade(score)` that takes a numeric score between 0 and 100 and returns the corresponding letter grade."
   ]
  },
  {
   "cell_type": "code",
   "execution_count": null,
   "metadata": {
    "collapsed": true
   },
   "outputs": [],
   "source": [
    "def letterGrade(score):\n",
    "    \n",
    "    # Your code here.\n",
    "\n",
    "    return letter\n",
    "    "
   ]
  },
  {
   "cell_type": "code",
   "execution_count": null,
   "metadata": {
    "collapsed": true
   },
   "outputs": [],
   "source": [
    "letterGrade(95) == 'A'"
   ]
  },
  {
   "cell_type": "code",
   "execution_count": null,
   "metadata": {
    "collapsed": true
   },
   "outputs": [],
   "source": [
    "letterGrade(86) == 'B'"
   ]
  },
  {
   "cell_type": "code",
   "execution_count": null,
   "metadata": {
    "collapsed": true
   },
   "outputs": [],
   "source": [
    "letterGrade(5) == 'F'"
   ]
  },
  {
   "cell_type": "markdown",
   "metadata": {},
   "source": [
    "### Question 4: Sum of Multiples (3 points)\n",
    "\n",
    "Write a function that finds the sum of all numbers up to (and including) N that are multiples of either x or y.\n",
    "\n",
    "e.g. For:\n",
    "$$N = 10$$ $$x = 2$$ $$y = 3$$ \n",
    "we want to compute the sum of all multiples of 2 and 3 up to and including 10:\n",
    "$$s = 2 + 3 + 4 + 6 + 8 + 9 + 10 = 42$$"
   ]
  },
  {
   "cell_type": "code",
   "execution_count": null,
   "metadata": {
    "collapsed": true
   },
   "outputs": [],
   "source": [
    "def multipleSum(N, x, y):\n",
    "    \n",
    "    # Your code here\n",
    "    \n",
    "    return s"
   ]
  },
  {
   "cell_type": "code",
   "execution_count": null,
   "metadata": {
    "collapsed": true
   },
   "outputs": [],
   "source": [
    "multipleSum(10, 2, 3) == 42"
   ]
  },
  {
   "cell_type": "code",
   "execution_count": null,
   "metadata": {
    "collapsed": true
   },
   "outputs": [],
   "source": [
    "multipleSum(20, 3, 7) == 84"
   ]
  },
  {
   "cell_type": "code",
   "execution_count": null,
   "metadata": {
    "collapsed": true
   },
   "outputs": [],
   "source": [
    "multipleSum(100, 5, 7) == 1680"
   ]
  },
  {
   "cell_type": "markdown",
   "metadata": {},
   "source": [
    "### Question 5: Forming Plural (3 points)\n",
    "\n",
    "Create a Python function `pluralize` that returns the plural of a word given the following rules:\n",
    " - If the word ends with `s` or `h`, add `es` to the end.\n",
    " - If the word ends with a `y`, change it to `ies`\n",
    " - Otherwise, just add an `s` to the end of the word.\n",
    " \n",
    " You may assume that the last letter of the word is lowercase."
   ]
  },
  {
   "cell_type": "code",
   "execution_count": null,
   "metadata": {
    "collapsed": true
   },
   "outputs": [],
   "source": [
    "def pluralize(w):\n",
    "    \n",
    "    # Your code here\n",
    "    \n",
    "    return s"
   ]
  },
  {
   "cell_type": "code",
   "execution_count": null,
   "metadata": {
    "collapsed": true
   },
   "outputs": [],
   "source": [
    "pluralize('Toad') == 'Toads'"
   ]
  },
  {
   "cell_type": "code",
   "execution_count": null,
   "metadata": {
    "collapsed": true
   },
   "outputs": [],
   "source": [
    "pluralize('Fish') == 'Fishes'"
   ]
  },
  {
   "cell_type": "code",
   "execution_count": null,
   "metadata": {
    "collapsed": true
   },
   "outputs": [],
   "source": [
    "pluralize('Fishy') == 'Fishies'"
   ]
  },
  {
   "cell_type": "markdown",
   "metadata": {},
   "source": [
    "### Bonus: Boring Strings (4 points)\n",
    "\n",
    "We will say that a string is **boring** if the same sequence of three characters appears more than once in the string.  For example, the following strings are boring:\n",
    "\n",
    "- `JONATHON LIKES PYTHON`\n",
    "- `SOMETIMES SARAH EATS SALADS`\n",
    "\n",
    "But these strings are not boring:\n",
    "\n",
    "- `ALICE LIKES PYTHON`\n",
    "- `I HEAR THE ART`\n",
    "\n",
    "Write a program that determines if a given string is boring.  You can assume that the string only contains upper-case letters and spaces."
   ]
  },
  {
   "cell_type": "code",
   "execution_count": null,
   "metadata": {
    "collapsed": true
   },
   "outputs": [],
   "source": [
    "def boring(s):\n",
    "    \n",
    "    # Your code here\n",
    "    \n",
    "    return False"
   ]
  },
  {
   "cell_type": "code",
   "execution_count": null,
   "metadata": {
    "collapsed": true
   },
   "outputs": [],
   "source": [
    "boring('JONATHON LIKES PYTHON') == True"
   ]
  },
  {
   "cell_type": "code",
   "execution_count": null,
   "metadata": {
    "collapsed": true
   },
   "outputs": [],
   "source": [
    "boring('SOMETIMES SARAH EATS SALADS') == True"
   ]
  },
  {
   "cell_type": "code",
   "execution_count": null,
   "metadata": {
    "collapsed": true
   },
   "outputs": [],
   "source": [
    "boring('ALICE LIKES PYTHON') == False"
   ]
  },
  {
   "cell_type": "code",
   "execution_count": null,
   "metadata": {
    "collapsed": true
   },
   "outputs": [],
   "source": [
    "boring('I HEAR THE ART') == False"
   ]
  }
 ],
 "metadata": {
  "kernelspec": {
   "display_name": "Python 2",
   "language": "python",
   "name": "python2"
  },
  "language_info": {
   "codemirror_mode": {
    "name": "ipython",
    "version": 2
   },
   "file_extension": ".py",
   "mimetype": "text/x-python",
   "name": "python",
   "nbconvert_exporter": "python",
   "pygments_lexer": "ipython2",
   "version": "2.7.14"
  }
 },
 "nbformat": 4,
 "nbformat_minor": 1
}
