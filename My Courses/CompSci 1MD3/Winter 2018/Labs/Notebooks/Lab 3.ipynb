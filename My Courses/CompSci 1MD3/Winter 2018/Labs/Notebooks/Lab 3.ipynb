{
 "cells": [
  {
   "cell_type": "markdown",
   "metadata": {},
   "source": [
    "## COMP SCI 1MD3 Introduction to Programming, Winter 2018\n",
    "### Douglas Stebila (Instructor), Joey Legere, Karl Knopf, Natalie Chin, Victor Chen (TAs)\n",
    "### Lab 1 Assigned Thursday, Jan 25, Due Wednesday Jan 31, 5pm\n",
    "### Maximum grade: 20 / 16\n",
    "\n",
    "The purpose of this lab is to:\n",
    "* Become familiar with for loops\n",
    "* Understand functions that can be applied to lists\n",
    "* Practice working with dictionaries\n",
    "\n",
    "\n",
    "You are supposed to download this notebook, embed your answers to the questions in the cells below, and submit it through Avenue. Name your notebook `yourmacid.ipynb`, where `yourmacid` is your Mac ID. For example, if your e-mail address is `legerejk@mcmaster.ca`, then name your notebook `legerejk.ipynb`."
   ]
  },
  {
   "cell_type": "markdown",
   "metadata": {},
   "source": [
    "### Practice Question: Word Frequency\n",
    "\n",
    "Given a sentence, s, produce a dictionary that tells you the number of times each word occurs in a string. You may assume each word is lowercase, there are no contractions, and each word is separated by a space."
   ]
  },
  {
   "cell_type": "code",
   "execution_count": null,
   "metadata": {
    "collapsed": true
   },
   "outputs": [],
   "source": [
    "def wordFrequency(s):\n",
    "    \n",
    "    # Your code here    \n",
    "    \n",
    "    return wc"
   ]
  },
  {
   "cell_type": "code",
   "execution_count": null,
   "metadata": {},
   "outputs": [],
   "source": [
    "wordFrequency(\"was it a car or cat i saw or was it a kangaroo\") == {'a': 2,\n",
    " 'car': 1,\n",
    " 'cat': 1,\n",
    " 'i': 1,\n",
    " 'it': 2,\n",
    " 'kangaroo': 1,\n",
    " 'or': 2,\n",
    " 'saw': 1,\n",
    " 'was': 2}"
   ]
  },
  {
   "cell_type": "code",
   "execution_count": null,
   "metadata": {},
   "outputs": [],
   "source": [
    "wordFrequency(\"this sentence has too too many repeated repeated words\") == {'has': 1,\n",
    " 'many': 1,\n",
    " 'repeated': 2,\n",
    " 'sentence': 1,\n",
    " 'this': 1,\n",
    " 'too': 2,\n",
    " 'words': 1}"
   ]
  },
  {
   "cell_type": "markdown",
   "metadata": {},
   "source": [
    "### Question 1a: Span of a List (1.5 points)\n",
    "\n",
    "The span, or range of a list of numbers is the difference between the largest and smallest elements of the list. Write a Python function **span(l)** that takes a non-empty list **l** of numbers and returns the span:"
   ]
  },
  {
   "cell_type": "code",
   "execution_count": null,
   "metadata": {
    "collapsed": true
   },
   "outputs": [],
   "source": [
    "def span(l):\n",
    "    \n",
    "    # Your code here.\n",
    "    \n",
    "    return s"
   ]
  },
  {
   "cell_type": "code",
   "execution_count": null,
   "metadata": {
    "collapsed": true
   },
   "outputs": [],
   "source": [
    "span([4, 2, 6, 9, 6]) == 7"
   ]
  },
  {
   "cell_type": "code",
   "execution_count": null,
   "metadata": {
    "collapsed": true
   },
   "outputs": [],
   "source": [
    "span([-3.4, 2.8, 3]) == 6.4"
   ]
  },
  {
   "cell_type": "code",
   "execution_count": null,
   "metadata": {
    "collapsed": true
   },
   "outputs": [],
   "source": [
    "span([5]) == 0"
   ]
  },
  {
   "cell_type": "markdown",
   "metadata": {},
   "source": [
    "### Question 1b: Bound of a List (1.5 points)\n",
    "\n",
    "The bound of a list of numbers is a pair with the smallest and largest number. Write a Python function **bound(l)** that takes non-empty list **l** and returns its bound as a list or tuple."
   ]
  },
  {
   "cell_type": "code",
   "execution_count": null,
   "metadata": {
    "collapsed": true
   },
   "outputs": [],
   "source": [
    "def bound(l):\n",
    "    \n",
    "    # Your code here.\n",
    "    \n",
    "    return b"
   ]
  },
  {
   "cell_type": "code",
   "execution_count": null,
   "metadata": {
    "collapsed": true
   },
   "outputs": [],
   "source": [
    "bound([4, 2, 6, 9, 6]) == [2, 9]"
   ]
  },
  {
   "cell_type": "code",
   "execution_count": null,
   "metadata": {
    "collapsed": true
   },
   "outputs": [],
   "source": [
    "bound([-3.4, 2.8, 3]) == [-3.4, 3]"
   ]
  },
  {
   "cell_type": "code",
   "execution_count": null,
   "metadata": {
    "collapsed": true
   },
   "outputs": [],
   "source": [
    "bound([5]) == [5, 5]"
   ]
  },
  {
   "cell_type": "markdown",
   "metadata": {},
   "source": [
    "### Question 1c: Arithmetic Mean of a List (1.5 points)\n",
    "\n",
    "The arithmetic mean of a series $x$ of $n$ numbers is defined as: $$ \\frac{1}{n} \\sum{x} $$.\n",
    "\n",
    "Write a function **arithmetic_mean(l)** that takes a non-empty list **l** and returns its arithmetic mean as a floating-point number."
   ]
  },
  {
   "cell_type": "code",
   "execution_count": null,
   "metadata": {
    "collapsed": true
   },
   "outputs": [],
   "source": [
    "def arithmetic_mean(l):\n",
    "    \n",
    "    # Your code here\n",
    "    \n",
    "    return m"
   ]
  },
  {
   "cell_type": "code",
   "execution_count": null,
   "metadata": {
    "collapsed": true
   },
   "outputs": [],
   "source": [
    "arithmetic_mean([5, 7, 9]) == 7.0"
   ]
  },
  {
   "cell_type": "code",
   "execution_count": null,
   "metadata": {
    "collapsed": true
   },
   "outputs": [],
   "source": [
    "arithmetic_mean([3.2, 2.8]) == 3.0"
   ]
  },
  {
   "cell_type": "code",
   "execution_count": null,
   "metadata": {
    "collapsed": true
   },
   "outputs": [],
   "source": [
    "arithmetic_mean([42]) == 42.0"
   ]
  },
  {
   "cell_type": "markdown",
   "metadata": {},
   "source": [
    "### Question 2: Subset Sum (2.5 points)\n",
    "\n",
    "Write a function subsetsum(l, s) that determines if there are any two numbers in the list l that add to s.\n",
    "\n",
    "e.g., for ([1, 2, 3], 5), it would be True, since 2 + 3 = 5.\n",
    "<br>([1, 2, 3], 6) would be false since there are no two numbers that add to six in the list (you cannot use the same value of three twice). On the contrary, if the input were ([1, 2, 3, 3], 6), this would be true because there are two 3s in the list."
   ]
  },
  {
   "cell_type": "code",
   "execution_count": null,
   "metadata": {
    "collapsed": true
   },
   "outputs": [],
   "source": [
    "def subsetsum(l, s):\n",
    "    \n",
    "    # Your code here.\n",
    "    \n",
    "    return subset\n",
    "    "
   ]
  },
  {
   "cell_type": "code",
   "execution_count": null,
   "metadata": {
    "collapsed": true
   },
   "outputs": [],
   "source": [
    "subsetsum([1, 2, 3], 5) == True"
   ]
  },
  {
   "cell_type": "code",
   "execution_count": null,
   "metadata": {
    "collapsed": true
   },
   "outputs": [],
   "source": [
    "subsetsum([1, 2, 2], 4) == True"
   ]
  },
  {
   "cell_type": "code",
   "execution_count": null,
   "metadata": {
    "collapsed": true
   },
   "outputs": [],
   "source": [
    "subsetsum([1, 2, 3], 6) == False"
   ]
  },
  {
   "cell_type": "markdown",
   "metadata": {},
   "source": [
    "### Question 3a: Shortening Sentences (2 points)\n",
    "To speed up texting your friends, you are thinking of leaving out all vowels. Write a Python function `shorten(s)` that takes an arbitrary string and removes all uppercase and lowercase vowels."
   ]
  },
  {
   "cell_type": "code",
   "execution_count": null,
   "metadata": {
    "collapsed": true
   },
   "outputs": [],
   "source": [
    "def shorten(s):\n",
    "    \n",
    "    # Your code here.\n",
    "    \n",
    "    return short_s"
   ]
  },
  {
   "cell_type": "code",
   "execution_count": null,
   "metadata": {
    "collapsed": true
   },
   "outputs": [],
   "source": [
    "shorten('What is the airspeed velocity of an unladen swallow?') == 'Wht s th rspd vlcty f n nldn swllw?'"
   ]
  },
  {
   "cell_type": "code",
   "execution_count": null,
   "metadata": {
    "collapsed": true
   },
   "outputs": [],
   "source": [
    "shorten('') == ''"
   ]
  },
  {
   "cell_type": "code",
   "execution_count": null,
   "metadata": {
    "collapsed": true
   },
   "outputs": [],
   "source": [
    "shorten('AEIOUaeiou') == ''"
   ]
  },
  {
   "cell_type": "markdown",
   "metadata": {},
   "source": [
    "### Question 3b: Shortening Sentence II (2 points)\n",
    "\n",
    "You find out that the resulting words are sometime incomprehensible and like to improve your method by removing only those vowels that directly follow another letter. This means keeping the vowel at the beginning of a word--specifically, any letter following a space. Write a Python function `shortenPlus(s)` that takes an arbitrary string and removes some vowels."
   ]
  },
  {
   "cell_type": "code",
   "execution_count": null,
   "metadata": {
    "collapsed": true
   },
   "outputs": [],
   "source": [
    "def shortenPlus(s):\n",
    "    \n",
    "    # Your code here\n",
    "    \n",
    "    return short_s"
   ]
  },
  {
   "cell_type": "code",
   "execution_count": null,
   "metadata": {
    "collapsed": true
   },
   "outputs": [],
   "source": [
    "shortenPlus('What is the airspeed velocity of an unladen swallow') == 'Wht is th arspd vlcty of an unldn swllw'"
   ]
  },
  {
   "cell_type": "code",
   "execution_count": null,
   "metadata": {
    "collapsed": true
   },
   "outputs": [],
   "source": [
    "shortenPlus('AEIOUaeiou') == 'A'"
   ]
  },
  {
   "cell_type": "code",
   "execution_count": null,
   "metadata": {
    "collapsed": true
   },
   "outputs": [],
   "source": [
    "shortenPlus('x Ax Ex Ix Ox UY aY eY iY oY uY') == 'x Ax Ex Ix Ox UY aY eY iY oY uY'"
   ]
  },
  {
   "cell_type": "markdown",
   "metadata": {},
   "source": [
    "### Question 4: University Majors (2.5 points)\n",
    "\n",
    "Given a dictionary that tell you a person's major, write a Python function that, given a person's name and a major, returns `True` if that person is majoring that subject, and `False` otherwise"
   ]
  },
  {
   "cell_type": "code",
   "execution_count": null,
   "metadata": {
    "collapsed": true
   },
   "outputs": [],
   "source": [
    "def check_major(name, major, majors_dict):\n",
    "    \n",
    "    # Your code here.\n",
    "    \n",
    "    return is_major\n",
    "    "
   ]
  },
  {
   "cell_type": "code",
   "execution_count": null,
   "metadata": {
    "collapsed": true
   },
   "outputs": [],
   "source": [
    "majors_1 = {\"Josh\": \"Engineering\", \"Carol\": \"Accounting\", \"Douglas\": \"Art History\", \"Irene\": \"Engineering\", \"Robert\": \"Engineering\", \"Christine\": \"Accounting\", \"Charles\": \"Accounting\"}\n",
    "check_major(\"Douglas\", \"Art History\", majors_1) == True"
   ]
  },
  {
   "cell_type": "code",
   "execution_count": null,
   "metadata": {
    "collapsed": true
   },
   "outputs": [],
   "source": [
    "majors_1 = {\"Josh\": \"Engineering\", \"Carol\": \"Accounting\", \"Douglas\": \"Art History\", \"Irene\": \"Engineering\", \"Robert\": \"Engineering\", \"Christine\": \"Accounting\", \"Charles\": \"Accounting\"}\n",
    "check_major(\"Josh\", \"Accounting\", majors_1) == False"
   ]
  },
  {
   "cell_type": "markdown",
   "metadata": {},
   "source": [
    "### Question 4b: University Majors II (2.5 points)\n",
    "\n",
    "Given a dictonary that instead maps majors to lists of names, repeat the above question."
   ]
  },
  {
   "cell_type": "code",
   "execution_count": null,
   "metadata": {
    "collapsed": true
   },
   "outputs": [],
   "source": [
    "def check_major2(name, major, major_dictionary):\n",
    "    \n",
    "    # Your code here\n",
    "    \n",
    "    return is_major"
   ]
  },
  {
   "cell_type": "code",
   "execution_count": null,
   "metadata": {
    "collapsed": true
   },
   "outputs": [],
   "source": [
    "majors_2 = {\"Engineering\": [\"Josh\", \"Robert\", \"Irene\"], \"Accounting\": [\"Carol\", \"Christine\", \"Charles\"], \"Art History\": [\"Douglas\"]}\n",
    "check_major2(\"Douglas\", \"Art History\", majors_2) == True"
   ]
  },
  {
   "cell_type": "code",
   "execution_count": null,
   "metadata": {
    "collapsed": true
   },
   "outputs": [],
   "source": [
    "majors_2 = {\"Engineering\": [\"Josh\", \"Robert\", \"Irene\"], \"Accounting\": [\"Carol\", \"Christine\", \"Charles\"], \"Art History\": [\"Douglas\"]}\n",
    "check_major2(\"Josh\", \"Accounting\", majors_2) == False"
   ]
  },
  {
   "cell_type": "markdown",
   "metadata": {},
   "source": [
    "### Bonus: 1337 h4x0r (4 p01n7z)\n",
    "\n",
    "Write a function that translates an English sentence to leetspeak.\n",
    "\n",
    "<br>Hints: You will want to turn your sentence into a list of words, replace those, and then turn it back into a sentence before replacing letters. To turn a list of words into a sentence, you can use the syntax:\n",
    "<br>`new_sentence = \" \".join(old_list)`\n",
    "<br>This will join all the values in \"old list\" into a string, separated by spaces.\n",
    "<br>If you want to determine if a word is in your dictionary, use \"if word in dictionary.keys()\"\n",
    "\n",
    "You may assume that the sentences are, much like YouTube comments, devoid of any punctuation or capitalization.\n",
    "\n",
    "\n",
    "Use the following general algorithm:\n",
    "Replace the following words:<ul>\n",
    "<li>elite -> leet\n",
    "<li>the -> teh\n",
    "<li>hacker -> haxor\n",
    "<li>hack -> hax\n",
    "<li>own -> pwn\n",
    "<li>owned -> pwned\n",
    "<li>dude -> dood\n",
    "<li>rocks -> roxxorz\n",
    "<li>1md3 -> most awesome course ever\n",
    "</ul>\n",
    "<br>If any word ends with an 's', replace it with a 'z'\n",
    "\n",
    "Replace the following letters:<ul>\n",
    "<li>a -> \"@\"\n",
    "<li>e -> \"3\"\n",
    "<li>t -> \"7\"\n",
    "<li>l -> \"1\"\n",
    "<li>o -> \"0\"\n",
    "<li>s -> \"$\"\n",
    "</ul>\n"
   ]
  },
  {
   "cell_type": "code",
   "execution_count": null,
   "metadata": {
    "collapsed": true
   },
   "outputs": [],
   "source": [
    "def leet(s):\n",
    "    \n",
    "    # Your code here\n",
    "    \n",
    "    return leet_sentence"
   ]
  },
  {
   "cell_type": "code",
   "execution_count": null,
   "metadata": {
    "collapsed": true
   },
   "outputs": [],
   "source": [
    "leet(\"abcdefghijklmnopqrstuvwxyz\") == '@bcd3fghijk1mn0pqr$7uvwxyz'"
   ]
  },
  {
   "cell_type": "code",
   "execution_count": null,
   "metadata": {
    "collapsed": true
   },
   "outputs": [],
   "source": [
    "leet(\"i am a elite hacker\") == 'i @m @ 1337 h@x0r'"
   ]
  },
  {
   "cell_type": "code",
   "execution_count": null,
   "metadata": {
    "collapsed": true
   },
   "outputs": [],
   "source": [
    "leet(\"dont let your memes be dreams\") == 'd0n7 137 y0ur m3m3z b3 dr3@mz'"
   ]
  }
 ],
 "metadata": {
  "kernelspec": {
   "display_name": "Python 3",
   "language": "python",
   "name": "python3"
  },
  "language_info": {
   "codemirror_mode": {
    "name": "ipython",
    "version": 3
   },
   "file_extension": ".py",
   "mimetype": "text/x-python",
   "name": "python",
   "nbconvert_exporter": "python",
   "pygments_lexer": "ipython3",
   "version": "3.6.3"
  }
 },
 "nbformat": 4,
 "nbformat_minor": 1
}
