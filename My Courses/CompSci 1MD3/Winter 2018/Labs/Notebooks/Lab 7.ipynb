{
 "cells": [
  {
   "cell_type": "markdown",
   "metadata": {
    "deletable": false,
    "editable": false,
    "nbgrader": {
     "checksum": "769bfdac0fd352228fd96deb8b62c402",
     "grade": false,
     "grade_id": "cell-8270991a73638fc0",
     "locked": true,
     "schema_version": 1,
     "solution": false
    }
   },
   "source": [
    "## COMP SCI 1MD3 Introduction to Programming, Winter 2018\n",
    "### Douglas Stebila (Instructor), Joey Legere, Karl Knopf, Natalie Chin, Victor Chen (TAs)\n",
    "### Lab 7 Assigned Wednesday, Feb 28, Due Wednesday March 7, 5pm\n",
    "### Maximum grade: 20 / 16\n",
    "\n",
    "The purpose of this lab is to:\n",
    "* Practice extending existing classes\n",
    "* Implement basic operators for classes such as +, -, `__getitem__` and *\n",
    "* Create your own custom classes and exceptions"
   ]
  },
  {
   "cell_type": "markdown",
   "metadata": {
    "deletable": false,
    "editable": false,
    "nbgrader": {
     "checksum": "cdf95f4a4cbc594e49f941bef12a079b",
     "grade": false,
     "grade_id": "cell-447989ca42b4d15d",
     "locked": true,
     "schema_version": 1,
     "solution": false
    }
   },
   "source": [
    "#### Practice Question: Blackjack\n",
    "\n",
    "Write a program that draws cards from a deck, and simulates a game of blackjack.\n",
    "\n",
    "First, create a class representing a card by filling in the template below. For the value method, Jacks, Kings, and Queens are worth 10, and aces should be returned as 1--whether or not an ace is high (11) or low (1) can be decided by the program that is \"playing\" blackjack later."
   ]
  },
  {
   "cell_type": "code",
   "execution_count": null,
   "metadata": {},
   "outputs": [],
   "source": [
    "class Card:\n",
    "    \n",
    "    def __init__(self, suit, face):\n",
    "        \n",
    "        pass # Your code here.\n",
    "        \n",
    "    def value(self):\n",
    "        '''\n",
    "        Returns the value of the card as an integer.\n",
    "        For Aces, return 1.\n",
    "        '''\n",
    "        \n",
    "        pass # Your code here."
   ]
  },
  {
   "cell_type": "code",
   "execution_count": null,
   "metadata": {},
   "outputs": [],
   "source": [
    "c1 = Card(\"Spades\", 3)\n",
    "c1.value() == 3"
   ]
  },
  {
   "cell_type": "code",
   "execution_count": null,
   "metadata": {},
   "outputs": [],
   "source": [
    "c2 = Card(\"Hearts\", \"K\")\n",
    "c2.value() == 10"
   ]
  },
  {
   "cell_type": "code",
   "execution_count": null,
   "metadata": {},
   "outputs": [],
   "source": [
    "c3 = Card(\"Diamonds\", \"A\")\n",
    "c3.value() == 1"
   ]
  },
  {
   "cell_type": "markdown",
   "metadata": {
    "deletable": false,
    "editable": false,
    "nbgrader": {
     "checksum": "43ca38a722d5c6159c60ef6f849f4e6a",
     "grade": false,
     "grade_id": "cell-bbb3e20c9359dc34",
     "locked": true,
     "schema_version": 1,
     "solution": false
    }
   },
   "source": [
    "Now, create a `Deck` class that consists of 52 cards by filling in the template below. Represent the suit of cards as a string: `(\"Spades\", \"Diamonds\", \"Hearts\", \"Clubs\")` and the face of cards as a single character or integer: `[2, 3, 4, 5, 6, 7, 8, 9, 10, \"J\", \"Q\", \"K\", \"A\"]`"
   ]
  },
  {
   "cell_type": "code",
   "execution_count": null,
   "metadata": {},
   "outputs": [],
   "source": [
    "class Deck:\n",
    "    \n",
    "    def __init__(self):\n",
    "\n",
    "            \n",
    "    def draw(self):\n",
    "        \"\"\"\n",
    "        Returns the card at the top of the deck, and removes it from the deck\n",
    "        \"\"\"\n",
    "    \n",
    "        pass\n",
    "    def shuffle(self):\n",
    "        \"\"\"\n",
    "        Shuffle the remaining cards in the deck.\n",
    "        \"\"\"\n",
    "        pass\n",
    "    \n",
    "    def reshuffle(self):\n",
    "        \"\"\"\n",
    "        Put all the cards back in the deck, and shuffle it.\n",
    "        \"\"\"\n",
    "        pass\n"
   ]
  },
  {
   "cell_type": "code",
   "execution_count": null,
   "metadata": {},
   "outputs": [],
   "source": [
    "d = Deck()"
   ]
  },
  {
   "cell_type": "code",
   "execution_count": null,
   "metadata": {},
   "outputs": [],
   "source": [
    "card = d.draw()\n",
    "print(card.suit)\n",
    "print(card.face)\n",
    "print(card.value()) # Pay attention to the brackets here. value() is a method, so we need to call it like one"
   ]
  },
  {
   "cell_type": "code",
   "execution_count": null,
   "metadata": {},
   "outputs": [],
   "source": [
    "d.shuffle()"
   ]
  },
  {
   "cell_type": "code",
   "execution_count": null,
   "metadata": {},
   "outputs": [],
   "source": [
    "card = d.draw()\n",
    "print(card.suit)\n",
    "print(card.face)\n",
    "print(card.value()) # Pay attention to the brackets here. value() is a method, so we need to call it like one"
   ]
  },
  {
   "cell_type": "markdown",
   "metadata": {
    "deletable": false,
    "editable": false,
    "nbgrader": {
     "checksum": "4a55c46b151138f7d962c93d3b381fd3",
     "grade": false,
     "grade_id": "cell-74ac21bef44beb1f",
     "locked": true,
     "schema_version": 1,
     "solution": false
    }
   },
   "source": [
    "The following function returns the value of a hand (as a list of `Card` objects) in blackjack:"
   ]
  },
  {
   "cell_type": "code",
   "execution_count": null,
   "metadata": {},
   "outputs": [],
   "source": [
    "def value(hand):\n",
    "    \n",
    "    val = 0\n",
    "    num_aces = 0\n",
    "    \n",
    "    for card in hand:\n",
    "        this_val = card.value()\n",
    "        \n",
    "        if this_val != 1:\n",
    "            val += this_val\n",
    "        else:\n",
    "            num_aces += 1\n",
    "    \n",
    "    while num_aces > 0:\n",
    "        \n",
    "        if val + 11 > 21:\n",
    "            val += 1\n",
    "        else:\n",
    "            val += 11\n",
    "            \n",
    "        num_aces -= 1\n",
    "    \n",
    "    return val"
   ]
  },
  {
   "cell_type": "markdown",
   "metadata": {
    "deletable": false,
    "editable": false,
    "nbgrader": {
     "checksum": "57349cefb69a11d4ecd16310f7d52e11",
     "grade": false,
     "grade_id": "cell-48f815e8b37ac6b7",
     "locked": true,
     "schema_version": 1,
     "solution": false
    }
   },
   "source": [
    "#### Question 1a: Extending Geometric Shapes (2 points)\n",
    "\n",
    "Add the method `area` to the classes `Line` and `Rectangle` that returns the area of the given shapes. The area of a line is always `0`."
   ]
  },
  {
   "cell_type": "code",
   "execution_count": null,
   "metadata": {
    "deletable": false,
    "nbgrader": {
     "checksum": "e6c6d66886b9dd98c0358ce661ba1eca",
     "grade": false,
     "grade_id": "cell-a5f50ca21561ee40",
     "locked": false,
     "schema_version": 1,
     "solution": true
    }
   },
   "outputs": [],
   "source": [
    "class Shape:\n",
    "    def setOrigin(self, x, y):\n",
    "        self.x, self.y = x, y\n",
    "        \n",
    "    def move(self, dx, dy):\n",
    "        \"\"\"Move by dx and dy\"\"\"\n",
    "        self.x, self.y = self.x + dx, self.y + dy\n",
    "\n",
    "class Line(Shape):\n",
    "    def __init__(self, x, y, u, v):\n",
    "        \"\"\"Line with start point (x, y) and end point (u, v)\"\"\"\n",
    "        Shape.setOrigin(self, x, y)\n",
    "        self.u, self.v = u, v\n",
    "        \n",
    "    def move(self, dx, dy):\n",
    "        Shape.move(self, dx, dy)\n",
    "        self.u, self.v = self.u + dx, self.v + dy\n",
    "        \n",
    "    def area(self):\n",
    "        pass # Replace this line with your body\n",
    "    \n",
    "    def __str__(self):\n",
    "        return \"Line from (\" + str(self.x) + \", \" + str(self.y) + \\\n",
    "               \") to (\" + str(self.u) + \", \" + str(self.v) + \")\"\n",
    "\n",
    "class Rectangle(Shape):\n",
    "    def __init__(self, x, y, w, h):\n",
    "        \"\"\"Rectangle at (x, y) with width w and height h\"\"\"\n",
    "        Shape.setOrigin(self, x, y)\n",
    "        self.w, self.h = w, h\n",
    "        \n",
    "    def area(self):\n",
    "        pass # Replace this line with your body\n",
    "        \n",
    "    def __str__(self):\n",
    "        return \"Rectangle at (\" + str(self.x) + \", \" + str(self.y) + \\\n",
    "               \"), width \" + str(self.w) + \", height \" + str(self.h)"
   ]
  },
  {
   "cell_type": "code",
   "execution_count": null,
   "metadata": {},
   "outputs": [],
   "source": [
    "r = Rectangle(-2, -3, 2, 3)"
   ]
  },
  {
   "cell_type": "code",
   "execution_count": null,
   "metadata": {},
   "outputs": [],
   "source": [
    "l = Line(1, 2, 5, 6)"
   ]
  },
  {
   "cell_type": "code",
   "execution_count": null,
   "metadata": {},
   "outputs": [],
   "source": [
    "str(r) == \"Rectangle at (-2, -3), width 2, height 3\""
   ]
  },
  {
   "cell_type": "code",
   "execution_count": null,
   "metadata": {},
   "outputs": [],
   "source": [
    "str(l) == \"Line from (1, 2) to (5, 6)\""
   ]
  },
  {
   "cell_type": "code",
   "execution_count": null,
   "metadata": {},
   "outputs": [],
   "source": [
    "l.area() == 0"
   ]
  },
  {
   "cell_type": "code",
   "execution_count": null,
   "metadata": {},
   "outputs": [],
   "source": [
    "r.area() == 6"
   ]
  },
  {
   "cell_type": "code",
   "execution_count": null,
   "metadata": {
    "deletable": false,
    "editable": false,
    "nbgrader": {
     "checksum": "01e7ca39c6c02f948b66fc3f1dbf6a91",
     "grade": true,
     "grade_id": "cell-6f60efc3ada4cd3a",
     "locked": true,
     "points": 1,
     "schema_version": 1,
     "solution": false
    }
   },
   "outputs": [],
   "source": [
    "# Hidden test for 1a"
   ]
  },
  {
   "cell_type": "code",
   "execution_count": null,
   "metadata": {
    "deletable": false,
    "editable": false,
    "nbgrader": {
     "checksum": "c95f8fd3c569d6cbd2af9f0a2d653413",
     "grade": true,
     "grade_id": "cell-e5f9d3ac468b7100",
     "locked": true,
     "points": 1,
     "schema_version": 1,
     "solution": false
    }
   },
   "outputs": [],
   "source": [
    "# Hidden test for 1a"
   ]
  },
  {
   "cell_type": "markdown",
   "metadata": {
    "deletable": false,
    "editable": false,
    "nbgrader": {
     "checksum": "5d0845fb06f73ea29106f6cb8769eb02",
     "grade": false,
     "grade_id": "cell-167808fc5b8e05b0",
     "locked": true,
     "schema_version": 1,
     "solution": false
    }
   },
   "source": [
    "#### Question 1b: Groups of Shapes (2 points)\n",
    "\n",
    "The class below represents a group of shapes. For instance, a group could be a square, a rectangle, and a triangle. Implement the `area` method for the `Group` class.\n",
    "\n",
    "The area of a group is just the total area of the shapes in the group. For the purpose of this assignment, we will not consider cases where shapes overlap, you simply need to add the areas of the shapes in a group independently."
   ]
  },
  {
   "cell_type": "code",
   "execution_count": null,
   "metadata": {
    "deletable": false,
    "nbgrader": {
     "checksum": "68371e6e99b7cc973e45e9621f27b748",
     "grade": false,
     "grade_id": "cell-d8bd6680a06909ab",
     "locked": false,
     "schema_version": 1,
     "solution": true
    }
   },
   "outputs": [],
   "source": [
    "class Group:\n",
    "    def __init__(self):\n",
    "        self.c = set()\n",
    "    def add(self, s):\n",
    "        \"\"\"Add shape s to group\"\"\"\n",
    "        self.c.add(s)\n",
    "    def move(self, dx, dy):\n",
    "        \"\"\"Move by dx and dy\"\"\"\n",
    "        for s in self.c:\n",
    "            s.move(dx, dy)\n",
    "            \n",
    "    def area(self):\n",
    "        pass # Replace this line with your body\n",
    "        \n",
    "    def __str__(self):\n",
    "        r = \"Group with:\"\n",
    "        for s in self.c:\n",
    "            r = r + \"\\n  \" + str(s)\n",
    "        return r"
   ]
  },
  {
   "cell_type": "markdown",
   "metadata": {
    "deletable": false,
    "editable": false,
    "nbgrader": {
     "checksum": "a177d1e9b91280dcaa7d459cad5ff48a",
     "grade": false,
     "grade_id": "cell-09bf98b17fb64ee4",
     "locked": true,
     "schema_version": 1,
     "solution": false
    }
   },
   "source": [
    "The following cell should create a new group, and add both our line and rectangle from above to it. The output should look like:\n",
    "```\n",
    "Group with:\n",
    "  Line from (1, 2) to (5, 6)\n",
    "  Rectangle at (-2, -3), width 2, height 3\n",
    "```"
   ]
  },
  {
   "cell_type": "code",
   "execution_count": null,
   "metadata": {},
   "outputs": [],
   "source": [
    "g1 = Group()\n",
    "g1.add(l)\n",
    "g1.add(r)\n",
    "print(g1)"
   ]
  },
  {
   "cell_type": "markdown",
   "metadata": {
    "collapsed": true,
    "deletable": false,
    "editable": false,
    "nbgrader": {
     "checksum": "44c13f79a4da607adb9f891e20de931b",
     "grade": false,
     "grade_id": "cell-dbfea09668238eaa",
     "locked": true,
     "schema_version": 1,
     "solution": false
    }
   },
   "source": [
    "Now, if we move every element in the group up one unit and to the right one unit, the output should look like:\n",
    "```\n",
    "Group with:\n",
    "  Line from (2, 3) to (6, 7)\n",
    "  Rectangle at (-1, -2), width 2, height 3\n",
    "```"
   ]
  },
  {
   "cell_type": "code",
   "execution_count": null,
   "metadata": {},
   "outputs": [],
   "source": [
    "g1.move(1, 1)\n",
    "print(g1)"
   ]
  },
  {
   "cell_type": "code",
   "execution_count": null,
   "metadata": {},
   "outputs": [],
   "source": [
    "g1.area() == 6"
   ]
  },
  {
   "cell_type": "code",
   "execution_count": null,
   "metadata": {
    "deletable": false,
    "editable": false,
    "nbgrader": {
     "checksum": "8e953adfd38e76c03b943145d1bb95f7",
     "grade": true,
     "grade_id": "cell-8d57d815985b12c1",
     "locked": true,
     "points": 1,
     "schema_version": 1,
     "solution": false
    }
   },
   "outputs": [],
   "source": [
    "# Hidden test for 1b"
   ]
  },
  {
   "cell_type": "code",
   "execution_count": null,
   "metadata": {
    "deletable": false,
    "editable": false,
    "nbgrader": {
     "checksum": "bee335a99667e6ba36c8dbaed90e9c03",
     "grade": true,
     "grade_id": "cell-6b7a02039a4e74df",
     "locked": true,
     "points": 1,
     "schema_version": 1,
     "solution": false
    }
   },
   "outputs": [],
   "source": [
    "# Hidden test for 1b"
   ]
  },
  {
   "cell_type": "markdown",
   "metadata": {
    "deletable": false,
    "editable": false,
    "nbgrader": {
     "checksum": "6003a900a939ee3b0afbdf45b68afbc5",
     "grade": false,
     "grade_id": "cell-e8c3b20eca9a5ce1",
     "locked": true,
     "schema_version": 1,
     "solution": false
    }
   },
   "source": [
    "#### Question 1c: Creating New Shapes (4 points)\n",
    "\n",
    "Create two new shapes: `Circle` and `Polygon`.\n",
    "\n",
    "Classes `Circle` and `Polygon` should inherit from `Shape`. For circles, at creation the radius has to be specified and the `__str__` method should return a string in the same style as for `Line` and `Rectangle`. The are of circles should be computed in the usual way. For this, import `pi` from `math`.  The area of a non-self-intersecting polygon with $n$ vertices is defined as\n",
    "\n",
    "> $A = {1 \\over 2} \\sum_{i=0}^{n-1}(x_i y_{i+1}-x_{i+1} y_i)$\n",
    "\n",
    "where each $x_i$, $y_i$ represents a vertex (“corner”) of a polygon and where $x_n = x_0$ and $y_n = y_0$. Note that the area of a convex polygon is positive if the points are in counterclockwise order and negative if they are in clockwise order. (The Wikipedia page takes the absolute value to avoid negative areas. Don’t do this here.)"
   ]
  },
  {
   "cell_type": "code",
   "execution_count": null,
   "metadata": {
    "deletable": false,
    "nbgrader": {
     "checksum": "f9359860f76365bff8eeda04caaf9fb3",
     "grade": false,
     "grade_id": "cell-9aba98829f8fe16b",
     "locked": false,
     "schema_version": 1,
     "solution": true
    }
   },
   "outputs": [],
   "source": [
    "# Create classes Circle and Polygon here\n",
    "\n",
    "class Circle(Shape):\n",
    "    pass # Replace this line with your methods\n",
    "    \n",
    "class Polygon(Shape):\n",
    "    pass # Replace this line with your methods    \n",
    "    "
   ]
  },
  {
   "cell_type": "code",
   "execution_count": null,
   "metadata": {},
   "outputs": [],
   "source": [
    "g2 = Group()\n",
    "\n",
    "p = Polygon([(0, 0), (4, 0), (2, 2), (4, 4), (0, 4), (2, 2)])\n",
    "g2.add(p)\n",
    "\n",
    "c = Circle(1, -5, 1)\n",
    "g2.add(c)"
   ]
  },
  {
   "cell_type": "code",
   "execution_count": null,
   "metadata": {},
   "outputs": [],
   "source": [
    "str(c) == \"Circle at (1, -5), radius 1\""
   ]
  },
  {
   "cell_type": "code",
   "execution_count": null,
   "metadata": {},
   "outputs": [],
   "source": [
    "str(p) == \"Polygon with [(0, 0), (4, 0), (2, 2), (4, 4), (0, 4), (2, 2)]\""
   ]
  },
  {
   "cell_type": "code",
   "execution_count": null,
   "metadata": {},
   "outputs": [],
   "source": [
    "c.area() == 3.141592653589793"
   ]
  },
  {
   "cell_type": "code",
   "execution_count": null,
   "metadata": {},
   "outputs": [],
   "source": [
    "p.area() == 8.0"
   ]
  },
  {
   "cell_type": "code",
   "execution_count": null,
   "metadata": {},
   "outputs": [],
   "source": [
    "round(g2.area(), 3) == 11.142"
   ]
  },
  {
   "cell_type": "code",
   "execution_count": null,
   "metadata": {
    "deletable": false,
    "editable": false,
    "nbgrader": {
     "checksum": "a855ac41c061cf9f8b6d25f2b6a2ebfd",
     "grade": true,
     "grade_id": "cell-8eb29d4032a54dc9",
     "locked": true,
     "points": 1,
     "schema_version": 1,
     "solution": false
    }
   },
   "outputs": [],
   "source": [
    "# Hidden test for 1c"
   ]
  },
  {
   "cell_type": "code",
   "execution_count": null,
   "metadata": {
    "deletable": false,
    "editable": false,
    "nbgrader": {
     "checksum": "6ade569e8f72d406b78d058a6cb94bc0",
     "grade": true,
     "grade_id": "cell-6c05305a2740ebc5",
     "locked": true,
     "points": 1,
     "schema_version": 1,
     "solution": false
    }
   },
   "outputs": [],
   "source": [
    "# Hidden test for 1c"
   ]
  },
  {
   "cell_type": "code",
   "execution_count": null,
   "metadata": {
    "deletable": false,
    "editable": false,
    "nbgrader": {
     "checksum": "811149d76d043ccf25f9cddf876b8d4c",
     "grade": true,
     "grade_id": "cell-ba7f2b5975797431",
     "locked": true,
     "points": 1,
     "schema_version": 1,
     "solution": false
    }
   },
   "outputs": [],
   "source": [
    "# Hidden test for 1c"
   ]
  },
  {
   "cell_type": "code",
   "execution_count": null,
   "metadata": {
    "deletable": false,
    "editable": false,
    "nbgrader": {
     "checksum": "cdf596fcd08ee4c239a4363398fc1464",
     "grade": true,
     "grade_id": "cell-7ab5c37b49545f0b",
     "locked": true,
     "points": 1,
     "schema_version": 1,
     "solution": false
    }
   },
   "outputs": [],
   "source": [
    "# Hidden test for 1c"
   ]
  },
  {
   "cell_type": "markdown",
   "metadata": {
    "deletable": false,
    "editable": false,
    "nbgrader": {
     "checksum": "d6a6ce81b12abdc7f0e4856b6b3375d6",
     "grade": false,
     "grade_id": "cell-29daefae924637a8",
     "locked": true,
     "schema_version": 1,
     "solution": false
    }
   },
   "source": [
    "#### Question 2: Defining Vectors (7 points)\n",
    "Define class `Vector` for n-dimensional vectors as follows:\n",
    "- `Vector(l)`: Creates a new vector with dimension `len(l)` from list `l` of numbers; raises `TypeError` if `l` is not a list or not all of its elements are of type `int` or `float`.\n",
    "- `v.dim()`: Returns the dimension (length) of the vector.\n",
    "- `v. __getitem__(i)`: Returns the `i`-th component of the vector, **where components are indexed starting from `1`**; raises `IndexError` if `i` is less than `1` or greater than the dimension of the vector.\n",
    "- `v. __setitem__(i, x)`: Sets the `i`-th component of vector `v` to `x`, where components are indexed starting from `1`; raises `IndexError` if `i` is less than `1` or greater than the dimension of the vector.\n",
    "- `v.__str__()`: Returns a string with a readable representation of the vector, see the example below.\n",
    "- `v. __add__(other)`: Returns a new vector that is the component-wise sum of `v` and other; raises `ValueError` if `other` is not of type `Vector` or if `other` is of a different dimension.\n",
    "- `v.__mul__(other)`: If `other` is of type `int` or `float`, returns a new vector resulting from the scalar multiplication of `v` with `other`, , i.e. with each component of `v` multiplied by scalar. If `other` is of type `Vector`, returns the dot product of `v` and `other`, which is the sum of the products of the corresponding components; raises `ValueError` if `other` is of different dimension in this case. If the type of `other` is none of `Vector`, `int`, `float`, raises `AssertionError`.  \n",
    "- `v.__rmul__(other)`: Defined exactly like `v.__mul__(other)`\n",
    "\n",
    "Python uses following equivalent notations:\n",
    "\n",
    "    v[i]       =  v.__getitem__(i)\n",
    "    v[i] = x   =  v.__setitem__(i, x)\n",
    "    str(v)     =  v.__str__()\n",
    "    v + other  =  v.__add__(other)\n",
    "    v * other  =  v.__mul__(other)\n",
    "    other * v  =  v.__rmul__(other)   if other.__mul__(v) is not defined "
   ]
  },
  {
   "cell_type": "code",
   "execution_count": null,
   "metadata": {
    "deletable": false,
    "nbgrader": {
     "checksum": "385581863a03a7c3af4267b831fbf522",
     "grade": false,
     "grade_id": "cell-e2595c6e1f70d0d7",
     "locked": false,
     "schema_version": 1,
     "solution": true
    }
   },
   "outputs": [],
   "source": [
    "# Define your Vector class here\n"
   ]
  },
  {
   "cell_type": "markdown",
   "metadata": {
    "deletable": false,
    "editable": false,
    "nbgrader": {
     "checksum": "538c126ed38b2f9b1108057f6916570c",
     "grade": false,
     "grade_id": "cell-509538adb24982bc",
     "locked": true,
     "schema_version": 1,
     "solution": false
    }
   },
   "source": [
    "For example:"
   ]
  },
  {
   "cell_type": "code",
   "execution_count": null,
   "metadata": {},
   "outputs": [],
   "source": [
    "v1 = Vector([2, 3, 4])\n",
    "v1[1] == 2"
   ]
  },
  {
   "cell_type": "code",
   "execution_count": null,
   "metadata": {},
   "outputs": [],
   "source": [
    "v1.dim() == 3"
   ]
  },
  {
   "cell_type": "code",
   "execution_count": null,
   "metadata": {},
   "outputs": [],
   "source": [
    "v2 = Vector([1, 2, 2])\n",
    "v2[3] = 3\n",
    "str(v2) == 'Vector: [1, 2, 3]'"
   ]
  },
  {
   "cell_type": "code",
   "execution_count": null,
   "metadata": {},
   "outputs": [],
   "source": [
    "str(v1 + v2) == 'Vector: [3, 5, 7]'"
   ]
  },
  {
   "cell_type": "code",
   "execution_count": null,
   "metadata": {},
   "outputs": [],
   "source": [
    "str(v2 * 2) == 'Vector: [2, 4, 6]'"
   ]
  },
  {
   "cell_type": "code",
   "execution_count": null,
   "metadata": {},
   "outputs": [],
   "source": [
    "str(2 * (v1 + v2)) == 'Vector: [6, 10, 14]'"
   ]
  },
  {
   "cell_type": "markdown",
   "metadata": {
    "deletable": false,
    "editable": false,
    "nbgrader": {
     "checksum": "0a8af717679245980b1197d56c279bfc",
     "grade": false,
     "grade_id": "cell-72398c1925f0810d",
     "locked": true,
     "schema_version": 1,
     "solution": false
    }
   },
   "source": [
    "Following raise exceptions:\n",
    "(remember, these are supposed to be *mathematical* vectors so we are starting indexing from 1, not 0."
   ]
  },
  {
   "cell_type": "code",
   "execution_count": null,
   "metadata": {},
   "outputs": [],
   "source": [
    "try:\n",
    "    v1[0] # raises IndexError\n",
    "except IndexError:\n",
    "    print(\"Successful test case.\")"
   ]
  },
  {
   "cell_type": "code",
   "execution_count": null,
   "metadata": {},
   "outputs": [],
   "source": [
    "try:\n",
    "    v2 + [9] # raises ValueError\n",
    "except ValueError:\n",
    "    print(\"Successful test case.\")"
   ]
  },
  {
   "cell_type": "code",
   "execution_count": null,
   "metadata": {},
   "outputs": [],
   "source": [
    "try:\n",
    "    v3 = Vector([1, 'cat', 3]) # Raises TypeError\n",
    "except TypeError:\n",
    "    print(\"Successful test case.\")"
   ]
  },
  {
   "cell_type": "code",
   "execution_count": null,
   "metadata": {
    "deletable": false,
    "editable": false,
    "nbgrader": {
     "checksum": "f6b53e4c1b2fd505f30699ba41f9cfe0",
     "grade": true,
     "grade_id": "cell-e98b86536ff53624",
     "locked": true,
     "points": 1,
     "schema_version": 1,
     "solution": false
    }
   },
   "outputs": [],
   "source": [
    "# Hidden test for Vector"
   ]
  },
  {
   "cell_type": "code",
   "execution_count": null,
   "metadata": {
    "deletable": false,
    "editable": false,
    "nbgrader": {
     "checksum": "4c682a532276857cb71c692118a76e7d",
     "grade": true,
     "grade_id": "cell-a7272504f3a9ac24",
     "locked": true,
     "points": 1,
     "schema_version": 1,
     "solution": false
    }
   },
   "outputs": [],
   "source": [
    "# Hidden test for Vector"
   ]
  },
  {
   "cell_type": "code",
   "execution_count": null,
   "metadata": {
    "deletable": false,
    "editable": false,
    "nbgrader": {
     "checksum": "7364610b662f9b33859c0e58c957e83a",
     "grade": true,
     "grade_id": "cell-547277d9f0f5b33d",
     "locked": true,
     "points": 1,
     "schema_version": 1,
     "solution": false
    }
   },
   "outputs": [],
   "source": [
    "# Hidden test for Vector"
   ]
  },
  {
   "cell_type": "code",
   "execution_count": null,
   "metadata": {
    "deletable": false,
    "editable": false,
    "nbgrader": {
     "checksum": "469e26e87977a08baa25492865d5610b",
     "grade": true,
     "grade_id": "cell-67da8a068242283d",
     "locked": true,
     "points": 1,
     "schema_version": 1,
     "solution": false
    }
   },
   "outputs": [],
   "source": [
    "# Hidden test for Vector"
   ]
  },
  {
   "cell_type": "code",
   "execution_count": null,
   "metadata": {
    "deletable": false,
    "editable": false,
    "nbgrader": {
     "checksum": "35b82508fafc7a3021f9a978666c0166",
     "grade": true,
     "grade_id": "cell-b87295c960c2aee7",
     "locked": true,
     "points": 1,
     "schema_version": 1,
     "solution": false
    }
   },
   "outputs": [],
   "source": [
    "# Hidden test for Vector"
   ]
  },
  {
   "cell_type": "code",
   "execution_count": null,
   "metadata": {
    "deletable": false,
    "editable": false,
    "nbgrader": {
     "checksum": "1582a30ce24c16b5ddf4f2c2f5848843",
     "grade": true,
     "grade_id": "cell-460fbcafc8b42236",
     "locked": true,
     "points": 1,
     "schema_version": 1,
     "solution": false
    }
   },
   "outputs": [],
   "source": [
    "# Hidden test for Vector"
   ]
  },
  {
   "cell_type": "code",
   "execution_count": null,
   "metadata": {
    "deletable": false,
    "editable": false,
    "nbgrader": {
     "checksum": "1a1b6a77ed602a3241204aa5a7abc65d",
     "grade": true,
     "grade_id": "cell-7ae3af0dc7dcc80e",
     "locked": true,
     "points": 1,
     "schema_version": 1,
     "solution": false
    }
   },
   "outputs": [],
   "source": [
    "# Hidden test for Vector"
   ]
  },
  {
   "cell_type": "markdown",
   "metadata": {
    "deletable": false,
    "editable": false,
    "nbgrader": {
     "checksum": "23160fbee0b961e284bab6587ebc9ed1",
     "grade": false,
     "grade_id": "cell-e01be38afbde0045",
     "locked": true,
     "schema_version": 1,
     "solution": false
    }
   },
   "source": [
    "#### Question 3:  Robust Change (5 points)\n",
    "Complete following function according to the specification in the documentation string. You will need to create your own custom exceptions for these functions."
   ]
  },
  {
   "cell_type": "code",
   "execution_count": null,
   "metadata": {
    "deletable": false,
    "nbgrader": {
     "checksum": "b66ef71f9fa38517284341b795c7cf6d",
     "grade": false,
     "grade_id": "cell-3831d37862b52a19",
     "locked": false,
     "schema_version": 1,
     "solution": true
    }
   },
   "outputs": [],
   "source": [
    "# Write your answers here. Define ChangeParameterError and ChangeRemainderError in this code cell as well.\n",
    "\n",
    "def change1(a, d):\n",
    "    \"\"\"\n",
    "    Computes the change of amount a given denominations d. \n",
    "    Parameter a must be of type int, d must be of type list of int, and the\n",
    "    elements of d must be in ascending order, otherwise ChangeParameterError is raised. \n",
    "    The result is a dictionary with keys from d, mapping to values of \n",
    "    the number of coins / bills of each denomination. \n",
    "    \n",
    "    This is computed by first taking the maximal  number of coins / bill of the \n",
    "    highest denomination, then the next highest, etc.\n",
    "    If no exact change is possible, ChangeRemainderError is raised.\n",
    "    \"\"\"\n",
    "    return    "
   ]
  },
  {
   "cell_type": "code",
   "execution_count": null,
   "metadata": {},
   "outputs": [],
   "source": [
    "change(3, [3, 7]) ==  {3: 1, 7: 0}"
   ]
  },
  {
   "cell_type": "code",
   "execution_count": null,
   "metadata": {},
   "outputs": [],
   "source": [
    "change(15, [1, 3, 7]) == {1: 1, 3: 0, 7: 2}"
   ]
  },
  {
   "cell_type": "code",
   "execution_count": null,
   "metadata": {},
   "outputs": [],
   "source": [
    "try:\n",
    "    change(True, [4]) # raises ChangeParameterError\n",
    "except ChangeParameterError:\n",
    "    print(\"Successful test case\")"
   ]
  },
  {
   "cell_type": "code",
   "execution_count": null,
   "metadata": {},
   "outputs": [],
   "source": [
    "try:\n",
    "    change(3, 7) # raises ChangeParameterError\n",
    "except ChangeParameterError:\n",
    "    print(\"Successful test case\")"
   ]
  },
  {
   "cell_type": "code",
   "execution_count": null,
   "metadata": {},
   "outputs": [],
   "source": [
    "try:\n",
    "    change(3, [7, True]) # raises ChangeParameterError\n",
    "except ChangeParameterError:\n",
    "    print(\"Successful test case\")"
   ]
  },
  {
   "cell_type": "code",
   "execution_count": null,
   "metadata": {},
   "outputs": [],
   "source": [
    "try:\n",
    "    change(3, [7, 3]) # raises ChangeParameterError\n",
    "except ChangeParameterError:\n",
    "    print(\"Successful test case\")"
   ]
  },
  {
   "cell_type": "code",
   "execution_count": null,
   "metadata": {},
   "outputs": [],
   "source": [
    "try:\n",
    "    change(3, [2, 7]) # raises ChangeRemainderError\n",
    "except ChangeRemainderError:\n",
    "    print(\"Successful test case\")"
   ]
  },
  {
   "cell_type": "code",
   "execution_count": null,
   "metadata": {
    "deletable": false,
    "editable": false,
    "nbgrader": {
     "checksum": "916c88e841d78536a0d262a377b6b842",
     "grade": true,
     "grade_id": "cell-16ccf86c7354d6ab",
     "locked": true,
     "points": 1,
     "schema_version": 1,
     "solution": false
    }
   },
   "outputs": [],
   "source": [
    "# Hidden test for Question 3"
   ]
  },
  {
   "cell_type": "code",
   "execution_count": null,
   "metadata": {
    "deletable": false,
    "editable": false,
    "nbgrader": {
     "checksum": "fbb2b31d5f1f3e13094ce99b500bc488",
     "grade": true,
     "grade_id": "cell-f7cd91f11e24e067",
     "locked": true,
     "points": 1,
     "schema_version": 1,
     "solution": false
    }
   },
   "outputs": [],
   "source": [
    "# Hidden test for Question 3"
   ]
  },
  {
   "cell_type": "code",
   "execution_count": null,
   "metadata": {
    "deletable": false,
    "editable": false,
    "nbgrader": {
     "checksum": "993b8e27facbbbde72fee5c8bd39ee8a",
     "grade": true,
     "grade_id": "cell-b4e9cde2bec380e9",
     "locked": true,
     "points": 1,
     "schema_version": 1,
     "solution": false
    }
   },
   "outputs": [],
   "source": [
    "# Hidden test for Question 3"
   ]
  },
  {
   "cell_type": "code",
   "execution_count": null,
   "metadata": {
    "deletable": false,
    "editable": false,
    "nbgrader": {
     "checksum": "78fde260f183997aeb309d0d0eafc15e",
     "grade": true,
     "grade_id": "cell-e1490314fa409f6e",
     "locked": true,
     "points": 1,
     "schema_version": 1,
     "solution": false
    }
   },
   "outputs": [],
   "source": [
    "# Hidden test for Question 3"
   ]
  },
  {
   "cell_type": "code",
   "execution_count": null,
   "metadata": {
    "deletable": false,
    "editable": false,
    "nbgrader": {
     "checksum": "efc8fc65b484e077f36cb74b20246964",
     "grade": true,
     "grade_id": "cell-65653f27801c6400",
     "locked": true,
     "points": 1,
     "schema_version": 1,
     "solution": false
    }
   },
   "outputs": [],
   "source": [
    "# Hidden test for Question 3"
   ]
  }
 ],
 "metadata": {
  "kernelspec": {
   "display_name": "Python 3",
   "language": "python",
   "name": "python3"
  },
  "language_info": {
   "codemirror_mode": {
    "name": "ipython",
    "version": 3
   },
   "file_extension": ".py",
   "mimetype": "text/x-python",
   "name": "python",
   "nbconvert_exporter": "python",
   "pygments_lexer": "ipython3",
   "version": "3.6.3"
  }
 },
 "nbformat": 4,
 "nbformat_minor": 2
}
