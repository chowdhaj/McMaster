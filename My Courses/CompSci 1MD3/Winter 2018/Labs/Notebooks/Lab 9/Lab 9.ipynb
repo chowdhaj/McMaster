{
 "cells": [
  {
   "cell_type": "markdown",
   "metadata": {
    "deletable": false,
    "editable": false,
    "nbgrader": {
     "checksum": "c81f632b41e8db1553a6e700817e9a9e",
     "grade": false,
     "grade_id": "cell-8270991a73638fc0",
     "locked": true,
     "schema_version": 1,
     "solution": false
    }
   },
   "source": [
    "## COMP SCI 1MD3 Introduction to Programming, Winter 2018\n",
    "### Douglas Stebila (Instructor), Joey Legere, Karl Knopf, Natalie Chin, Victor Chen (TAs)\n",
    "### Lab 9 Assigned Thursday, March 22, Due Wednesday March 28, 5pm\n",
    "### Maximum grade: 20 / 16\n",
    "\n",
    "The purpose of this lab is to:\n",
    "* Work with time and date structures\n",
    "* Use matplotlib to visualize data\n",
    "* Read and modify databases"
   ]
  },
  {
   "cell_type": "markdown",
   "metadata": {
    "deletable": false,
    "editable": false,
    "nbgrader": {
     "checksum": "8261f75cb8666c4d801cec674675d173",
     "grade": false,
     "grade_id": "cell-4857014426676d37",
     "locked": true,
     "schema_version": 1,
     "solution": false
    }
   },
   "source": [
    "#### Practice Question 1: Plotting sin(x)\n",
    "\n",
    "Use matplotlib to plot the value of $sin(x)$ from 0 to 6.28 in steps of 0.01"
   ]
  },
  {
   "cell_type": "code",
   "execution_count": null,
   "metadata": {},
   "outputs": [],
   "source": [
    "# Your code here"
   ]
  },
  {
   "cell_type": "markdown",
   "metadata": {
    "deletable": false,
    "editable": false,
    "nbgrader": {
     "checksum": "03571e9d038cde7b1fd5c1f4ab9650f7",
     "grade": false,
     "grade_id": "cell-f9851b69939a3abe",
     "locked": true,
     "schema_version": 1,
     "solution": false
    }
   },
   "source": [
    "#### Practice Question 2: Formatting Dates\n",
    "\n",
    "Write a function convert_date(s), that, given a string s formatted like `March 19, 2018`, returns a datetime object representing that string.\n",
    "\n",
    "You may wish to consult https://docs.python.org/3.1/library/datetime.html and https://stackoverflow.com/questions/466345/converting-string-into-datetime"
   ]
  },
  {
   "cell_type": "code",
   "execution_count": null,
   "metadata": {},
   "outputs": [],
   "source": [
    "# Your code here"
   ]
  },
  {
   "cell_type": "code",
   "execution_count": null,
   "metadata": {},
   "outputs": [],
   "source": [
    "convert_date('March 19, 2018') == datetime(2018, 3, 19, 0, 0)"
   ]
  },
  {
   "cell_type": "code",
   "execution_count": null,
   "metadata": {},
   "outputs": [],
   "source": [
    "convert_date('March 21, 2018') > convert_date('March 19, 2018')"
   ]
  },
  {
   "cell_type": "markdown",
   "metadata": {
    "deletable": false,
    "editable": false,
    "nbgrader": {
     "checksum": "8cc5090234681ba597c80f12108f1e1f",
     "grade": false,
     "grade_id": "cell-6bd2234d60feaab8",
     "locked": true,
     "schema_version": 1,
     "solution": false
    }
   },
   "source": [
    "#### Question 1: Plotting Stock Data [6 points]\n",
    "\n",
    "Using the file `DJI.csv`, create a plot using `matplotlib` with the date along the x-axis (as a datetime structure), and the opening stock value for the date as the y value."
   ]
  },
  {
   "cell_type": "code",
   "execution_count": null,
   "metadata": {
    "deletable": false,
    "nbgrader": {
     "checksum": "42c172b0c81caac620449c1b74b08426",
     "grade": true,
     "grade_id": "cell-2ebe5c1015e1d7e9",
     "locked": false,
     "points": 6,
     "schema_version": 1,
     "solution": true
    }
   },
   "outputs": [],
   "source": [
    "# Your code here.\n"
   ]
  },
  {
   "cell_type": "markdown",
   "metadata": {
    "deletable": false,
    "editable": false,
    "nbgrader": {
     "checksum": "e3b0a1c24d58fd22756ee7719add5129",
     "grade": false,
     "grade_id": "cell-f7a09d36d516c8bc",
     "locked": true,
     "schema_version": 1,
     "solution": false
    }
   },
   "source": [
    "#### Question 2: Event Related Potentials [5 points]\n",
    "\n",
    "In neuroscience, event-related potentials (or ERPs) are the averaged electrical activity of the brain following an event. For instance, they might represent the neural response to something as simple as seeing a shape flash on a computer screen.\n",
    "\n",
    "Data in ERP experiments is often quite noisy, and so we rely on the average of many observations to compute our ERP. Since we measure the voltage at many time points, we have to average the voltage for every trial at every time point like so:\n",
    "<table class=\"table\">\n",
    "    <thead>\n",
    "      <tr>\n",
    "        <th></th>\n",
    "        <th>Time 0</th>\n",
    "        <th>Time 1</th>\n",
    "        <th>Time 2</th>\n",
    "        <th>Time 3</th>\n",
    "      </tr>\n",
    "    </thead>\n",
    "    <tbody>\n",
    "      <tr>\n",
    "        <th>Trial 1</th>\n",
    "        <td>1</td>\n",
    "        <td>3</td>\n",
    "        <td>7</td>\n",
    "        <td>4</td>\n",
    "      </tr>\n",
    "            <tr>\n",
    "        <th>Trial 2</th>\n",
    "        <td>2</td>\n",
    "        <td>2</td>\n",
    "        <td>6</td>\n",
    "        <td>3</td>\n",
    "      </tr>\n",
    "      <tr>\n",
    "        <th>Trial 3</th>\n",
    "        <td>1</td>\n",
    "        <td>4</td>\n",
    "        <td>7</td>\n",
    "        <td>2</td>\n",
    "      </tr>\n",
    "       <tr><td></td></tr>\n",
    "      <tr>\n",
    "        <th>AVERAGE</th>\n",
    "        <td>((1+2+1) / 3) = 1.333</td>\n",
    "        <td>((3+2+4) / 3) = 3.000</td>\n",
    "        <td>((7+6+7) / 3) = 6.667</td>\n",
    "        <td>((4+3+2) / 3) = 3.000</td>\n",
    "      </tr>\n",
    "    </tbody>\n",
    "  </table>\n",
    "  \n",
    "In this table, each column (t1, t2, t3, t4) represents a time point after an event, and each row gives the value at that time for that event. To calculate our ERP, we just add up all the values in one column and divide by the number of trials (see the last row).\n",
    "\n",
    "\n",
    "The file `eeg.csv` contains some simulated ERP data, formatted like the table above (but with many more data points). Write a function that, given only the filename, produces a plot of the ERP from these data. \n",
    "\n",
    "Your output should look something like this:\n",
    "<img src=\"http://brain.mcmaster.ca/joey/python/17/img/erp.png\">"
   ]
  },
  {
   "cell_type": "code",
   "execution_count": null,
   "metadata": {
    "deletable": false,
    "nbgrader": {
     "checksum": "0d789ab9ae601e2fc8e6ae96a5e2994c",
     "grade": true,
     "grade_id": "cell-ad147bbf21a52df8",
     "locked": false,
     "points": 5,
     "schema_version": 1,
     "solution": true
    }
   },
   "outputs": [],
   "source": [
    "# Your code here.\n"
   ]
  },
  {
   "cell_type": "markdown",
   "metadata": {
    "deletable": false,
    "editable": false,
    "nbgrader": {
     "checksum": "692fcca94385bd2bd03932d33245a748",
     "grade": false,
     "grade_id": "cell-8dc842787275e9db",
     "locked": true,
     "schema_version": 1,
     "solution": false
    }
   },
   "source": [
    "#### Question 3: The Stroop Effect [5 points]\n",
    "\n",
    "The Stroop Effect is a widely used paradigm in psychology research in order to understand how the brain processes information. In this task, people are asked to name the colour that a word is written is as quickly as possible.\n",
    "\n",
    "For example, you would respond with 'blue' for this word: <font color='blue'>BLUE</font><br>\n",
    "and you would respond 'red' for this one:  <font color='red'>BLUE</font>.\n",
    "\n",
    "When the colour of the word matches the word itself, this is called a `congruent` stimulus. When they do not match (like in the second word), it is an `incongruent` stimulus. People are generally slower at responding to incongruent words than they are to congruent words, because the tendency to read words interferes with naming the colour.\n",
    "\n",
    "The file `stroop_data.db` contains data from a psychology experiment using the Stroop task (if you were in psych 1X03 in September 2017, you may have participated in this experiment). Each row in the database represents a single trial, or naming the colour of a single word. There is a column that represents accuracy as an integer, either `1.0` or `0.0`. A trial with `1.0` is a correct trial, and `0.0` is an incorrect trial. \n",
    "\n",
    "The table was created using the following SQL command:\n",
    "\n",
    "`CREATE TABLE data (participant INTEGER, trial INTEGER, congruency TEXT, accuracy REAL, rt REAL);`\n",
    "\n",
    "Here are the first few rows of the table:\n",
    "\n",
    "<table>\n",
    "    <TR><TH>participant</TH>\n",
    "<TH>trial</TH>\n",
    "<TH>congruency</TH>\n",
    "<TH>accuracy</TH>\n",
    "<TH>rt</TH>\n",
    "</TR>\n",
    "<TR><TD>2</TD>\n",
    "<TD>2</TD>\n",
    "<TD>I</TD>\n",
    "<TD>1.0</TD>\n",
    "<TD>409.99</TD>\n",
    "</TR>\n",
    "<TR><TD>2</TD>\n",
    "<TD>3</TD>\n",
    "<TD>C</TD>\n",
    "<TD>1.0</TD>\n",
    "<TD>368.86</TD>\n",
    "</TR>\n",
    "<TR><TD>2</TD>\n",
    "<TD>4</TD>\n",
    "<TD>I</TD>\n",
    "<TD>1.0</TD>\n",
    "<TD>601.52</TD>\n",
    "</TR>\n",
    "<TR><TD>2</TD>\n",
    "<TD>5</TD>\n",
    "<TD>C</TD>\n",
    "<TD>1.0</TD>\n",
    "<TD>393.04</TD>\n",
    "</TR>\n",
    "<TR><TD>2</TD>\n",
    "<TD>6</TD>\n",
    "<TD>I</TD>\n",
    "<TD>1.0</TD>\n",
    "<TD>672.82</TD>\n",
    "</TR>\n",
    "</table>\n",
    "\n",
    "Find and plot the average reaction time (rt) for congruent and incongruent words, and exclude any trials where the participant made an incorrect response. Your plot should resemble the one below (but you do not have to reproduce every feature of this image exactly):\n",
    "\n",
    "<img src=\"http://brain.mcmaster.ca/joey/img/stroop_example.png\">\n",
    "\n",
    "Because plots with different values can appear similar, please print out a tuple afterwards containing the values you find for the reaction times to both congruent and incongruent words.\n",
    "\n",
    "Rubric (1 point for each):\n",
    "* Bars appear to be the correct height.\n",
    "* y axis starts at 500\n",
    "* Bars are labelled. You may use a legend like the example, or change the x axis. Your bars do not have to be different colours.\n",
    "* Correct values retrieved from database (print the two numbers that you are plotting)\n",
    "\n",
    "You will not receive points if you do not interact with the database file (that is, you cannot look at the example, guess the means, and plot those)."
   ]
  },
  {
   "cell_type": "code",
   "execution_count": null,
   "metadata": {
    "deletable": false,
    "nbgrader": {
     "checksum": "87b339cc7a45bcb328f0d1804a91c730",
     "grade": true,
     "grade_id": "cell-95c463695c407084",
     "locked": false,
     "points": 5,
     "schema_version": 1,
     "solution": true
    }
   },
   "outputs": [],
   "source": [
    "# Your code here.\n"
   ]
  },
  {
   "cell_type": "markdown",
   "metadata": {
    "deletable": false,
    "editable": false,
    "nbgrader": {
     "checksum": "85cbdba629a85eb3428277cb2d1d7d56",
     "grade": false,
     "grade_id": "cell-8d7de6251fa82ff3",
     "locked": true,
     "schema_version": 1,
     "solution": false
    }
   },
   "source": [
    "#### Bonus Question: Video Store [4 points]\n",
    "\n",
    "Recall the movie database example given in class. In this question, you are to write an interactive program for a video store clerk to perform the following operations.  The interactive program will have a main menu which is printed on the screen, and then the user will be prompted to indicate which operation they want to perform.  Then the clerk will be prompted to enter whatever information is needed to perform that operation.  Your program would then construct the appropriate SQL query to interact with the database and then display any appropriate result to the clerk.  The program continues until the clerk selects quit.\n",
    "\n",
    "Your program should start off using the `videostore.db` that provided.\n",
    "\n",
    "Here are the operations your program should allow the clerk to perform:\n",
    "\n",
    "<ol>\n",
    "    <li>List all movies</li>\n",
    "    <li>Add a movie</li>\n",
    "    <li>List all customers</li>\n",
    "    <li>Add a customer</li>\n",
    "    <li>Rent a movie</li>\n",
    "    <li>List rentals as of a provided date</li>\n",
    "    <li>Quit</li>\n",
    "</ol>\n",
    "\n",
    "For simplicity, you may assume that the clerk never enters improper data.\n",
    "\n",
    "I recommend organizing your code using functions for each of the operations above.  You will probably use the `input` function a lot to get input from the clerk.  To keep displaying the menu of operations after each operation is done, you might use a `while` loop."
   ]
  },
  {
   "cell_type": "code",
   "execution_count": null,
   "metadata": {
    "deletable": false,
    "nbgrader": {
     "checksum": "289e17c0e892ab9e3feee24b5459d536",
     "grade": true,
     "grade_id": "cell-f94d8bbc3c32ccc6",
     "locked": false,
     "points": 4,
     "schema_version": 1,
     "solution": true
    }
   },
   "outputs": [],
   "source": [
    "# Your code here.\n"
   ]
  }
 ],
 "metadata": {
  "kernelspec": {
   "display_name": "Python 3",
   "language": "python",
   "name": "python3"
  },
  "language_info": {
   "codemirror_mode": {
    "name": "ipython",
    "version": 3
   },
   "file_extension": ".py",
   "mimetype": "text/x-python",
   "name": "python",
   "nbconvert_exporter": "python",
   "pygments_lexer": "ipython3",
   "version": "3.6.3"
  }
 },
 "nbformat": 4,
 "nbformat_minor": 2
}
